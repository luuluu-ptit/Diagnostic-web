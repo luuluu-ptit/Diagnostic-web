{
 "cells": [
  {
   "cell_type": "code",
   "execution_count": 1,
   "metadata": {},
   "outputs": [],
   "source": [
    "# importing libraries\n",
    "import pandas as pd\n",
    "import numpy as np\n",
    "import matplotlib.pyplot as plt\n",
    "%matplotlib inline\n",
    "import seaborn as sns\n",
    "import pickle\n",
    "\n",
    "from sklearn.model_selection import train_test_split\n",
    "from sklearn.model_selection import RandomizedSearchCV\n",
    "from sklearn.model_selection import KFold\n",
    "from sklearn.metrics import confusion_matrix, accuracy_score, classification_report\n",
    "from mlxtend.plotting import plot_confusion_matrix\n",
    "\n",
    "from sklearn.ensemble import RandomForestClassifier\n",
    "import xgboost"
   ]
  },
  {
   "cell_type": "code",
   "execution_count": 2,
   "metadata": {},
   "outputs": [
    {
     "name": "stdout",
     "output_type": "stream",
     "text": [
      "shape of dataset : (768, 9)\n"
     ]
    },
    {
     "data": {
      "text/html": [
       "<div>\n",
       "<style scoped>\n",
       "    .dataframe tbody tr th:only-of-type {\n",
       "        vertical-align: middle;\n",
       "    }\n",
       "\n",
       "    .dataframe tbody tr th {\n",
       "        vertical-align: top;\n",
       "    }\n",
       "\n",
       "    .dataframe thead th {\n",
       "        text-align: right;\n",
       "    }\n",
       "</style>\n",
       "<table border=\"1\" class=\"dataframe\">\n",
       "  <thead>\n",
       "    <tr style=\"text-align: right;\">\n",
       "      <th></th>\n",
       "      <th>Pregnancies</th>\n",
       "      <th>Glucose</th>\n",
       "      <th>BloodPressure</th>\n",
       "      <th>SkinThickness</th>\n",
       "      <th>Insulin</th>\n",
       "      <th>BMI</th>\n",
       "      <th>DiabetesPedigreeFunction</th>\n",
       "      <th>Age</th>\n",
       "      <th>Outcome</th>\n",
       "    </tr>\n",
       "  </thead>\n",
       "  <tbody>\n",
       "    <tr>\n",
       "      <th>0</th>\n",
       "      <td>6</td>\n",
       "      <td>148</td>\n",
       "      <td>72</td>\n",
       "      <td>35</td>\n",
       "      <td>0</td>\n",
       "      <td>33.6</td>\n",
       "      <td>0.627</td>\n",
       "      <td>50</td>\n",
       "      <td>1</td>\n",
       "    </tr>\n",
       "    <tr>\n",
       "      <th>1</th>\n",
       "      <td>1</td>\n",
       "      <td>85</td>\n",
       "      <td>66</td>\n",
       "      <td>29</td>\n",
       "      <td>0</td>\n",
       "      <td>26.6</td>\n",
       "      <td>0.351</td>\n",
       "      <td>31</td>\n",
       "      <td>0</td>\n",
       "    </tr>\n",
       "    <tr>\n",
       "      <th>2</th>\n",
       "      <td>8</td>\n",
       "      <td>183</td>\n",
       "      <td>64</td>\n",
       "      <td>0</td>\n",
       "      <td>0</td>\n",
       "      <td>23.3</td>\n",
       "      <td>0.672</td>\n",
       "      <td>32</td>\n",
       "      <td>1</td>\n",
       "    </tr>\n",
       "    <tr>\n",
       "      <th>3</th>\n",
       "      <td>1</td>\n",
       "      <td>89</td>\n",
       "      <td>66</td>\n",
       "      <td>23</td>\n",
       "      <td>94</td>\n",
       "      <td>28.1</td>\n",
       "      <td>0.167</td>\n",
       "      <td>21</td>\n",
       "      <td>0</td>\n",
       "    </tr>\n",
       "    <tr>\n",
       "      <th>4</th>\n",
       "      <td>0</td>\n",
       "      <td>137</td>\n",
       "      <td>40</td>\n",
       "      <td>35</td>\n",
       "      <td>168</td>\n",
       "      <td>43.1</td>\n",
       "      <td>2.288</td>\n",
       "      <td>33</td>\n",
       "      <td>1</td>\n",
       "    </tr>\n",
       "  </tbody>\n",
       "</table>\n",
       "</div>"
      ],
      "text/plain": [
       "   Pregnancies  Glucose  BloodPressure  SkinThickness  Insulin   BMI  \\\n",
       "0            6      148             72             35        0  33.6   \n",
       "1            1       85             66             29        0  26.6   \n",
       "2            8      183             64              0        0  23.3   \n",
       "3            1       89             66             23       94  28.1   \n",
       "4            0      137             40             35      168  43.1   \n",
       "\n",
       "   DiabetesPedigreeFunction  Age  Outcome  \n",
       "0                     0.627   50        1  \n",
       "1                     0.351   31        0  \n",
       "2                     0.672   32        1  \n",
       "3                     0.167   21        0  \n",
       "4                     2.288   33        1  "
      ]
     },
     "execution_count": 2,
     "metadata": {},
     "output_type": "execute_result"
    }
   ],
   "source": [
    "data= pd.read_csv(\"diabetes.csv\")\n",
    "\n",
    "print(\"shape of dataset :\", data.shape)\n",
    "data.head()"
   ]
  },
  {
   "cell_type": "code",
   "execution_count": 3,
   "metadata": {},
   "outputs": [
    {
     "name": "stdout",
     "output_type": "stream",
     "text": [
      "<class 'pandas.core.frame.DataFrame'>\n",
      "RangeIndex: 768 entries, 0 to 767\n",
      "Data columns (total 9 columns):\n",
      " #   Column                    Non-Null Count  Dtype  \n",
      "---  ------                    --------------  -----  \n",
      " 0   Pregnancies               768 non-null    int64  \n",
      " 1   Glucose                   768 non-null    int64  \n",
      " 2   BloodPressure             768 non-null    int64  \n",
      " 3   SkinThickness             768 non-null    int64  \n",
      " 4   Insulin                   768 non-null    int64  \n",
      " 5   BMI                       768 non-null    float64\n",
      " 6   DiabetesPedigreeFunction  768 non-null    float64\n",
      " 7   Age                       768 non-null    int64  \n",
      " 8   Outcome                   768 non-null    int64  \n",
      "dtypes: float64(2), int64(7)\n",
      "memory usage: 54.1 KB\n"
     ]
    }
   ],
   "source": [
    "data.info()"
   ]
  },
  {
   "cell_type": "markdown",
   "metadata": {},
   "source": [
    "### checking missing values"
   ]
  },
  {
   "cell_type": "code",
   "execution_count": 4,
   "metadata": {},
   "outputs": [
    {
     "data": {
      "text/plain": [
       "Pregnancies                 0\n",
       "Glucose                     0\n",
       "BloodPressure               0\n",
       "SkinThickness               0\n",
       "Insulin                     0\n",
       "BMI                         0\n",
       "DiabetesPedigreeFunction    0\n",
       "Age                         0\n",
       "Outcome                     0\n",
       "dtype: int64"
      ]
     },
     "execution_count": 4,
     "metadata": {},
     "output_type": "execute_result"
    }
   ],
   "source": [
    "data.isnull().sum()"
   ]
  },
  {
   "cell_type": "markdown",
   "metadata": {},
   "source": [
    "*There are no missing values*"
   ]
  },
  {
   "cell_type": "markdown",
   "metadata": {},
   "source": [
    "### Checking class imbalance"
   ]
  },
  {
   "cell_type": "code",
   "execution_count": 5,
   "metadata": {},
   "outputs": [
    {
     "data": {
      "text/plain": [
       "0    65.104167\n",
       "1    34.895833\n",
       "Name: Outcome, dtype: float64"
      ]
     },
     "execution_count": 5,
     "metadata": {},
     "output_type": "execute_result"
    }
   ],
   "source": [
    "data[\"Outcome\"].value_counts()/len(data)*100"
   ]
  },
  {
   "cell_type": "code",
   "execution_count": 6,
   "metadata": {},
   "outputs": [
    {
     "data": {
      "text/plain": [
       "<AxesSubplot: ylabel='count'>"
      ]
     },
     "execution_count": 6,
     "metadata": {},
     "output_type": "execute_result"
    },
    {
     "data": {
      "image/png": "[encoded data removed]",
      "text/plain": [
       "<Figure size 640x480 with 1 Axes>"
      ]
     },
     "metadata": {},
     "output_type": "display_data"
    }
   ],
   "source": [
    "sns.countplot(data[\"Outcome\"])"
   ]
  },
  {
   "cell_type": "markdown",
   "metadata": {},
   "source": [
    "*The class distribution in the `Target` variable is ~65:35 which is not exactly imbalanced.*"
   ]
  },
  {
   "cell_type": "markdown",
   "metadata": {},
   "source": [
    "### Feature Selection"
   ]
  },
  {
   "cell_type": "code",
   "execution_count": 7,
   "metadata": {},
   "outputs": [
    {
     "data": {
      "text/plain": [
       "<AxesSubplot: >"
      ]
     },
     "execution_count": 7,
     "metadata": {},
     "output_type": "execute_result"
    },
    {
     "data": {
      "image/png": "[encoded data removed]",
      "text/plain": [
       "<Figure size 1300x800 with 2 Axes>"
      ]
     },
     "metadata": {},
     "output_type": "display_data"
    }
   ],
   "source": [
    "plt.figure(figsize=(13,8))\n",
    "sns.heatmap(data.corr(), annot=True)"
   ]
  },
  {
   "cell_type": "code",
   "execution_count": 8,
   "metadata": {},
   "outputs": [
    {
     "data": {
      "text/html": [
       "<div>\n",
       "<style scoped>\n",
       "    .dataframe tbody tr th:only-of-type {\n",
       "        vertical-align: middle;\n",
       "    }\n",
       "\n",
       "    .dataframe tbody tr th {\n",
       "        vertical-align: top;\n",
       "    }\n",
       "\n",
       "    .dataframe thead th {\n",
       "        text-align: right;\n",
       "    }\n",
       "</style>\n",
       "<table border=\"1\" class=\"dataframe\">\n",
       "  <thead>\n",
       "    <tr style=\"text-align: right;\">\n",
       "      <th></th>\n",
       "      <th>Pregnancies</th>\n",
       "      <th>Glucose</th>\n",
       "      <th>BloodPressure</th>\n",
       "      <th>SkinThickness</th>\n",
       "      <th>Insulin</th>\n",
       "      <th>BMI</th>\n",
       "      <th>DiabetesPedigreeFunction</th>\n",
       "      <th>Age</th>\n",
       "      <th>Outcome</th>\n",
       "    </tr>\n",
       "  </thead>\n",
       "  <tbody>\n",
       "    <tr>\n",
       "      <th>count</th>\n",
       "      <td>768.000000</td>\n",
       "      <td>768.000000</td>\n",
       "      <td>768.000000</td>\n",
       "      <td>768.000000</td>\n",
       "      <td>768.000000</td>\n",
       "      <td>768.000000</td>\n",
       "      <td>768.000000</td>\n",
       "      <td>768.000000</td>\n",
       "      <td>768.000000</td>\n",
       "    </tr>\n",
       "    <tr>\n",
       "      <th>mean</th>\n",
       "      <td>3.845052</td>\n",
       "      <td>120.894531</td>\n",
       "      <td>69.105469</td>\n",
       "      <td>20.536458</td>\n",
       "      <td>79.799479</td>\n",
       "      <td>31.992578</td>\n",
       "      <td>0.471876</td>\n",
       "      <td>33.240885</td>\n",
       "      <td>0.348958</td>\n",
       "    </tr>\n",
       "    <tr>\n",
       "      <th>std</th>\n",
       "      <td>3.369578</td>\n",
       "      <td>31.972618</td>\n",
       "      <td>19.355807</td>\n",
       "      <td>15.952218</td>\n",
       "      <td>115.244002</td>\n",
       "      <td>7.884160</td>\n",
       "      <td>0.331329</td>\n",
       "      <td>11.760232</td>\n",
       "      <td>0.476951</td>\n",
       "    </tr>\n",
       "    <tr>\n",
       "      <th>min</th>\n",
       "      <td>0.000000</td>\n",
       "      <td>0.000000</td>\n",
       "      <td>0.000000</td>\n",
       "      <td>0.000000</td>\n",
       "      <td>0.000000</td>\n",
       "      <td>0.000000</td>\n",
       "      <td>0.078000</td>\n",
       "      <td>21.000000</td>\n",
       "      <td>0.000000</td>\n",
       "    </tr>\n",
       "    <tr>\n",
       "      <th>25%</th>\n",
       "      <td>1.000000</td>\n",
       "      <td>99.000000</td>\n",
       "      <td>62.000000</td>\n",
       "      <td>0.000000</td>\n",
       "      <td>0.000000</td>\n",
       "      <td>27.300000</td>\n",
       "      <td>0.243750</td>\n",
       "      <td>24.000000</td>\n",
       "      <td>0.000000</td>\n",
       "    </tr>\n",
       "    <tr>\n",
       "      <th>50%</th>\n",
       "      <td>3.000000</td>\n",
       "      <td>117.000000</td>\n",
       "      <td>72.000000</td>\n",
       "      <td>23.000000</td>\n",
       "      <td>30.500000</td>\n",
       "      <td>32.000000</td>\n",
       "      <td>0.372500</td>\n",
       "      <td>29.000000</td>\n",
       "      <td>0.000000</td>\n",
       "    </tr>\n",
       "    <tr>\n",
       "      <th>75%</th>\n",
       "      <td>6.000000</td>\n",
       "      <td>140.250000</td>\n",
       "      <td>80.000000</td>\n",
       "      <td>32.000000</td>\n",
       "      <td>127.250000</td>\n",
       "      <td>36.600000</td>\n",
       "      <td>0.626250</td>\n",
       "      <td>41.000000</td>\n",
       "      <td>1.000000</td>\n",
       "    </tr>\n",
       "    <tr>\n",
       "      <th>max</th>\n",
       "      <td>17.000000</td>\n",
       "      <td>199.000000</td>\n",
       "      <td>122.000000</td>\n",
       "      <td>99.000000</td>\n",
       "      <td>846.000000</td>\n",
       "      <td>67.100000</td>\n",
       "      <td>2.420000</td>\n",
       "      <td>81.000000</td>\n",
       "      <td>1.000000</td>\n",
       "    </tr>\n",
       "  </tbody>\n",
       "</table>\n",
       "</div>"
      ],
      "text/plain": [
       "       Pregnancies     Glucose  BloodPressure  SkinThickness     Insulin  \\\n",
       "count   768.000000  768.000000     768.000000     768.000000  768.000000   \n",
       "mean      3.845052  120.894531      69.105469      20.536458   79.799479   \n",
       "std       3.369578   31.972618      19.355807      15.952218  115.244002   \n",
       "min       0.000000    0.000000       0.000000       0.000000    0.000000   \n",
       "25%       1.000000   99.000000      62.000000       0.000000    0.000000   \n",
       "50%       3.000000  117.000000      72.000000      23.000000   30.500000   \n",
       "75%       6.000000  140.250000      80.000000      32.000000  127.250000   \n",
       "max      17.000000  199.000000     122.000000      99.000000  846.000000   \n",
       "\n",
       "              BMI  DiabetesPedigreeFunction         Age     Outcome  \n",
       "count  768.000000                768.000000  768.000000  768.000000  \n",
       "mean    31.992578                  0.471876   33.240885    0.348958  \n",
       "std      7.884160                  0.331329   11.760232    0.476951  \n",
       "min      0.000000                  0.078000   21.000000    0.000000  \n",
       "25%     27.300000                  0.243750   24.000000    0.000000  \n",
       "50%     32.000000                  0.372500   29.000000    0.000000  \n",
       "75%     36.600000                  0.626250   41.000000    1.000000  \n",
       "max     67.100000                  2.420000   81.000000    1.000000  "
      ]
     },
     "execution_count": 8,
     "metadata": {},
     "output_type": "execute_result"
    }
   ],
   "source": [
    "data.describe()"
   ]
  },
  {
   "cell_type": "markdown",
   "metadata": {},
   "source": [
    "*As it can be seen that columns `Pregnancies` `Glucose` `BloodPressure` `SkinThickness` `Insulin` `BMI` has 0 values . Therefore these columns need to be imputed with their respective mean value.*"
   ]
  },
  {
   "cell_type": "markdown",
   "metadata": {},
   "source": [
    "### Separating dependent and independent variables"
   ]
  },
  {
   "cell_type": "code",
   "execution_count": 9,
   "metadata": {},
   "outputs": [],
   "source": [
    "# feature variables\n",
    "x= data.iloc[:, :-1]\n",
    "\n",
    "# target variable\n",
    "y= data.iloc[:, -1]"
   ]
  },
  {
   "cell_type": "markdown",
   "metadata": {},
   "source": [
    "### Splitting data into *train* and *test* "
   ]
  },
  {
   "cell_type": "code",
   "execution_count": 10,
   "metadata": {},
   "outputs": [],
   "source": [
    "x_train, x_test, y_train, y_test= train_test_split(x,y, test_size=0.2, random_state=1)"
   ]
  },
  {
   "cell_type": "markdown",
   "metadata": {},
   "source": [
    "### Imputing with mean"
   ]
  },
  {
   "cell_type": "code",
   "execution_count": 11,
   "metadata": {},
   "outputs": [],
   "source": [
    "from sklearn.impute import SimpleImputer\n",
    "impute= SimpleImputer(missing_values= 0,  strategy='mean')\n",
    "x_train= impute.fit_transform(x_train)\n",
    "x_test= impute.fit_transform(x_test)                              "
   ]
  },
  {
   "cell_type": "markdown",
   "metadata": {},
   "source": [
    "## Model Building"
   ]
  },
  {
   "cell_type": "markdown",
   "metadata": {},
   "source": [
    "### Random Forest"
   ]
  },
  {
   "cell_type": "code",
   "execution_count": 12,
   "metadata": {},
   "outputs": [
    {
     "name": "stdout",
     "output_type": "stream",
     "text": [
      "Fitting 5 folds for each of 100 candidates, totalling 500 fits\n",
      "[CV] END criterion=gini, max_depth=1000, max_features=log2, min_samples_leaf=3, min_samples_split=8, n_estimators=400; total time=   1.4s\n",
      "[CV] END criterion=gini, max_depth=1000, max_features=log2, min_samples_leaf=3, min_samples_split=8, n_estimators=400; total time=   1.4s\n",
      "[CV] END criterion=gini, max_depth=1000, max_features=log2, min_samples_leaf=3, min_samples_split=8, n_estimators=400; total time=   1.5s\n"
     ]
    },
    {
     "name": "stderr",
     "output_type": "stream",
     "text": [
      "/Library/Frameworks/Python.framework/Versions/3.11/lib/python3.11/site-packages/sklearn/ensemble/_forest.py:427: FutureWarning: `max_features='auto'` has been deprecated in 1.1 and will be removed in 1.3. To keep the past behaviour, explicitly set `max_features='sqrt'` or remove this parameter as it is also the default value for RandomForestClassifiers and ExtraTreesClassifiers.\n",
      "  warn(\n"
     ]
    },
    {
     "name": "stdout",
     "output_type": "stream",
     "text": [
      "[CV] END criterion=gini, max_depth=1000, max_features=log2, min_samples_leaf=3, min_samples_split=8, n_estimators=400; total time=   1.8s\n",
      "[CV] END criterion=gini, max_depth=1000, max_features=log2, min_samples_leaf=3, min_samples_split=8, n_estimators=400; total time=   1.8s\n"
     ]
    },
    {
     "name": "stderr",
     "output_type": "stream",
     "text": [
      "/Library/Frameworks/Python.framework/Versions/3.11/lib/python3.11/site-packages/sklearn/ensemble/_forest.py:427: FutureWarning: `max_features='auto'` has been deprecated in 1.1 and will be removed in 1.3. To keep the past behaviour, explicitly set `max_features='sqrt'` or remove this parameter as it is also the default value for RandomForestClassifiers and ExtraTreesClassifiers.\n",
      "  warn(\n",
      "/Library/Frameworks/Python.framework/Versions/3.11/lib/python3.11/site-packages/sklearn/ensemble/_forest.py:427: FutureWarning: `max_features='auto'` has been deprecated in 1.1 and will be removed in 1.3. To keep the past behaviour, explicitly set `max_features='sqrt'` or remove this parameter as it is also the default value for RandomForestClassifiers and ExtraTreesClassifiers.\n",
      "  warn(\n"
     ]
    },
    {
     "name": "stdout",
     "output_type": "stream",
     "text": [
      "[CV] END criterion=gini, max_depth=200, max_features=log2, min_samples_leaf=3, min_samples_split=7, n_estimators=1000; total time=   3.9s\n",
      "[CV] END criterion=gini, max_depth=200, max_features=log2, min_samples_leaf=3, min_samples_split=7, n_estimators=1000; total time=   3.9s\n",
      "[CV] END criterion=gini, max_depth=200, max_features=log2, min_samples_leaf=3, min_samples_split=7, n_estimators=1000; total time=   3.9s\n",
      "[CV] END criterion=gini, max_depth=200, max_features=log2, min_samples_leaf=3, min_samples_split=7, n_estimators=1000; total time=   3.9s\n",
      "[CV] END criterion=gini, max_depth=200, max_features=log2, min_samples_leaf=3, min_samples_split=7, n_estimators=1000; total time=   3.9s\n"
     ]
    },
    {
     "name": "stderr",
     "output_type": "stream",
     "text": [
      "/Library/Frameworks/Python.framework/Versions/3.11/lib/python3.11/site-packages/sklearn/ensemble/_forest.py:427: FutureWarning: `max_features='auto'` has been deprecated in 1.1 and will be removed in 1.3. To keep the past behaviour, explicitly set `max_features='sqrt'` or remove this parameter as it is also the default value for RandomForestClassifiers and ExtraTreesClassifiers.\n",
      "  warn(\n",
      "/Library/Frameworks/Python.framework/Versions/3.11/lib/python3.11/site-packages/sklearn/ensemble/_forest.py:427: FutureWarning: `max_features='auto'` has been deprecated in 1.1 and will be removed in 1.3. To keep the past behaviour, explicitly set `max_features='sqrt'` or remove this parameter as it is also the default value for RandomForestClassifiers and ExtraTreesClassifiers.\n",
      "  warn(\n"
     ]
    },
    {
     "name": "stdout",
     "output_type": "stream",
     "text": [
      "[CV] END criterion=entropy, max_depth=800, max_features=auto, min_samples_leaf=4, min_samples_split=3, n_estimators=600; total time=   2.6s\n",
      "[CV] END criterion=entropy, max_depth=800, max_features=auto, min_samples_leaf=4, min_samples_split=3, n_estimators=600; total time=   2.4s\n",
      "[CV] END criterion=entropy, max_depth=800, max_features=auto, min_samples_leaf=4, min_samples_split=3, n_estimators=600; total time=   2.4s\n",
      "[CV] END criterion=gini, max_depth=200, max_features=log2, min_samples_leaf=4, min_samples_split=8, n_estimators=500; total time=   1.9s\n",
      "[CV] END criterion=gini, max_depth=200, max_features=log2, min_samples_leaf=4, min_samples_split=8, n_estimators=500; total time=   1.9s\n",
      "[CV] END criterion=gini, max_depth=200, max_features=log2, min_samples_leaf=4, min_samples_split=8, n_estimators=500; total time=   1.9s\n",
      "[CV] END criterion=gini, max_depth=200, max_features=log2, min_samples_leaf=4, min_samples_split=8, n_estimators=500; total time=   1.9s\n",
      "[CV] END criterion=entropy, max_depth=800, max_features=auto, min_samples_leaf=4, min_samples_split=3, n_estimators=600; total time=   2.4s\n",
      "[CV] END criterion=entropy, max_depth=800, max_features=auto, min_samples_leaf=4, min_samples_split=3, n_estimators=600; total time=   2.4s\n",
      "[CV] END criterion=gini, max_depth=1000, max_features=log2, min_samples_leaf=3, min_samples_split=8, n_estimators=200; total time=   0.7s\n",
      "[CV] END criterion=entropy, max_depth=600, max_features=sqrt, min_samples_leaf=6, min_samples_split=7, n_estimators=400; total time=   1.3s\n",
      "[CV] END criterion=gini, max_depth=1000, max_features=log2, min_samples_leaf=3, min_samples_split=8, n_estimators=200; total time=   0.7s\n",
      "[CV] END criterion=entropy, max_depth=600, max_features=sqrt, min_samples_leaf=6, min_samples_split=7, n_estimators=400; total time=   1.3s\n",
      "[CV] END criterion=entropy, max_depth=600, max_features=sqrt, min_samples_leaf=6, min_samples_split=7, n_estimators=400; total time=   1.3s\n",
      "[CV] END criterion=entropy, max_depth=600, max_features=sqrt, min_samples_leaf=6, min_samples_split=7, n_estimators=400; total time=   1.3s\n",
      "[CV] END criterion=gini, max_depth=200, max_features=log2, min_samples_leaf=4, min_samples_split=8, n_estimators=500; total time=   1.7s\n",
      "[CV] END criterion=entropy, max_depth=600, max_features=sqrt, min_samples_leaf=6, min_samples_split=7, n_estimators=400; total time=   1.3s\n",
      "[CV] END criterion=gini, max_depth=1000, max_features=log2, min_samples_leaf=3, min_samples_split=8, n_estimators=200; total time=   0.8s\n",
      "[CV] END criterion=gini, max_depth=1000, max_features=log2, min_samples_leaf=3, min_samples_split=8, n_estimators=200; total time=   0.8s\n",
      "[CV] END criterion=gini, max_depth=1000, max_features=log2, min_samples_leaf=3, min_samples_split=8, n_estimators=200; total time=   0.8s\n",
      "[CV] END criterion=entropy, max_depth=400, max_features=sqrt, min_samples_leaf=9, min_samples_split=1, n_estimators=200; total time=   0.1s\n",
      "[CV] END criterion=entropy, max_depth=400, max_features=sqrt, min_samples_leaf=9, min_samples_split=1, n_estimators=200; total time=   0.1s\n",
      "[CV] END criterion=entropy, max_depth=400, max_features=sqrt, min_samples_leaf=9, min_samples_split=1, n_estimators=200; total time=   0.1s\n",
      "[CV] END criterion=entropy, max_depth=400, max_features=sqrt, min_samples_leaf=9, min_samples_split=1, n_estimators=200; total time=   0.2s\n",
      "[CV] END criterion=entropy, max_depth=400, max_features=sqrt, min_samples_leaf=9, min_samples_split=1, n_estimators=200; total time=   0.2s\n",
      "[CV] END criterion=entropy, max_depth=300, max_features=sqrt, min_samples_leaf=6, min_samples_split=6, n_estimators=300; total time=   1.2s\n",
      "[CV] END criterion=entropy, max_depth=300, max_features=sqrt, min_samples_leaf=6, min_samples_split=6, n_estimators=300; total time=   1.2s\n",
      "[CV] END criterion=entropy, max_depth=300, max_features=sqrt, min_samples_leaf=6, min_samples_split=6, n_estimators=300; total time=   1.2s\n",
      "[CV] END criterion=entropy, max_depth=300, max_features=sqrt, min_samples_leaf=6, min_samples_split=6, n_estimators=300; total time=   1.2s\n"
     ]
    },
    {
     "name": "stderr",
     "output_type": "stream",
     "text": [
      "/Library/Frameworks/Python.framework/Versions/3.11/lib/python3.11/site-packages/sklearn/ensemble/_forest.py:427: FutureWarning: `max_features='auto'` has been deprecated in 1.1 and will be removed in 1.3. To keep the past behaviour, explicitly set `max_features='sqrt'` or remove this parameter as it is also the default value for RandomForestClassifiers and ExtraTreesClassifiers.\n",
      "  warn(\n",
      "/Library/Frameworks/Python.framework/Versions/3.11/lib/python3.11/site-packages/sklearn/ensemble/_forest.py:427: FutureWarning: `max_features='auto'` has been deprecated in 1.1 and will be removed in 1.3. To keep the past behaviour, explicitly set `max_features='sqrt'` or remove this parameter as it is also the default value for RandomForestClassifiers and ExtraTreesClassifiers.\n",
      "  warn(\n"
     ]
    },
    {
     "name": "stdout",
     "output_type": "stream",
     "text": [
      "[CV] END criterion=entropy, max_depth=300, max_features=sqrt, min_samples_leaf=6, min_samples_split=6, n_estimators=300; total time=   1.3s\n"
     ]
    },
    {
     "name": "stderr",
     "output_type": "stream",
     "text": [
      "/Library/Frameworks/Python.framework/Versions/3.11/lib/python3.11/site-packages/sklearn/ensemble/_forest.py:427: FutureWarning: `max_features='auto'` has been deprecated in 1.1 and will be removed in 1.3. To keep the past behaviour, explicitly set `max_features='sqrt'` or remove this parameter as it is also the default value for RandomForestClassifiers and ExtraTreesClassifiers.\n",
      "  warn(\n",
      "/Library/Frameworks/Python.framework/Versions/3.11/lib/python3.11/site-packages/sklearn/ensemble/_forest.py:427: FutureWarning: `max_features='auto'` has been deprecated in 1.1 and will be removed in 1.3. To keep the past behaviour, explicitly set `max_features='sqrt'` or remove this parameter as it is also the default value for RandomForestClassifiers and ExtraTreesClassifiers.\n",
      "  warn(\n"
     ]
    },
    {
     "name": "stdout",
     "output_type": "stream",
     "text": [
      "[CV] END criterion=gini, max_depth=300, max_features=auto, min_samples_leaf=3, min_samples_split=6, n_estimators=100; total time=   0.4s\n",
      "[CV] END criterion=gini, max_depth=300, max_features=auto, min_samples_leaf=3, min_samples_split=6, n_estimators=100; total time=   0.4s\n",
      "[CV] END criterion=gini, max_depth=300, max_features=auto, min_samples_leaf=3, min_samples_split=6, n_estimators=100; total time=   0.4s\n"
     ]
    },
    {
     "name": "stderr",
     "output_type": "stream",
     "text": [
      "/Library/Frameworks/Python.framework/Versions/3.11/lib/python3.11/site-packages/sklearn/ensemble/_forest.py:427: FutureWarning: `max_features='auto'` has been deprecated in 1.1 and will be removed in 1.3. To keep the past behaviour, explicitly set `max_features='sqrt'` or remove this parameter as it is also the default value for RandomForestClassifiers and ExtraTreesClassifiers.\n",
      "  warn(\n"
     ]
    },
    {
     "name": "stdout",
     "output_type": "stream",
     "text": [
      "[CV] END criterion=gini, max_depth=300, max_features=auto, min_samples_leaf=3, min_samples_split=6, n_estimators=100; total time=   0.4s\n",
      "[CV] END criterion=gini, max_depth=300, max_features=auto, min_samples_leaf=3, min_samples_split=6, n_estimators=100; total time=   0.4s\n",
      "[CV] END criterion=entropy, max_depth=400, max_features=sqrt, min_samples_leaf=6, min_samples_split=8, n_estimators=200; total time=   0.7s\n",
      "[CV] END criterion=entropy, max_depth=400, max_features=sqrt, min_samples_leaf=6, min_samples_split=8, n_estimators=200; total time=   0.8s\n",
      "[CV] END criterion=entropy, max_depth=400, max_features=sqrt, min_samples_leaf=6, min_samples_split=8, n_estimators=200; total time=   0.8s\n",
      "[CV] END criterion=entropy, max_depth=400, max_features=sqrt, min_samples_leaf=6, min_samples_split=8, n_estimators=200; total time=   0.9s\n",
      "[CV] END criterion=entropy, max_depth=400, max_features=sqrt, min_samples_leaf=6, min_samples_split=8, n_estimators=200; total time=   0.8s\n",
      "[CV] END criterion=gini, max_depth=700, max_features=sqrt, min_samples_leaf=4, min_samples_split=6, n_estimators=1000; total time=   3.7s\n",
      "[CV] END criterion=gini, max_depth=700, max_features=sqrt, min_samples_leaf=4, min_samples_split=6, n_estimators=1000; total time=   3.8s\n",
      "[CV] END criterion=gini, max_depth=700, max_features=sqrt, min_samples_leaf=4, min_samples_split=6, n_estimators=1000; total time=   3.9s\n",
      "[CV] END criterion=entropy, max_depth=400, max_features=sqrt, min_samples_leaf=9, min_samples_split=7, n_estimators=500; total time=   2.0s\n"
     ]
    },
    {
     "name": "stderr",
     "output_type": "stream",
     "text": [
      "/Library/Frameworks/Python.framework/Versions/3.11/lib/python3.11/site-packages/sklearn/ensemble/_forest.py:427: FutureWarning: `max_features='auto'` has been deprecated in 1.1 and will be removed in 1.3. To keep the past behaviour, explicitly set `max_features='sqrt'` or remove this parameter as it is also the default value for RandomForestClassifiers and ExtraTreesClassifiers.\n",
      "  warn(\n",
      "/Library/Frameworks/Python.framework/Versions/3.11/lib/python3.11/site-packages/sklearn/ensemble/_forest.py:427: FutureWarning: `max_features='auto'` has been deprecated in 1.1 and will be removed in 1.3. To keep the past behaviour, explicitly set `max_features='sqrt'` or remove this parameter as it is also the default value for RandomForestClassifiers and ExtraTreesClassifiers.\n",
      "  warn(\n"
     ]
    },
    {
     "name": "stdout",
     "output_type": "stream",
     "text": [
      "[CV] END criterion=gini, max_depth=700, max_features=sqrt, min_samples_leaf=4, min_samples_split=6, n_estimators=1000; total time=   3.9s\n",
      "[CV] END criterion=gini, max_depth=700, max_features=sqrt, min_samples_leaf=4, min_samples_split=6, n_estimators=1000; total time=   3.9s\n"
     ]
    },
    {
     "name": "stderr",
     "output_type": "stream",
     "text": [
      "/Library/Frameworks/Python.framework/Versions/3.11/lib/python3.11/site-packages/sklearn/ensemble/_forest.py:427: FutureWarning: `max_features='auto'` has been deprecated in 1.1 and will be removed in 1.3. To keep the past behaviour, explicitly set `max_features='sqrt'` or remove this parameter as it is also the default value for RandomForestClassifiers and ExtraTreesClassifiers.\n",
      "  warn(\n",
      "/Library/Frameworks/Python.framework/Versions/3.11/lib/python3.11/site-packages/sklearn/ensemble/_forest.py:427: FutureWarning: `max_features='auto'` has been deprecated in 1.1 and will be removed in 1.3. To keep the past behaviour, explicitly set `max_features='sqrt'` or remove this parameter as it is also the default value for RandomForestClassifiers and ExtraTreesClassifiers.\n",
      "  warn(\n"
     ]
    },
    {
     "name": "stdout",
     "output_type": "stream",
     "text": [
      "[CV] END criterion=entropy, max_depth=400, max_features=sqrt, min_samples_leaf=9, min_samples_split=7, n_estimators=500; total time=   2.0s\n"
     ]
    },
    {
     "name": "stderr",
     "output_type": "stream",
     "text": [
      "/Library/Frameworks/Python.framework/Versions/3.11/lib/python3.11/site-packages/sklearn/ensemble/_forest.py:427: FutureWarning: `max_features='auto'` has been deprecated in 1.1 and will be removed in 1.3. To keep the past behaviour, explicitly set `max_features='sqrt'` or remove this parameter as it is also the default value for RandomForestClassifiers and ExtraTreesClassifiers.\n",
      "  warn(\n"
     ]
    },
    {
     "name": "stdout",
     "output_type": "stream",
     "text": [
      "[CV] END criterion=entropy, max_depth=400, max_features=sqrt, min_samples_leaf=9, min_samples_split=7, n_estimators=500; total time=   2.1s\n",
      "[CV] END criterion=entropy, max_depth=400, max_features=sqrt, min_samples_leaf=9, min_samples_split=7, n_estimators=500; total time=   2.3s\n",
      "[CV] END criterion=entropy, max_depth=400, max_features=sqrt, min_samples_leaf=9, min_samples_split=7, n_estimators=500; total time=   2.2s\n",
      "[CV] END criterion=entropy, max_depth=300, max_features=auto, min_samples_leaf=9, min_samples_split=6, n_estimators=500; total time=   2.3s\n",
      "[CV] END criterion=entropy, max_depth=300, max_features=auto, min_samples_leaf=9, min_samples_split=6, n_estimators=500; total time=   2.2s\n",
      "[CV] END criterion=entropy, max_depth=300, max_features=auto, min_samples_leaf=9, min_samples_split=6, n_estimators=500; total time=   2.2s\n",
      "[CV] END criterion=entropy, max_depth=300, max_features=auto, min_samples_leaf=9, min_samples_split=6, n_estimators=500; total time=   2.2s\n",
      "[CV] END criterion=gini, max_depth=900, max_features=sqrt, min_samples_leaf=7, min_samples_split=1, n_estimators=100; total time=   0.1s\n",
      "[CV] END criterion=gini, max_depth=900, max_features=sqrt, min_samples_leaf=7, min_samples_split=1, n_estimators=100; total time=   0.1s\n",
      "[CV] END criterion=gini, max_depth=900, max_features=sqrt, min_samples_leaf=7, min_samples_split=1, n_estimators=100; total time=   0.1s\n",
      "[CV] END criterion=gini, max_depth=900, max_features=sqrt, min_samples_leaf=7, min_samples_split=1, n_estimators=100; total time=   0.1s\n",
      "[CV] END criterion=gini, max_depth=900, max_features=sqrt, min_samples_leaf=7, min_samples_split=1, n_estimators=100; total time=   0.1s\n",
      "[CV] END criterion=entropy, max_depth=300, max_features=auto, min_samples_leaf=9, min_samples_split=6, n_estimators=500; total time=   2.2s\n",
      "[CV] END criterion=entropy, max_depth=300, max_features=sqrt, min_samples_leaf=3, min_samples_split=7, n_estimators=1000; total time=   4.2s\n",
      "[CV] END criterion=entropy, max_depth=1000, max_features=log2, min_samples_leaf=4, min_samples_split=6, n_estimators=700; total time=   2.8s\n",
      "[CV] END criterion=entropy, max_depth=1000, max_features=log2, min_samples_leaf=4, min_samples_split=6, n_estimators=700; total time=   2.8s\n",
      "[CV] END criterion=entropy, max_depth=1000, max_features=log2, min_samples_leaf=4, min_samples_split=6, n_estimators=700; total time=   2.8s\n",
      "[CV] END criterion=entropy, max_depth=300, max_features=sqrt, min_samples_leaf=3, min_samples_split=7, n_estimators=1000; total time=   3.7s\n",
      "[CV] END criterion=entropy, max_depth=300, max_features=sqrt, min_samples_leaf=3, min_samples_split=7, n_estimators=1000; total time=   3.8s\n",
      "[CV] END criterion=entropy, max_depth=300, max_features=sqrt, min_samples_leaf=3, min_samples_split=7, n_estimators=1000; total time=   3.7s\n",
      "[CV] END criterion=entropy, max_depth=300, max_features=sqrt, min_samples_leaf=3, min_samples_split=7, n_estimators=1000; total time=   3.7s\n"
     ]
    },
    {
     "name": "stderr",
     "output_type": "stream",
     "text": [
      "/Library/Frameworks/Python.framework/Versions/3.11/lib/python3.11/site-packages/sklearn/ensemble/_forest.py:427: FutureWarning: `max_features='auto'` has been deprecated in 1.1 and will be removed in 1.3. To keep the past behaviour, explicitly set `max_features='sqrt'` or remove this parameter as it is also the default value for RandomForestClassifiers and ExtraTreesClassifiers.\n",
      "  warn(\n"
     ]
    },
    {
     "name": "stdout",
     "output_type": "stream",
     "text": [
      "[CV] END criterion=entropy, max_depth=500, max_features=auto, min_samples_leaf=9, min_samples_split=8, n_estimators=300; total time=   1.3s\n"
     ]
    },
    {
     "name": "stderr",
     "output_type": "stream",
     "text": [
      "/Library/Frameworks/Python.framework/Versions/3.11/lib/python3.11/site-packages/sklearn/ensemble/_forest.py:427: FutureWarning: `max_features='auto'` has been deprecated in 1.1 and will be removed in 1.3. To keep the past behaviour, explicitly set `max_features='sqrt'` or remove this parameter as it is also the default value for RandomForestClassifiers and ExtraTreesClassifiers.\n",
      "  warn(\n"
     ]
    },
    {
     "name": "stdout",
     "output_type": "stream",
     "text": [
      "[CV] END criterion=entropy, max_depth=1000, max_features=log2, min_samples_leaf=4, min_samples_split=6, n_estimators=700; total time=   3.1s\n"
     ]
    },
    {
     "name": "stderr",
     "output_type": "stream",
     "text": [
      "/Library/Frameworks/Python.framework/Versions/3.11/lib/python3.11/site-packages/sklearn/ensemble/_forest.py:427: FutureWarning: `max_features='auto'` has been deprecated in 1.1 and will be removed in 1.3. To keep the past behaviour, explicitly set `max_features='sqrt'` or remove this parameter as it is also the default value for RandomForestClassifiers and ExtraTreesClassifiers.\n",
      "  warn(\n"
     ]
    },
    {
     "name": "stdout",
     "output_type": "stream",
     "text": [
      "[CV] END criterion=entropy, max_depth=500, max_features=auto, min_samples_leaf=9, min_samples_split=8, n_estimators=300; total time=   1.3s\n",
      "[CV] END criterion=entropy, max_depth=1000, max_features=log2, min_samples_leaf=4, min_samples_split=6, n_estimators=700; total time=   3.2s\n"
     ]
    },
    {
     "name": "stderr",
     "output_type": "stream",
     "text": [
      "/Library/Frameworks/Python.framework/Versions/3.11/lib/python3.11/site-packages/sklearn/ensemble/_forest.py:427: FutureWarning: `max_features='auto'` has been deprecated in 1.1 and will be removed in 1.3. To keep the past behaviour, explicitly set `max_features='sqrt'` or remove this parameter as it is also the default value for RandomForestClassifiers and ExtraTreesClassifiers.\n",
      "  warn(\n",
      "/Library/Frameworks/Python.framework/Versions/3.11/lib/python3.11/site-packages/sklearn/ensemble/_forest.py:427: FutureWarning: `max_features='auto'` has been deprecated in 1.1 and will be removed in 1.3. To keep the past behaviour, explicitly set `max_features='sqrt'` or remove this parameter as it is also the default value for RandomForestClassifiers and ExtraTreesClassifiers.\n",
      "  warn(\n"
     ]
    },
    {
     "name": "stdout",
     "output_type": "stream",
     "text": [
      "[CV] END criterion=entropy, max_depth=700, max_features=sqrt, min_samples_leaf=4, min_samples_split=6, n_estimators=900; total time=   3.7s\n",
      "[CV] END criterion=entropy, max_depth=700, max_features=sqrt, min_samples_leaf=4, min_samples_split=6, n_estimators=900; total time=   3.7s\n",
      "[CV] END criterion=entropy, max_depth=500, max_features=auto, min_samples_leaf=9, min_samples_split=8, n_estimators=300; total time=   1.1s\n",
      "[CV] END criterion=entropy, max_depth=700, max_features=sqrt, min_samples_leaf=4, min_samples_split=6, n_estimators=900; total time=   3.7s\n",
      "[CV] END criterion=entropy, max_depth=700, max_features=sqrt, min_samples_leaf=4, min_samples_split=6, n_estimators=900; total time=   3.7s\n",
      "[CV] END criterion=entropy, max_depth=500, max_features=auto, min_samples_leaf=9, min_samples_split=8, n_estimators=300; total time=   1.2s\n",
      "[CV] END criterion=entropy, max_depth=700, max_features=sqrt, min_samples_leaf=4, min_samples_split=6, n_estimators=900; total time=   3.8s\n",
      "[CV] END criterion=entropy, max_depth=500, max_features=auto, min_samples_leaf=9, min_samples_split=8, n_estimators=300; total time=   1.2s\n",
      "[CV] END criterion=entropy, max_depth=1000, max_features=sqrt, min_samples_leaf=9, min_samples_split=1, n_estimators=800; total time=   0.7s\n",
      "[CV] END criterion=entropy, max_depth=1000, max_features=sqrt, min_samples_leaf=9, min_samples_split=1, n_estimators=800; total time=   0.7s\n",
      "[CV] END criterion=entropy, max_depth=1000, max_features=sqrt, min_samples_leaf=9, min_samples_split=1, n_estimators=800; total time=   0.7s\n",
      "[CV] END criterion=entropy, max_depth=1000, max_features=sqrt, min_samples_leaf=9, min_samples_split=1, n_estimators=800; total time=   0.8s\n",
      "[CV] END criterion=gini, max_depth=600, max_features=log2, min_samples_leaf=9, min_samples_split=1, n_estimators=300; total time=   0.2s\n",
      "[CV] END criterion=entropy, max_depth=1000, max_features=sqrt, min_samples_leaf=9, min_samples_split=1, n_estimators=800; total time=   0.7s\n",
      "[CV] END criterion=gini, max_depth=600, max_features=log2, min_samples_leaf=9, min_samples_split=1, n_estimators=300; total time=   0.2s\n",
      "[CV] END criterion=gini, max_depth=600, max_features=log2, min_samples_leaf=9, min_samples_split=1, n_estimators=300; total time=   0.2s\n"
     ]
    },
    {
     "name": "stderr",
     "output_type": "stream",
     "text": [
      "/Library/Frameworks/Python.framework/Versions/3.11/lib/python3.11/site-packages/sklearn/ensemble/_forest.py:427: FutureWarning: `max_features='auto'` has been deprecated in 1.1 and will be removed in 1.3. To keep the past behaviour, explicitly set `max_features='sqrt'` or remove this parameter as it is also the default value for RandomForestClassifiers and ExtraTreesClassifiers.\n",
      "  warn(\n",
      "/Library/Frameworks/Python.framework/Versions/3.11/lib/python3.11/site-packages/sklearn/ensemble/_forest.py:427: FutureWarning: `max_features='auto'` has been deprecated in 1.1 and will be removed in 1.3. To keep the past behaviour, explicitly set `max_features='sqrt'` or remove this parameter as it is also the default value for RandomForestClassifiers and ExtraTreesClassifiers.\n",
      "  warn(\n",
      "/Library/Frameworks/Python.framework/Versions/3.11/lib/python3.11/site-packages/sklearn/ensemble/_forest.py:427: FutureWarning: `max_features='auto'` has been deprecated in 1.1 and will be removed in 1.3. To keep the past behaviour, explicitly set `max_features='sqrt'` or remove this parameter as it is also the default value for RandomForestClassifiers and ExtraTreesClassifiers.\n",
      "  warn(\n"
     ]
    },
    {
     "name": "stdout",
     "output_type": "stream",
     "text": [
      "[CV] END criterion=gini, max_depth=600, max_features=log2, min_samples_leaf=9, min_samples_split=1, n_estimators=300; total time=   0.2s\n",
      "[CV] END criterion=gini, max_depth=600, max_features=log2, min_samples_leaf=9, min_samples_split=1, n_estimators=300; total time=   0.2s\n",
      "[CV] END criterion=gini, max_depth=800, max_features=sqrt, min_samples_leaf=6, min_samples_split=8, n_estimators=900; total time=   3.1s\n",
      "[CV] END criterion=gini, max_depth=800, max_features=sqrt, min_samples_leaf=6, min_samples_split=8, n_estimators=900; total time=   3.1s\n",
      "[CV] END criterion=gini, max_depth=800, max_features=sqrt, min_samples_leaf=6, min_samples_split=8, n_estimators=900; total time=   3.1s\n",
      "[CV] END criterion=gini, max_depth=800, max_features=sqrt, min_samples_leaf=6, min_samples_split=8, n_estimators=900; total time=   3.0s\n"
     ]
    },
    {
     "name": "stderr",
     "output_type": "stream",
     "text": [
      "/Library/Frameworks/Python.framework/Versions/3.11/lib/python3.11/site-packages/sklearn/ensemble/_forest.py:427: FutureWarning: `max_features='auto'` has been deprecated in 1.1 and will be removed in 1.3. To keep the past behaviour, explicitly set `max_features='sqrt'` or remove this parameter as it is also the default value for RandomForestClassifiers and ExtraTreesClassifiers.\n",
      "  warn(\n",
      "/Library/Frameworks/Python.framework/Versions/3.11/lib/python3.11/site-packages/sklearn/ensemble/_forest.py:427: FutureWarning: `max_features='auto'` has been deprecated in 1.1 and will be removed in 1.3. To keep the past behaviour, explicitly set `max_features='sqrt'` or remove this parameter as it is also the default value for RandomForestClassifiers and ExtraTreesClassifiers.\n",
      "  warn(\n",
      "/Library/Frameworks/Python.framework/Versions/3.11/lib/python3.11/site-packages/sklearn/ensemble/_forest.py:427: FutureWarning: `max_features='auto'` has been deprecated in 1.1 and will be removed in 1.3. To keep the past behaviour, explicitly set `max_features='sqrt'` or remove this parameter as it is also the default value for RandomForestClassifiers and ExtraTreesClassifiers.\n",
      "  warn(\n",
      "/Library/Frameworks/Python.framework/Versions/3.11/lib/python3.11/site-packages/sklearn/ensemble/_forest.py:427: FutureWarning: `max_features='auto'` has been deprecated in 1.1 and will be removed in 1.3. To keep the past behaviour, explicitly set `max_features='sqrt'` or remove this parameter as it is also the default value for RandomForestClassifiers and ExtraTreesClassifiers.\n",
      "  warn(\n"
     ]
    },
    {
     "name": "stdout",
     "output_type": "stream",
     "text": [
      "[CV] END criterion=gini, max_depth=800, max_features=sqrt, min_samples_leaf=6, min_samples_split=8, n_estimators=900; total time=   3.0s\n"
     ]
    },
    {
     "name": "stderr",
     "output_type": "stream",
     "text": [
      "/Library/Frameworks/Python.framework/Versions/3.11/lib/python3.11/site-packages/sklearn/ensemble/_forest.py:427: FutureWarning: `max_features='auto'` has been deprecated in 1.1 and will be removed in 1.3. To keep the past behaviour, explicitly set `max_features='sqrt'` or remove this parameter as it is also the default value for RandomForestClassifiers and ExtraTreesClassifiers.\n",
      "  warn(\n"
     ]
    },
    {
     "name": "stdout",
     "output_type": "stream",
     "text": [
      "[CV] END criterion=gini, max_depth=100, max_features=auto, min_samples_leaf=9, min_samples_split=7, n_estimators=1000; total time=   3.6s\n",
      "[CV] END criterion=gini, max_depth=100, max_features=auto, min_samples_leaf=9, min_samples_split=7, n_estimators=1000; total time=   3.7s\n",
      "[CV] END criterion=gini, max_depth=100, max_features=auto, min_samples_leaf=9, min_samples_split=7, n_estimators=1000; total time=   3.6s\n"
     ]
    },
    {
     "name": "stderr",
     "output_type": "stream",
     "text": [
      "/Library/Frameworks/Python.framework/Versions/3.11/lib/python3.11/site-packages/sklearn/ensemble/_forest.py:427: FutureWarning: `max_features='auto'` has been deprecated in 1.1 and will be removed in 1.3. To keep the past behaviour, explicitly set `max_features='sqrt'` or remove this parameter as it is also the default value for RandomForestClassifiers and ExtraTreesClassifiers.\n",
      "  warn(\n",
      "/Library/Frameworks/Python.framework/Versions/3.11/lib/python3.11/site-packages/sklearn/ensemble/_forest.py:427: FutureWarning: `max_features='auto'` has been deprecated in 1.1 and will be removed in 1.3. To keep the past behaviour, explicitly set `max_features='sqrt'` or remove this parameter as it is also the default value for RandomForestClassifiers and ExtraTreesClassifiers.\n",
      "  warn(\n"
     ]
    },
    {
     "name": "stdout",
     "output_type": "stream",
     "text": [
      "[CV] END criterion=gini, max_depth=300, max_features=log2, min_samples_leaf=6, min_samples_split=1, n_estimators=300; total time=   0.2s\n",
      "[CV] END criterion=gini, max_depth=400, max_features=auto, min_samples_leaf=7, min_samples_split=8, n_estimators=400; total time=   1.6s\n",
      "[CV] END criterion=gini, max_depth=400, max_features=auto, min_samples_leaf=7, min_samples_split=8, n_estimators=400; total time=   1.6s\n",
      "[CV] END criterion=gini, max_depth=400, max_features=auto, min_samples_leaf=7, min_samples_split=8, n_estimators=400; total time=   1.6s\n",
      "[CV] END criterion=gini, max_depth=300, max_features=log2, min_samples_leaf=6, min_samples_split=1, n_estimators=300; total time=   0.3s\n",
      "[CV] END criterion=gini, max_depth=300, max_features=log2, min_samples_leaf=6, min_samples_split=1, n_estimators=300; total time=   0.3s\n",
      "[CV] END criterion=gini, max_depth=300, max_features=log2, min_samples_leaf=6, min_samples_split=1, n_estimators=300; total time=   0.2s\n",
      "[CV] END criterion=gini, max_depth=300, max_features=log2, min_samples_leaf=6, min_samples_split=1, n_estimators=300; total time=   0.2s\n",
      "[CV] END criterion=gini, max_depth=400, max_features=auto, min_samples_leaf=7, min_samples_split=8, n_estimators=400; total time=   1.5s\n",
      "[CV] END criterion=gini, max_depth=400, max_features=auto, min_samples_leaf=7, min_samples_split=8, n_estimators=400; total time=   1.5s\n",
      "[CV] END criterion=gini, max_depth=100, max_features=auto, min_samples_leaf=9, min_samples_split=7, n_estimators=1000; total time=   3.8s\n",
      "[CV] END criterion=gini, max_depth=100, max_features=auto, min_samples_leaf=9, min_samples_split=7, n_estimators=1000; total time=   3.9s\n",
      "[CV] END criterion=gini, max_depth=500, max_features=sqrt, min_samples_leaf=7, min_samples_split=3, n_estimators=700; total time=   2.5s\n",
      "[CV] END criterion=gini, max_depth=500, max_features=sqrt, min_samples_leaf=7, min_samples_split=3, n_estimators=700; total time=   2.5s\n",
      "[CV] END criterion=gini, max_depth=500, max_features=sqrt, min_samples_leaf=7, min_samples_split=3, n_estimators=700; total time=   2.6s\n",
      "[CV] END criterion=gini, max_depth=500, max_features=sqrt, min_samples_leaf=7, min_samples_split=3, n_estimators=700; total time=   2.6s\n",
      "[CV] END criterion=gini, max_depth=1000, max_features=log2, min_samples_leaf=3, min_samples_split=8, n_estimators=100; total time=   0.5s\n",
      "[CV] END criterion=gini, max_depth=1000, max_features=log2, min_samples_leaf=3, min_samples_split=8, n_estimators=100; total time=   0.5s\n",
      "[CV] END criterion=gini, max_depth=500, max_features=sqrt, min_samples_leaf=7, min_samples_split=3, n_estimators=700; total time=   2.7s\n",
      "[CV] END criterion=gini, max_depth=1000, max_features=log2, min_samples_leaf=3, min_samples_split=8, n_estimators=100; total time=   0.5s\n",
      "[CV] END criterion=gini, max_depth=1000, max_features=log2, min_samples_leaf=3, min_samples_split=8, n_estimators=100; total time=   0.5s\n",
      "[CV] END criterion=gini, max_depth=1000, max_features=log2, min_samples_leaf=3, min_samples_split=8, n_estimators=100; total time=   0.5s\n",
      "[CV] END criterion=entropy, max_depth=600, max_features=sqrt, min_samples_leaf=6, min_samples_split=6, n_estimators=800; total time=   3.5s\n",
      "[CV] END criterion=entropy, max_depth=600, max_features=sqrt, min_samples_leaf=6, min_samples_split=6, n_estimators=800; total time=   3.5s\n",
      "[CV] END criterion=entropy, max_depth=600, max_features=sqrt, min_samples_leaf=6, min_samples_split=6, n_estimators=800; total time=   3.5s\n"
     ]
    },
    {
     "name": "stderr",
     "output_type": "stream",
     "text": [
      "/Library/Frameworks/Python.framework/Versions/3.11/lib/python3.11/site-packages/sklearn/ensemble/_forest.py:427: FutureWarning: `max_features='auto'` has been deprecated in 1.1 and will be removed in 1.3. To keep the past behaviour, explicitly set `max_features='sqrt'` or remove this parameter as it is also the default value for RandomForestClassifiers and ExtraTreesClassifiers.\n",
      "  warn(\n"
     ]
    },
    {
     "name": "stdout",
     "output_type": "stream",
     "text": [
      "[CV] END criterion=gini, max_depth=100, max_features=log2, min_samples_leaf=4, min_samples_split=6, n_estimators=500; total time=   2.1s\n",
      "[CV] END criterion=gini, max_depth=100, max_features=log2, min_samples_leaf=4, min_samples_split=6, n_estimators=500; total time=   2.1s\n",
      "[CV] END criterion=entropy, max_depth=600, max_features=sqrt, min_samples_leaf=6, min_samples_split=6, n_estimators=800; total time=   3.4s\n"
     ]
    },
    {
     "name": "stderr",
     "output_type": "stream",
     "text": [
      "/Library/Frameworks/Python.framework/Versions/3.11/lib/python3.11/site-packages/sklearn/ensemble/_forest.py:427: FutureWarning: `max_features='auto'` has been deprecated in 1.1 and will be removed in 1.3. To keep the past behaviour, explicitly set `max_features='sqrt'` or remove this parameter as it is also the default value for RandomForestClassifiers and ExtraTreesClassifiers.\n",
      "  warn(\n",
      "/Library/Frameworks/Python.framework/Versions/3.11/lib/python3.11/site-packages/sklearn/ensemble/_forest.py:427: FutureWarning: `max_features='auto'` has been deprecated in 1.1 and will be removed in 1.3. To keep the past behaviour, explicitly set `max_features='sqrt'` or remove this parameter as it is also the default value for RandomForestClassifiers and ExtraTreesClassifiers.\n",
      "  warn(\n",
      "/Library/Frameworks/Python.framework/Versions/3.11/lib/python3.11/site-packages/sklearn/ensemble/_forest.py:427: FutureWarning: `max_features='auto'` has been deprecated in 1.1 and will be removed in 1.3. To keep the past behaviour, explicitly set `max_features='sqrt'` or remove this parameter as it is also the default value for RandomForestClassifiers and ExtraTreesClassifiers.\n",
      "  warn(\n"
     ]
    },
    {
     "name": "stdout",
     "output_type": "stream",
     "text": [
      "[CV] END criterion=entropy, max_depth=600, max_features=sqrt, min_samples_leaf=6, min_samples_split=6, n_estimators=800; total time=   3.4s\n",
      "[CV] END criterion=gini, max_depth=100, max_features=log2, min_samples_leaf=4, min_samples_split=6, n_estimators=500; total time=   1.9s\n"
     ]
    },
    {
     "name": "stderr",
     "output_type": "stream",
     "text": [
      "/Library/Frameworks/Python.framework/Versions/3.11/lib/python3.11/site-packages/sklearn/ensemble/_forest.py:427: FutureWarning: `max_features='auto'` has been deprecated in 1.1 and will be removed in 1.3. To keep the past behaviour, explicitly set `max_features='sqrt'` or remove this parameter as it is also the default value for RandomForestClassifiers and ExtraTreesClassifiers.\n",
      "  warn(\n"
     ]
    },
    {
     "name": "stdout",
     "output_type": "stream",
     "text": [
      "[CV] END criterion=gini, max_depth=100, max_features=log2, min_samples_leaf=4, min_samples_split=6, n_estimators=500; total time=   1.8s\n",
      "[CV] END criterion=entropy, max_depth=900, max_features=auto, min_samples_leaf=3, min_samples_split=3, n_estimators=300; total time=   1.1s\n",
      "[CV] END criterion=entropy, max_depth=900, max_features=auto, min_samples_leaf=3, min_samples_split=3, n_estimators=300; total time=   1.0s\n",
      "[CV] END criterion=entropy, max_depth=900, max_features=auto, min_samples_leaf=3, min_samples_split=3, n_estimators=300; total time=   1.0s\n",
      "[CV] END criterion=entropy, max_depth=900, max_features=auto, min_samples_leaf=3, min_samples_split=3, n_estimators=300; total time=   1.1s\n"
     ]
    },
    {
     "name": "stderr",
     "output_type": "stream",
     "text": [
      "/Library/Frameworks/Python.framework/Versions/3.11/lib/python3.11/site-packages/sklearn/ensemble/_forest.py:427: FutureWarning: `max_features='auto'` has been deprecated in 1.1 and will be removed in 1.3. To keep the past behaviour, explicitly set `max_features='sqrt'` or remove this parameter as it is also the default value for RandomForestClassifiers and ExtraTreesClassifiers.\n",
      "  warn(\n",
      "/Library/Frameworks/Python.framework/Versions/3.11/lib/python3.11/site-packages/sklearn/ensemble/_forest.py:427: FutureWarning: `max_features='auto'` has been deprecated in 1.1 and will be removed in 1.3. To keep the past behaviour, explicitly set `max_features='sqrt'` or remove this parameter as it is also the default value for RandomForestClassifiers and ExtraTreesClassifiers.\n",
      "  warn(\n",
      "/Library/Frameworks/Python.framework/Versions/3.11/lib/python3.11/site-packages/sklearn/ensemble/_forest.py:427: FutureWarning: `max_features='auto'` has been deprecated in 1.1 and will be removed in 1.3. To keep the past behaviour, explicitly set `max_features='sqrt'` or remove this parameter as it is also the default value for RandomForestClassifiers and ExtraTreesClassifiers.\n",
      "  warn(\n"
     ]
    },
    {
     "name": "stdout",
     "output_type": "stream",
     "text": [
      "[CV] END criterion=gini, max_depth=100, max_features=log2, min_samples_leaf=4, min_samples_split=6, n_estimators=500; total time=   1.7s\n",
      "[CV] END criterion=entropy, max_depth=900, max_features=auto, min_samples_leaf=3, min_samples_split=3, n_estimators=300; total time=   1.1s\n",
      "[CV] END criterion=entropy, max_depth=100, max_features=log2, min_samples_leaf=3, min_samples_split=7, n_estimators=700; total time=   2.6s\n"
     ]
    },
    {
     "name": "stderr",
     "output_type": "stream",
     "text": [
      "/Library/Frameworks/Python.framework/Versions/3.11/lib/python3.11/site-packages/sklearn/ensemble/_forest.py:427: FutureWarning: `max_features='auto'` has been deprecated in 1.1 and will be removed in 1.3. To keep the past behaviour, explicitly set `max_features='sqrt'` or remove this parameter as it is also the default value for RandomForestClassifiers and ExtraTreesClassifiers.\n",
      "  warn(\n"
     ]
    },
    {
     "name": "stdout",
     "output_type": "stream",
     "text": [
      "[CV] END criterion=entropy, max_depth=100, max_features=log2, min_samples_leaf=3, min_samples_split=7, n_estimators=700; total time=   2.7s\n"
     ]
    },
    {
     "name": "stderr",
     "output_type": "stream",
     "text": [
      "/Library/Frameworks/Python.framework/Versions/3.11/lib/python3.11/site-packages/sklearn/ensemble/_forest.py:427: FutureWarning: `max_features='auto'` has been deprecated in 1.1 and will be removed in 1.3. To keep the past behaviour, explicitly set `max_features='sqrt'` or remove this parameter as it is also the default value for RandomForestClassifiers and ExtraTreesClassifiers.\n",
      "  warn(\n"
     ]
    },
    {
     "name": "stdout",
     "output_type": "stream",
     "text": [
      "[CV] END criterion=entropy, max_depth=100, max_features=log2, min_samples_leaf=3, min_samples_split=7, n_estimators=700; total time=   2.7s\n",
      "[CV] END criterion=entropy, max_depth=300, max_features=auto, min_samples_leaf=7, min_samples_split=3, n_estimators=700; total time=   2.3s\n",
      "[CV] END criterion=entropy, max_depth=900, max_features=log2, min_samples_leaf=3, min_samples_split=1, n_estimators=200; total time=   0.1s\n",
      "[CV] END criterion=entropy, max_depth=300, max_features=auto, min_samples_leaf=7, min_samples_split=3, n_estimators=700; total time=   2.4s\n",
      "[CV] END criterion=entropy, max_depth=900, max_features=log2, min_samples_leaf=3, min_samples_split=1, n_estimators=200; total time=   0.1s\n",
      "[CV] END criterion=entropy, max_depth=900, max_features=log2, min_samples_leaf=3, min_samples_split=1, n_estimators=200; total time=   0.1s\n",
      "[CV] END criterion=entropy, max_depth=100, max_features=log2, min_samples_leaf=3, min_samples_split=7, n_estimators=700; total time=   2.7s\n",
      "[CV] END criterion=entropy, max_depth=300, max_features=auto, min_samples_leaf=7, min_samples_split=3, n_estimators=700; total time=   2.4s\n",
      "[CV] END criterion=entropy, max_depth=100, max_features=log2, min_samples_leaf=3, min_samples_split=7, n_estimators=700; total time=   2.7s\n",
      "[CV] END criterion=entropy, max_depth=900, max_features=log2, min_samples_leaf=3, min_samples_split=1, n_estimators=200; total time=   0.1s\n",
      "[CV] END criterion=entropy, max_depth=900, max_features=log2, min_samples_leaf=3, min_samples_split=1, n_estimators=200; total time=   0.1s\n"
     ]
    },
    {
     "name": "stderr",
     "output_type": "stream",
     "text": [
      "/Library/Frameworks/Python.framework/Versions/3.11/lib/python3.11/site-packages/sklearn/ensemble/_forest.py:427: FutureWarning: `max_features='auto'` has been deprecated in 1.1 and will be removed in 1.3. To keep the past behaviour, explicitly set `max_features='sqrt'` or remove this parameter as it is also the default value for RandomForestClassifiers and ExtraTreesClassifiers.\n",
      "  warn(\n",
      "/Library/Frameworks/Python.framework/Versions/3.11/lib/python3.11/site-packages/sklearn/ensemble/_forest.py:427: FutureWarning: `max_features='auto'` has been deprecated in 1.1 and will be removed in 1.3. To keep the past behaviour, explicitly set `max_features='sqrt'` or remove this parameter as it is also the default value for RandomForestClassifiers and ExtraTreesClassifiers.\n",
      "  warn(\n",
      "/Library/Frameworks/Python.framework/Versions/3.11/lib/python3.11/site-packages/sklearn/ensemble/_forest.py:427: FutureWarning: `max_features='auto'` has been deprecated in 1.1 and will be removed in 1.3. To keep the past behaviour, explicitly set `max_features='sqrt'` or remove this parameter as it is also the default value for RandomForestClassifiers and ExtraTreesClassifiers.\n",
      "  warn(\n",
      "/Library/Frameworks/Python.framework/Versions/3.11/lib/python3.11/site-packages/sklearn/ensemble/_forest.py:427: FutureWarning: `max_features='auto'` has been deprecated in 1.1 and will be removed in 1.3. To keep the past behaviour, explicitly set `max_features='sqrt'` or remove this parameter as it is also the default value for RandomForestClassifiers and ExtraTreesClassifiers.\n",
      "  warn(\n",
      "/Library/Frameworks/Python.framework/Versions/3.11/lib/python3.11/site-packages/sklearn/ensemble/_forest.py:427: FutureWarning: `max_features='auto'` has been deprecated in 1.1 and will be removed in 1.3. To keep the past behaviour, explicitly set `max_features='sqrt'` or remove this parameter as it is also the default value for RandomForestClassifiers and ExtraTreesClassifiers.\n",
      "  warn(\n"
     ]
    },
    {
     "name": "stdout",
     "output_type": "stream",
     "text": [
      "[CV] END criterion=entropy, max_depth=300, max_features=auto, min_samples_leaf=7, min_samples_split=3, n_estimators=700; total time=   2.4s\n",
      "[CV] END criterion=entropy, max_depth=300, max_features=auto, min_samples_leaf=7, min_samples_split=3, n_estimators=700; total time=   2.5s\n",
      "[CV] END criterion=entropy, max_depth=700, max_features=sqrt, min_samples_leaf=6, min_samples_split=3, n_estimators=600; total time=   2.1s\n",
      "[CV] END criterion=entropy, max_depth=600, max_features=auto, min_samples_leaf=4, min_samples_split=3, n_estimators=900; total time=   3.3s\n",
      "[CV] END criterion=entropy, max_depth=600, max_features=auto, min_samples_leaf=4, min_samples_split=3, n_estimators=900; total time=   3.3s\n",
      "[CV] END criterion=entropy, max_depth=600, max_features=auto, min_samples_leaf=4, min_samples_split=3, n_estimators=900; total time=   3.3s\n",
      "[CV] END criterion=entropy, max_depth=600, max_features=auto, min_samples_leaf=4, min_samples_split=3, n_estimators=900; total time=   3.3s\n",
      "[CV] END criterion=entropy, max_depth=600, max_features=auto, min_samples_leaf=4, min_samples_split=3, n_estimators=900; total time=   3.4s\n",
      "[CV] END criterion=entropy, max_depth=700, max_features=sqrt, min_samples_leaf=4, min_samples_split=1, n_estimators=200; total time=   0.2s\n",
      "[CV] END criterion=entropy, max_depth=700, max_features=sqrt, min_samples_leaf=4, min_samples_split=1, n_estimators=200; total time=   0.2s\n",
      "[CV] END criterion=entropy, max_depth=700, max_features=sqrt, min_samples_leaf=4, min_samples_split=1, n_estimators=200; total time=   0.2s\n",
      "[CV] END criterion=entropy, max_depth=700, max_features=sqrt, min_samples_leaf=4, min_samples_split=1, n_estimators=200; total time=   0.2s\n",
      "[CV] END criterion=entropy, max_depth=700, max_features=sqrt, min_samples_leaf=4, min_samples_split=1, n_estimators=200; total time=   0.2s\n"
     ]
    },
    {
     "name": "stderr",
     "output_type": "stream",
     "text": [
      "/Library/Frameworks/Python.framework/Versions/3.11/lib/python3.11/site-packages/sklearn/ensemble/_forest.py:427: FutureWarning: `max_features='auto'` has been deprecated in 1.1 and will be removed in 1.3. To keep the past behaviour, explicitly set `max_features='sqrt'` or remove this parameter as it is also the default value for RandomForestClassifiers and ExtraTreesClassifiers.\n",
      "  warn(\n",
      "/Library/Frameworks/Python.framework/Versions/3.11/lib/python3.11/site-packages/sklearn/ensemble/_forest.py:427: FutureWarning: `max_features='auto'` has been deprecated in 1.1 and will be removed in 1.3. To keep the past behaviour, explicitly set `max_features='sqrt'` or remove this parameter as it is also the default value for RandomForestClassifiers and ExtraTreesClassifiers.\n",
      "  warn(\n",
      "/Library/Frameworks/Python.framework/Versions/3.11/lib/python3.11/site-packages/sklearn/ensemble/_forest.py:427: FutureWarning: `max_features='auto'` has been deprecated in 1.1 and will be removed in 1.3. To keep the past behaviour, explicitly set `max_features='sqrt'` or remove this parameter as it is also the default value for RandomForestClassifiers and ExtraTreesClassifiers.\n",
      "  warn(\n",
      "/Library/Frameworks/Python.framework/Versions/3.11/lib/python3.11/site-packages/sklearn/ensemble/_forest.py:427: FutureWarning: `max_features='auto'` has been deprecated in 1.1 and will be removed in 1.3. To keep the past behaviour, explicitly set `max_features='sqrt'` or remove this parameter as it is also the default value for RandomForestClassifiers and ExtraTreesClassifiers.\n",
      "  warn(\n"
     ]
    },
    {
     "name": "stdout",
     "output_type": "stream",
     "text": [
      "[CV] END criterion=entropy, max_depth=700, max_features=sqrt, min_samples_leaf=6, min_samples_split=3, n_estimators=600; total time=   2.3s\n"
     ]
    },
    {
     "name": "stderr",
     "output_type": "stream",
     "text": [
      "/Library/Frameworks/Python.framework/Versions/3.11/lib/python3.11/site-packages/sklearn/ensemble/_forest.py:427: FutureWarning: `max_features='auto'` has been deprecated in 1.1 and will be removed in 1.3. To keep the past behaviour, explicitly set `max_features='sqrt'` or remove this parameter as it is also the default value for RandomForestClassifiers and ExtraTreesClassifiers.\n",
      "  warn(\n"
     ]
    },
    {
     "name": "stdout",
     "output_type": "stream",
     "text": [
      "[CV] END criterion=entropy, max_depth=700, max_features=sqrt, min_samples_leaf=6, min_samples_split=3, n_estimators=600; total time=   2.4s\n",
      "[CV] END criterion=entropy, max_depth=700, max_features=sqrt, min_samples_leaf=6, min_samples_split=3, n_estimators=600; total time=   2.4s\n",
      "[CV] END criterion=gini, max_depth=100, max_features=sqrt, min_samples_leaf=7, min_samples_split=1, n_estimators=1000; total time=   0.8s\n",
      "[CV] END criterion=gini, max_depth=100, max_features=sqrt, min_samples_leaf=7, min_samples_split=1, n_estimators=1000; total time=   0.8s\n",
      "[CV] END criterion=entropy, max_depth=700, max_features=sqrt, min_samples_leaf=6, min_samples_split=3, n_estimators=600; total time=   2.7s\n",
      "[CV] END criterion=gini, max_depth=100, max_features=sqrt, min_samples_leaf=7, min_samples_split=1, n_estimators=1000; total time=   0.9s\n",
      "[CV] END criterion=gini, max_depth=100, max_features=sqrt, min_samples_leaf=7, min_samples_split=1, n_estimators=1000; total time=   0.9s\n",
      "[CV] END criterion=gini, max_depth=200, max_features=log2, min_samples_leaf=7, min_samples_split=1, n_estimators=700; total time=   0.6s\n",
      "[CV] END criterion=gini, max_depth=100, max_features=sqrt, min_samples_leaf=7, min_samples_split=1, n_estimators=1000; total time=   0.8s\n",
      "[CV] END criterion=gini, max_depth=200, max_features=log2, min_samples_leaf=7, min_samples_split=1, n_estimators=700; total time=   0.5s\n",
      "[CV] END criterion=gini, max_depth=200, max_features=log2, min_samples_leaf=7, min_samples_split=1, n_estimators=700; total time=   0.5s\n",
      "[CV] END criterion=gini, max_depth=200, max_features=log2, min_samples_leaf=7, min_samples_split=1, n_estimators=700; total time=   0.5s\n",
      "[CV] END criterion=gini, max_depth=200, max_features=log2, min_samples_leaf=7, min_samples_split=1, n_estimators=700; total time=   0.5s\n",
      "[CV] END criterion=gini, max_depth=100, max_features=log2, min_samples_leaf=7, min_samples_split=1, n_estimators=400; total time=   0.3s\n",
      "[CV] END criterion=gini, max_depth=1000, max_features=auto, min_samples_leaf=6, min_samples_split=8, n_estimators=1000; total time=   4.0s\n",
      "[CV] END criterion=gini, max_depth=100, max_features=log2, min_samples_leaf=7, min_samples_split=1, n_estimators=400; total time=   0.3s\n",
      "[CV] END criterion=gini, max_depth=100, max_features=log2, min_samples_leaf=7, min_samples_split=1, n_estimators=400; total time=   0.3s\n",
      "[CV] END criterion=gini, max_depth=1000, max_features=auto, min_samples_leaf=6, min_samples_split=8, n_estimators=1000; total time=   4.0s\n",
      "[CV] END criterion=gini, max_depth=1000, max_features=auto, min_samples_leaf=6, min_samples_split=8, n_estimators=1000; total time=   4.0s\n",
      "[CV] END criterion=gini, max_depth=100, max_features=log2, min_samples_leaf=7, min_samples_split=1, n_estimators=400; total time=   0.3s\n",
      "[CV] END criterion=gini, max_depth=1000, max_features=auto, min_samples_leaf=6, min_samples_split=8, n_estimators=1000; total time=   4.0s\n"
     ]
    },
    {
     "name": "stderr",
     "output_type": "stream",
     "text": [
      "/Library/Frameworks/Python.framework/Versions/3.11/lib/python3.11/site-packages/sklearn/ensemble/_forest.py:427: FutureWarning: `max_features='auto'` has been deprecated in 1.1 and will be removed in 1.3. To keep the past behaviour, explicitly set `max_features='sqrt'` or remove this parameter as it is also the default value for RandomForestClassifiers and ExtraTreesClassifiers.\n",
      "  warn(\n",
      "/Library/Frameworks/Python.framework/Versions/3.11/lib/python3.11/site-packages/sklearn/ensemble/_forest.py:427: FutureWarning: `max_features='auto'` has been deprecated in 1.1 and will be removed in 1.3. To keep the past behaviour, explicitly set `max_features='sqrt'` or remove this parameter as it is also the default value for RandomForestClassifiers and ExtraTreesClassifiers.\n",
      "  warn(\n",
      "/Library/Frameworks/Python.framework/Versions/3.11/lib/python3.11/site-packages/sklearn/ensemble/_forest.py:427: FutureWarning: `max_features='auto'` has been deprecated in 1.1 and will be removed in 1.3. To keep the past behaviour, explicitly set `max_features='sqrt'` or remove this parameter as it is also the default value for RandomForestClassifiers and ExtraTreesClassifiers.\n",
      "  warn(\n",
      "/Library/Frameworks/Python.framework/Versions/3.11/lib/python3.11/site-packages/sklearn/ensemble/_forest.py:427: FutureWarning: `max_features='auto'` has been deprecated in 1.1 and will be removed in 1.3. To keep the past behaviour, explicitly set `max_features='sqrt'` or remove this parameter as it is also the default value for RandomForestClassifiers and ExtraTreesClassifiers.\n",
      "  warn(\n",
      "/Library/Frameworks/Python.framework/Versions/3.11/lib/python3.11/site-packages/sklearn/ensemble/_forest.py:427: FutureWarning: `max_features='auto'` has been deprecated in 1.1 and will be removed in 1.3. To keep the past behaviour, explicitly set `max_features='sqrt'` or remove this parameter as it is also the default value for RandomForestClassifiers and ExtraTreesClassifiers.\n",
      "  warn(\n"
     ]
    },
    {
     "name": "stdout",
     "output_type": "stream",
     "text": [
      "[CV] END criterion=gini, max_depth=100, max_features=log2, min_samples_leaf=7, min_samples_split=1, n_estimators=400; total time=   0.3s\n",
      "[CV] END criterion=gini, max_depth=1000, max_features=auto, min_samples_leaf=6, min_samples_split=8, n_estimators=1000; total time=   4.0s\n",
      "[CV] END criterion=gini, max_depth=600, max_features=auto, min_samples_leaf=7, min_samples_split=7, n_estimators=300; total time=   1.0s\n",
      "[CV] END criterion=gini, max_depth=600, max_features=auto, min_samples_leaf=7, min_samples_split=7, n_estimators=300; total time=   1.1s\n",
      "[CV] END criterion=gini, max_depth=600, max_features=auto, min_samples_leaf=7, min_samples_split=7, n_estimators=300; total time=   1.1s\n",
      "[CV] END criterion=gini, max_depth=600, max_features=auto, min_samples_leaf=7, min_samples_split=7, n_estimators=300; total time=   1.1s\n",
      "[CV] END criterion=gini, max_depth=600, max_features=auto, min_samples_leaf=7, min_samples_split=7, n_estimators=300; total time=   1.0s\n"
     ]
    },
    {
     "name": "stderr",
     "output_type": "stream",
     "text": [
      "/Library/Frameworks/Python.framework/Versions/3.11/lib/python3.11/site-packages/sklearn/ensemble/_forest.py:427: FutureWarning: `max_features='auto'` has been deprecated in 1.1 and will be removed in 1.3. To keep the past behaviour, explicitly set `max_features='sqrt'` or remove this parameter as it is also the default value for RandomForestClassifiers and ExtraTreesClassifiers.\n",
      "  warn(\n",
      "/Library/Frameworks/Python.framework/Versions/3.11/lib/python3.11/site-packages/sklearn/ensemble/_forest.py:427: FutureWarning: `max_features='auto'` has been deprecated in 1.1 and will be removed in 1.3. To keep the past behaviour, explicitly set `max_features='sqrt'` or remove this parameter as it is also the default value for RandomForestClassifiers and ExtraTreesClassifiers.\n",
      "  warn(\n",
      "/Library/Frameworks/Python.framework/Versions/3.11/lib/python3.11/site-packages/sklearn/ensemble/_forest.py:427: FutureWarning: `max_features='auto'` has been deprecated in 1.1 and will be removed in 1.3. To keep the past behaviour, explicitly set `max_features='sqrt'` or remove this parameter as it is also the default value for RandomForestClassifiers and ExtraTreesClassifiers.\n",
      "  warn(\n"
     ]
    },
    {
     "name": "stdout",
     "output_type": "stream",
     "text": [
      "[CV] END criterion=entropy, max_depth=700, max_features=auto, min_samples_leaf=4, min_samples_split=3, n_estimators=300; total time=   1.3s\n",
      "[CV] END criterion=entropy, max_depth=700, max_features=auto, min_samples_leaf=4, min_samples_split=3, n_estimators=300; total time=   1.3s\n",
      "[CV] END criterion=entropy, max_depth=700, max_features=auto, min_samples_leaf=4, min_samples_split=3, n_estimators=300; total time=   1.3s\n"
     ]
    },
    {
     "name": "stderr",
     "output_type": "stream",
     "text": [
      "/Library/Frameworks/Python.framework/Versions/3.11/lib/python3.11/site-packages/sklearn/ensemble/_forest.py:427: FutureWarning: `max_features='auto'` has been deprecated in 1.1 and will be removed in 1.3. To keep the past behaviour, explicitly set `max_features='sqrt'` or remove this parameter as it is also the default value for RandomForestClassifiers and ExtraTreesClassifiers.\n",
      "  warn(\n",
      "/Library/Frameworks/Python.framework/Versions/3.11/lib/python3.11/site-packages/sklearn/ensemble/_forest.py:427: FutureWarning: `max_features='auto'` has been deprecated in 1.1 and will be removed in 1.3. To keep the past behaviour, explicitly set `max_features='sqrt'` or remove this parameter as it is also the default value for RandomForestClassifiers and ExtraTreesClassifiers.\n",
      "  warn(\n",
      "/Library/Frameworks/Python.framework/Versions/3.11/lib/python3.11/site-packages/sklearn/ensemble/_forest.py:427: FutureWarning: `max_features='auto'` has been deprecated in 1.1 and will be removed in 1.3. To keep the past behaviour, explicitly set `max_features='sqrt'` or remove this parameter as it is also the default value for RandomForestClassifiers and ExtraTreesClassifiers.\n",
      "  warn(\n"
     ]
    },
    {
     "name": "stdout",
     "output_type": "stream",
     "text": [
      "[CV] END criterion=gini, max_depth=200, max_features=log2, min_samples_leaf=6, min_samples_split=3, n_estimators=700; total time=   2.6s\n",
      "[CV] END criterion=gini, max_depth=200, max_features=log2, min_samples_leaf=6, min_samples_split=3, n_estimators=700; total time=   2.6s\n",
      "[CV] END criterion=gini, max_depth=200, max_features=log2, min_samples_leaf=6, min_samples_split=3, n_estimators=700; total time=   2.7s\n"
     ]
    },
    {
     "name": "stderr",
     "output_type": "stream",
     "text": [
      "/Library/Frameworks/Python.framework/Versions/3.11/lib/python3.11/site-packages/sklearn/ensemble/_forest.py:427: FutureWarning: `max_features='auto'` has been deprecated in 1.1 and will be removed in 1.3. To keep the past behaviour, explicitly set `max_features='sqrt'` or remove this parameter as it is also the default value for RandomForestClassifiers and ExtraTreesClassifiers.\n",
      "  warn(\n",
      "/Library/Frameworks/Python.framework/Versions/3.11/lib/python3.11/site-packages/sklearn/ensemble/_forest.py:427: FutureWarning: `max_features='auto'` has been deprecated in 1.1 and will be removed in 1.3. To keep the past behaviour, explicitly set `max_features='sqrt'` or remove this parameter as it is also the default value for RandomForestClassifiers and ExtraTreesClassifiers.\n",
      "  warn(\n",
      "/Library/Frameworks/Python.framework/Versions/3.11/lib/python3.11/site-packages/sklearn/ensemble/_forest.py:427: FutureWarning: `max_features='auto'` has been deprecated in 1.1 and will be removed in 1.3. To keep the past behaviour, explicitly set `max_features='sqrt'` or remove this parameter as it is also the default value for RandomForestClassifiers and ExtraTreesClassifiers.\n",
      "  warn(\n"
     ]
    },
    {
     "name": "stdout",
     "output_type": "stream",
     "text": [
      "[CV] END criterion=entropy, max_depth=200, max_features=auto, min_samples_leaf=3, min_samples_split=7, n_estimators=200; total time=   0.9s\n"
     ]
    },
    {
     "name": "stderr",
     "output_type": "stream",
     "text": [
      "/Library/Frameworks/Python.framework/Versions/3.11/lib/python3.11/site-packages/sklearn/ensemble/_forest.py:427: FutureWarning: `max_features='auto'` has been deprecated in 1.1 and will be removed in 1.3. To keep the past behaviour, explicitly set `max_features='sqrt'` or remove this parameter as it is also the default value for RandomForestClassifiers and ExtraTreesClassifiers.\n",
      "  warn(\n"
     ]
    },
    {
     "name": "stdout",
     "output_type": "stream",
     "text": [
      "[CV] END criterion=entropy, max_depth=700, max_features=auto, min_samples_leaf=4, min_samples_split=3, n_estimators=300; total time=   1.3s\n",
      "[CV] END criterion=entropy, max_depth=700, max_features=auto, min_samples_leaf=4, min_samples_split=3, n_estimators=300; total time=   1.3s\n",
      "[CV] END criterion=entropy, max_depth=200, max_features=auto, min_samples_leaf=3, min_samples_split=7, n_estimators=200; total time=   0.9s\n",
      "[CV] END criterion=gini, max_depth=400, max_features=sqrt, min_samples_leaf=9, min_samples_split=1, n_estimators=100; total time=   0.1s\n",
      "[CV] END criterion=entropy, max_depth=200, max_features=auto, min_samples_leaf=3, min_samples_split=7, n_estimators=200; total time=   0.9s\n",
      "[CV] END criterion=gini, max_depth=400, max_features=sqrt, min_samples_leaf=9, min_samples_split=1, n_estimators=100; total time=   0.1s\n",
      "[CV] END criterion=gini, max_depth=400, max_features=sqrt, min_samples_leaf=9, min_samples_split=1, n_estimators=100; total time=   0.1s\n",
      "[CV] END criterion=gini, max_depth=200, max_features=log2, min_samples_leaf=6, min_samples_split=3, n_estimators=700; total time=   2.8s\n",
      "[CV] END criterion=gini, max_depth=400, max_features=sqrt, min_samples_leaf=9, min_samples_split=1, n_estimators=100; total time=   0.1s\n",
      "[CV] END criterion=gini, max_depth=200, max_features=log2, min_samples_leaf=6, min_samples_split=3, n_estimators=700; total time=   2.8s\n",
      "[CV] END criterion=entropy, max_depth=200, max_features=auto, min_samples_leaf=3, min_samples_split=7, n_estimators=200; total time=   0.9s\n",
      "[CV] END criterion=gini, max_depth=400, max_features=sqrt, min_samples_leaf=9, min_samples_split=1, n_estimators=100; total time=   0.1s\n",
      "[CV] END criterion=entropy, max_depth=200, max_features=auto, min_samples_leaf=3, min_samples_split=7, n_estimators=200; total time=   0.9s\n",
      "[CV] END criterion=gini, max_depth=1000, max_features=log2, min_samples_leaf=9, min_samples_split=7, n_estimators=1000; total time=   3.6s\n",
      "[CV] END criterion=gini, max_depth=1000, max_features=log2, min_samples_leaf=9, min_samples_split=7, n_estimators=1000; total time=   3.7s\n",
      "[CV] END criterion=gini, max_depth=1000, max_features=log2, min_samples_leaf=9, min_samples_split=7, n_estimators=1000; total time=   3.7s\n",
      "[CV] END criterion=gini, max_depth=1000, max_features=log2, min_samples_leaf=9, min_samples_split=7, n_estimators=1000; total time=   3.7s\n",
      "[CV] END criterion=gini, max_depth=1000, max_features=log2, min_samples_leaf=9, min_samples_split=7, n_estimators=1000; total time=   3.7s\n",
      "[CV] END criterion=entropy, max_depth=1000, max_features=log2, min_samples_leaf=6, min_samples_split=6, n_estimators=1000; total time=   4.1s\n",
      "[CV] END criterion=entropy, max_depth=1000, max_features=log2, min_samples_leaf=6, min_samples_split=6, n_estimators=1000; total time=   4.1s\n",
      "[CV] END criterion=entropy, max_depth=1000, max_features=log2, min_samples_leaf=6, min_samples_split=6, n_estimators=1000; total time=   4.1s\n",
      "[CV] END criterion=gini, max_depth=100, max_features=sqrt, min_samples_leaf=3, min_samples_split=7, n_estimators=400; total time=   1.3s\n",
      "[CV] END criterion=gini, max_depth=300, max_features=sqrt, min_samples_leaf=4, min_samples_split=6, n_estimators=900; total time=   3.0s\n",
      "[CV] END criterion=gini, max_depth=300, max_features=sqrt, min_samples_leaf=4, min_samples_split=6, n_estimators=900; total time=   3.1s\n",
      "[CV] END criterion=gini, max_depth=300, max_features=sqrt, min_samples_leaf=4, min_samples_split=6, n_estimators=900; total time=   3.1s\n",
      "[CV] END criterion=gini, max_depth=300, max_features=sqrt, min_samples_leaf=4, min_samples_split=6, n_estimators=900; total time=   3.1s\n",
      "[CV] END criterion=gini, max_depth=300, max_features=sqrt, min_samples_leaf=4, min_samples_split=6, n_estimators=900; total time=   3.1s\n",
      "[CV] END criterion=gini, max_depth=100, max_features=sqrt, min_samples_leaf=3, min_samples_split=7, n_estimators=400; total time=   1.5s\n",
      "[CV] END criterion=entropy, max_depth=1000, max_features=log2, min_samples_leaf=6, min_samples_split=6, n_estimators=1000; total time=   3.9s\n",
      "[CV] END criterion=entropy, max_depth=1000, max_features=log2, min_samples_leaf=6, min_samples_split=6, n_estimators=1000; total time=   4.0s\n",
      "[CV] END criterion=gini, max_depth=100, max_features=sqrt, min_samples_leaf=3, min_samples_split=7, n_estimators=400; total time=   1.5s\n",
      "[CV] END criterion=gini, max_depth=100, max_features=sqrt, min_samples_leaf=3, min_samples_split=7, n_estimators=400; total time=   1.6s\n",
      "[CV] END criterion=gini, max_depth=100, max_features=sqrt, min_samples_leaf=3, min_samples_split=7, n_estimators=400; total time=   1.6s\n"
     ]
    },
    {
     "name": "stderr",
     "output_type": "stream",
     "text": [
      "/Library/Frameworks/Python.framework/Versions/3.11/lib/python3.11/site-packages/sklearn/ensemble/_forest.py:427: FutureWarning: `max_features='auto'` has been deprecated in 1.1 and will be removed in 1.3. To keep the past behaviour, explicitly set `max_features='sqrt'` or remove this parameter as it is also the default value for RandomForestClassifiers and ExtraTreesClassifiers.\n",
      "  warn(\n",
      "/Library/Frameworks/Python.framework/Versions/3.11/lib/python3.11/site-packages/sklearn/ensemble/_forest.py:427: FutureWarning: `max_features='auto'` has been deprecated in 1.1 and will be removed in 1.3. To keep the past behaviour, explicitly set `max_features='sqrt'` or remove this parameter as it is also the default value for RandomForestClassifiers and ExtraTreesClassifiers.\n",
      "  warn(\n",
      "/Library/Frameworks/Python.framework/Versions/3.11/lib/python3.11/site-packages/sklearn/ensemble/_forest.py:427: FutureWarning: `max_features='auto'` has been deprecated in 1.1 and will be removed in 1.3. To keep the past behaviour, explicitly set `max_features='sqrt'` or remove this parameter as it is also the default value for RandomForestClassifiers and ExtraTreesClassifiers.\n",
      "  warn(\n"
     ]
    },
    {
     "name": "stdout",
     "output_type": "stream",
     "text": [
      "[CV] END criterion=entropy, max_depth=600, max_features=log2, min_samples_leaf=3, min_samples_split=8, n_estimators=500; total time=   2.3s\n",
      "[CV] END criterion=entropy, max_depth=600, max_features=log2, min_samples_leaf=3, min_samples_split=8, n_estimators=500; total time=   2.3s\n",
      "[CV] END criterion=entropy, max_depth=600, max_features=log2, min_samples_leaf=3, min_samples_split=8, n_estimators=500; total time=   2.3s\n"
     ]
    },
    {
     "name": "stderr",
     "output_type": "stream",
     "text": [
      "/Library/Frameworks/Python.framework/Versions/3.11/lib/python3.11/site-packages/sklearn/ensemble/_forest.py:427: FutureWarning: `max_features='auto'` has been deprecated in 1.1 and will be removed in 1.3. To keep the past behaviour, explicitly set `max_features='sqrt'` or remove this parameter as it is also the default value for RandomForestClassifiers and ExtraTreesClassifiers.\n",
      "  warn(\n",
      "/Library/Frameworks/Python.framework/Versions/3.11/lib/python3.11/site-packages/sklearn/ensemble/_forest.py:427: FutureWarning: `max_features='auto'` has been deprecated in 1.1 and will be removed in 1.3. To keep the past behaviour, explicitly set `max_features='sqrt'` or remove this parameter as it is also the default value for RandomForestClassifiers and ExtraTreesClassifiers.\n",
      "  warn(\n",
      "/Library/Frameworks/Python.framework/Versions/3.11/lib/python3.11/site-packages/sklearn/ensemble/_forest.py:427: FutureWarning: `max_features='auto'` has been deprecated in 1.1 and will be removed in 1.3. To keep the past behaviour, explicitly set `max_features='sqrt'` or remove this parameter as it is also the default value for RandomForestClassifiers and ExtraTreesClassifiers.\n",
      "  warn(\n"
     ]
    },
    {
     "name": "stdout",
     "output_type": "stream",
     "text": [
      "[CV] END criterion=entropy, max_depth=600, max_features=log2, min_samples_leaf=3, min_samples_split=8, n_estimators=500; total time=   2.3s\n",
      "[CV] END criterion=entropy, max_depth=600, max_features=log2, min_samples_leaf=3, min_samples_split=8, n_estimators=500; total time=   2.4s\n"
     ]
    },
    {
     "name": "stderr",
     "output_type": "stream",
     "text": [
      "/Library/Frameworks/Python.framework/Versions/3.11/lib/python3.11/site-packages/sklearn/ensemble/_forest.py:427: FutureWarning: `max_features='auto'` has been deprecated in 1.1 and will be removed in 1.3. To keep the past behaviour, explicitly set `max_features='sqrt'` or remove this parameter as it is also the default value for RandomForestClassifiers and ExtraTreesClassifiers.\n",
      "  warn(\n",
      "/Library/Frameworks/Python.framework/Versions/3.11/lib/python3.11/site-packages/sklearn/ensemble/_forest.py:427: FutureWarning: `max_features='auto'` has been deprecated in 1.1 and will be removed in 1.3. To keep the past behaviour, explicitly set `max_features='sqrt'` or remove this parameter as it is also the default value for RandomForestClassifiers and ExtraTreesClassifiers.\n",
      "  warn(\n"
     ]
    },
    {
     "name": "stdout",
     "output_type": "stream",
     "text": [
      "[CV] END criterion=entropy, max_depth=200, max_features=auto, min_samples_leaf=3, min_samples_split=7, n_estimators=600; total time=   2.7s\n",
      "[CV] END criterion=entropy, max_depth=200, max_features=auto, min_samples_leaf=3, min_samples_split=7, n_estimators=600; total time=   2.7s\n",
      "[CV] END criterion=entropy, max_depth=200, max_features=auto, min_samples_leaf=3, min_samples_split=7, n_estimators=600; total time=   2.7s\n"
     ]
    },
    {
     "name": "stderr",
     "output_type": "stream",
     "text": [
      "/Library/Frameworks/Python.framework/Versions/3.11/lib/python3.11/site-packages/sklearn/ensemble/_forest.py:427: FutureWarning: `max_features='auto'` has been deprecated in 1.1 and will be removed in 1.3. To keep the past behaviour, explicitly set `max_features='sqrt'` or remove this parameter as it is also the default value for RandomForestClassifiers and ExtraTreesClassifiers.\n",
      "  warn(\n",
      "/Library/Frameworks/Python.framework/Versions/3.11/lib/python3.11/site-packages/sklearn/ensemble/_forest.py:427: FutureWarning: `max_features='auto'` has been deprecated in 1.1 and will be removed in 1.3. To keep the past behaviour, explicitly set `max_features='sqrt'` or remove this parameter as it is also the default value for RandomForestClassifiers and ExtraTreesClassifiers.\n",
      "  warn(\n"
     ]
    },
    {
     "name": "stdout",
     "output_type": "stream",
     "text": [
      "[CV] END criterion=entropy, max_depth=200, max_features=auto, min_samples_leaf=3, min_samples_split=7, n_estimators=600; total time=   2.8s\n",
      "[CV] END criterion=entropy, max_depth=200, max_features=auto, min_samples_leaf=3, min_samples_split=7, n_estimators=600; total time=   2.8s\n",
      "[CV] END criterion=gini, max_depth=1000, max_features=sqrt, min_samples_leaf=4, min_samples_split=3, n_estimators=400; total time=   1.8s\n",
      "[CV] END criterion=entropy, max_depth=500, max_features=auto, min_samples_leaf=6, min_samples_split=8, n_estimators=700; total time=   3.3s\n",
      "[CV] END criterion=entropy, max_depth=500, max_features=auto, min_samples_leaf=6, min_samples_split=8, n_estimators=700; total time=   3.2s\n",
      "[CV] END criterion=entropy, max_depth=500, max_features=auto, min_samples_leaf=6, min_samples_split=8, n_estimators=700; total time=   3.2s\n",
      "[CV] END criterion=gini, max_depth=400, max_features=sqrt, min_samples_leaf=7, min_samples_split=1, n_estimators=500; total time=   0.4s\n",
      "[CV] END criterion=gini, max_depth=400, max_features=sqrt, min_samples_leaf=7, min_samples_split=1, n_estimators=500; total time=   0.4s\n",
      "[CV] END criterion=gini, max_depth=400, max_features=sqrt, min_samples_leaf=7, min_samples_split=1, n_estimators=500; total time=   0.4s\n",
      "[CV] END criterion=gini, max_depth=1000, max_features=sqrt, min_samples_leaf=4, min_samples_split=3, n_estimators=400; total time=   1.7s\n",
      "[CV] END criterion=gini, max_depth=1000, max_features=sqrt, min_samples_leaf=4, min_samples_split=3, n_estimators=400; total time=   1.7s\n",
      "[CV] END criterion=entropy, max_depth=500, max_features=log2, min_samples_leaf=3, min_samples_split=1, n_estimators=100; total time=   0.1s\n",
      "[CV] END criterion=entropy, max_depth=500, max_features=auto, min_samples_leaf=6, min_samples_split=8, n_estimators=700; total time=   3.2s\n",
      "[CV] END criterion=entropy, max_depth=500, max_features=log2, min_samples_leaf=3, min_samples_split=1, n_estimators=100; total time=   0.1s\n",
      "[CV] END criterion=gini, max_depth=400, max_features=sqrt, min_samples_leaf=7, min_samples_split=1, n_estimators=500; total time=   0.4s\n",
      "[CV] END criterion=entropy, max_depth=500, max_features=log2, min_samples_leaf=3, min_samples_split=1, n_estimators=100; total time=   0.1s\n",
      "[CV] END criterion=entropy, max_depth=500, max_features=log2, min_samples_leaf=3, min_samples_split=1, n_estimators=100; total time=   0.1s\n",
      "[CV] END criterion=entropy, max_depth=500, max_features=log2, min_samples_leaf=3, min_samples_split=1, n_estimators=100; total time=   0.1s\n",
      "[CV] END criterion=entropy, max_depth=500, max_features=auto, min_samples_leaf=6, min_samples_split=8, n_estimators=700; total time=   3.2s\n",
      "[CV] END criterion=gini, max_depth=400, max_features=sqrt, min_samples_leaf=7, min_samples_split=1, n_estimators=500; total time=   0.5s\n",
      "[CV] END criterion=gini, max_depth=1000, max_features=sqrt, min_samples_leaf=4, min_samples_split=3, n_estimators=400; total time=   1.6s\n",
      "[CV] END criterion=gini, max_depth=1000, max_features=sqrt, min_samples_leaf=4, min_samples_split=3, n_estimators=400; total time=   1.7s\n",
      "[CV] END criterion=entropy, max_depth=900, max_features=sqrt, min_samples_leaf=9, min_samples_split=7, n_estimators=100; total time=   0.4s\n",
      "[CV] END criterion=entropy, max_depth=900, max_features=sqrt, min_samples_leaf=9, min_samples_split=7, n_estimators=100; total time=   0.4s\n",
      "[CV] END criterion=entropy, max_depth=900, max_features=sqrt, min_samples_leaf=9, min_samples_split=7, n_estimators=100; total time=   0.4s\n",
      "[CV] END criterion=gini, max_depth=600, max_features=log2, min_samples_leaf=9, min_samples_split=8, n_estimators=200; total time=   0.8s\n"
     ]
    },
    {
     "name": "stderr",
     "output_type": "stream",
     "text": [
      "/Library/Frameworks/Python.framework/Versions/3.11/lib/python3.11/site-packages/sklearn/ensemble/_forest.py:427: FutureWarning: `max_features='auto'` has been deprecated in 1.1 and will be removed in 1.3. To keep the past behaviour, explicitly set `max_features='sqrt'` or remove this parameter as it is also the default value for RandomForestClassifiers and ExtraTreesClassifiers.\n",
      "  warn(\n",
      "/Library/Frameworks/Python.framework/Versions/3.11/lib/python3.11/site-packages/sklearn/ensemble/_forest.py:427: FutureWarning: `max_features='auto'` has been deprecated in 1.1 and will be removed in 1.3. To keep the past behaviour, explicitly set `max_features='sqrt'` or remove this parameter as it is also the default value for RandomForestClassifiers and ExtraTreesClassifiers.\n",
      "  warn(\n",
      "/Library/Frameworks/Python.framework/Versions/3.11/lib/python3.11/site-packages/sklearn/ensemble/_forest.py:427: FutureWarning: `max_features='auto'` has been deprecated in 1.1 and will be removed in 1.3. To keep the past behaviour, explicitly set `max_features='sqrt'` or remove this parameter as it is also the default value for RandomForestClassifiers and ExtraTreesClassifiers.\n",
      "  warn(\n",
      "/Library/Frameworks/Python.framework/Versions/3.11/lib/python3.11/site-packages/sklearn/ensemble/_forest.py:427: FutureWarning: `max_features='auto'` has been deprecated in 1.1 and will be removed in 1.3. To keep the past behaviour, explicitly set `max_features='sqrt'` or remove this parameter as it is also the default value for RandomForestClassifiers and ExtraTreesClassifiers.\n",
      "  warn(\n",
      "/Library/Frameworks/Python.framework/Versions/3.11/lib/python3.11/site-packages/sklearn/ensemble/_forest.py:427: FutureWarning: `max_features='auto'` has been deprecated in 1.1 and will be removed in 1.3. To keep the past behaviour, explicitly set `max_features='sqrt'` or remove this parameter as it is also the default value for RandomForestClassifiers and ExtraTreesClassifiers.\n",
      "  warn(\n",
      "/Library/Frameworks/Python.framework/Versions/3.11/lib/python3.11/site-packages/sklearn/ensemble/_forest.py:427: FutureWarning: `max_features='auto'` has been deprecated in 1.1 and will be removed in 1.3. To keep the past behaviour, explicitly set `max_features='sqrt'` or remove this parameter as it is also the default value for RandomForestClassifiers and ExtraTreesClassifiers.\n",
      "  warn(\n"
     ]
    },
    {
     "name": "stdout",
     "output_type": "stream",
     "text": [
      "[CV] END criterion=gini, max_depth=600, max_features=log2, min_samples_leaf=9, min_samples_split=8, n_estimators=200; total time=   0.8s\n",
      "[CV] END criterion=gini, max_depth=600, max_features=log2, min_samples_leaf=9, min_samples_split=8, n_estimators=200; total time=   0.8s\n",
      "[CV] END criterion=gini, max_depth=600, max_features=log2, min_samples_leaf=9, min_samples_split=8, n_estimators=200; total time=   0.8s\n",
      "[CV] END criterion=gini, max_depth=600, max_features=log2, min_samples_leaf=9, min_samples_split=8, n_estimators=200; total time=   0.8s\n",
      "[CV] END criterion=entropy, max_depth=900, max_features=sqrt, min_samples_leaf=9, min_samples_split=7, n_estimators=100; total time=   0.4s\n"
     ]
    },
    {
     "name": "stderr",
     "output_type": "stream",
     "text": [
      "/Library/Frameworks/Python.framework/Versions/3.11/lib/python3.11/site-packages/sklearn/ensemble/_forest.py:427: FutureWarning: `max_features='auto'` has been deprecated in 1.1 and will be removed in 1.3. To keep the past behaviour, explicitly set `max_features='sqrt'` or remove this parameter as it is also the default value for RandomForestClassifiers and ExtraTreesClassifiers.\n",
      "  warn(\n",
      "/Library/Frameworks/Python.framework/Versions/3.11/lib/python3.11/site-packages/sklearn/ensemble/_forest.py:427: FutureWarning: `max_features='auto'` has been deprecated in 1.1 and will be removed in 1.3. To keep the past behaviour, explicitly set `max_features='sqrt'` or remove this parameter as it is also the default value for RandomForestClassifiers and ExtraTreesClassifiers.\n",
      "  warn(\n"
     ]
    },
    {
     "name": "stdout",
     "output_type": "stream",
     "text": [
      "[CV] END criterion=entropy, max_depth=900, max_features=sqrt, min_samples_leaf=9, min_samples_split=7, n_estimators=100; total time=   0.4s\n",
      "[CV] END criterion=entropy, max_depth=100, max_features=auto, min_samples_leaf=4, min_samples_split=3, n_estimators=200; total time=   1.0s\n"
     ]
    },
    {
     "name": "stderr",
     "output_type": "stream",
     "text": [
      "/Library/Frameworks/Python.framework/Versions/3.11/lib/python3.11/site-packages/sklearn/ensemble/_forest.py:427: FutureWarning: `max_features='auto'` has been deprecated in 1.1 and will be removed in 1.3. To keep the past behaviour, explicitly set `max_features='sqrt'` or remove this parameter as it is also the default value for RandomForestClassifiers and ExtraTreesClassifiers.\n",
      "  warn(\n"
     ]
    },
    {
     "name": "stdout",
     "output_type": "stream",
     "text": [
      "[CV] END criterion=entropy, max_depth=100, max_features=auto, min_samples_leaf=4, min_samples_split=3, n_estimators=200; total time=   1.2s\n",
      "[CV] END criterion=entropy, max_depth=100, max_features=auto, min_samples_leaf=4, min_samples_split=3, n_estimators=200; total time=   1.2s\n"
     ]
    },
    {
     "name": "stderr",
     "output_type": "stream",
     "text": [
      "/Library/Frameworks/Python.framework/Versions/3.11/lib/python3.11/site-packages/sklearn/ensemble/_forest.py:427: FutureWarning: `max_features='auto'` has been deprecated in 1.1 and will be removed in 1.3. To keep the past behaviour, explicitly set `max_features='sqrt'` or remove this parameter as it is also the default value for RandomForestClassifiers and ExtraTreesClassifiers.\n",
      "  warn(\n",
      "/Library/Frameworks/Python.framework/Versions/3.11/lib/python3.11/site-packages/sklearn/ensemble/_forest.py:427: FutureWarning: `max_features='auto'` has been deprecated in 1.1 and will be removed in 1.3. To keep the past behaviour, explicitly set `max_features='sqrt'` or remove this parameter as it is also the default value for RandomForestClassifiers and ExtraTreesClassifiers.\n",
      "  warn(\n"
     ]
    },
    {
     "name": "stdout",
     "output_type": "stream",
     "text": [
      "[CV] END criterion=entropy, max_depth=100, max_features=auto, min_samples_leaf=4, min_samples_split=3, n_estimators=200; total time=   1.2s\n",
      "[CV] END criterion=entropy, max_depth=100, max_features=auto, min_samples_leaf=4, min_samples_split=3, n_estimators=200; total time=   1.0s\n"
     ]
    },
    {
     "name": "stderr",
     "output_type": "stream",
     "text": [
      "/Library/Frameworks/Python.framework/Versions/3.11/lib/python3.11/site-packages/sklearn/ensemble/_forest.py:427: FutureWarning: `max_features='auto'` has been deprecated in 1.1 and will be removed in 1.3. To keep the past behaviour, explicitly set `max_features='sqrt'` or remove this parameter as it is also the default value for RandomForestClassifiers and ExtraTreesClassifiers.\n",
      "  warn(\n",
      "/Library/Frameworks/Python.framework/Versions/3.11/lib/python3.11/site-packages/sklearn/ensemble/_forest.py:427: FutureWarning: `max_features='auto'` has been deprecated in 1.1 and will be removed in 1.3. To keep the past behaviour, explicitly set `max_features='sqrt'` or remove this parameter as it is also the default value for RandomForestClassifiers and ExtraTreesClassifiers.\n",
      "  warn(\n"
     ]
    },
    {
     "name": "stdout",
     "output_type": "stream",
     "text": [
      "[CV] END criterion=gini, max_depth=900, max_features=auto, min_samples_leaf=7, min_samples_split=1, n_estimators=1000; total time=   1.2s\n"
     ]
    },
    {
     "name": "stderr",
     "output_type": "stream",
     "text": [
      "/Library/Frameworks/Python.framework/Versions/3.11/lib/python3.11/site-packages/sklearn/ensemble/_forest.py:427: FutureWarning: `max_features='auto'` has been deprecated in 1.1 and will be removed in 1.3. To keep the past behaviour, explicitly set `max_features='sqrt'` or remove this parameter as it is also the default value for RandomForestClassifiers and ExtraTreesClassifiers.\n",
      "  warn(\n"
     ]
    },
    {
     "name": "stdout",
     "output_type": "stream",
     "text": [
      "[CV] END criterion=gini, max_depth=900, max_features=auto, min_samples_leaf=7, min_samples_split=1, n_estimators=1000; total time=   1.2s\n"
     ]
    },
    {
     "name": "stderr",
     "output_type": "stream",
     "text": [
      "/Library/Frameworks/Python.framework/Versions/3.11/lib/python3.11/site-packages/sklearn/ensemble/_forest.py:427: FutureWarning: `max_features='auto'` has been deprecated in 1.1 and will be removed in 1.3. To keep the past behaviour, explicitly set `max_features='sqrt'` or remove this parameter as it is also the default value for RandomForestClassifiers and ExtraTreesClassifiers.\n",
      "  warn(\n"
     ]
    },
    {
     "name": "stdout",
     "output_type": "stream",
     "text": [
      "[CV] END criterion=gini, max_depth=900, max_features=auto, min_samples_leaf=7, min_samples_split=1, n_estimators=1000; total time=   1.3s\n",
      "[CV] END criterion=gini, max_depth=900, max_features=auto, min_samples_leaf=7, min_samples_split=1, n_estimators=1000; total time=   1.2s\n",
      "[CV] END criterion=gini, max_depth=500, max_features=log2, min_samples_leaf=6, min_samples_split=1, n_estimators=300; total time=   0.3s\n",
      "[CV] END criterion=gini, max_depth=500, max_features=log2, min_samples_leaf=6, min_samples_split=1, n_estimators=300; total time=   0.3s\n",
      "[CV] END criterion=gini, max_depth=500, max_features=log2, min_samples_leaf=6, min_samples_split=1, n_estimators=300; total time=   0.4s\n",
      "[CV] END criterion=gini, max_depth=500, max_features=log2, min_samples_leaf=6, min_samples_split=1, n_estimators=300; total time=   0.4s\n",
      "[CV] END criterion=gini, max_depth=500, max_features=log2, min_samples_leaf=6, min_samples_split=1, n_estimators=300; total time=   0.3s\n",
      "[CV] END criterion=gini, max_depth=900, max_features=auto, min_samples_leaf=7, min_samples_split=1, n_estimators=1000; total time=   1.4s\n",
      "[CV] END criterion=entropy, max_depth=900, max_features=auto, min_samples_leaf=3, min_samples_split=6, n_estimators=900; total time=   5.2s\n",
      "[CV] END criterion=entropy, max_depth=900, max_features=auto, min_samples_leaf=3, min_samples_split=6, n_estimators=900; total time=   5.2s\n",
      "[CV] END criterion=entropy, max_depth=900, max_features=auto, min_samples_leaf=3, min_samples_split=6, n_estimators=900; total time=   5.2s\n",
      "[CV] END criterion=entropy, max_depth=900, max_features=auto, min_samples_leaf=3, min_samples_split=6, n_estimators=900; total time=   5.2s\n",
      "[CV] END criterion=entropy, max_depth=900, max_features=auto, min_samples_leaf=3, min_samples_split=6, n_estimators=900; total time=   5.2s\n",
      "[CV] END criterion=gini, max_depth=100, max_features=log2, min_samples_leaf=6, min_samples_split=7, n_estimators=100; total time=   0.6s\n",
      "[CV] END criterion=gini, max_depth=100, max_features=log2, min_samples_leaf=6, min_samples_split=7, n_estimators=100; total time=   0.6s\n",
      "[CV] END criterion=gini, max_depth=100, max_features=log2, min_samples_leaf=6, min_samples_split=7, n_estimators=100; total time=   0.6s\n",
      "[CV] END criterion=gini, max_depth=100, max_features=log2, min_samples_leaf=6, min_samples_split=7, n_estimators=100; total time=   0.6s\n",
      "[CV] END criterion=gini, max_depth=100, max_features=log2, min_samples_leaf=6, min_samples_split=7, n_estimators=100; total time=   0.6s\n",
      "[CV] END criterion=gini, max_depth=700, max_features=log2, min_samples_leaf=7, min_samples_split=8, n_estimators=200; total time=   1.2s\n",
      "[CV] END criterion=gini, max_depth=700, max_features=log2, min_samples_leaf=7, min_samples_split=8, n_estimators=200; total time=   1.1s\n",
      "[CV] END criterion=gini, max_depth=700, max_features=log2, min_samples_leaf=7, min_samples_split=8, n_estimators=200; total time=   1.1s\n"
     ]
    },
    {
     "name": "stderr",
     "output_type": "stream",
     "text": [
      "/Library/Frameworks/Python.framework/Versions/3.11/lib/python3.11/site-packages/sklearn/ensemble/_forest.py:427: FutureWarning: `max_features='auto'` has been deprecated in 1.1 and will be removed in 1.3. To keep the past behaviour, explicitly set `max_features='sqrt'` or remove this parameter as it is also the default value for RandomForestClassifiers and ExtraTreesClassifiers.\n",
      "  warn(\n"
     ]
    },
    {
     "name": "stdout",
     "output_type": "stream",
     "text": [
      "[CV] END criterion=gini, max_depth=700, max_features=log2, min_samples_leaf=7, min_samples_split=8, n_estimators=200; total time=   1.4s\n"
     ]
    },
    {
     "name": "stderr",
     "output_type": "stream",
     "text": [
      "/Library/Frameworks/Python.framework/Versions/3.11/lib/python3.11/site-packages/sklearn/ensemble/_forest.py:427: FutureWarning: `max_features='auto'` has been deprecated in 1.1 and will be removed in 1.3. To keep the past behaviour, explicitly set `max_features='sqrt'` or remove this parameter as it is also the default value for RandomForestClassifiers and ExtraTreesClassifiers.\n",
      "  warn(\n"
     ]
    },
    {
     "name": "stdout",
     "output_type": "stream",
     "text": [
      "[CV] END criterion=entropy, max_depth=900, max_features=auto, min_samples_leaf=9, min_samples_split=1, n_estimators=800; total time=   1.8s\n",
      "[CV] END criterion=gini, max_depth=700, max_features=log2, min_samples_leaf=7, min_samples_split=8, n_estimators=200; total time=   1.9s\n"
     ]
    },
    {
     "name": "stderr",
     "output_type": "stream",
     "text": [
      "/Library/Frameworks/Python.framework/Versions/3.11/lib/python3.11/site-packages/sklearn/ensemble/_forest.py:427: FutureWarning: `max_features='auto'` has been deprecated in 1.1 and will be removed in 1.3. To keep the past behaviour, explicitly set `max_features='sqrt'` or remove this parameter as it is also the default value for RandomForestClassifiers and ExtraTreesClassifiers.\n",
      "  warn(\n",
      "/Library/Frameworks/Python.framework/Versions/3.11/lib/python3.11/site-packages/sklearn/ensemble/_forest.py:427: FutureWarning: `max_features='auto'` has been deprecated in 1.1 and will be removed in 1.3. To keep the past behaviour, explicitly set `max_features='sqrt'` or remove this parameter as it is also the default value for RandomForestClassifiers and ExtraTreesClassifiers.\n",
      "  warn(\n"
     ]
    },
    {
     "name": "stdout",
     "output_type": "stream",
     "text": [
      "[CV] END criterion=entropy, max_depth=900, max_features=auto, min_samples_leaf=9, min_samples_split=1, n_estimators=800; total time=   1.7s\n"
     ]
    },
    {
     "name": "stderr",
     "output_type": "stream",
     "text": [
      "/Library/Frameworks/Python.framework/Versions/3.11/lib/python3.11/site-packages/sklearn/ensemble/_forest.py:427: FutureWarning: `max_features='auto'` has been deprecated in 1.1 and will be removed in 1.3. To keep the past behaviour, explicitly set `max_features='sqrt'` or remove this parameter as it is also the default value for RandomForestClassifiers and ExtraTreesClassifiers.\n",
      "  warn(\n"
     ]
    },
    {
     "name": "stdout",
     "output_type": "stream",
     "text": [
      "[CV] END criterion=entropy, max_depth=900, max_features=auto, min_samples_leaf=9, min_samples_split=1, n_estimators=800; total time=   1.6s\n",
      "[CV] END criterion=entropy, max_depth=900, max_features=auto, min_samples_leaf=9, min_samples_split=1, n_estimators=800; total time=   1.6s\n",
      "[CV] END criterion=entropy, max_depth=600, max_features=sqrt, min_samples_leaf=9, min_samples_split=6, n_estimators=900; total time=   6.4s\n",
      "[CV] END criterion=entropy, max_depth=600, max_features=sqrt, min_samples_leaf=9, min_samples_split=6, n_estimators=900; total time=   6.4s\n"
     ]
    },
    {
     "name": "stderr",
     "output_type": "stream",
     "text": [
      "/Library/Frameworks/Python.framework/Versions/3.11/lib/python3.11/site-packages/sklearn/ensemble/_forest.py:427: FutureWarning: `max_features='auto'` has been deprecated in 1.1 and will be removed in 1.3. To keep the past behaviour, explicitly set `max_features='sqrt'` or remove this parameter as it is also the default value for RandomForestClassifiers and ExtraTreesClassifiers.\n",
      "  warn(\n",
      "/Library/Frameworks/Python.framework/Versions/3.11/lib/python3.11/site-packages/sklearn/ensemble/_forest.py:427: FutureWarning: `max_features='auto'` has been deprecated in 1.1 and will be removed in 1.3. To keep the past behaviour, explicitly set `max_features='sqrt'` or remove this parameter as it is also the default value for RandomForestClassifiers and ExtraTreesClassifiers.\n",
      "  warn(\n",
      "/Library/Frameworks/Python.framework/Versions/3.11/lib/python3.11/site-packages/sklearn/ensemble/_forest.py:427: FutureWarning: `max_features='auto'` has been deprecated in 1.1 and will be removed in 1.3. To keep the past behaviour, explicitly set `max_features='sqrt'` or remove this parameter as it is also the default value for RandomForestClassifiers and ExtraTreesClassifiers.\n",
      "  warn(\n",
      "/Library/Frameworks/Python.framework/Versions/3.11/lib/python3.11/site-packages/sklearn/ensemble/_forest.py:427: FutureWarning: `max_features='auto'` has been deprecated in 1.1 and will be removed in 1.3. To keep the past behaviour, explicitly set `max_features='sqrt'` or remove this parameter as it is also the default value for RandomForestClassifiers and ExtraTreesClassifiers.\n",
      "  warn(\n"
     ]
    },
    {
     "name": "stdout",
     "output_type": "stream",
     "text": [
      "[CV] END criterion=entropy, max_depth=600, max_features=sqrt, min_samples_leaf=9, min_samples_split=6, n_estimators=900; total time=   6.5s\n"
     ]
    },
    {
     "name": "stderr",
     "output_type": "stream",
     "text": [
      "/Library/Frameworks/Python.framework/Versions/3.11/lib/python3.11/site-packages/sklearn/ensemble/_forest.py:427: FutureWarning: `max_features='auto'` has been deprecated in 1.1 and will be removed in 1.3. To keep the past behaviour, explicitly set `max_features='sqrt'` or remove this parameter as it is also the default value for RandomForestClassifiers and ExtraTreesClassifiers.\n",
      "  warn(\n"
     ]
    },
    {
     "name": "stdout",
     "output_type": "stream",
     "text": [
      "[CV] END criterion=entropy, max_depth=600, max_features=sqrt, min_samples_leaf=9, min_samples_split=6, n_estimators=900; total time=   6.5s\n",
      "[CV] END criterion=entropy, max_depth=600, max_features=sqrt, min_samples_leaf=9, min_samples_split=6, n_estimators=900; total time=   6.6s\n",
      "[CV] END criterion=entropy, max_depth=900, max_features=auto, min_samples_leaf=9, min_samples_split=1, n_estimators=800; total time=   1.7s\n",
      "[CV] END criterion=gini, max_depth=300, max_features=auto, min_samples_leaf=7, min_samples_split=7, n_estimators=200; total time=   1.7s\n",
      "[CV] END criterion=gini, max_depth=300, max_features=auto, min_samples_leaf=7, min_samples_split=7, n_estimators=200; total time=   1.7s\n",
      "[CV] END criterion=gini, max_depth=300, max_features=auto, min_samples_leaf=7, min_samples_split=7, n_estimators=200; total time=   1.7s\n",
      "[CV] END criterion=gini, max_depth=300, max_features=auto, min_samples_leaf=7, min_samples_split=7, n_estimators=200; total time=   1.8s\n",
      "[CV] END criterion=gini, max_depth=300, max_features=auto, min_samples_leaf=7, min_samples_split=7, n_estimators=200; total time=   1.8s\n",
      "[CV] END criterion=gini, max_depth=200, max_features=sqrt, min_samples_leaf=7, min_samples_split=1, n_estimators=1000; total time=   2.0s\n",
      "[CV] END criterion=gini, max_depth=200, max_features=sqrt, min_samples_leaf=7, min_samples_split=1, n_estimators=1000; total time=   2.0s\n",
      "[CV] END criterion=gini, max_depth=200, max_features=sqrt, min_samples_leaf=7, min_samples_split=1, n_estimators=1000; total time=   1.9s\n"
     ]
    },
    {
     "name": "stderr",
     "output_type": "stream",
     "text": [
      "/Library/Frameworks/Python.framework/Versions/3.11/lib/python3.11/site-packages/sklearn/ensemble/_forest.py:427: FutureWarning: `max_features='auto'` has been deprecated in 1.1 and will be removed in 1.3. To keep the past behaviour, explicitly set `max_features='sqrt'` or remove this parameter as it is also the default value for RandomForestClassifiers and ExtraTreesClassifiers.\n",
      "  warn(\n"
     ]
    },
    {
     "name": "stdout",
     "output_type": "stream",
     "text": [
      "[CV] END criterion=gini, max_depth=200, max_features=sqrt, min_samples_leaf=7, min_samples_split=1, n_estimators=1000; total time=   1.4s\n"
     ]
    },
    {
     "name": "stderr",
     "output_type": "stream",
     "text": [
      "/Library/Frameworks/Python.framework/Versions/3.11/lib/python3.11/site-packages/sklearn/ensemble/_forest.py:427: FutureWarning: `max_features='auto'` has been deprecated in 1.1 and will be removed in 1.3. To keep the past behaviour, explicitly set `max_features='sqrt'` or remove this parameter as it is also the default value for RandomForestClassifiers and ExtraTreesClassifiers.\n",
      "  warn(\n"
     ]
    },
    {
     "name": "stdout",
     "output_type": "stream",
     "text": [
      "[CV] END criterion=gini, max_depth=200, max_features=sqrt, min_samples_leaf=7, min_samples_split=1, n_estimators=1000; total time=   1.6s\n"
     ]
    },
    {
     "name": "stderr",
     "output_type": "stream",
     "text": [
      "/Library/Frameworks/Python.framework/Versions/3.11/lib/python3.11/site-packages/sklearn/ensemble/_forest.py:427: FutureWarning: `max_features='auto'` has been deprecated in 1.1 and will be removed in 1.3. To keep the past behaviour, explicitly set `max_features='sqrt'` or remove this parameter as it is also the default value for RandomForestClassifiers and ExtraTreesClassifiers.\n",
      "  warn(\n"
     ]
    },
    {
     "name": "stdout",
     "output_type": "stream",
     "text": [
      "[CV] END criterion=gini, max_depth=1000, max_features=auto, min_samples_leaf=6, min_samples_split=1, n_estimators=1000; total time=   1.9s\n"
     ]
    },
    {
     "name": "stderr",
     "output_type": "stream",
     "text": [
      "/Library/Frameworks/Python.framework/Versions/3.11/lib/python3.11/site-packages/sklearn/ensemble/_forest.py:427: FutureWarning: `max_features='auto'` has been deprecated in 1.1 and will be removed in 1.3. To keep the past behaviour, explicitly set `max_features='sqrt'` or remove this parameter as it is also the default value for RandomForestClassifiers and ExtraTreesClassifiers.\n",
      "  warn(\n"
     ]
    },
    {
     "name": "stdout",
     "output_type": "stream",
     "text": [
      "[CV] END criterion=entropy, max_depth=300, max_features=log2, min_samples_leaf=6, min_samples_split=8, n_estimators=700; total time=   7.0s\n",
      "[CV] END criterion=entropy, max_depth=300, max_features=log2, min_samples_leaf=6, min_samples_split=8, n_estimators=700; total time=   7.1s\n",
      "[CV] END criterion=gini, max_depth=1000, max_features=auto, min_samples_leaf=6, min_samples_split=1, n_estimators=1000; total time=   2.7s\n",
      "[CV] END criterion=entropy, max_depth=300, max_features=log2, min_samples_leaf=6, min_samples_split=8, n_estimators=700; total time=   7.2s\n"
     ]
    },
    {
     "name": "stderr",
     "output_type": "stream",
     "text": [
      "/Library/Frameworks/Python.framework/Versions/3.11/lib/python3.11/site-packages/sklearn/ensemble/_forest.py:427: FutureWarning: `max_features='auto'` has been deprecated in 1.1 and will be removed in 1.3. To keep the past behaviour, explicitly set `max_features='sqrt'` or remove this parameter as it is also the default value for RandomForestClassifiers and ExtraTreesClassifiers.\n",
      "  warn(\n"
     ]
    },
    {
     "name": "stdout",
     "output_type": "stream",
     "text": [
      "[CV] END criterion=gini, max_depth=1000, max_features=auto, min_samples_leaf=6, min_samples_split=1, n_estimators=1000; total time=   2.6s\n",
      "[CV] END criterion=gini, max_depth=1000, max_features=auto, min_samples_leaf=6, min_samples_split=1, n_estimators=1000; total time=   2.9s\n",
      "[CV] END criterion=entropy, max_depth=300, max_features=log2, min_samples_leaf=6, min_samples_split=8, n_estimators=700; total time=   7.3s\n",
      "[CV] END criterion=entropy, max_depth=300, max_features=log2, min_samples_leaf=6, min_samples_split=8, n_estimators=700; total time=   7.4s\n"
     ]
    },
    {
     "name": "stderr",
     "output_type": "stream",
     "text": [
      "/Library/Frameworks/Python.framework/Versions/3.11/lib/python3.11/site-packages/sklearn/ensemble/_forest.py:427: FutureWarning: `max_features='auto'` has been deprecated in 1.1 and will be removed in 1.3. To keep the past behaviour, explicitly set `max_features='sqrt'` or remove this parameter as it is also the default value for RandomForestClassifiers and ExtraTreesClassifiers.\n",
      "  warn(\n",
      "/Library/Frameworks/Python.framework/Versions/3.11/lib/python3.11/site-packages/sklearn/ensemble/_forest.py:427: FutureWarning: `max_features='auto'` has been deprecated in 1.1 and will be removed in 1.3. To keep the past behaviour, explicitly set `max_features='sqrt'` or remove this parameter as it is also the default value for RandomForestClassifiers and ExtraTreesClassifiers.\n",
      "  warn(\n"
     ]
    },
    {
     "name": "stdout",
     "output_type": "stream",
     "text": [
      "[CV] END criterion=gini, max_depth=1000, max_features=auto, min_samples_leaf=6, min_samples_split=1, n_estimators=1000; total time=   2.8s\n"
     ]
    },
    {
     "name": "stderr",
     "output_type": "stream",
     "text": [
      "/Library/Frameworks/Python.framework/Versions/3.11/lib/python3.11/site-packages/sklearn/ensemble/_forest.py:427: FutureWarning: `max_features='auto'` has been deprecated in 1.1 and will be removed in 1.3. To keep the past behaviour, explicitly set `max_features='sqrt'` or remove this parameter as it is also the default value for RandomForestClassifiers and ExtraTreesClassifiers.\n",
      "  warn(\n"
     ]
    },
    {
     "name": "stdout",
     "output_type": "stream",
     "text": [
      "[CV] END criterion=gini, max_depth=1000, max_features=auto, min_samples_leaf=7, min_samples_split=8, n_estimators=600; total time=   6.0s\n",
      "[CV] END criterion=gini, max_depth=1000, max_features=auto, min_samples_leaf=7, min_samples_split=8, n_estimators=600; total time=   6.0s\n"
     ]
    },
    {
     "name": "stderr",
     "output_type": "stream",
     "text": [
      "/Library/Frameworks/Python.framework/Versions/3.11/lib/python3.11/site-packages/sklearn/ensemble/_forest.py:427: FutureWarning: `max_features='auto'` has been deprecated in 1.1 and will be removed in 1.3. To keep the past behaviour, explicitly set `max_features='sqrt'` or remove this parameter as it is also the default value for RandomForestClassifiers and ExtraTreesClassifiers.\n",
      "  warn(\n",
      "/Library/Frameworks/Python.framework/Versions/3.11/lib/python3.11/site-packages/sklearn/ensemble/_forest.py:427: FutureWarning: `max_features='auto'` has been deprecated in 1.1 and will be removed in 1.3. To keep the past behaviour, explicitly set `max_features='sqrt'` or remove this parameter as it is also the default value for RandomForestClassifiers and ExtraTreesClassifiers.\n",
      "  warn(\n"
     ]
    },
    {
     "name": "stdout",
     "output_type": "stream",
     "text": [
      "[CV] END criterion=gini, max_depth=1000, max_features=auto, min_samples_leaf=7, min_samples_split=8, n_estimators=600; total time=   5.4s\n",
      "[CV] END criterion=entropy, max_depth=900, max_features=sqrt, min_samples_leaf=3, min_samples_split=7, n_estimators=100; total time=   0.8s\n",
      "[CV] END criterion=entropy, max_depth=200, max_features=log2, min_samples_leaf=9, min_samples_split=7, n_estimators=900; total time=   9.2s\n",
      "[CV] END criterion=entropy, max_depth=200, max_features=log2, min_samples_leaf=9, min_samples_split=7, n_estimators=900; total time=   9.3s\n",
      "[CV] END criterion=entropy, max_depth=200, max_features=log2, min_samples_leaf=9, min_samples_split=7, n_estimators=900; total time=   9.2s\n",
      "[CV] END criterion=entropy, max_depth=200, max_features=log2, min_samples_leaf=9, min_samples_split=7, n_estimators=900; total time=   9.1s\n",
      "[CV] END criterion=entropy, max_depth=200, max_features=log2, min_samples_leaf=9, min_samples_split=7, n_estimators=900; total time=   8.7s\n",
      "[CV] END criterion=entropy, max_depth=900, max_features=sqrt, min_samples_leaf=3, min_samples_split=7, n_estimators=100; total time=   0.9s\n",
      "[CV] END criterion=entropy, max_depth=900, max_features=sqrt, min_samples_leaf=3, min_samples_split=7, n_estimators=100; total time=   0.8s\n",
      "[CV] END criterion=entropy, max_depth=900, max_features=sqrt, min_samples_leaf=3, min_samples_split=7, n_estimators=100; total time=   0.8s\n",
      "[CV] END criterion=gini, max_depth=400, max_features=log2, min_samples_leaf=4, min_samples_split=3, n_estimators=100; total time=   0.8s\n",
      "[CV] END criterion=entropy, max_depth=900, max_features=sqrt, min_samples_leaf=3, min_samples_split=7, n_estimators=100; total time=   0.8s\n",
      "[CV] END criterion=gini, max_depth=400, max_features=log2, min_samples_leaf=4, min_samples_split=3, n_estimators=100; total time=   0.8s\n",
      "[CV] END criterion=gini, max_depth=400, max_features=log2, min_samples_leaf=4, min_samples_split=3, n_estimators=100; total time=   0.8s\n",
      "[CV] END criterion=gini, max_depth=400, max_features=log2, min_samples_leaf=4, min_samples_split=3, n_estimators=100; total time=   0.8s\n",
      "[CV] END criterion=gini, max_depth=400, max_features=log2, min_samples_leaf=4, min_samples_split=3, n_estimators=100; total time=   0.8s\n"
     ]
    },
    {
     "name": "stderr",
     "output_type": "stream",
     "text": [
      "/Library/Frameworks/Python.framework/Versions/3.11/lib/python3.11/site-packages/sklearn/ensemble/_forest.py:427: FutureWarning: `max_features='auto'` has been deprecated in 1.1 and will be removed in 1.3. To keep the past behaviour, explicitly set `max_features='sqrt'` or remove this parameter as it is also the default value for RandomForestClassifiers and ExtraTreesClassifiers.\n",
      "  warn(\n"
     ]
    },
    {
     "name": "stdout",
     "output_type": "stream",
     "text": [
      "[CV] END criterion=entropy, max_depth=1000, max_features=log2, min_samples_leaf=4, min_samples_split=1, n_estimators=900; total time=   1.3s\n",
      "[CV] END criterion=gini, max_depth=1000, max_features=auto, min_samples_leaf=7, min_samples_split=8, n_estimators=600; total time=   4.3s\n"
     ]
    },
    {
     "name": "stderr",
     "output_type": "stream",
     "text": [
      "/Library/Frameworks/Python.framework/Versions/3.11/lib/python3.11/site-packages/sklearn/ensemble/_forest.py:427: FutureWarning: `max_features='auto'` has been deprecated in 1.1 and will be removed in 1.3. To keep the past behaviour, explicitly set `max_features='sqrt'` or remove this parameter as it is also the default value for RandomForestClassifiers and ExtraTreesClassifiers.\n",
      "  warn(\n",
      "/Library/Frameworks/Python.framework/Versions/3.11/lib/python3.11/site-packages/sklearn/ensemble/_forest.py:427: FutureWarning: `max_features='auto'` has been deprecated in 1.1 and will be removed in 1.3. To keep the past behaviour, explicitly set `max_features='sqrt'` or remove this parameter as it is also the default value for RandomForestClassifiers and ExtraTreesClassifiers.\n",
      "  warn(\n"
     ]
    },
    {
     "name": "stdout",
     "output_type": "stream",
     "text": [
      "[CV] END criterion=entropy, max_depth=1000, max_features=log2, min_samples_leaf=4, min_samples_split=1, n_estimators=900; total time=   1.5s\n",
      "[CV] END criterion=gini, max_depth=1000, max_features=auto, min_samples_leaf=7, min_samples_split=8, n_estimators=600; total time=   4.4s\n",
      "[CV] END criterion=entropy, max_depth=1000, max_features=log2, min_samples_leaf=4, min_samples_split=1, n_estimators=900; total time=   1.3s\n"
     ]
    },
    {
     "name": "stderr",
     "output_type": "stream",
     "text": [
      "/Library/Frameworks/Python.framework/Versions/3.11/lib/python3.11/site-packages/sklearn/ensemble/_forest.py:427: FutureWarning: `max_features='auto'` has been deprecated in 1.1 and will be removed in 1.3. To keep the past behaviour, explicitly set `max_features='sqrt'` or remove this parameter as it is also the default value for RandomForestClassifiers and ExtraTreesClassifiers.\n",
      "  warn(\n",
      "/Library/Frameworks/Python.framework/Versions/3.11/lib/python3.11/site-packages/sklearn/ensemble/_forest.py:427: FutureWarning: `max_features='auto'` has been deprecated in 1.1 and will be removed in 1.3. To keep the past behaviour, explicitly set `max_features='sqrt'` or remove this parameter as it is also the default value for RandomForestClassifiers and ExtraTreesClassifiers.\n",
      "  warn(\n"
     ]
    },
    {
     "name": "stdout",
     "output_type": "stream",
     "text": [
      "[CV] END criterion=entropy, max_depth=1000, max_features=log2, min_samples_leaf=4, min_samples_split=1, n_estimators=900; total time=   1.2s\n",
      "[CV] END criterion=entropy, max_depth=1000, max_features=log2, min_samples_leaf=4, min_samples_split=1, n_estimators=900; total time=   1.3s\n",
      "[CV] END criterion=gini, max_depth=100, max_features=auto, min_samples_leaf=3, min_samples_split=8, n_estimators=500; total time=   5.4s\n",
      "[CV] END criterion=gini, max_depth=400, max_features=sqrt, min_samples_leaf=7, min_samples_split=8, n_estimators=400; total time=   4.5s\n",
      "[CV] END criterion=gini, max_depth=400, max_features=sqrt, min_samples_leaf=7, min_samples_split=8, n_estimators=400; total time=   4.6s\n",
      "[CV] END criterion=gini, max_depth=400, max_features=sqrt, min_samples_leaf=7, min_samples_split=8, n_estimators=400; total time=   4.6s\n",
      "[CV] END criterion=gini, max_depth=100, max_features=auto, min_samples_leaf=3, min_samples_split=8, n_estimators=500; total time=   5.6s\n",
      "[CV] END criterion=gini, max_depth=100, max_features=auto, min_samples_leaf=3, min_samples_split=8, n_estimators=500; total time=   5.6s\n",
      "[CV] END criterion=gini, max_depth=300, max_features=log2, min_samples_leaf=4, min_samples_split=1, n_estimators=300; total time=   0.6s\n",
      "[CV] END criterion=gini, max_depth=300, max_features=log2, min_samples_leaf=4, min_samples_split=1, n_estimators=300; total time=   0.7s\n",
      "[CV] END criterion=gini, max_depth=100, max_features=auto, min_samples_leaf=3, min_samples_split=8, n_estimators=500; total time=   5.8s\n",
      "[CV] END criterion=gini, max_depth=100, max_features=auto, min_samples_leaf=3, min_samples_split=8, n_estimators=500; total time=   5.8s\n",
      "[CV] END criterion=gini, max_depth=300, max_features=log2, min_samples_leaf=4, min_samples_split=1, n_estimators=300; total time=   0.7s\n",
      "[CV] END criterion=gini, max_depth=300, max_features=log2, min_samples_leaf=4, min_samples_split=1, n_estimators=300; total time=   0.8s\n",
      "[CV] END criterion=gini, max_depth=300, max_features=log2, min_samples_leaf=4, min_samples_split=1, n_estimators=300; total time=   0.8s\n"
     ]
    },
    {
     "name": "stderr",
     "output_type": "stream",
     "text": [
      "/Library/Frameworks/Python.framework/Versions/3.11/lib/python3.11/site-packages/sklearn/ensemble/_forest.py:427: FutureWarning: `max_features='auto'` has been deprecated in 1.1 and will be removed in 1.3. To keep the past behaviour, explicitly set `max_features='sqrt'` or remove this parameter as it is also the default value for RandomForestClassifiers and ExtraTreesClassifiers.\n",
      "  warn(\n"
     ]
    },
    {
     "name": "stdout",
     "output_type": "stream",
     "text": [
      "[CV] END criterion=entropy, max_depth=400, max_features=log2, min_samples_leaf=4, min_samples_split=3, n_estimators=200; total time=   2.6s\n",
      "[CV] END criterion=entropy, max_depth=400, max_features=log2, min_samples_leaf=4, min_samples_split=3, n_estimators=200; total time=   2.6s\n",
      "[CV] END criterion=entropy, max_depth=400, max_features=log2, min_samples_leaf=4, min_samples_split=3, n_estimators=200; total time=   2.6s\n"
     ]
    },
    {
     "name": "stderr",
     "output_type": "stream",
     "text": [
      "/Library/Frameworks/Python.framework/Versions/3.11/lib/python3.11/site-packages/sklearn/ensemble/_forest.py:427: FutureWarning: `max_features='auto'` has been deprecated in 1.1 and will be removed in 1.3. To keep the past behaviour, explicitly set `max_features='sqrt'` or remove this parameter as it is also the default value for RandomForestClassifiers and ExtraTreesClassifiers.\n",
      "  warn(\n",
      "/Library/Frameworks/Python.framework/Versions/3.11/lib/python3.11/site-packages/sklearn/ensemble/_forest.py:427: FutureWarning: `max_features='auto'` has been deprecated in 1.1 and will be removed in 1.3. To keep the past behaviour, explicitly set `max_features='sqrt'` or remove this parameter as it is also the default value for RandomForestClassifiers and ExtraTreesClassifiers.\n",
      "  warn(\n",
      "/Library/Frameworks/Python.framework/Versions/3.11/lib/python3.11/site-packages/sklearn/ensemble/_forest.py:427: FutureWarning: `max_features='auto'` has been deprecated in 1.1 and will be removed in 1.3. To keep the past behaviour, explicitly set `max_features='sqrt'` or remove this parameter as it is also the default value for RandomForestClassifiers and ExtraTreesClassifiers.\n",
      "  warn(\n"
     ]
    },
    {
     "name": "stdout",
     "output_type": "stream",
     "text": [
      "[CV] END criterion=entropy, max_depth=400, max_features=log2, min_samples_leaf=4, min_samples_split=3, n_estimators=200; total time=   2.6s\n",
      "[CV] END criterion=entropy, max_depth=400, max_features=log2, min_samples_leaf=4, min_samples_split=3, n_estimators=200; total time=   2.5s\n",
      "[CV] END criterion=gini, max_depth=400, max_features=sqrt, min_samples_leaf=7, min_samples_split=8, n_estimators=400; total time=   4.2s\n",
      "[CV] END criterion=gini, max_depth=400, max_features=sqrt, min_samples_leaf=7, min_samples_split=8, n_estimators=400; total time=   4.3s\n"
     ]
    },
    {
     "name": "stderr",
     "output_type": "stream",
     "text": [
      "/Library/Frameworks/Python.framework/Versions/3.11/lib/python3.11/site-packages/sklearn/ensemble/_forest.py:427: FutureWarning: `max_features='auto'` has been deprecated in 1.1 and will be removed in 1.3. To keep the past behaviour, explicitly set `max_features='sqrt'` or remove this parameter as it is also the default value for RandomForestClassifiers and ExtraTreesClassifiers.\n",
      "  warn(\n"
     ]
    },
    {
     "name": "stdout",
     "output_type": "stream",
     "text": [
      "[CV] END criterion=entropy, max_depth=100, max_features=auto, min_samples_leaf=3, min_samples_split=3, n_estimators=300; total time=   3.6s\n",
      "[CV] END criterion=entropy, max_depth=100, max_features=auto, min_samples_leaf=3, min_samples_split=3, n_estimators=300; total time=   3.6s\n",
      "[CV] END criterion=entropy, max_depth=100, max_features=auto, min_samples_leaf=3, min_samples_split=3, n_estimators=300; total time=   3.7s\n",
      "[CV] END criterion=entropy, max_depth=100, max_features=auto, min_samples_leaf=3, min_samples_split=3, n_estimators=300; total time=   3.6s\n",
      "[CV] END criterion=entropy, max_depth=100, max_features=auto, min_samples_leaf=3, min_samples_split=3, n_estimators=300; total time=   3.8s\n",
      "[CV] END criterion=gini, max_depth=800, max_features=log2, min_samples_leaf=9, min_samples_split=6, n_estimators=700; total time=   8.1s\n",
      "[CV] END criterion=gini, max_depth=800, max_features=log2, min_samples_leaf=9, min_samples_split=6, n_estimators=700; total time=   8.1s\n",
      "[CV] END criterion=gini, max_depth=800, max_features=log2, min_samples_leaf=9, min_samples_split=6, n_estimators=700; total time=   8.3s\n",
      "[CV] END criterion=gini, max_depth=800, max_features=log2, min_samples_leaf=9, min_samples_split=6, n_estimators=700; total time=   8.5s\n",
      "[CV] END criterion=entropy, max_depth=300, max_features=log2, min_samples_leaf=4, min_samples_split=7, n_estimators=100; total time=   1.6s\n",
      "[CV] END criterion=entropy, max_depth=400, max_features=sqrt, min_samples_leaf=3, min_samples_split=7, n_estimators=500; total time=   7.3s\n",
      "[CV] END criterion=entropy, max_depth=400, max_features=sqrt, min_samples_leaf=3, min_samples_split=7, n_estimators=500; total time=   7.3s\n",
      "[CV] END criterion=entropy, max_depth=400, max_features=sqrt, min_samples_leaf=3, min_samples_split=7, n_estimators=500; total time=   7.2s\n",
      "[CV] END criterion=gini, max_depth=1000, max_features=log2, min_samples_leaf=6, min_samples_split=1, n_estimators=100; total time=   0.3s\n",
      "[CV] END criterion=gini, max_depth=1000, max_features=log2, min_samples_leaf=6, min_samples_split=1, n_estimators=100; total time=   0.3s\n",
      "[CV] END criterion=entropy, max_depth=300, max_features=log2, min_samples_leaf=4, min_samples_split=7, n_estimators=100; total time=   1.9s\n",
      "[CV] END criterion=gini, max_depth=1000, max_features=log2, min_samples_leaf=6, min_samples_split=1, n_estimators=100; total time=   0.3s\n",
      "[CV] END criterion=entropy, max_depth=300, max_features=log2, min_samples_leaf=4, min_samples_split=7, n_estimators=100; total time=   1.7s\n"
     ]
    },
    {
     "name": "stderr",
     "output_type": "stream",
     "text": [
      "/Library/Frameworks/Python.framework/Versions/3.11/lib/python3.11/site-packages/sklearn/ensemble/_forest.py:427: FutureWarning: `max_features='auto'` has been deprecated in 1.1 and will be removed in 1.3. To keep the past behaviour, explicitly set `max_features='sqrt'` or remove this parameter as it is also the default value for RandomForestClassifiers and ExtraTreesClassifiers.\n",
      "  warn(\n",
      "/Library/Frameworks/Python.framework/Versions/3.11/lib/python3.11/site-packages/sklearn/ensemble/_forest.py:427: FutureWarning: `max_features='auto'` has been deprecated in 1.1 and will be removed in 1.3. To keep the past behaviour, explicitly set `max_features='sqrt'` or remove this parameter as it is also the default value for RandomForestClassifiers and ExtraTreesClassifiers.\n",
      "  warn(\n"
     ]
    },
    {
     "name": "stdout",
     "output_type": "stream",
     "text": [
      "[CV] END criterion=gini, max_depth=1000, max_features=log2, min_samples_leaf=6, min_samples_split=1, n_estimators=100; total time=   0.3s\n",
      "[CV] END criterion=entropy, max_depth=300, max_features=log2, min_samples_leaf=4, min_samples_split=7, n_estimators=100; total time=   1.5s\n",
      "[CV] END criterion=gini, max_depth=1000, max_features=log2, min_samples_leaf=6, min_samples_split=1, n_estimators=100; total time=   0.3s\n",
      "[CV] END criterion=entropy, max_depth=300, max_features=log2, min_samples_leaf=4, min_samples_split=7, n_estimators=100; total time=   1.5s\n"
     ]
    },
    {
     "name": "stderr",
     "output_type": "stream",
     "text": [
      "/Library/Frameworks/Python.framework/Versions/3.11/lib/python3.11/site-packages/sklearn/ensemble/_forest.py:427: FutureWarning: `max_features='auto'` has been deprecated in 1.1 and will be removed in 1.3. To keep the past behaviour, explicitly set `max_features='sqrt'` or remove this parameter as it is also the default value for RandomForestClassifiers and ExtraTreesClassifiers.\n",
      "  warn(\n",
      "/Library/Frameworks/Python.framework/Versions/3.11/lib/python3.11/site-packages/sklearn/ensemble/_forest.py:427: FutureWarning: `max_features='auto'` has been deprecated in 1.1 and will be removed in 1.3. To keep the past behaviour, explicitly set `max_features='sqrt'` or remove this parameter as it is also the default value for RandomForestClassifiers and ExtraTreesClassifiers.\n",
      "  warn(\n",
      "/Library/Frameworks/Python.framework/Versions/3.11/lib/python3.11/site-packages/sklearn/ensemble/_forest.py:427: FutureWarning: `max_features='auto'` has been deprecated in 1.1 and will be removed in 1.3. To keep the past behaviour, explicitly set `max_features='sqrt'` or remove this parameter as it is also the default value for RandomForestClassifiers and ExtraTreesClassifiers.\n",
      "  warn(\n"
     ]
    },
    {
     "name": "stdout",
     "output_type": "stream",
     "text": [
      "[CV] END criterion=gini, max_depth=800, max_features=log2, min_samples_leaf=9, min_samples_split=6, n_estimators=700; total time=   9.3s\n",
      "[CV] END criterion=entropy, max_depth=500, max_features=auto, min_samples_leaf=3, min_samples_split=7, n_estimators=100; total time=   1.6s\n",
      "[CV] END criterion=entropy, max_depth=500, max_features=auto, min_samples_leaf=3, min_samples_split=7, n_estimators=100; total time=   1.5s\n",
      "[CV] END criterion=entropy, max_depth=500, max_features=auto, min_samples_leaf=3, min_samples_split=7, n_estimators=100; total time=   1.5s\n",
      "[CV] END criterion=entropy, max_depth=500, max_features=auto, min_samples_leaf=3, min_samples_split=7, n_estimators=100; total time=   1.5s\n",
      "[CV] END criterion=entropy, max_depth=500, max_features=auto, min_samples_leaf=3, min_samples_split=7, n_estimators=100; total time=   1.5s\n",
      "[CV] END criterion=gini, max_depth=100, max_features=sqrt, min_samples_leaf=6, min_samples_split=3, n_estimators=100; total time=   1.3s\n",
      "[CV] END criterion=gini, max_depth=100, max_features=sqrt, min_samples_leaf=6, min_samples_split=3, n_estimators=100; total time=   1.4s\n",
      "[CV] END criterion=gini, max_depth=400, max_features=sqrt, min_samples_leaf=9, min_samples_split=1, n_estimators=400; total time=   1.2s\n",
      "[CV] END criterion=gini, max_depth=400, max_features=sqrt, min_samples_leaf=9, min_samples_split=1, n_estimators=400; total time=   1.2s\n",
      "[CV] END criterion=gini, max_depth=100, max_features=sqrt, min_samples_leaf=6, min_samples_split=3, n_estimators=100; total time=   1.4s\n"
     ]
    },
    {
     "name": "stderr",
     "output_type": "stream",
     "text": [
      "/Library/Frameworks/Python.framework/Versions/3.11/lib/python3.11/site-packages/sklearn/ensemble/_forest.py:427: FutureWarning: `max_features='auto'` has been deprecated in 1.1 and will be removed in 1.3. To keep the past behaviour, explicitly set `max_features='sqrt'` or remove this parameter as it is also the default value for RandomForestClassifiers and ExtraTreesClassifiers.\n",
      "  warn(\n",
      "/Library/Frameworks/Python.framework/Versions/3.11/lib/python3.11/site-packages/sklearn/ensemble/_forest.py:427: FutureWarning: `max_features='auto'` has been deprecated in 1.1 and will be removed in 1.3. To keep the past behaviour, explicitly set `max_features='sqrt'` or remove this parameter as it is also the default value for RandomForestClassifiers and ExtraTreesClassifiers.\n",
      "  warn(\n",
      "/Library/Frameworks/Python.framework/Versions/3.11/lib/python3.11/site-packages/sklearn/ensemble/_forest.py:427: FutureWarning: `max_features='auto'` has been deprecated in 1.1 and will be removed in 1.3. To keep the past behaviour, explicitly set `max_features='sqrt'` or remove this parameter as it is also the default value for RandomForestClassifiers and ExtraTreesClassifiers.\n",
      "  warn(\n"
     ]
    },
    {
     "name": "stdout",
     "output_type": "stream",
     "text": [
      "[CV] END criterion=gini, max_depth=100, max_features=sqrt, min_samples_leaf=6, min_samples_split=3, n_estimators=100; total time=   1.4s\n",
      "[CV] END criterion=gini, max_depth=100, max_features=sqrt, min_samples_leaf=6, min_samples_split=3, n_estimators=100; total time=   1.5s\n",
      "[CV] END criterion=entropy, max_depth=400, max_features=sqrt, min_samples_leaf=3, min_samples_split=7, n_estimators=500; total time=   7.8s\n",
      "[CV] END criterion=gini, max_depth=400, max_features=sqrt, min_samples_leaf=9, min_samples_split=1, n_estimators=400; total time=   1.4s\n",
      "[CV] END criterion=entropy, max_depth=400, max_features=sqrt, min_samples_leaf=3, min_samples_split=7, n_estimators=500; total time=   8.0s\n",
      "[CV] END criterion=gini, max_depth=400, max_features=sqrt, min_samples_leaf=9, min_samples_split=1, n_estimators=400; total time=   1.4s\n",
      "[CV] END criterion=gini, max_depth=400, max_features=sqrt, min_samples_leaf=9, min_samples_split=1, n_estimators=400; total time=   1.4s\n"
     ]
    },
    {
     "name": "stderr",
     "output_type": "stream",
     "text": [
      "/Library/Frameworks/Python.framework/Versions/3.11/lib/python3.11/site-packages/sklearn/ensemble/_forest.py:427: FutureWarning: `max_features='auto'` has been deprecated in 1.1 and will be removed in 1.3. To keep the past behaviour, explicitly set `max_features='sqrt'` or remove this parameter as it is also the default value for RandomForestClassifiers and ExtraTreesClassifiers.\n",
      "  warn(\n",
      "/Library/Frameworks/Python.framework/Versions/3.11/lib/python3.11/site-packages/sklearn/ensemble/_forest.py:427: FutureWarning: `max_features='auto'` has been deprecated in 1.1 and will be removed in 1.3. To keep the past behaviour, explicitly set `max_features='sqrt'` or remove this parameter as it is also the default value for RandomForestClassifiers and ExtraTreesClassifiers.\n",
      "  warn(\n"
     ]
    },
    {
     "name": "stdout",
     "output_type": "stream",
     "text": [
      "[CV] END criterion=entropy, max_depth=400, max_features=log2, min_samples_leaf=6, min_samples_split=6, n_estimators=500; total time=  16.4s\n",
      "[CV] END criterion=entropy, max_depth=400, max_features=log2, min_samples_leaf=6, min_samples_split=6, n_estimators=500; total time=  16.4s\n",
      "[CV] END criterion=entropy, max_depth=400, max_features=log2, min_samples_leaf=6, min_samples_split=6, n_estimators=500; total time=  17.1s\n",
      "[CV] END criterion=gini, max_depth=200, max_features=log2, min_samples_leaf=3, min_samples_split=6, n_estimators=100; total time=   5.9s\n",
      "[CV] END criterion=gini, max_depth=200, max_features=log2, min_samples_leaf=3, min_samples_split=6, n_estimators=100; total time=   6.0s\n",
      "[CV] END criterion=gini, max_depth=200, max_features=log2, min_samples_leaf=3, min_samples_split=6, n_estimators=100; total time=   5.2s\n",
      "[CV] END criterion=gini, max_depth=500, max_features=auto, min_samples_leaf=4, min_samples_split=3, n_estimators=1000; total time=  37.6s\n",
      "[CV] END criterion=gini, max_depth=500, max_features=auto, min_samples_leaf=4, min_samples_split=3, n_estimators=1000; total time=  37.7s\n",
      "[CV] END criterion=gini, max_depth=500, max_features=auto, min_samples_leaf=4, min_samples_split=3, n_estimators=1000; total time=  37.9s\n",
      "[CV] END criterion=gini, max_depth=200, max_features=log2, min_samples_leaf=3, min_samples_split=6, n_estimators=100; total time=   3.7s\n",
      "[CV] END criterion=gini, max_depth=500, max_features=auto, min_samples_leaf=4, min_samples_split=3, n_estimators=1000; total time=  39.0s\n",
      "[CV] END criterion=gini, max_depth=500, max_features=auto, min_samples_leaf=4, min_samples_split=3, n_estimators=1000; total time=  40.4s\n",
      "[CV] END criterion=gini, max_depth=200, max_features=log2, min_samples_leaf=3, min_samples_split=6, n_estimators=100; total time=   4.3s\n",
      "[CV] END criterion=entropy, max_depth=400, max_features=log2, min_samples_leaf=6, min_samples_split=6, n_estimators=500; total time=  26.6s\n",
      "[CV] END criterion=entropy, max_depth=400, max_features=log2, min_samples_leaf=6, min_samples_split=6, n_estimators=500; total time=  26.7s\n",
      "[CV] END criterion=entropy, max_depth=500, max_features=sqrt, min_samples_leaf=7, min_samples_split=1, n_estimators=300; total time=   2.7s\n",
      "[CV] END criterion=entropy, max_depth=500, max_features=sqrt, min_samples_leaf=7, min_samples_split=1, n_estimators=300; total time=   2.7s\n",
      "[CV] END criterion=entropy, max_depth=500, max_features=sqrt, min_samples_leaf=7, min_samples_split=1, n_estimators=300; total time=   2.6s\n",
      "[CV] END criterion=entropy, max_depth=500, max_features=sqrt, min_samples_leaf=7, min_samples_split=1, n_estimators=300; total time=   2.7s\n",
      "[CV] END criterion=entropy, max_depth=500, max_features=sqrt, min_samples_leaf=7, min_samples_split=1, n_estimators=300; total time=   2.2s\n",
      "[CV] END criterion=gini, max_depth=400, max_features=sqrt, min_samples_leaf=6, min_samples_split=8, n_estimators=600; total time=  24.8s\n",
      "[CV] END criterion=gini, max_depth=400, max_features=sqrt, min_samples_leaf=6, min_samples_split=8, n_estimators=600; total time=  24.8s\n",
      "[CV] END criterion=gini, max_depth=400, max_features=sqrt, min_samples_leaf=6, min_samples_split=8, n_estimators=600; total time=  24.5s\n"
     ]
    },
    {
     "name": "stderr",
     "output_type": "stream",
     "text": [
      "/Library/Frameworks/Python.framework/Versions/3.11/lib/python3.11/site-packages/sklearn/ensemble/_forest.py:427: FutureWarning: `max_features='auto'` has been deprecated in 1.1 and will be removed in 1.3. To keep the past behaviour, explicitly set `max_features='sqrt'` or remove this parameter as it is also the default value for RandomForestClassifiers and ExtraTreesClassifiers.\n",
      "  warn(\n"
     ]
    },
    {
     "name": "stdout",
     "output_type": "stream",
     "text": [
      "[CV] END criterion=gini, max_depth=400, max_features=sqrt, min_samples_leaf=6, min_samples_split=8, n_estimators=600; total time=  23.8s\n"
     ]
    },
    {
     "name": "stderr",
     "output_type": "stream",
     "text": [
      "/Library/Frameworks/Python.framework/Versions/3.11/lib/python3.11/site-packages/sklearn/ensemble/_forest.py:427: FutureWarning: `max_features='auto'` has been deprecated in 1.1 and will be removed in 1.3. To keep the past behaviour, explicitly set `max_features='sqrt'` or remove this parameter as it is also the default value for RandomForestClassifiers and ExtraTreesClassifiers.\n",
      "  warn(\n"
     ]
    },
    {
     "name": "stdout",
     "output_type": "stream",
     "text": [
      "[CV] END criterion=gini, max_depth=400, max_features=sqrt, min_samples_leaf=6, min_samples_split=8, n_estimators=600; total time=  23.2s\n"
     ]
    },
    {
     "name": "stderr",
     "output_type": "stream",
     "text": [
      "/Library/Frameworks/Python.framework/Versions/3.11/lib/python3.11/site-packages/sklearn/ensemble/_forest.py:427: FutureWarning: `max_features='auto'` has been deprecated in 1.1 and will be removed in 1.3. To keep the past behaviour, explicitly set `max_features='sqrt'` or remove this parameter as it is also the default value for RandomForestClassifiers and ExtraTreesClassifiers.\n",
      "  warn(\n"
     ]
    },
    {
     "name": "stdout",
     "output_type": "stream",
     "text": [
      "[CV] END criterion=entropy, max_depth=300, max_features=log2, min_samples_leaf=9, min_samples_split=7, n_estimators=1000; total time=  29.7s\n",
      "[CV] END criterion=entropy, max_depth=300, max_features=log2, min_samples_leaf=9, min_samples_split=7, n_estimators=1000; total time=  29.9s\n"
     ]
    },
    {
     "name": "stderr",
     "output_type": "stream",
     "text": [
      "/Library/Frameworks/Python.framework/Versions/3.11/lib/python3.11/site-packages/sklearn/ensemble/_forest.py:427: FutureWarning: `max_features='auto'` has been deprecated in 1.1 and will be removed in 1.3. To keep the past behaviour, explicitly set `max_features='sqrt'` or remove this parameter as it is also the default value for RandomForestClassifiers and ExtraTreesClassifiers.\n",
      "  warn(\n",
      "/Library/Frameworks/Python.framework/Versions/3.11/lib/python3.11/site-packages/sklearn/ensemble/_forest.py:427: FutureWarning: `max_features='auto'` has been deprecated in 1.1 and will be removed in 1.3. To keep the past behaviour, explicitly set `max_features='sqrt'` or remove this parameter as it is also the default value for RandomForestClassifiers and ExtraTreesClassifiers.\n",
      "  warn(\n"
     ]
    },
    {
     "name": "stdout",
     "output_type": "stream",
     "text": [
      "[CV] END criterion=entropy, max_depth=300, max_features=log2, min_samples_leaf=9, min_samples_split=7, n_estimators=1000; total time=  28.8s\n",
      "[CV] END criterion=gini, max_depth=1000, max_features=auto, min_samples_leaf=3, min_samples_split=3, n_estimators=900; total time=  17.2s\n",
      "[CV] END criterion=gini, max_depth=1000, max_features=auto, min_samples_leaf=3, min_samples_split=3, n_estimators=900; total time=  17.2s\n",
      "[CV] END criterion=gini, max_depth=1000, max_features=auto, min_samples_leaf=3, min_samples_split=3, n_estimators=900; total time=  17.0s\n",
      "[CV] END criterion=entropy, max_depth=300, max_features=log2, min_samples_leaf=9, min_samples_split=7, n_estimators=1000; total time=  20.0s\n",
      "[CV] END criterion=entropy, max_depth=300, max_features=log2, min_samples_leaf=9, min_samples_split=7, n_estimators=1000; total time=  20.0s\n"
     ]
    },
    {
     "name": "stderr",
     "output_type": "stream",
     "text": [
      "/Library/Frameworks/Python.framework/Versions/3.11/lib/python3.11/site-packages/sklearn/ensemble/_forest.py:427: FutureWarning: `max_features='auto'` has been deprecated in 1.1 and will be removed in 1.3. To keep the past behaviour, explicitly set `max_features='sqrt'` or remove this parameter as it is also the default value for RandomForestClassifiers and ExtraTreesClassifiers.\n",
      "  warn(\n"
     ]
    },
    {
     "name": "stdout",
     "output_type": "stream",
     "text": [
      "[CV] END criterion=gini, max_depth=700, max_features=sqrt, min_samples_leaf=6, min_samples_split=6, n_estimators=700; total time=  11.3s\n"
     ]
    },
    {
     "name": "stderr",
     "output_type": "stream",
     "text": [
      "/Library/Frameworks/Python.framework/Versions/3.11/lib/python3.11/site-packages/sklearn/ensemble/_forest.py:427: FutureWarning: `max_features='auto'` has been deprecated in 1.1 and will be removed in 1.3. To keep the past behaviour, explicitly set `max_features='sqrt'` or remove this parameter as it is also the default value for RandomForestClassifiers and ExtraTreesClassifiers.\n",
      "  warn(\n"
     ]
    },
    {
     "name": "stdout",
     "output_type": "stream",
     "text": [
      "[CV] END criterion=gini, max_depth=1000, max_features=auto, min_samples_leaf=3, min_samples_split=3, n_estimators=900; total time=  16.0s\n",
      "[CV] END criterion=gini, max_depth=1000, max_features=auto, min_samples_leaf=3, min_samples_split=3, n_estimators=900; total time=  16.2s\n"
     ]
    },
    {
     "name": "stderr",
     "output_type": "stream",
     "text": [
      "/Library/Frameworks/Python.framework/Versions/3.11/lib/python3.11/site-packages/sklearn/ensemble/_forest.py:427: FutureWarning: `max_features='auto'` has been deprecated in 1.1 and will be removed in 1.3. To keep the past behaviour, explicitly set `max_features='sqrt'` or remove this parameter as it is also the default value for RandomForestClassifiers and ExtraTreesClassifiers.\n",
      "  warn(\n",
      "/Library/Frameworks/Python.framework/Versions/3.11/lib/python3.11/site-packages/sklearn/ensemble/_forest.py:427: FutureWarning: `max_features='auto'` has been deprecated in 1.1 and will be removed in 1.3. To keep the past behaviour, explicitly set `max_features='sqrt'` or remove this parameter as it is also the default value for RandomForestClassifiers and ExtraTreesClassifiers.\n",
      "  warn(\n",
      "/Library/Frameworks/Python.framework/Versions/3.11/lib/python3.11/site-packages/sklearn/ensemble/_forest.py:427: FutureWarning: `max_features='auto'` has been deprecated in 1.1 and will be removed in 1.3. To keep the past behaviour, explicitly set `max_features='sqrt'` or remove this parameter as it is also the default value for RandomForestClassifiers and ExtraTreesClassifiers.\n",
      "  warn(\n"
     ]
    },
    {
     "name": "stdout",
     "output_type": "stream",
     "text": [
      "[CV] END criterion=gini, max_depth=700, max_features=sqrt, min_samples_leaf=6, min_samples_split=6, n_estimators=700; total time=  12.5s\n",
      "[CV] END criterion=gini, max_depth=700, max_features=sqrt, min_samples_leaf=6, min_samples_split=6, n_estimators=700; total time=  12.6s\n"
     ]
    },
    {
     "name": "stderr",
     "output_type": "stream",
     "text": [
      "/Library/Frameworks/Python.framework/Versions/3.11/lib/python3.11/site-packages/sklearn/ensemble/_forest.py:427: FutureWarning: `max_features='auto'` has been deprecated in 1.1 and will be removed in 1.3. To keep the past behaviour, explicitly set `max_features='sqrt'` or remove this parameter as it is also the default value for RandomForestClassifiers and ExtraTreesClassifiers.\n",
      "  warn(\n"
     ]
    },
    {
     "name": "stdout",
     "output_type": "stream",
     "text": [
      "[CV] END criterion=gini, max_depth=700, max_features=sqrt, min_samples_leaf=6, min_samples_split=6, n_estimators=700; total time=  12.7s\n"
     ]
    },
    {
     "name": "stderr",
     "output_type": "stream",
     "text": [
      "/Library/Frameworks/Python.framework/Versions/3.11/lib/python3.11/site-packages/sklearn/ensemble/_forest.py:427: FutureWarning: `max_features='auto'` has been deprecated in 1.1 and will be removed in 1.3. To keep the past behaviour, explicitly set `max_features='sqrt'` or remove this parameter as it is also the default value for RandomForestClassifiers and ExtraTreesClassifiers.\n",
      "  warn(\n"
     ]
    },
    {
     "name": "stdout",
     "output_type": "stream",
     "text": [
      "[CV] END criterion=gini, max_depth=700, max_features=sqrt, min_samples_leaf=6, min_samples_split=6, n_estimators=700; total time=  12.5s\n"
     ]
    },
    {
     "name": "stderr",
     "output_type": "stream",
     "text": [
      "/Library/Frameworks/Python.framework/Versions/3.11/lib/python3.11/site-packages/sklearn/ensemble/_forest.py:427: FutureWarning: `max_features='auto'` has been deprecated in 1.1 and will be removed in 1.3. To keep the past behaviour, explicitly set `max_features='sqrt'` or remove this parameter as it is also the default value for RandomForestClassifiers and ExtraTreesClassifiers.\n",
      "  warn(\n"
     ]
    },
    {
     "name": "stdout",
     "output_type": "stream",
     "text": [
      "[CV] END criterion=gini, max_depth=700, max_features=auto, min_samples_leaf=4, min_samples_split=6, n_estimators=700; total time=  13.3s\n",
      "[CV] END criterion=entropy, max_depth=200, max_features=auto, min_samples_leaf=3, min_samples_split=1, n_estimators=500; total time=   2.4s\n"
     ]
    },
    {
     "name": "stderr",
     "output_type": "stream",
     "text": [
      "/Library/Frameworks/Python.framework/Versions/3.11/lib/python3.11/site-packages/sklearn/ensemble/_forest.py:427: FutureWarning: `max_features='auto'` has been deprecated in 1.1 and will be removed in 1.3. To keep the past behaviour, explicitly set `max_features='sqrt'` or remove this parameter as it is also the default value for RandomForestClassifiers and ExtraTreesClassifiers.\n",
      "  warn(\n",
      "/Library/Frameworks/Python.framework/Versions/3.11/lib/python3.11/site-packages/sklearn/ensemble/_forest.py:427: FutureWarning: `max_features='auto'` has been deprecated in 1.1 and will be removed in 1.3. To keep the past behaviour, explicitly set `max_features='sqrt'` or remove this parameter as it is also the default value for RandomForestClassifiers and ExtraTreesClassifiers.\n",
      "  warn(\n"
     ]
    },
    {
     "name": "stdout",
     "output_type": "stream",
     "text": [
      "[CV] END criterion=entropy, max_depth=200, max_features=auto, min_samples_leaf=3, min_samples_split=1, n_estimators=500; total time=   2.6s\n"
     ]
    },
    {
     "name": "stderr",
     "output_type": "stream",
     "text": [
      "/Library/Frameworks/Python.framework/Versions/3.11/lib/python3.11/site-packages/sklearn/ensemble/_forest.py:427: FutureWarning: `max_features='auto'` has been deprecated in 1.1 and will be removed in 1.3. To keep the past behaviour, explicitly set `max_features='sqrt'` or remove this parameter as it is also the default value for RandomForestClassifiers and ExtraTreesClassifiers.\n",
      "  warn(\n"
     ]
    },
    {
     "name": "stdout",
     "output_type": "stream",
     "text": [
      "[CV] END criterion=entropy, max_depth=200, max_features=auto, min_samples_leaf=3, min_samples_split=1, n_estimators=500; total time=   3.2s\n"
     ]
    },
    {
     "name": "stderr",
     "output_type": "stream",
     "text": [
      "/Library/Frameworks/Python.framework/Versions/3.11/lib/python3.11/site-packages/sklearn/ensemble/_forest.py:427: FutureWarning: `max_features='auto'` has been deprecated in 1.1 and will be removed in 1.3. To keep the past behaviour, explicitly set `max_features='sqrt'` or remove this parameter as it is also the default value for RandomForestClassifiers and ExtraTreesClassifiers.\n",
      "  warn(\n"
     ]
    },
    {
     "name": "stdout",
     "output_type": "stream",
     "text": [
      "[CV] END criterion=entropy, max_depth=200, max_features=auto, min_samples_leaf=3, min_samples_split=1, n_estimators=500; total time=   3.7s\n"
     ]
    },
    {
     "name": "stderr",
     "output_type": "stream",
     "text": [
      "/Library/Frameworks/Python.framework/Versions/3.11/lib/python3.11/site-packages/sklearn/ensemble/_forest.py:427: FutureWarning: `max_features='auto'` has been deprecated in 1.1 and will be removed in 1.3. To keep the past behaviour, explicitly set `max_features='sqrt'` or remove this parameter as it is also the default value for RandomForestClassifiers and ExtraTreesClassifiers.\n",
      "  warn(\n"
     ]
    },
    {
     "name": "stdout",
     "output_type": "stream",
     "text": [
      "[CV] END criterion=entropy, max_depth=200, max_features=auto, min_samples_leaf=3, min_samples_split=1, n_estimators=500; total time=   3.9s\n"
     ]
    },
    {
     "name": "stderr",
     "output_type": "stream",
     "text": [
      "/Library/Frameworks/Python.framework/Versions/3.11/lib/python3.11/site-packages/sklearn/ensemble/_forest.py:427: FutureWarning: `max_features='auto'` has been deprecated in 1.1 and will be removed in 1.3. To keep the past behaviour, explicitly set `max_features='sqrt'` or remove this parameter as it is also the default value for RandomForestClassifiers and ExtraTreesClassifiers.\n",
      "  warn(\n"
     ]
    },
    {
     "name": "stdout",
     "output_type": "stream",
     "text": [
      "[CV] END criterion=gini, max_depth=700, max_features=auto, min_samples_leaf=4, min_samples_split=6, n_estimators=700; total time=  17.3s\n"
     ]
    },
    {
     "name": "stderr",
     "output_type": "stream",
     "text": [
      "/Library/Frameworks/Python.framework/Versions/3.11/lib/python3.11/site-packages/sklearn/ensemble/_forest.py:427: FutureWarning: `max_features='auto'` has been deprecated in 1.1 and will be removed in 1.3. To keep the past behaviour, explicitly set `max_features='sqrt'` or remove this parameter as it is also the default value for RandomForestClassifiers and ExtraTreesClassifiers.\n",
      "  warn(\n"
     ]
    },
    {
     "name": "stdout",
     "output_type": "stream",
     "text": [
      "[CV] END criterion=gini, max_depth=700, max_features=auto, min_samples_leaf=4, min_samples_split=6, n_estimators=700; total time=  16.5s\n",
      "[CV] END criterion=gini, max_depth=700, max_features=auto, min_samples_leaf=4, min_samples_split=6, n_estimators=700; total time=  16.3s\n",
      "[CV] END criterion=gini, max_depth=700, max_features=auto, min_samples_leaf=4, min_samples_split=6, n_estimators=700; total time=  16.5s\n",
      "[CV] END criterion=entropy, max_depth=1000, max_features=sqrt, min_samples_leaf=3, min_samples_split=6, n_estimators=200; total time=   4.1s\n",
      "[CV] END criterion=gini, max_depth=300, max_features=auto, min_samples_leaf=3, min_samples_split=6, n_estimators=700; total time=  16.6s\n",
      "[CV] END criterion=entropy, max_depth=1000, max_features=sqrt, min_samples_leaf=3, min_samples_split=6, n_estimators=200; total time=   4.1s\n",
      "[CV] END criterion=gini, max_depth=300, max_features=auto, min_samples_leaf=3, min_samples_split=6, n_estimators=700; total time=  15.5s\n",
      "[CV] END criterion=entropy, max_depth=1000, max_features=sqrt, min_samples_leaf=3, min_samples_split=6, n_estimators=200; total time=   3.9s\n",
      "[CV] END criterion=gini, max_depth=300, max_features=auto, min_samples_leaf=3, min_samples_split=6, n_estimators=700; total time=  14.5s\n",
      "[CV] END criterion=gini, max_depth=300, max_features=auto, min_samples_leaf=3, min_samples_split=6, n_estimators=700; total time=  14.4s\n",
      "[CV] END criterion=entropy, max_depth=1000, max_features=sqrt, min_samples_leaf=3, min_samples_split=6, n_estimators=200; total time=   2.6s\n",
      "[CV] END criterion=entropy, max_depth=1000, max_features=sqrt, min_samples_leaf=3, min_samples_split=6, n_estimators=200; total time=   2.7s\n",
      "[CV] END criterion=gini, max_depth=300, max_features=auto, min_samples_leaf=3, min_samples_split=6, n_estimators=700; total time=  10.8s\n",
      "[CV] END criterion=entropy, max_depth=900, max_features=sqrt, min_samples_leaf=7, min_samples_split=1, n_estimators=400; total time=   1.2s\n",
      "[CV] END criterion=entropy, max_depth=900, max_features=sqrt, min_samples_leaf=7, min_samples_split=1, n_estimators=400; total time=   1.3s\n",
      "[CV] END criterion=entropy, max_depth=900, max_features=sqrt, min_samples_leaf=7, min_samples_split=1, n_estimators=400; total time=   1.5s\n",
      "[CV] END criterion=entropy, max_depth=900, max_features=sqrt, min_samples_leaf=7, min_samples_split=1, n_estimators=400; total time=   1.6s\n"
     ]
    },
    {
     "name": "stderr",
     "output_type": "stream",
     "text": [
      "/Library/Frameworks/Python.framework/Versions/3.11/lib/python3.11/site-packages/sklearn/ensemble/_forest.py:427: FutureWarning: `max_features='auto'` has been deprecated in 1.1 and will be removed in 1.3. To keep the past behaviour, explicitly set `max_features='sqrt'` or remove this parameter as it is also the default value for RandomForestClassifiers and ExtraTreesClassifiers.\n",
      "  warn(\n",
      "/Library/Frameworks/Python.framework/Versions/3.11/lib/python3.11/site-packages/sklearn/ensemble/_forest.py:427: FutureWarning: `max_features='auto'` has been deprecated in 1.1 and will be removed in 1.3. To keep the past behaviour, explicitly set `max_features='sqrt'` or remove this parameter as it is also the default value for RandomForestClassifiers and ExtraTreesClassifiers.\n",
      "  warn(\n"
     ]
    },
    {
     "name": "stdout",
     "output_type": "stream",
     "text": [
      "[CV] END criterion=entropy, max_depth=900, max_features=sqrt, min_samples_leaf=7, min_samples_split=1, n_estimators=400; total time=   1.5s\n"
     ]
    },
    {
     "name": "stderr",
     "output_type": "stream",
     "text": [
      "/Library/Frameworks/Python.framework/Versions/3.11/lib/python3.11/site-packages/sklearn/ensemble/_forest.py:427: FutureWarning: `max_features='auto'` has been deprecated in 1.1 and will be removed in 1.3. To keep the past behaviour, explicitly set `max_features='sqrt'` or remove this parameter as it is also the default value for RandomForestClassifiers and ExtraTreesClassifiers.\n",
      "  warn(\n"
     ]
    },
    {
     "name": "stdout",
     "output_type": "stream",
     "text": [
      "[CV] END criterion=gini, max_depth=400, max_features=auto, min_samples_leaf=7, min_samples_split=3, n_estimators=300; total time=   3.0s\n"
     ]
    },
    {
     "name": "stderr",
     "output_type": "stream",
     "text": [
      "/Library/Frameworks/Python.framework/Versions/3.11/lib/python3.11/site-packages/sklearn/ensemble/_forest.py:427: FutureWarning: `max_features='auto'` has been deprecated in 1.1 and will be removed in 1.3. To keep the past behaviour, explicitly set `max_features='sqrt'` or remove this parameter as it is also the default value for RandomForestClassifiers and ExtraTreesClassifiers.\n",
      "  warn(\n"
     ]
    },
    {
     "name": "stdout",
     "output_type": "stream",
     "text": [
      "[CV] END criterion=gini, max_depth=400, max_features=auto, min_samples_leaf=7, min_samples_split=3, n_estimators=300; total time=   3.1s\n",
      "[CV] END criterion=gini, max_depth=400, max_features=auto, min_samples_leaf=7, min_samples_split=3, n_estimators=300; total time=   3.2s\n"
     ]
    },
    {
     "name": "stderr",
     "output_type": "stream",
     "text": [
      "/Library/Frameworks/Python.framework/Versions/3.11/lib/python3.11/site-packages/sklearn/ensemble/_forest.py:427: FutureWarning: `max_features='auto'` has been deprecated in 1.1 and will be removed in 1.3. To keep the past behaviour, explicitly set `max_features='sqrt'` or remove this parameter as it is also the default value for RandomForestClassifiers and ExtraTreesClassifiers.\n",
      "  warn(\n"
     ]
    },
    {
     "name": "stdout",
     "output_type": "stream",
     "text": [
      "[CV] END criterion=entropy, max_depth=100, max_features=log2, min_samples_leaf=7, min_samples_split=6, n_estimators=800; total time=  10.1s\n",
      "[CV] END criterion=entropy, max_depth=100, max_features=log2, min_samples_leaf=7, min_samples_split=6, n_estimators=800; total time=  10.1s\n",
      "[CV] END criterion=entropy, max_depth=100, max_features=log2, min_samples_leaf=7, min_samples_split=6, n_estimators=800; total time=  10.1s\n",
      "[CV] END criterion=entropy, max_depth=100, max_features=log2, min_samples_leaf=7, min_samples_split=6, n_estimators=800; total time=  10.1s\n",
      "[CV] END criterion=entropy, max_depth=100, max_features=log2, min_samples_leaf=7, min_samples_split=6, n_estimators=800; total time=   9.9s\n",
      "[CV] END criterion=gini, max_depth=400, max_features=auto, min_samples_leaf=7, min_samples_split=3, n_estimators=300; total time=   2.6s\n",
      "[CV] END criterion=gini, max_depth=400, max_features=auto, min_samples_leaf=7, min_samples_split=3, n_estimators=300; total time=   2.4s\n"
     ]
    },
    {
     "name": "stderr",
     "output_type": "stream",
     "text": [
      "/Library/Frameworks/Python.framework/Versions/3.11/lib/python3.11/site-packages/sklearn/model_selection/_validation.py:378: FitFailedWarning: \n",
      "125 fits failed out of a total of 500.\n",
      "The score on these train-test partitions for these parameters will be set to nan.\n",
      "If these failures are not expected, you can try to debug them by setting error_score='raise'.\n",
      "\n",
      "Below are more details about the failures:\n",
      "--------------------------------------------------------------------------------\n",
      "125 fits failed with the following error:\n",
      "Traceback (most recent call last):\n",
      "  File \"/Library/Frameworks/Python.framework/Versions/3.11/lib/python3.11/site-packages/sklearn/model_selection/_validation.py\", line 686, in _fit_and_score\n",
      "    estimator.fit(X_train, y_train, **fit_params)\n",
      "  File \"/Library/Frameworks/Python.framework/Versions/3.11/lib/python3.11/site-packages/sklearn/ensemble/_forest.py\", line 476, in fit\n",
      "    trees = Parallel(\n",
      "            ^^^^^^^^^\n",
      "  File \"/Library/Frameworks/Python.framework/Versions/3.11/lib/python3.11/site-packages/joblib/parallel.py\", line 1085, in __call__\n",
      "    if self.dispatch_one_batch(iterator):\n",
      "       ^^^^^^^^^^^^^^^^^^^^^^^^^^^^^^^^^\n",
      "  File \"/Library/Frameworks/Python.framework/Versions/3.11/lib/python3.11/site-packages/joblib/parallel.py\", line 901, in dispatch_one_batch\n",
      "    self._dispatch(tasks)\n",
      "  File \"/Library/Frameworks/Python.framework/Versions/3.11/lib/python3.11/site-packages/joblib/parallel.py\", line 819, in _dispatch\n",
      "    job = self._backend.apply_async(batch, callback=cb)\n",
      "          ^^^^^^^^^^^^^^^^^^^^^^^^^^^^^^^^^^^^^^^^^^^^^\n",
      "  File \"/Library/Frameworks/Python.framework/Versions/3.11/lib/python3.11/site-packages/joblib/_parallel_backends.py\", line 208, in apply_async\n",
      "    result = ImmediateResult(func)\n",
      "             ^^^^^^^^^^^^^^^^^^^^^\n",
      "  File \"/Library/Frameworks/Python.framework/Versions/3.11/lib/python3.11/site-packages/joblib/_parallel_backends.py\", line 597, in __init__\n",
      "    self.results = batch()\n",
      "                   ^^^^^^^\n",
      "  File \"/Library/Frameworks/Python.framework/Versions/3.11/lib/python3.11/site-packages/joblib/parallel.py\", line 288, in __call__\n",
      "    return [func(*args, **kwargs)\n",
      "           ^^^^^^^^^^^^^^^^^^^^^^\n",
      "  File \"/Library/Frameworks/Python.framework/Versions/3.11/lib/python3.11/site-packages/joblib/parallel.py\", line 288, in <listcomp>\n",
      "    return [func(*args, **kwargs)\n",
      "            ^^^^^^^^^^^^^^^^^^^^^\n",
      "  File \"/Library/Frameworks/Python.framework/Versions/3.11/lib/python3.11/site-packages/sklearn/utils/fixes.py\", line 117, in __call__\n",
      "    return self.function(*args, **kwargs)\n",
      "           ^^^^^^^^^^^^^^^^^^^^^^^^^^^^^^\n",
      "  File \"/Library/Frameworks/Python.framework/Versions/3.11/lib/python3.11/site-packages/sklearn/ensemble/_forest.py\", line 189, in _parallel_build_trees\n",
      "    tree.fit(X, y, sample_weight=curr_sample_weight, check_input=False)\n",
      "  File \"/Library/Frameworks/Python.framework/Versions/3.11/lib/python3.11/site-packages/sklearn/tree/_classes.py\", line 969, in fit\n",
      "    super().fit(\n",
      "  File \"/Library/Frameworks/Python.framework/Versions/3.11/lib/python3.11/site-packages/sklearn/tree/_classes.py\", line 265, in fit\n",
      "    check_scalar(\n",
      "  File \"/Library/Frameworks/Python.framework/Versions/3.11/lib/python3.11/site-packages/sklearn/utils/validation.py\", line 1480, in check_scalar\n",
      "    raise ValueError(\n",
      "ValueError: min_samples_split == 1, must be >= 2.\n",
      "\n",
      "  warnings.warn(some_fits_failed_message, FitFailedWarning)\n",
      "/Library/Frameworks/Python.framework/Versions/3.11/lib/python3.11/site-packages/sklearn/model_selection/_search.py:953: UserWarning: One or more of the test scores are non-finite: [0.73600504 0.7338314  0.73476531 0.74010782 0.73111204 0.73561558\n",
      " 0.73623943        nan 0.73836525 0.74770879 0.7298785  0.73063606\n",
      " 0.7366727  0.73279822        nan 0.73618752 0.72772766 0.73060466\n",
      "        nan 0.72914193        nan 0.72864806 0.73146633        nan\n",
      " 0.72774996 0.73343488 0.73774704 0.73307031 0.73664357 0.72533566\n",
      " 0.72595094        nan 0.73297749 0.73395443        nan 0.73089533\n",
      "        nan        nan        nan 0.7261803  0.73784053 0.73585947\n",
      " 0.73012677        nan 0.7300221  0.73833571 0.73255437 0.74423543\n",
      " 0.74550161 0.73892111 0.7329623  0.73040689        nan        nan\n",
      " 0.73615965 0.72036498 0.72909568 0.73054886        nan        nan\n",
      " 0.73044755 0.73824864 0.73434425        nan 0.73781089 0.73380012\n",
      "        nan        nan 0.72694722 0.73676254 0.74320999 0.71868363\n",
      "        nan 0.73646617 0.72906558        nan 0.73832197 0.73297227\n",
      " 0.72604431 0.73347279 0.73860106        nan 0.71267617 0.73923527\n",
      "        nan 0.73934586 0.73471086 0.73491296 0.7277078         nan\n",
      " 0.73170116 0.73488322 0.73389249 0.74262088        nan 0.72584142\n",
      " 0.7325133  0.73711432        nan 0.73194066]\n",
      "  warnings.warn(\n",
      "/Library/Frameworks/Python.framework/Versions/3.11/lib/python3.11/site-packages/sklearn/ensemble/_forest.py:427: FutureWarning: `max_features='auto'` has been deprecated in 1.1 and will be removed in 1.3. To keep the past behaviour, explicitly set `max_features='sqrt'` or remove this parameter as it is also the default value for RandomForestClassifiers and ExtraTreesClassifiers.\n",
      "  warn(\n"
     ]
    },
    {
     "data": {
      "text/html": [
       "<style>#sk-container-id-1 {color: black;background-color: white;}#sk-container-id-1 pre{padding: 0;}#sk-container-id-1 div.sk-toggleable {background-color: white;}#sk-container-id-1 label.sk-toggleable__label {cursor: pointer;display: block;width: 100%;margin-bottom: 0;padding: 0.3em;box-sizing: border-box;text-align: center;}#sk-container-id-1 label.sk-toggleable__label-arrow:before {content: \"▸\";float: left;margin-right: 0.25em;color: #696969;}#sk-container-id-1 label.sk-toggleable__label-arrow:hover:before {color: black;}#sk-container-id-1 div.sk-estimator:hover label.sk-toggleable__label-arrow:before {color: black;}#sk-container-id-1 div.sk-toggleable__content {max-height: 0;max-width: 0;overflow: hidden;text-align: left;background-color: #f0f8ff;}#sk-container-id-1 div.sk-toggleable__content pre {margin: 0.2em;color: black;border-radius: 0.25em;background-color: #f0f8ff;}#sk-container-id-1 input.sk-toggleable__control:checked~div.sk-toggleable__content {max-height: 200px;max-width: 100%;overflow: auto;}#sk-container-id-1 input.sk-toggleable__control:checked~label.sk-toggleable__label-arrow:before {content: \"▾\";}#sk-container-id-1 div.sk-estimator input.sk-toggleable__control:checked~label.sk-toggleable__label {background-color: #d4ebff;}#sk-container-id-1 div.sk-label input.sk-toggleable__control:checked~label.sk-toggleable__label {background-color: #d4ebff;}#sk-container-id-1 input.sk-hidden--visually {border: 0;clip: rect(1px 1px 1px 1px);clip: rect(1px, 1px, 1px, 1px);height: 1px;margin: -1px;overflow: hidden;padding: 0;position: absolute;width: 1px;}#sk-container-id-1 div.sk-estimator {font-family: monospace;background-color: #f0f8ff;border: 1px dotted black;border-radius: 0.25em;box-sizing: border-box;margin-bottom: 0.5em;}#sk-container-id-1 div.sk-estimator:hover {background-color: #d4ebff;}#sk-container-id-1 div.sk-parallel-item::after {content: \"\";width: 100%;border-bottom: 1px solid gray;flex-grow: 1;}#sk-container-id-1 div.sk-label:hover label.sk-toggleable__label {background-color: #d4ebff;}#sk-container-id-1 div.sk-serial::before {content: \"\";position: absolute;border-left: 1px solid gray;box-sizing: border-box;top: 0;bottom: 0;left: 50%;z-index: 0;}#sk-container-id-1 div.sk-serial {display: flex;flex-direction: column;align-items: center;background-color: white;padding-right: 0.2em;padding-left: 0.2em;position: relative;}#sk-container-id-1 div.sk-item {position: relative;z-index: 1;}#sk-container-id-1 div.sk-parallel {display: flex;align-items: stretch;justify-content: center;background-color: white;position: relative;}#sk-container-id-1 div.sk-item::before, #sk-container-id-1 div.sk-parallel-item::before {content: \"\";position: absolute;border-left: 1px solid gray;box-sizing: border-box;top: 0;bottom: 0;left: 50%;z-index: -1;}#sk-container-id-1 div.sk-parallel-item {display: flex;flex-direction: column;z-index: 1;position: relative;background-color: white;}#sk-container-id-1 div.sk-parallel-item:first-child::after {align-self: flex-end;width: 50%;}#sk-container-id-1 div.sk-parallel-item:last-child::after {align-self: flex-start;width: 50%;}#sk-container-id-1 div.sk-parallel-item:only-child::after {width: 0;}#sk-container-id-1 div.sk-dashed-wrapped {border: 1px dashed gray;margin: 0 0.4em 0.5em 0.4em;box-sizing: border-box;padding-bottom: 0.4em;background-color: white;}#sk-container-id-1 div.sk-label label {font-family: monospace;font-weight: bold;display: inline-block;line-height: 1.2em;}#sk-container-id-1 div.sk-label-container {text-align: center;}#sk-container-id-1 div.sk-container {/* jupyter's `normalize.less` sets `[hidden] { display: none; }` but bootstrap.min.css set `[hidden] { display: none !important; }` so we also need the `!important` here to be able to override the default hidden behavior on the sphinx rendered scikit-learn.org. See: https://github.com/scikit-learn/scikit-learn/issues/21755 */display: inline-block !important;position: relative;}#sk-container-id-1 div.sk-text-repr-fallback {display: none;}</style><div id=\"sk-container-id-1\" class=\"sk-top-container\"><div class=\"sk-text-repr-fallback\"><pre>RandomizedSearchCV(cv=KFold(n_splits=5, random_state=None, shuffle=False),\n",
       "                   estimator=RandomForestClassifier(), n_iter=100, n_jobs=-1,\n",
       "                   param_distributions={&#x27;criterion&#x27;: [&#x27;gini&#x27;, &#x27;entropy&#x27;],\n",
       "                                        &#x27;max_depth&#x27;: [100, 200, 300, 400, 500,\n",
       "                                                      600, 700, 800, 900,\n",
       "                                                      1000],\n",
       "                                        &#x27;max_features&#x27;: [&#x27;auto&#x27;, &#x27;sqrt&#x27;,\n",
       "                                                         &#x27;log2&#x27;],\n",
       "                                        &#x27;min_samples_leaf&#x27;: [3, 4, 6, 7, 9],\n",
       "                                        &#x27;min_samples_split&#x27;: [1, 3, 6, 7, 8],\n",
       "                                        &#x27;n_estimators&#x27;: [100, 200, 300, 400,\n",
       "                                                         500, 600, 700, 800,\n",
       "                                                         900, 1000]},\n",
       "                   random_state=10, scoring=&#x27;f1_macro&#x27;, verbose=2)</pre><b>In a Jupyter environment, please rerun this cell to show the HTML representation or trust the notebook. <br />On GitHub, the HTML representation is unable to render, please try loading this page with nbviewer.org.</b></div><div class=\"sk-container\" hidden><div class=\"sk-item sk-dashed-wrapped\"><div class=\"sk-label-container\"><div class=\"sk-label sk-toggleable\"><input class=\"sk-toggleable__control sk-hidden--visually\" id=\"sk-estimator-id-1\" type=\"checkbox\" ><label for=\"sk-estimator-id-1\" class=\"sk-toggleable__label sk-toggleable__label-arrow\">RandomizedSearchCV</label><div class=\"sk-toggleable__content\"><pre>RandomizedSearchCV(cv=KFold(n_splits=5, random_state=None, shuffle=False),\n",
       "                   estimator=RandomForestClassifier(), n_iter=100, n_jobs=-1,\n",
       "                   param_distributions={&#x27;criterion&#x27;: [&#x27;gini&#x27;, &#x27;entropy&#x27;],\n",
       "                                        &#x27;max_depth&#x27;: [100, 200, 300, 400, 500,\n",
       "                                                      600, 700, 800, 900,\n",
       "                                                      1000],\n",
       "                                        &#x27;max_features&#x27;: [&#x27;auto&#x27;, &#x27;sqrt&#x27;,\n",
       "                                                         &#x27;log2&#x27;],\n",
       "                                        &#x27;min_samples_leaf&#x27;: [3, 4, 6, 7, 9],\n",
       "                                        &#x27;min_samples_split&#x27;: [1, 3, 6, 7, 8],\n",
       "                                        &#x27;n_estimators&#x27;: [100, 200, 300, 400,\n",
       "                                                         500, 600, 700, 800,\n",
       "                                                         900, 1000]},\n",
       "                   random_state=10, scoring=&#x27;f1_macro&#x27;, verbose=2)</pre></div></div></div><div class=\"sk-parallel\"><div class=\"sk-parallel-item\"><div class=\"sk-item\"><div class=\"sk-label-container\"><div class=\"sk-label sk-toggleable\"><input class=\"sk-toggleable__control sk-hidden--visually\" id=\"sk-estimator-id-2\" type=\"checkbox\" ><label for=\"sk-estimator-id-2\" class=\"sk-toggleable__label sk-toggleable__label-arrow\">estimator: RandomForestClassifier</label><div class=\"sk-toggleable__content\"><pre>RandomForestClassifier()</pre></div></div></div><div class=\"sk-serial\"><div class=\"sk-item\"><div class=\"sk-estimator sk-toggleable\"><input class=\"sk-toggleable__control sk-hidden--visually\" id=\"sk-estimator-id-3\" type=\"checkbox\" ><label for=\"sk-estimator-id-3\" class=\"sk-toggleable__label sk-toggleable__label-arrow\">RandomForestClassifier</label><div class=\"sk-toggleable__content\"><pre>RandomForestClassifier()</pre></div></div></div></div></div></div></div></div></div></div>"
      ],
      "text/plain": [
       "RandomizedSearchCV(cv=KFold(n_splits=5, random_state=None, shuffle=False),\n",
       "                   estimator=RandomForestClassifier(), n_iter=100, n_jobs=-1,\n",
       "                   param_distributions={'criterion': ['gini', 'entropy'],\n",
       "                                        'max_depth': [100, 200, 300, 400, 500,\n",
       "                                                      600, 700, 800, 900,\n",
       "                                                      1000],\n",
       "                                        'max_features': ['auto', 'sqrt',\n",
       "                                                         'log2'],\n",
       "                                        'min_samples_leaf': [3, 4, 6, 7, 9],\n",
       "                                        'min_samples_split': [1, 3, 6, 7, 8],\n",
       "                                        'n_estimators': [100, 200, 300, 400,\n",
       "                                                         500, 600, 700, 800,\n",
       "                                                         900, 1000]},\n",
       "                   random_state=10, scoring='f1_macro', verbose=2)"
      ]
     },
     "execution_count": 12,
     "metadata": {},
     "output_type": "execute_result"
    }
   ],
   "source": [
    "rf_classifier= RandomForestClassifier()\n",
    "\n",
    "rf_params= {\"n_estimators\" : [int(x) for x in np.linspace( start=100, stop=1000, num=10)],\n",
    "            \"criterion\" : [\"gini\", \"entropy\"],\n",
    "            \"max_depth\" : [int(x) for x in np.linspace(start= 100, stop=1000, num=10)],\n",
    "            \"min_samples_split\": [1,3,6,7,8],\n",
    "            \"min_samples_leaf\" : [3,4,6,7,9],\n",
    "            \"max_features\" : [\"auto\", \"sqrt\", \"log2\"]}\n",
    "\n",
    "rf_cv= KFold(n_splits=5)\n",
    "\n",
    "rf_randomSearch= RandomizedSearchCV(estimator= rf_classifier,param_distributions=rf_params, n_iter=100,\n",
    "                                    scoring=\"f1_macro\", n_jobs=-1, cv= rf_cv, verbose=2, random_state=10)\n",
    "\n",
    "rf_randomSearch.fit(x_train, y_train)"
   ]
  },
  {
   "cell_type": "code",
   "execution_count": 14,
   "metadata": {},
   "outputs": [
    {
     "name": "stdout",
     "output_type": "stream",
     "text": [
      "0.7477087918451817\n",
      "{'n_estimators': 100, 'min_samples_split': 6, 'min_samples_leaf': 3, 'max_features': 'auto', 'max_depth': 300, 'criterion': 'gini'}\n",
      "RandomForestClassifier(max_depth=300, max_features='auto', min_samples_leaf=3,\n",
      "                       min_samples_split=6)\n"
     ]
    }
   ],
   "source": [
    "print(rf_randomSearch.best_score_)\n",
    "print(rf_randomSearch.best_params_)\n",
    "print(rf_randomSearch.best_estimator_)"
   ]
  },
  {
   "cell_type": "code",
   "execution_count": 15,
   "metadata": {},
   "outputs": [
    {
     "name": "stdout",
     "output_type": "stream",
     "text": [
      "0.8116883116883117\n",
      "              precision    recall  f1-score   support\n",
      "\n",
      "           0       0.82      0.90      0.86        99\n",
      "           1       0.78      0.65      0.71        55\n",
      "\n",
      "    accuracy                           0.81       154\n",
      "   macro avg       0.80      0.78      0.79       154\n",
      "weighted avg       0.81      0.81      0.81       154\n",
      "\n"
     ]
    },
    {
     "data": {
      "image/png": "[encoded data removed]",
      "text/plain": [
       "<Figure size 600x600 with 1 Axes>"
      ]
     },
     "metadata": {},
     "output_type": "display_data"
    }
   ],
   "source": [
    "# best model\n",
    "classifier_rf= rf_randomSearch.best_estimator_\n",
    "\n",
    "rf_pred= classifier_rf.predict(x_test)\n",
    "\n",
    "cm= confusion_matrix(y_test, rf_pred)\n",
    "plot_confusion_matrix(cm, figsize=(6,6))\n",
    "\n",
    "print(accuracy_score(y_test, rf_pred))\n",
    "print(classification_report(y_test, rf_pred))"
   ]
  },
  {
   "cell_type": "markdown",
   "metadata": {},
   "source": [
    "### XgBoost"
   ]
  },
  {
   "cell_type": "code",
   "execution_count": 16,
   "metadata": {},
   "outputs": [
    {
     "name": "stdout",
     "output_type": "stream",
     "text": [
      "Fitting 5 folds for each of 100 candidates, totalling 500 fits\n",
      "[CV] END colsample_bytree=0.2, gamma=0.1, learning_rate=0.25, max_depth=3, min_child_weight=2; total time=   0.0s\n",
      "[CV] END colsample_bytree=0.2, gamma=0.1, learning_rate=0.25, max_depth=3, min_child_weight=2; total time=   0.0s\n",
      "[CV] END colsample_bytree=0.2, gamma=0.1, learning_rate=0.25, max_depth=3, min_child_weight=2; total time=   0.0s\n",
      "[CV] END colsample_bytree=0.2, gamma=0.1, learning_rate=0.25, max_depth=3, min_child_weight=2; total time=   0.0s\n",
      "[CV] END colsample_bytree=0.4, gamma=0.2, learning_rate=0.2, max_depth=5, min_child_weight=5; total time=   0.0s\n",
      "[CV] END colsample_bytree=0.2, gamma=0.1, learning_rate=0.25, max_depth=3, min_child_weight=2; total time=   0.0s\n",
      "[CV] END colsample_bytree=0.4, gamma=0.2, learning_rate=0.2, max_depth=5, min_child_weight=5; total time=   0.0s\n",
      "[CV] END colsample_bytree=0.4, gamma=0.2, learning_rate=0.2, max_depth=5, min_child_weight=5; total time=   0.0s\n",
      "[CV] END colsample_bytree=0.4, gamma=0.2, learning_rate=0.2, max_depth=5, min_child_weight=5; total time=   0.1s\n",
      "[CV] END colsample_bytree=0.4, gamma=0.3, learning_rate=0.1, max_depth=5, min_child_weight=5; total time=   0.1s\n",
      "[CV] END colsample_bytree=0.4, gamma=0.3, learning_rate=0.1, max_depth=5, min_child_weight=5; total time=   0.1s\n",
      "[CV] END colsample_bytree=0.4, gamma=0.3, learning_rate=0.1, max_depth=5, min_child_weight=5; total time=   0.1s\n",
      "[CV] END colsample_bytree=0.4, gamma=0.3, learning_rate=0.1, max_depth=5, min_child_weight=5; total time=   0.1s\n",
      "[CV] END colsample_bytree=0.4, gamma=0.2, learning_rate=0.2, max_depth=5, min_child_weight=5; total time=   0.1s\n",
      "[CV] END colsample_bytree=0.2, gamma=0.2, learning_rate=0.3, max_depth=3, min_child_weight=5; total time=   0.0s\n",
      "[CV] END colsample_bytree=0.2, gamma=0.2, learning_rate=0.3, max_depth=3, min_child_weight=5; total time=   0.0s\n",
      "[CV] END colsample_bytree=0.2, gamma=0.2, learning_rate=0.3, max_depth=3, min_child_weight=5; total time=   0.0s\n",
      "[CV] END colsample_bytree=0.2, gamma=0.4, learning_rate=0.1, max_depth=5, min_child_weight=2; total time=   0.1s\n",
      "[CV] END colsample_bytree=0.2, gamma=0.4, learning_rate=0.1, max_depth=5, min_child_weight=2; total time=   0.1s\n",
      "[CV] END colsample_bytree=0.4, gamma=0.3, learning_rate=0.1, max_depth=5, min_child_weight=5; total time=   0.1s\n",
      "[CV] END colsample_bytree=0.2, gamma=0.4, learning_rate=0.1, max_depth=5, min_child_weight=2; total time=   0.1s\n",
      "[CV] END colsample_bytree=0.2, gamma=0.2, learning_rate=0.3, max_depth=3, min_child_weight=5; total time=   0.1s\n",
      "[CV] END colsample_bytree=0.2, gamma=0.2, learning_rate=0.3, max_depth=3, min_child_weight=5; total time=   0.1s\n",
      "[CV] END colsample_bytree=0.2, gamma=0.4, learning_rate=0.1, max_depth=5, min_child_weight=2; total time=   0.1s\n",
      "[CV] END colsample_bytree=0.5, gamma=0.4, learning_rate=0.2, max_depth=3, min_child_weight=4; total time=   0.1s\n",
      "[CV] END colsample_bytree=0.4, gamma=0.3, learning_rate=0.1, max_depth=9, min_child_weight=4; total time=   0.1s\n",
      "[CV] END colsample_bytree=0.2, gamma=0.4, learning_rate=0.1, max_depth=5, min_child_weight=2; total time=   0.1s\n",
      "[CV] END colsample_bytree=0.4, gamma=0.3, learning_rate=0.1, max_depth=9, min_child_weight=4; total time=   0.1s\n",
      "[CV] END colsample_bytree=0.4, gamma=0.3, learning_rate=0.1, max_depth=9, min_child_weight=4; total time=   0.1s\n",
      "[CV] END colsample_bytree=0.5, gamma=0.4, learning_rate=0.2, max_depth=3, min_child_weight=4; total time=   0.1s\n",
      "[CV] END colsample_bytree=0.5, gamma=0.4, learning_rate=0.2, max_depth=3, min_child_weight=4; total time=   0.1s\n",
      "[CV] END colsample_bytree=0.5, gamma=0.4, learning_rate=0.2, max_depth=3, min_child_weight=4; total time=   0.1s\n",
      "[CV] END colsample_bytree=0.3, gamma=0.3, learning_rate=0.3, max_depth=9, min_child_weight=4; total time=   0.1s\n",
      "[CV] END colsample_bytree=0.3, gamma=0.3, learning_rate=0.3, max_depth=9, min_child_weight=4; total time=   0.1s\n",
      "[CV] END colsample_bytree=0.4, gamma=0.2, learning_rate=0.35, max_depth=3, min_child_weight=2; total time=   0.1s\n",
      "[CV] END colsample_bytree=0.4, gamma=0.3, learning_rate=0.1, max_depth=9, min_child_weight=4; total time=   0.1s[CV] END colsample_bytree=0.5, gamma=0.4, learning_rate=0.2, max_depth=3, min_child_weight=4; total time=   0.1s\n",
      "\n",
      "[CV] END colsample_bytree=0.4, gamma=0.3, learning_rate=0.1, max_depth=9, min_child_weight=4; total time=   0.1s\n",
      "[CV] END colsample_bytree=0.4, gamma=0.2, learning_rate=0.35, max_depth=3, min_child_weight=2; total time=   0.1s\n",
      "[CV] END colsample_bytree=0.3, gamma=0.3, learning_rate=0.3, max_depth=9, min_child_weight=4; total time=   0.1s\n",
      "[CV] END colsample_bytree=0.3, gamma=0.3, learning_rate=0.3, max_depth=9, min_child_weight=4; total time=   0.1s\n",
      "[CV] END colsample_bytree=0.3, gamma=0.1, learning_rate=0.3, max_depth=3, min_child_weight=6; total time=   0.1s\n",
      "[CV] END colsample_bytree=0.4, gamma=0.2, learning_rate=0.35, max_depth=3, min_child_weight=2; total time=   0.1s\n",
      "[CV] END colsample_bytree=0.4, gamma=0.2, learning_rate=0.35, max_depth=3, min_child_weight=2; total time=   0.1s[CV] END colsample_bytree=0.3, gamma=0.3, learning_rate=0.3, max_depth=9, min_child_weight=4; total time=   0.1s\n",
      "[CV] END colsample_bytree=0.3, gamma=0.1, learning_rate=0.3, max_depth=3, min_child_weight=6; total time=   0.1s\n",
      "\n",
      "[CV] END colsample_bytree=0.4, gamma=0.2, learning_rate=0.35, max_depth=3, min_child_weight=2; total time=   0.1s\n",
      "[CV] END colsample_bytree=0.5, gamma=0.2, learning_rate=0.25, max_depth=4, min_child_weight=4; total time=   0.2s\n",
      "[CV] END colsample_bytree=0.3, gamma=0.1, learning_rate=0.3, max_depth=3, min_child_weight=6; total time=   0.1s\n",
      "[CV] END colsample_bytree=0.3, gamma=0.1, learning_rate=0.3, max_depth=3, min_child_weight=6; total time=   0.1s\n",
      "[CV] END colsample_bytree=0.5, gamma=0.2, learning_rate=0.25, max_depth=4, min_child_weight=4; total time=   0.2s\n",
      "[CV] END colsample_bytree=0.3, gamma=0.1, learning_rate=0.3, max_depth=3, min_child_weight=6; total time=   0.1s\n",
      "[CV] END colsample_bytree=0.5, gamma=0.2, learning_rate=0.25, max_depth=4, min_child_weight=4; total time=   0.1s\n",
      "[CV] END colsample_bytree=0.4, gamma=0.3, learning_rate=0.1, max_depth=5, min_child_weight=2; total time=   0.1s\n",
      "[CV] END colsample_bytree=0.4, gamma=0.3, learning_rate=0.1, max_depth=5, min_child_weight=2; total time=   0.2s\n",
      "[CV] END colsample_bytree=0.5, gamma=0.2, learning_rate=0.25, max_depth=4, min_child_weight=4; total time=   0.1s\n",
      "[CV] END colsample_bytree=0.5, gamma=0.2, learning_rate=0.25, max_depth=4, min_child_weight=4; total time=   0.1s\n",
      "[CV] END colsample_bytree=0.5, gamma=0.2, learning_rate=0.2, max_depth=4, min_child_weight=2; total time=   0.1s\n",
      "[CV] END colsample_bytree=0.5, gamma=0.2, learning_rate=0.2, max_depth=4, min_child_weight=2; total time=   0.1s\n",
      "[CV] END colsample_bytree=0.5, gamma=0.2, learning_rate=0.2, max_depth=4, min_child_weight=2; total time=   0.1s\n",
      "[CV] END colsample_bytree=0.4, gamma=0.3, learning_rate=0.1, max_depth=5, min_child_weight=2; total time=   0.1s\n",
      "[CV] END colsample_bytree=0.4, gamma=0.3, learning_rate=0.1, max_depth=5, min_child_weight=2; total time=   0.1s\n",
      "[CV] END colsample_bytree=0.4, gamma=0.3, learning_rate=0.1, max_depth=5, min_child_weight=2; total time=   0.1s\n",
      "[CV] END colsample_bytree=0.2, gamma=0.3, learning_rate=0.3, max_depth=5, min_child_weight=4; total time=   0.1s\n",
      "[CV] END colsample_bytree=0.2, gamma=0.3, learning_rate=0.3, max_depth=5, min_child_weight=4; total time=   0.1s\n",
      "[CV] END colsample_bytree=0.2, gamma=0.3, learning_rate=0.3, max_depth=5, min_child_weight=4; total time=   0.1s\n",
      "[CV] END colsample_bytree=0.5, gamma=0.2, learning_rate=0.2, max_depth=4, min_child_weight=2; total time=   0.1s\n",
      "[CV] END colsample_bytree=0.5, gamma=0.2, learning_rate=0.2, max_depth=4, min_child_weight=2; total time=   0.1s\n",
      "[CV] END colsample_bytree=0.3, gamma=0.2, learning_rate=0.3, max_depth=5, min_child_weight=2; total time=   0.1s\n",
      "[CV] END colsample_bytree=0.2, gamma=0.3, learning_rate=0.3, max_depth=5, min_child_weight=4; total time=   0.1s\n",
      "[CV] END colsample_bytree=0.3, gamma=0.2, learning_rate=0.3, max_depth=5, min_child_weight=2; total time=   0.1s\n",
      "[CV] END colsample_bytree=0.3, gamma=0.2, learning_rate=0.3, max_depth=5, min_child_weight=2; total time=   0.1s\n",
      "[CV] END colsample_bytree=0.2, gamma=0.3, learning_rate=0.3, max_depth=5, min_child_weight=4; total time=   0.1s\n",
      "[CV] END colsample_bytree=0.5, gamma=0.4, learning_rate=0.35, max_depth=4, min_child_weight=4; total time=   0.1s\n",
      "[CV] END colsample_bytree=0.5, gamma=0.4, learning_rate=0.35, max_depth=4, min_child_weight=4; total time=   0.1s\n",
      "[CV] END colsample_bytree=0.3, gamma=0.2, learning_rate=0.3, max_depth=5, min_child_weight=2; total time=   0.1s\n",
      "[CV] END colsample_bytree=0.4, gamma=0.2, learning_rate=0.3, max_depth=7, min_child_weight=4; total time=   0.1s\n",
      "[CV] END colsample_bytree=0.3, gamma=0.2, learning_rate=0.3, max_depth=5, min_child_weight=2; total time=   0.1s\n",
      "[CV] END colsample_bytree=0.5, gamma=0.4, learning_rate=0.35, max_depth=4, min_child_weight=4; total time=   0.1s\n",
      "[CV] END colsample_bytree=0.4, gamma=0.2, learning_rate=0.3, max_depth=7, min_child_weight=4; total time=   0.1s\n",
      "[CV] END colsample_bytree=0.5, gamma=0.4, learning_rate=0.35, max_depth=4, min_child_weight=4; total time=   0.1s\n",
      "[CV] END colsample_bytree=0.4, gamma=0.2, learning_rate=0.3, max_depth=7, min_child_weight=4; total time=   0.1s\n",
      "[CV] END colsample_bytree=0.5, gamma=0.4, learning_rate=0.35, max_depth=4, min_child_weight=4; total time=   0.1s\n",
      "[CV] END colsample_bytree=0.3, gamma=0.4, learning_rate=0.35, max_depth=7, min_child_weight=5; total time=   0.1s\n",
      "[CV] END colsample_bytree=0.4, gamma=0.2, learning_rate=0.3, max_depth=7, min_child_weight=4; total time=   0.1s\n",
      "[CV] END colsample_bytree=0.3, gamma=0.4, learning_rate=0.35, max_depth=7, min_child_weight=5; total time=   0.1s\n",
      "[CV] END colsample_bytree=0.4, gamma=0.2, learning_rate=0.3, max_depth=7, min_child_weight=4; total time=   0.1s\n",
      "[CV] END colsample_bytree=0.4, gamma=0.2, learning_rate=0.25, max_depth=7, min_child_weight=4; total time=   0.1s\n",
      "[CV] END colsample_bytree=0.3, gamma=0.4, learning_rate=0.35, max_depth=7, min_child_weight=5; total time=   0.1s\n",
      "[CV] END colsample_bytree=0.3, gamma=0.4, learning_rate=0.35, max_depth=7, min_child_weight=5; total time=   0.1s\n",
      "[CV] END colsample_bytree=0.4, gamma=0.2, learning_rate=0.25, max_depth=7, min_child_weight=4; total time=   0.1s\n",
      "[CV] END colsample_bytree=0.4, gamma=0.2, learning_rate=0.25, max_depth=7, min_child_weight=4; total time=   0.1s\n",
      "[CV] END colsample_bytree=0.3, gamma=0.4, learning_rate=0.35, max_depth=7, min_child_weight=5; total time=   0.1s\n",
      "[CV] END colsample_bytree=0.3, gamma=0.1, learning_rate=0.3, max_depth=9, min_child_weight=2; total time=   0.1s\n",
      "[CV] END colsample_bytree=0.2, gamma=0.4, learning_rate=0.2, max_depth=9, min_child_weight=5; total time=   0.1s\n",
      "[CV] END colsample_bytree=0.2, gamma=0.4, learning_rate=0.2, max_depth=9, min_child_weight=5; total time=   0.1s\n",
      "[CV] END colsample_bytree=0.3, gamma=0.1, learning_rate=0.3, max_depth=9, min_child_weight=2; total time=   0.1s\n",
      "[CV] END colsample_bytree=0.4, gamma=0.2, learning_rate=0.25, max_depth=7, min_child_weight=4; total time=   0.1s\n",
      "[CV] END colsample_bytree=0.4, gamma=0.2, learning_rate=0.25, max_depth=7, min_child_weight=4; total time=   0.1s\n",
      "[CV] END colsample_bytree=0.3, gamma=0.1, learning_rate=0.3, max_depth=9, min_child_weight=2; total time=   0.1s\n",
      "[CV] END colsample_bytree=0.2, gamma=0.4, learning_rate=0.2, max_depth=9, min_child_weight=5; total time=   0.1s\n",
      "[CV] END colsample_bytree=0.2, gamma=0.4, learning_rate=0.2, max_depth=9, min_child_weight=5; total time=   0.1s\n",
      "[CV] END colsample_bytree=0.2, gamma=0.4, learning_rate=0.2, max_depth=9, min_child_weight=5; total time=   0.1s\n",
      "[CV] END colsample_bytree=0.3, gamma=0.1, learning_rate=0.3, max_depth=9, min_child_weight=2; total time=   0.1s\n",
      "[CV] END colsample_bytree=0.3, gamma=0.1, learning_rate=0.3, max_depth=9, min_child_weight=2; total time=   0.1s\n",
      "[CV] END colsample_bytree=0.2, gamma=0.2, learning_rate=0.2, max_depth=8, min_child_weight=4; total time=   0.1s\n",
      "[CV] END colsample_bytree=0.4, gamma=0.3, learning_rate=0.2, max_depth=9, min_child_weight=2; total time=   0.1s\n",
      "[CV] END colsample_bytree=0.2, gamma=0.2, learning_rate=0.2, max_depth=8, min_child_weight=4; total time=   0.1s\n",
      "[CV] END colsample_bytree=0.4, gamma=0.3, learning_rate=0.2, max_depth=9, min_child_weight=2; total time=   0.1s\n",
      "[CV] END colsample_bytree=0.2, gamma=0.2, learning_rate=0.2, max_depth=8, min_child_weight=4; total time=   0.1s\n",
      "[CV] END colsample_bytree=0.4, gamma=0.3, learning_rate=0.2, max_depth=9, min_child_weight=2; total time=   0.1s\n",
      "[CV] END colsample_bytree=0.4, gamma=0.4, learning_rate=0.35, max_depth=9, min_child_weight=4; total time=   0.1s\n",
      "[CV] END colsample_bytree=0.2, gamma=0.2, learning_rate=0.2, max_depth=8, min_child_weight=4; total time=   0.1s\n",
      "[CV] END colsample_bytree=0.4, gamma=0.4, learning_rate=0.35, max_depth=9, min_child_weight=4; total time=   0.1s\n",
      "[CV] END colsample_bytree=0.2, gamma=0.2, learning_rate=0.2, max_depth=8, min_child_weight=4; total time=   0.1s\n",
      "[CV] END colsample_bytree=0.4, gamma=0.3, learning_rate=0.2, max_depth=9, min_child_weight=2; total time=   0.1s\n",
      "[CV] END colsample_bytree=0.4, gamma=0.3, learning_rate=0.2, max_depth=9, min_child_weight=2; total time=   0.1s\n",
      "[CV] END colsample_bytree=0.4, gamma=0.4, learning_rate=0.35, max_depth=9, min_child_weight=4; total time=   0.1s\n",
      "[CV] END colsample_bytree=0.4, gamma=0.4, learning_rate=0.35, max_depth=9, min_child_weight=4; total time=   0.1s\n",
      "[CV] END colsample_bytree=0.4, gamma=0.4, learning_rate=0.1, max_depth=9, min_child_weight=2; total time=   0.1s\n",
      "[CV] END colsample_bytree=0.4, gamma=0.4, learning_rate=0.35, max_depth=9, min_child_weight=4; total time=   0.1s\n",
      "[CV] END colsample_bytree=0.4, gamma=0.4, learning_rate=0.1, max_depth=9, min_child_weight=2; total time=   0.1s\n",
      "[CV] END colsample_bytree=0.2, gamma=0.3, learning_rate=0.1, max_depth=8, min_child_weight=5; total time=   0.1s\n",
      "[CV] END colsample_bytree=0.2, gamma=0.3, learning_rate=0.1, max_depth=8, min_child_weight=5; total time=   0.1s\n",
      "[CV] END colsample_bytree=0.5, gamma=0.4, learning_rate=0.3, max_depth=4, min_child_weight=4; total time=   0.1s\n",
      "[CV] END colsample_bytree=0.4, gamma=0.4, learning_rate=0.1, max_depth=9, min_child_weight=2; total time=   0.1s\n",
      "[CV] END colsample_bytree=0.5, gamma=0.4, learning_rate=0.3, max_depth=4, min_child_weight=4; total time=   0.1s\n",
      "[CV] END colsample_bytree=0.5, gamma=0.4, learning_rate=0.3, max_depth=4, min_child_weight=4; total time=   0.1s\n",
      "[CV] END colsample_bytree=0.2, gamma=0.3, learning_rate=0.1, max_depth=8, min_child_weight=5; total time=   0.1s\n",
      "[CV] END colsample_bytree=0.2, gamma=0.3, learning_rate=0.1, max_depth=8, min_child_weight=5; total time=   0.1s\n",
      "[CV] END colsample_bytree=0.2, gamma=0.3, learning_rate=0.1, max_depth=8, min_child_weight=5; total time=   0.1s\n",
      "[CV] END colsample_bytree=0.4, gamma=0.4, learning_rate=0.1, max_depth=9, min_child_weight=2; total time=   0.1s\n",
      "[CV] END colsample_bytree=0.5, gamma=0.4, learning_rate=0.3, max_depth=4, min_child_weight=4; total time=   0.1s\n",
      "[CV] END colsample_bytree=0.4, gamma=0.4, learning_rate=0.1, max_depth=9, min_child_weight=2; total time=   0.1s\n",
      "[CV] END colsample_bytree=0.5, gamma=0.4, learning_rate=0.3, max_depth=4, min_child_weight=4; total time=   0.1s\n",
      "[CV] END colsample_bytree=0.2, gamma=0.4, learning_rate=0.25, max_depth=4, min_child_weight=6; total time=   0.1s\n",
      "[CV] END colsample_bytree=0.2, gamma=0.4, learning_rate=0.25, max_depth=4, min_child_weight=6; total time=   0.1s\n",
      "[CV] END colsample_bytree=0.2, gamma=0.4, learning_rate=0.25, max_depth=4, min_child_weight=6; total time=   0.1s\n",
      "[CV] END colsample_bytree=0.5, gamma=0.3, learning_rate=0.25, max_depth=9, min_child_weight=6; total time=   0.1s\n",
      "[CV] END colsample_bytree=0.5, gamma=0.3, learning_rate=0.25, max_depth=9, min_child_weight=6; total time=   0.1s\n",
      "[CV] END colsample_bytree=0.5, gamma=0.3, learning_rate=0.25, max_depth=9, min_child_weight=6; total time=   0.1s\n",
      "[CV] END colsample_bytree=0.3, gamma=0.3, learning_rate=0.35, max_depth=4, min_child_weight=2; total time=   0.1s\n",
      "[CV] END colsample_bytree=0.3, gamma=0.3, learning_rate=0.35, max_depth=4, min_child_weight=2; total time=   0.1s\n",
      "[CV] END colsample_bytree=0.2, gamma=0.4, learning_rate=0.25, max_depth=4, min_child_weight=6; total time=   0.1s\n",
      "[CV] END colsample_bytree=0.2, gamma=0.4, learning_rate=0.25, max_depth=4, min_child_weight=6; total time=   0.1s\n",
      "[CV] END colsample_bytree=0.3, gamma=0.3, learning_rate=0.35, max_depth=4, min_child_weight=2; total time=   0.1s\n",
      "[CV] END colsample_bytree=0.3, gamma=0.1, learning_rate=0.35, max_depth=9, min_child_weight=6; total time=   0.1s\n",
      "[CV] END colsample_bytree=0.3, gamma=0.3, learning_rate=0.35, max_depth=4, min_child_weight=2; total time=   0.1s\n",
      "[CV] END colsample_bytree=0.3, gamma=0.3, learning_rate=0.35, max_depth=4, min_child_weight=2; total time=   0.1s\n",
      "[CV] END colsample_bytree=0.5, gamma=0.3, learning_rate=0.25, max_depth=9, min_child_weight=6; total time=   0.2s\n",
      "[CV] END colsample_bytree=0.5, gamma=0.3, learning_rate=0.25, max_depth=9, min_child_weight=6; total time=   0.1s\n",
      "[CV] END colsample_bytree=0.3, gamma=0.1, learning_rate=0.35, max_depth=9, min_child_weight=6; total time=   0.1s\n",
      "[CV] END colsample_bytree=0.3, gamma=0.1, learning_rate=0.35, max_depth=9, min_child_weight=6; total time=   0.1s\n",
      "[CV] END colsample_bytree=0.3, gamma=0.1, learning_rate=0.35, max_depth=9, min_child_weight=6; total time=   0.1s\n",
      "[CV] END colsample_bytree=0.2, gamma=0.2, learning_rate=0.3, max_depth=3, min_child_weight=2; total time=   0.1s\n",
      "[CV] END colsample_bytree=0.2, gamma=0.2, learning_rate=0.3, max_depth=3, min_child_weight=2; total time=   0.1s\n",
      "[CV] END colsample_bytree=0.2, gamma=0.2, learning_rate=0.3, max_depth=3, min_child_weight=2; total time=   0.1s\n",
      "[CV] END colsample_bytree=0.5, gamma=0.4, learning_rate=0.1, max_depth=7, min_child_weight=5; total time=   0.1s\n",
      "[CV] END colsample_bytree=0.5, gamma=0.4, learning_rate=0.1, max_depth=7, min_child_weight=5; total time=   0.1s\n",
      "[CV] END colsample_bytree=0.3, gamma=0.1, learning_rate=0.35, max_depth=9, min_child_weight=6; total time=   0.1s\n",
      "[CV] END colsample_bytree=0.2, gamma=0.2, learning_rate=0.3, max_depth=3, min_child_weight=2; total time=   0.1s\n",
      "[CV] END colsample_bytree=0.3, gamma=0.4, learning_rate=0.25, max_depth=3, min_child_weight=5; total time=   0.1s\n",
      "[CV] END colsample_bytree=0.2, gamma=0.2, learning_rate=0.3, max_depth=3, min_child_weight=2; total time=   0.1s\n",
      "[CV] END colsample_bytree=0.3, gamma=0.4, learning_rate=0.25, max_depth=3, min_child_weight=5; total time=   0.1s\n",
      "[CV] END colsample_bytree=0.5, gamma=0.4, learning_rate=0.1, max_depth=7, min_child_weight=5; total time=   0.1s\n",
      "[CV] END colsample_bytree=0.3, gamma=0.4, learning_rate=0.25, max_depth=3, min_child_weight=5; total time=   0.1s\n",
      "[CV] END colsample_bytree=0.5, gamma=0.4, learning_rate=0.1, max_depth=7, min_child_weight=5; total time=   0.1s\n",
      "[CV] END colsample_bytree=0.3, gamma=0.4, learning_rate=0.25, max_depth=3, min_child_weight=5; total time=   0.1s\n",
      "[CV] END colsample_bytree=0.5, gamma=0.4, learning_rate=0.1, max_depth=7, min_child_weight=5; total time=   0.1s\n",
      "[CV] END colsample_bytree=0.5, gamma=0.4, learning_rate=0.2, max_depth=8, min_child_weight=5; total time=   0.1s\n",
      "[CV] END colsample_bytree=0.5, gamma=0.4, learning_rate=0.2, max_depth=8, min_child_weight=5; total time=   0.1s\n",
      "[CV] END colsample_bytree=0.3, gamma=0.4, learning_rate=0.25, max_depth=3, min_child_weight=5; total time=   0.1s\n",
      "[CV] END colsample_bytree=0.5, gamma=0.4, learning_rate=0.2, max_depth=8, min_child_weight=5; total time=   0.1s\n",
      "[CV] END colsample_bytree=0.4, gamma=0.3, learning_rate=0.2, max_depth=9, min_child_weight=5; total time=   0.1s\n",
      "[CV] END colsample_bytree=0.5, gamma=0.4, learning_rate=0.2, max_depth=8, min_child_weight=5; total time=   0.1s\n",
      "[CV] END colsample_bytree=0.5, gamma=0.4, learning_rate=0.2, max_depth=8, min_child_weight=5; total time=   0.1s\n",
      "[CV] END colsample_bytree=0.4, gamma=0.3, learning_rate=0.2, max_depth=9, min_child_weight=5; total time=   0.1s\n",
      "[CV] END colsample_bytree=0.4, gamma=0.3, learning_rate=0.2, max_depth=9, min_child_weight=5; total time=   0.1s\n",
      "[CV] END colsample_bytree=0.2, gamma=0.4, learning_rate=0.1, max_depth=4, min_child_weight=5; total time=   0.1s\n",
      "[CV] END colsample_bytree=0.2, gamma=0.4, learning_rate=0.1, max_depth=4, min_child_weight=5; total time=   0.1s\n",
      "[CV] END colsample_bytree=0.2, gamma=0.4, learning_rate=0.1, max_depth=4, min_child_weight=5; total time=   0.1s\n",
      "[CV] END colsample_bytree=0.4, gamma=0.3, learning_rate=0.2, max_depth=9, min_child_weight=5; total time=   0.1s\n",
      "[CV] END colsample_bytree=0.4, gamma=0.2, learning_rate=0.1, max_depth=4, min_child_weight=5; total time=   0.1s\n",
      "[CV] END colsample_bytree=0.4, gamma=0.1, learning_rate=0.1, max_depth=5, min_child_weight=2; total time=   0.1s\n",
      "[CV] END colsample_bytree=0.4, gamma=0.1, learning_rate=0.1, max_depth=5, min_child_weight=2; total time=   0.1s\n",
      "[CV] END colsample_bytree=0.2, gamma=0.4, learning_rate=0.1, max_depth=4, min_child_weight=5; total time=   0.1s\n",
      "[CV] END colsample_bytree=0.4, gamma=0.2, learning_rate=0.1, max_depth=4, min_child_weight=5; total time=   0.1s\n",
      "[CV] END colsample_bytree=0.2, gamma=0.4, learning_rate=0.1, max_depth=4, min_child_weight=5; total time=   0.1s\n",
      "[CV] END colsample_bytree=0.4, gamma=0.3, learning_rate=0.2, max_depth=9, min_child_weight=5; total time=   0.1s\n",
      "[CV] END colsample_bytree=0.4, gamma=0.1, learning_rate=0.1, max_depth=5, min_child_weight=2; total time=   0.1s\n",
      "[CV] END colsample_bytree=0.4, gamma=0.2, learning_rate=0.1, max_depth=4, min_child_weight=5; total time=   0.1s\n",
      "[CV] END colsample_bytree=0.4, gamma=0.2, learning_rate=0.1, max_depth=4, min_child_weight=5; total time=   0.1s\n",
      "[CV] END colsample_bytree=0.4, gamma=0.1, learning_rate=0.1, max_depth=5, min_child_weight=2; total time=   0.1s\n",
      "[CV] END colsample_bytree=0.4, gamma=0.2, learning_rate=0.1, max_depth=4, min_child_weight=5; total time=   0.1s\n",
      "[CV] END colsample_bytree=0.4, gamma=0.1, learning_rate=0.1, max_depth=5, min_child_weight=2; total time=   0.1s\n",
      "[CV] END colsample_bytree=0.5, gamma=0.1, learning_rate=0.3, max_depth=8, min_child_weight=2; total time=   0.1s\n",
      "[CV] END colsample_bytree=0.3, gamma=0.3, learning_rate=0.1, max_depth=4, min_child_weight=2; total time=   0.1s\n",
      "[CV] END colsample_bytree=0.5, gamma=0.1, learning_rate=0.3, max_depth=8, min_child_weight=2; total time=   0.1s\n",
      "[CV] END colsample_bytree=0.5, gamma=0.2, learning_rate=0.25, max_depth=9, min_child_weight=4; total time=   0.1s\n",
      "[CV] END colsample_bytree=0.3, gamma=0.3, learning_rate=0.1, max_depth=4, min_child_weight=2; total time=   0.1s\n",
      "[CV] END colsample_bytree=0.5, gamma=0.2, learning_rate=0.25, max_depth=9, min_child_weight=4; total time=   0.1s\n",
      "[CV] END colsample_bytree=0.5, gamma=0.2, learning_rate=0.25, max_depth=9, min_child_weight=4; total time=   0.1s\n",
      "[CV] END colsample_bytree=0.5, gamma=0.1, learning_rate=0.3, max_depth=8, min_child_weight=2; total time=   0.1s\n",
      "[CV] END colsample_bytree=0.3, gamma=0.3, learning_rate=0.1, max_depth=4, min_child_weight=2; total time=   0.1s\n",
      "[CV] END colsample_bytree=0.3, gamma=0.3, learning_rate=0.1, max_depth=4, min_child_weight=2; total time=   0.1s\n",
      "[CV] END colsample_bytree=0.3, gamma=0.3, learning_rate=0.1, max_depth=4, min_child_weight=2; total time=   0.1s\n",
      "[CV] END colsample_bytree=0.5, gamma=0.1, learning_rate=0.3, max_depth=8, min_child_weight=2; total time=   0.1s\n",
      "[CV] END colsample_bytree=0.5, gamma=0.1, learning_rate=0.3, max_depth=8, min_child_weight=2; total time=   0.1s\n",
      "[CV] END colsample_bytree=0.5, gamma=0.2, learning_rate=0.25, max_depth=9, min_child_weight=4; total time=   0.1s\n",
      "[CV] END colsample_bytree=0.5, gamma=0.4, learning_rate=0.35, max_depth=5, min_child_weight=5; total time=   0.1s\n",
      "[CV] END colsample_bytree=0.5, gamma=0.2, learning_rate=0.25, max_depth=9, min_child_weight=4; total time=   0.1s\n",
      "[CV] END colsample_bytree=0.5, gamma=0.4, learning_rate=0.35, max_depth=5, min_child_weight=5; total time=   0.1s\n",
      "[CV] END colsample_bytree=0.5, gamma=0.4, learning_rate=0.35, max_depth=5, min_child_weight=5; total time=   0.1s\n",
      "[CV] END colsample_bytree=0.3, gamma=0.1, learning_rate=0.2, max_depth=3, min_child_weight=6; total time=   0.1s\n",
      "[CV] END colsample_bytree=0.3, gamma=0.1, learning_rate=0.2, max_depth=3, min_child_weight=6; total time=   0.1s\n",
      "[CV] END colsample_bytree=0.3, gamma=0.2, learning_rate=0.25, max_depth=7, min_child_weight=4; total time=   0.1s\n",
      "[CV] END colsample_bytree=0.3, gamma=0.1, learning_rate=0.2, max_depth=3, min_child_weight=6; total time=   0.1s\n",
      "[CV] END colsample_bytree=0.3, gamma=0.2, learning_rate=0.25, max_depth=7, min_child_weight=4; total time=   0.1s\n",
      "[CV] END colsample_bytree=0.5, gamma=0.4, learning_rate=0.35, max_depth=5, min_child_weight=5; total time=   0.1s\n",
      "[CV] END colsample_bytree=0.3, gamma=0.1, learning_rate=0.2, max_depth=3, min_child_weight=6; total time=   0.1s\n",
      "[CV] END colsample_bytree=0.3, gamma=0.1, learning_rate=0.2, max_depth=3, min_child_weight=6; total time=   0.1s\n",
      "[CV] END colsample_bytree=0.5, gamma=0.4, learning_rate=0.35, max_depth=5, min_child_weight=5; total time=   0.1s\n",
      "[CV] END colsample_bytree=0.3, gamma=0.2, learning_rate=0.25, max_depth=7, min_child_weight=4; total time=   0.1s\n",
      "[CV] END colsample_bytree=0.3, gamma=0.2, learning_rate=0.25, max_depth=7, min_child_weight=4; total time=   0.1s\n",
      "[CV] END colsample_bytree=0.3, gamma=0.2, learning_rate=0.25, max_depth=7, min_child_weight=4; total time=   0.1s\n",
      "[CV] END colsample_bytree=0.4, gamma=0.3, learning_rate=0.25, max_depth=8, min_child_weight=5; total time=   0.1s\n",
      "[CV] END colsample_bytree=0.4, gamma=0.3, learning_rate=0.25, max_depth=8, min_child_weight=5; total time=   0.1s\n",
      "[CV] END colsample_bytree=0.4, gamma=0.4, learning_rate=0.25, max_depth=3, min_child_weight=4; total time=   0.1s\n",
      "[CV] END colsample_bytree=0.4, gamma=0.4, learning_rate=0.25, max_depth=3, min_child_weight=4; total time=   0.1s\n",
      "[CV] END colsample_bytree=0.4, gamma=0.3, learning_rate=0.25, max_depth=8, min_child_weight=5; total time=   0.1s\n",
      "[CV] END colsample_bytree=0.4, gamma=0.4, learning_rate=0.25, max_depth=3, min_child_weight=4; total time=   0.1s\n",
      "[CV] END colsample_bytree=0.2, gamma=0.4, learning_rate=0.1, max_depth=9, min_child_weight=5; total time=   0.1s\n",
      "[CV] END colsample_bytree=0.2, gamma=0.4, learning_rate=0.1, max_depth=9, min_child_weight=5; total time=   0.1s\n",
      "[CV] END colsample_bytree=0.4, gamma=0.4, learning_rate=0.25, max_depth=3, min_child_weight=4; total time=   0.1s\n",
      "[CV] END colsample_bytree=0.5, gamma=0.4, learning_rate=0.1, max_depth=5, min_child_weight=5; total time=   0.1s\n",
      "[CV] END colsample_bytree=0.4, gamma=0.4, learning_rate=0.25, max_depth=3, min_child_weight=4; total time=   0.1s\n",
      "[CV] END colsample_bytree=0.4, gamma=0.3, learning_rate=0.25, max_depth=8, min_child_weight=5; total time=   0.1s\n",
      "[CV] END colsample_bytree=0.2, gamma=0.4, learning_rate=0.1, max_depth=9, min_child_weight=5; total time=   0.1s\n",
      "[CV] END colsample_bytree=0.2, gamma=0.4, learning_rate=0.1, max_depth=9, min_child_weight=5; total time=   0.1s\n",
      "[CV] END colsample_bytree=0.4, gamma=0.3, learning_rate=0.25, max_depth=8, min_child_weight=5; total time=   0.1s\n",
      "[CV] END colsample_bytree=0.2, gamma=0.4, learning_rate=0.1, max_depth=9, min_child_weight=5; total time=   0.1s\n",
      "[CV] END colsample_bytree=0.4, gamma=0.2, learning_rate=0.35, max_depth=3, min_child_weight=4; total time=   0.1s\n",
      "[CV] END colsample_bytree=0.4, gamma=0.2, learning_rate=0.35, max_depth=3, min_child_weight=4; total time=   0.1s\n",
      "[CV] END colsample_bytree=0.5, gamma=0.4, learning_rate=0.1, max_depth=5, min_child_weight=5; total time=   0.1s\n",
      "[CV] END colsample_bytree=0.5, gamma=0.4, learning_rate=0.1, max_depth=5, min_child_weight=5; total time=   0.1s\n",
      "[CV] END colsample_bytree=0.5, gamma=0.4, learning_rate=0.1, max_depth=5, min_child_weight=5; total time=   0.1s\n",
      "[CV] END colsample_bytree=0.4, gamma=0.3, learning_rate=0.3, max_depth=9, min_child_weight=4; total time=   0.2s\n",
      "[CV] END colsample_bytree=0.4, gamma=0.3, learning_rate=0.3, max_depth=9, min_child_weight=4; total time=   0.2s\n",
      "[CV] END colsample_bytree=0.4, gamma=0.2, learning_rate=0.35, max_depth=3, min_child_weight=4; total time=   0.1s\n",
      "[CV] END colsample_bytree=0.4, gamma=0.2, learning_rate=0.35, max_depth=3, min_child_weight=4; total time=   0.1s\n",
      "[CV] END colsample_bytree=0.4, gamma=0.3, learning_rate=0.3, max_depth=9, min_child_weight=4; total time=   0.2s\n",
      "[CV] END colsample_bytree=0.4, gamma=0.2, learning_rate=0.35, max_depth=3, min_child_weight=4; total time=   0.1s\n",
      "[CV] END colsample_bytree=0.5, gamma=0.4, learning_rate=0.1, max_depth=5, min_child_weight=5; total time=   0.2s\n",
      "[CV] END colsample_bytree=0.2, gamma=0.2, learning_rate=0.1, max_depth=3, min_child_weight=2; total time=   0.1s\n",
      "[CV] END colsample_bytree=0.2, gamma=0.2, learning_rate=0.1, max_depth=3, min_child_weight=2; total time=   0.2s\n",
      "[CV] END colsample_bytree=0.5, gamma=0.3, learning_rate=0.2, max_depth=8, min_child_weight=2; total time=   0.3s\n",
      "[CV] END colsample_bytree=0.4, gamma=0.3, learning_rate=0.3, max_depth=9, min_child_weight=4; total time=   0.3s\n",
      "[CV] END colsample_bytree=0.2, gamma=0.2, learning_rate=0.1, max_depth=3, min_child_weight=2; total time=   0.2s\n",
      "[CV] END colsample_bytree=0.4, gamma=0.3, learning_rate=0.3, max_depth=9, min_child_weight=4; total time=   0.3s\n",
      "[CV] END colsample_bytree=0.5, gamma=0.3, learning_rate=0.2, max_depth=8, min_child_weight=2; total time=   0.3s\n",
      "[CV] END colsample_bytree=0.2, gamma=0.2, learning_rate=0.1, max_depth=3, min_child_weight=2; total time=   0.1s\n",
      "[CV] END colsample_bytree=0.5, gamma=0.3, learning_rate=0.2, max_depth=8, min_child_weight=2; total time=   0.3s\n",
      "[CV] END colsample_bytree=0.2, gamma=0.2, learning_rate=0.1, max_depth=3, min_child_weight=2; total time=   0.1s\n",
      "[CV] END colsample_bytree=0.2, gamma=0.1, learning_rate=0.35, max_depth=4, min_child_weight=5; total time=   0.1s\n",
      "[CV] END colsample_bytree=0.2, gamma=0.1, learning_rate=0.35, max_depth=4, min_child_weight=5; total time=   0.1s\n",
      "[CV] END colsample_bytree=0.2, gamma=0.1, learning_rate=0.35, max_depth=4, min_child_weight=5; total time=   0.1s\n",
      "[CV] END colsample_bytree=0.5, gamma=0.3, learning_rate=0.2, max_depth=8, min_child_weight=2; total time=   0.2s\n",
      "[CV] END colsample_bytree=0.5, gamma=0.4, learning_rate=0.35, max_depth=4, min_child_weight=5; total time=   0.1s\n",
      "[CV] END colsample_bytree=0.5, gamma=0.4, learning_rate=0.35, max_depth=4, min_child_weight=5; total time=   0.1s\n",
      "[CV] END colsample_bytree=0.2, gamma=0.1, learning_rate=0.35, max_depth=4, min_child_weight=5; total time=   0.1s\n",
      "[CV] END colsample_bytree=0.5, gamma=0.4, learning_rate=0.35, max_depth=4, min_child_weight=5; total time=   0.1s\n",
      "[CV] END colsample_bytree=0.2, gamma=0.1, learning_rate=0.35, max_depth=4, min_child_weight=5; total time=   0.1s\n",
      "[CV] END colsample_bytree=0.5, gamma=0.3, learning_rate=0.2, max_depth=8, min_child_weight=2; total time=   0.3s\n",
      "[CV] END colsample_bytree=0.3, gamma=0.2, learning_rate=0.1, max_depth=9, min_child_weight=6; total time=   0.2s\n",
      "[CV] END colsample_bytree=0.3, gamma=0.2, learning_rate=0.1, max_depth=9, min_child_weight=6; total time=   0.2s\n",
      "[CV] END colsample_bytree=0.2, gamma=0.1, learning_rate=0.2, max_depth=9, min_child_weight=6; total time=   0.1s\n",
      "[CV] END colsample_bytree=0.5, gamma=0.4, learning_rate=0.35, max_depth=4, min_child_weight=5; total time=   0.2s\n",
      "[CV] END colsample_bytree=0.5, gamma=0.4, learning_rate=0.35, max_depth=4, min_child_weight=5; total time=   0.2s\n",
      "[CV] END colsample_bytree=0.2, gamma=0.1, learning_rate=0.2, max_depth=9, min_child_weight=6; total time=   0.1s\n",
      "[CV] END colsample_bytree=0.3, gamma=0.2, learning_rate=0.1, max_depth=9, min_child_weight=6; total time=   0.2s\n",
      "[CV] END colsample_bytree=0.2, gamma=0.1, learning_rate=0.2, max_depth=9, min_child_weight=6; total time=   0.1s\n",
      "[CV] END colsample_bytree=0.3, gamma=0.2, learning_rate=0.1, max_depth=9, min_child_weight=6; total time=   0.1s\n",
      "[CV] END colsample_bytree=0.2, gamma=0.1, learning_rate=0.2, max_depth=9, min_child_weight=6; total time=   0.1s\n",
      "[CV] END colsample_bytree=0.2, gamma=0.1, learning_rate=0.2, max_depth=9, min_child_weight=6; total time=   0.1s\n",
      "[CV] END colsample_bytree=0.3, gamma=0.2, learning_rate=0.1, max_depth=9, min_child_weight=6; total time=   0.2s\n",
      "[CV] END colsample_bytree=0.3, gamma=0.2, learning_rate=0.1, max_depth=7, min_child_weight=4; total time=   0.2s\n",
      "[CV] END colsample_bytree=0.2, gamma=0.4, learning_rate=0.25, max_depth=9, min_child_weight=2; total time=   0.1s\n",
      "[CV] END colsample_bytree=0.3, gamma=0.2, learning_rate=0.1, max_depth=7, min_child_weight=4; total time=   0.2s\n",
      "[CV] END colsample_bytree=0.2, gamma=0.4, learning_rate=0.25, max_depth=9, min_child_weight=2; total time=   0.1s\n",
      "[CV] END colsample_bytree=0.3, gamma=0.2, learning_rate=0.1, max_depth=7, min_child_weight=4; total time=   0.2s\n",
      "[CV] END colsample_bytree=0.2, gamma=0.4, learning_rate=0.25, max_depth=9, min_child_weight=2; total time=   0.1s\n",
      "[CV] END colsample_bytree=0.2, gamma=0.3, learning_rate=0.3, max_depth=7, min_child_weight=4; total time=   0.1s\n",
      "[CV] END colsample_bytree=0.2, gamma=0.3, learning_rate=0.3, max_depth=7, min_child_weight=4; total time=   0.1s\n",
      "[CV] END colsample_bytree=0.3, gamma=0.2, learning_rate=0.1, max_depth=7, min_child_weight=4; total time=   0.1s\n",
      "[CV] END colsample_bytree=0.2, gamma=0.4, learning_rate=0.25, max_depth=9, min_child_weight=2; total time=   0.1s\n",
      "[CV] END colsample_bytree=0.3, gamma=0.2, learning_rate=0.1, max_depth=7, min_child_weight=4; total time=   0.1s\n",
      "[CV] END colsample_bytree=0.5, gamma=0.2, learning_rate=0.2, max_depth=3, min_child_weight=5; total time=   0.1s\n",
      "[CV] END colsample_bytree=0.2, gamma=0.4, learning_rate=0.25, max_depth=9, min_child_weight=2; total time=   0.1s\n",
      "[CV] END colsample_bytree=0.2, gamma=0.3, learning_rate=0.3, max_depth=7, min_child_weight=4; total time=   0.1s\n",
      "[CV] END colsample_bytree=0.2, gamma=0.3, learning_rate=0.3, max_depth=7, min_child_weight=4; total time=   0.1s\n",
      "[CV] END colsample_bytree=0.2, gamma=0.3, learning_rate=0.3, max_depth=7, min_child_weight=4; total time=   0.1s\n",
      "[CV] END colsample_bytree=0.5, gamma=0.2, learning_rate=0.2, max_depth=3, min_child_weight=5; total time=   0.1s\n",
      "[CV] END colsample_bytree=0.2, gamma=0.1, learning_rate=0.35, max_depth=7, min_child_weight=6; total time=   0.1s\n",
      "[CV] END colsample_bytree=0.5, gamma=0.2, learning_rate=0.2, max_depth=3, min_child_weight=5; total time=   0.1s\n",
      "[CV] END colsample_bytree=0.5, gamma=0.2, learning_rate=0.2, max_depth=3, min_child_weight=5; total time=   0.1s\n",
      "[CV] END colsample_bytree=0.2, gamma=0.1, learning_rate=0.35, max_depth=7, min_child_weight=6; total time=   0.1s\n",
      "[CV] END colsample_bytree=0.3, gamma=0.3, learning_rate=0.3, max_depth=4, min_child_weight=6; total time=   0.1s\n",
      "[CV] END colsample_bytree=0.3, gamma=0.3, learning_rate=0.3, max_depth=4, min_child_weight=6; total time=   0.1s\n",
      "[CV] END colsample_bytree=0.3, gamma=0.3, learning_rate=0.3, max_depth=4, min_child_weight=6; total time=   0.1s\n",
      "[CV] END colsample_bytree=0.2, gamma=0.1, learning_rate=0.35, max_depth=7, min_child_weight=6; total time=   0.1s\n",
      "[CV] END colsample_bytree=0.2, gamma=0.1, learning_rate=0.35, max_depth=7, min_child_weight=6; total time=   0.1s\n",
      "[CV] END colsample_bytree=0.5, gamma=0.2, learning_rate=0.2, max_depth=3, min_child_weight=5; total time=   0.1s\n",
      "[CV] END colsample_bytree=0.2, gamma=0.1, learning_rate=0.35, max_depth=7, min_child_weight=6; total time=   0.1s\n",
      "[CV] END colsample_bytree=0.3, gamma=0.1, learning_rate=0.35, max_depth=9, min_child_weight=5; total time=   0.1s\n",
      "[CV] END colsample_bytree=0.3, gamma=0.3, learning_rate=0.3, max_depth=4, min_child_weight=6; total time=   0.1s\n",
      "[CV] END colsample_bytree=0.3, gamma=0.3, learning_rate=0.3, max_depth=4, min_child_weight=6; total time=   0.1s\n",
      "[CV] END colsample_bytree=0.3, gamma=0.1, learning_rate=0.35, max_depth=9, min_child_weight=5; total time=   0.1s\n",
      "[CV] END colsample_bytree=0.3, gamma=0.3, learning_rate=0.2, max_depth=4, min_child_weight=5; total time=   0.1s\n",
      "[CV] END colsample_bytree=0.3, gamma=0.3, learning_rate=0.2, max_depth=4, min_child_weight=5; total time=   0.1s\n",
      "[CV] END colsample_bytree=0.3, gamma=0.1, learning_rate=0.35, max_depth=9, min_child_weight=5; total time=   0.1s\n",
      "[CV] END colsample_bytree=0.3, gamma=0.3, learning_rate=0.2, max_depth=4, min_child_weight=5; total time=   0.1s\n",
      "[CV] END colsample_bytree=0.4, gamma=0.2, learning_rate=0.2, max_depth=3, min_child_weight=2; total time=   0.1s\n",
      "[CV] END colsample_bytree=0.3, gamma=0.1, learning_rate=0.35, max_depth=9, min_child_weight=5; total time=   0.1s\n",
      "[CV] END colsample_bytree=0.4, gamma=0.2, learning_rate=0.2, max_depth=3, min_child_weight=2; total time=   0.1s\n",
      "[CV] END colsample_bytree=0.3, gamma=0.1, learning_rate=0.2, max_depth=5, min_child_weight=2; total time=   0.1s\n",
      "[CV] END colsample_bytree=0.3, gamma=0.3, learning_rate=0.2, max_depth=4, min_child_weight=5; total time=   0.1s\n",
      "[CV] END colsample_bytree=0.3, gamma=0.3, learning_rate=0.2, max_depth=4, min_child_weight=5; total time=   0.1s\n",
      "[CV] END colsample_bytree=0.4, gamma=0.2, learning_rate=0.2, max_depth=3, min_child_weight=2; total time=   0.1s\n",
      "[CV] END colsample_bytree=0.4, gamma=0.2, learning_rate=0.2, max_depth=3, min_child_weight=2; total time=   0.1s\n",
      "[CV] END colsample_bytree=0.3, gamma=0.1, learning_rate=0.35, max_depth=9, min_child_weight=5; total time=   0.1s\n",
      "[CV] END colsample_bytree=0.4, gamma=0.2, learning_rate=0.2, max_depth=3, min_child_weight=2; total time=   0.1s\n",
      "[CV] END colsample_bytree=0.3, gamma=0.1, learning_rate=0.2, max_depth=5, min_child_weight=2; total time=   0.1s\n",
      "[CV] END colsample_bytree=0.3, gamma=0.1, learning_rate=0.2, max_depth=5, min_child_weight=2; total time=   0.2s\n",
      "[CV] END colsample_bytree=0.3, gamma=0.1, learning_rate=0.2, max_depth=5, min_child_weight=2; total time=   0.1s\n",
      "[CV] END colsample_bytree=0.5, gamma=0.1, learning_rate=0.1, max_depth=3, min_child_weight=2; total time=   0.2s[CV] END colsample_bytree=0.5, gamma=0.1, learning_rate=0.1, max_depth=3, min_child_weight=2; total time=   0.2s\n",
      "\n",
      "[CV] END colsample_bytree=0.5, gamma=0.3, learning_rate=0.25, max_depth=8, min_child_weight=4; total time=   0.2s\n",
      "[CV] END colsample_bytree=0.5, gamma=0.1, learning_rate=0.1, max_depth=3, min_child_weight=2; total time=   0.2s\n",
      "[CV] END colsample_bytree=0.3, gamma=0.1, learning_rate=0.2, max_depth=5, min_child_weight=2; total time=   0.2s\n",
      "[CV] END colsample_bytree=0.5, gamma=0.3, learning_rate=0.25, max_depth=8, min_child_weight=4; total time=   0.2s\n",
      "[CV] END colsample_bytree=0.5, gamma=0.1, learning_rate=0.35, max_depth=7, min_child_weight=2; total time=   0.2s\n",
      "[CV] END colsample_bytree=0.5, gamma=0.1, learning_rate=0.1, max_depth=3, min_child_weight=2; total time=   0.1s\n",
      "[CV] END colsample_bytree=0.5, gamma=0.1, learning_rate=0.1, max_depth=3, min_child_weight=2; total time=   0.2s\n",
      "[CV] END colsample_bytree=0.5, gamma=0.3, learning_rate=0.25, max_depth=8, min_child_weight=4; total time=   0.2s\n",
      "[CV] END colsample_bytree=0.5, gamma=0.3, learning_rate=0.25, max_depth=8, min_child_weight=4; total time=   0.2s\n",
      "[CV] END colsample_bytree=0.5, gamma=0.1, learning_rate=0.35, max_depth=7, min_child_weight=2; total time=   0.2s\n",
      "[CV] END colsample_bytree=0.5, gamma=0.1, learning_rate=0.35, max_depth=7, min_child_weight=2; total time=   0.2s\n",
      "[CV] END colsample_bytree=0.5, gamma=0.3, learning_rate=0.25, max_depth=8, min_child_weight=4; total time=   0.2s\n",
      "[CV] END colsample_bytree=0.5, gamma=0.1, learning_rate=0.25, max_depth=5, min_child_weight=6; total time=   0.1s\n",
      "[CV] END colsample_bytree=0.5, gamma=0.1, learning_rate=0.25, max_depth=5, min_child_weight=6; total time=   0.1s\n",
      "[CV] END colsample_bytree=0.5, gamma=0.1, learning_rate=0.25, max_depth=5, min_child_weight=6; total time=   0.1s\n",
      "[CV] END colsample_bytree=0.5, gamma=0.1, learning_rate=0.35, max_depth=7, min_child_weight=2; total time=   0.2s\n",
      "[CV] END colsample_bytree=0.4, gamma=0.1, learning_rate=0.2, max_depth=3, min_child_weight=2; total time=   0.1s\n",
      "[CV] END colsample_bytree=0.4, gamma=0.1, learning_rate=0.2, max_depth=3, min_child_weight=2; total time=   0.1s\n",
      "[CV] END colsample_bytree=0.4, gamma=0.1, learning_rate=0.2, max_depth=3, min_child_weight=2; total time=   0.1s\n",
      "[CV] END colsample_bytree=0.3, gamma=0.2, learning_rate=0.2, max_depth=8, min_child_weight=2; total time=   0.2s\n",
      "[CV] END colsample_bytree=0.5, gamma=0.1, learning_rate=0.35, max_depth=7, min_child_weight=2; total time=   0.2s\n",
      "[CV] END colsample_bytree=0.5, gamma=0.1, learning_rate=0.25, max_depth=5, min_child_weight=6; total time=   0.1s[CV] END colsample_bytree=0.4, gamma=0.1, learning_rate=0.2, max_depth=3, min_child_weight=2; total time=   0.1s\n",
      "[CV] END colsample_bytree=0.5, gamma=0.1, learning_rate=0.25, max_depth=5, min_child_weight=6; total time=   0.2s\n",
      "\n",
      "[CV] END colsample_bytree=0.4, gamma=0.1, learning_rate=0.2, max_depth=3, min_child_weight=2; total time=   0.1s\n",
      "[CV] END colsample_bytree=0.3, gamma=0.2, learning_rate=0.2, max_depth=8, min_child_weight=2; total time=   0.2s\n",
      "[CV] END colsample_bytree=0.2, gamma=0.2, learning_rate=0.25, max_depth=9, min_child_weight=5; total time=   0.2s\n",
      "[CV] END colsample_bytree=0.2, gamma=0.2, learning_rate=0.25, max_depth=9, min_child_weight=5; total time=   0.2s\n",
      "[CV] END colsample_bytree=0.3, gamma=0.2, learning_rate=0.2, max_depth=8, min_child_weight=2; total time=   0.3s\n",
      "[CV] END colsample_bytree=0.3, gamma=0.2, learning_rate=0.2, max_depth=8, min_child_weight=2; total time=   0.3s\n",
      "[CV] END colsample_bytree=0.4, gamma=0.2, learning_rate=0.35, max_depth=7, min_child_weight=4; total time=   0.3s\n",
      "[CV] END colsample_bytree=0.4, gamma=0.2, learning_rate=0.35, max_depth=7, min_child_weight=4; total time=   0.3s\n",
      "[CV] END colsample_bytree=0.4, gamma=0.2, learning_rate=0.35, max_depth=7, min_child_weight=4; total time=   0.3s\n",
      "[CV] END colsample_bytree=0.3, gamma=0.4, learning_rate=0.35, max_depth=3, min_child_weight=2; total time=   0.1s\n",
      "[CV] END colsample_bytree=0.2, gamma=0.2, learning_rate=0.25, max_depth=9, min_child_weight=5; total time=   0.2s\n",
      "[CV] END colsample_bytree=0.3, gamma=0.2, learning_rate=0.2, max_depth=8, min_child_weight=2; total time=   0.3s\n",
      "[CV] END colsample_bytree=0.2, gamma=0.2, learning_rate=0.25, max_depth=9, min_child_weight=5; total time=   0.2s\n",
      "[CV] END colsample_bytree=0.2, gamma=0.2, learning_rate=0.25, max_depth=9, min_child_weight=5; total time=   0.2s\n",
      "[CV] END colsample_bytree=0.3, gamma=0.4, learning_rate=0.35, max_depth=3, min_child_weight=2; total time=   0.2s\n",
      "[CV] END colsample_bytree=0.4, gamma=0.2, learning_rate=0.35, max_depth=7, min_child_weight=4; total time=   0.2s\n",
      "[CV] END colsample_bytree=0.4, gamma=0.2, learning_rate=0.35, max_depth=7, min_child_weight=4; total time=   0.2s\n",
      "[CV] END colsample_bytree=0.3, gamma=0.4, learning_rate=0.35, max_depth=3, min_child_weight=2; total time=   0.1s\n",
      "[CV] END colsample_bytree=0.3, gamma=0.4, learning_rate=0.35, max_depth=3, min_child_weight=2; total time=   0.2s\n",
      "[CV] END colsample_bytree=0.4, gamma=0.3, learning_rate=0.25, max_depth=4, min_child_weight=2; total time=   0.2s\n",
      "[CV] END colsample_bytree=0.4, gamma=0.3, learning_rate=0.25, max_depth=4, min_child_weight=2; total time=   0.1s\n",
      "[CV] END colsample_bytree=0.4, gamma=0.3, learning_rate=0.25, max_depth=4, min_child_weight=2; total time=   0.1s\n",
      "[CV] END colsample_bytree=0.4, gamma=0.4, learning_rate=0.25, max_depth=5, min_child_weight=6; total time=   0.1s\n",
      "[CV] END colsample_bytree=0.3, gamma=0.4, learning_rate=0.35, max_depth=3, min_child_weight=2; total time=   0.1s\n",
      "[CV] END colsample_bytree=0.2, gamma=0.4, learning_rate=0.2, max_depth=8, min_child_weight=6; total time=   0.1s\n",
      "[CV] END colsample_bytree=0.2, gamma=0.4, learning_rate=0.2, max_depth=8, min_child_weight=6; total time=   0.1s\n",
      "[CV] END colsample_bytree=0.4, gamma=0.4, learning_rate=0.25, max_depth=5, min_child_weight=6; total time=   0.1s\n",
      "[CV] END colsample_bytree=0.4, gamma=0.3, learning_rate=0.25, max_depth=4, min_child_weight=2; total time=   0.1s\n",
      "[CV] END colsample_bytree=0.4, gamma=0.3, learning_rate=0.25, max_depth=4, min_child_weight=2; total time=   0.1s\n",
      "[CV] END colsample_bytree=0.4, gamma=0.4, learning_rate=0.25, max_depth=5, min_child_weight=6; total time=   0.2s\n",
      "[CV] END colsample_bytree=0.2, gamma=0.4, learning_rate=0.2, max_depth=8, min_child_weight=6; total time=   0.2s\n",
      "[CV] END colsample_bytree=0.2, gamma=0.4, learning_rate=0.2, max_depth=8, min_child_weight=6; total time=   0.2s\n",
      "[CV] END colsample_bytree=0.4, gamma=0.4, learning_rate=0.25, max_depth=5, min_child_weight=6; total time=   0.2s\n",
      "[CV] END colsample_bytree=0.2, gamma=0.4, learning_rate=0.2, max_depth=8, min_child_weight=6; total time=   0.2s\n",
      "[CV] END colsample_bytree=0.4, gamma=0.4, learning_rate=0.25, max_depth=5, min_child_weight=6; total time=   0.2s\n",
      "[CV] END colsample_bytree=0.5, gamma=0.2, learning_rate=0.3, max_depth=4, min_child_weight=5; total time=   0.1s\n",
      "[CV] END colsample_bytree=0.5, gamma=0.4, learning_rate=0.35, max_depth=9, min_child_weight=2; total time=   0.3s\n",
      "[CV] END colsample_bytree=0.5, gamma=0.4, learning_rate=0.35, max_depth=9, min_child_weight=2; total time=   0.3s\n",
      "[CV] END colsample_bytree=0.5, gamma=0.4, learning_rate=0.25, max_depth=8, min_child_weight=5; total time=   0.2s\n",
      "[CV] END colsample_bytree=0.5, gamma=0.4, learning_rate=0.25, max_depth=8, min_child_weight=5; total time=   0.2s\n",
      "[CV] END colsample_bytree=0.5, gamma=0.2, learning_rate=0.3, max_depth=4, min_child_weight=5; total time=   0.2s\n",
      "[CV] END colsample_bytree=0.5, gamma=0.4, learning_rate=0.25, max_depth=8, min_child_weight=5; total time=   0.2s\n",
      "[CV] END colsample_bytree=0.5, gamma=0.4, learning_rate=0.35, max_depth=9, min_child_weight=2; total time=   0.2s\n",
      "[CV] END colsample_bytree=0.5, gamma=0.2, learning_rate=0.3, max_depth=4, min_child_weight=5; total time=   0.2s\n",
      "[CV] END colsample_bytree=0.5, gamma=0.2, learning_rate=0.3, max_depth=4, min_child_weight=5; total time=   0.1s\n",
      "[CV] END colsample_bytree=0.5, gamma=0.4, learning_rate=0.25, max_depth=8, min_child_weight=5; total time=   0.2s\n",
      "[CV] END colsample_bytree=0.5, gamma=0.2, learning_rate=0.3, max_depth=4, min_child_weight=5; total time=   0.1s\n",
      "[CV] END colsample_bytree=0.2, gamma=0.1, learning_rate=0.35, max_depth=7, min_child_weight=2; total time=   0.1s\n",
      "[CV] END colsample_bytree=0.5, gamma=0.4, learning_rate=0.25, max_depth=8, min_child_weight=5; total time=   0.2s\n",
      "[CV] END colsample_bytree=0.5, gamma=0.4, learning_rate=0.35, max_depth=9, min_child_weight=2; total time=   0.2s\n",
      "[CV] END colsample_bytree=0.5, gamma=0.4, learning_rate=0.35, max_depth=9, min_child_weight=2; total time=   0.2s\n",
      "[CV] END colsample_bytree=0.2, gamma=0.1, learning_rate=0.35, max_depth=7, min_child_weight=2; total time=   0.1s\n",
      "[CV] END colsample_bytree=0.2, gamma=0.4, learning_rate=0.3, max_depth=3, min_child_weight=5; total time=   0.1s\n",
      "[CV] END colsample_bytree=0.2, gamma=0.4, learning_rate=0.3, max_depth=3, min_child_weight=5; total time=   0.1s\n",
      "[CV] END colsample_bytree=0.2, gamma=0.1, learning_rate=0.35, max_depth=7, min_child_weight=2; total time=   0.1s\n",
      "[CV] END colsample_bytree=0.2, gamma=0.1, learning_rate=0.35, max_depth=7, min_child_weight=2; total time=   0.1s\n",
      "[CV] END colsample_bytree=0.2, gamma=0.1, learning_rate=0.3, max_depth=7, min_child_weight=6; total time=   0.1s\n",
      "[CV] END colsample_bytree=0.2, gamma=0.1, learning_rate=0.3, max_depth=7, min_child_weight=6; total time=   0.1s\n",
      "[CV] END colsample_bytree=0.2, gamma=0.1, learning_rate=0.3, max_depth=7, min_child_weight=6; total time=   0.1s\n",
      "[CV] END colsample_bytree=0.2, gamma=0.4, learning_rate=0.3, max_depth=3, min_child_weight=5; total time=   0.1s\n",
      "[CV] END colsample_bytree=0.2, gamma=0.4, learning_rate=0.3, max_depth=3, min_child_weight=5; total time=   0.1s\n",
      "[CV] END colsample_bytree=0.2, gamma=0.4, learning_rate=0.3, max_depth=3, min_child_weight=5; total time=   0.1s\n",
      "[CV] END colsample_bytree=0.2, gamma=0.1, learning_rate=0.35, max_depth=7, min_child_weight=2; total time=   0.1s\n",
      "[CV] END colsample_bytree=0.2, gamma=0.1, learning_rate=0.3, max_depth=7, min_child_weight=6; total time=   0.1s\n",
      "[CV] END colsample_bytree=0.2, gamma=0.3, learning_rate=0.25, max_depth=8, min_child_weight=2; total time=   0.1s\n",
      "[CV] END colsample_bytree=0.2, gamma=0.1, learning_rate=0.3, max_depth=7, min_child_weight=6; total time=   0.1s\n",
      "[CV] END colsample_bytree=0.2, gamma=0.3, learning_rate=0.25, max_depth=8, min_child_weight=2; total time=   0.1s\n",
      "[CV] END colsample_bytree=0.2, gamma=0.3, learning_rate=0.25, max_depth=8, min_child_weight=2; total time=   0.1s\n",
      "[CV] END colsample_bytree=0.4, gamma=0.3, learning_rate=0.25, max_depth=8, min_child_weight=6; total time=   0.1s\n",
      "[CV] END colsample_bytree=0.4, gamma=0.3, learning_rate=0.25, max_depth=8, min_child_weight=6; total time=   0.1s\n",
      "[CV] END colsample_bytree=0.4, gamma=0.3, learning_rate=0.25, max_depth=8, min_child_weight=6; total time=   0.1s\n",
      "[CV] END colsample_bytree=0.3, gamma=0.1, learning_rate=0.25, max_depth=8, min_child_weight=5; total time=   0.1s\n",
      "[CV] END colsample_bytree=0.2, gamma=0.3, learning_rate=0.25, max_depth=8, min_child_weight=2; total time=   0.1s\n",
      "[CV] END colsample_bytree=0.3, gamma=0.1, learning_rate=0.25, max_depth=8, min_child_weight=5; total time=   0.1s\n",
      "[CV] END colsample_bytree=0.2, gamma=0.4, learning_rate=0.2, max_depth=8, min_child_weight=2; total time=   0.1s\n",
      "[CV] END colsample_bytree=0.2, gamma=0.3, learning_rate=0.25, max_depth=8, min_child_weight=2; total time=   0.1s\n",
      "[CV] END colsample_bytree=0.4, gamma=0.3, learning_rate=0.25, max_depth=8, min_child_weight=6; total time=   0.1s\n",
      "[CV] END colsample_bytree=0.3, gamma=0.1, learning_rate=0.25, max_depth=8, min_child_weight=5; total time=   0.1s\n",
      "[CV] END colsample_bytree=0.4, gamma=0.3, learning_rate=0.25, max_depth=8, min_child_weight=6; total time=   0.1s\n",
      "[CV] END colsample_bytree=0.3, gamma=0.1, learning_rate=0.25, max_depth=8, min_child_weight=5; total time=   0.1s\n",
      "[CV] END colsample_bytree=0.3, gamma=0.1, learning_rate=0.25, max_depth=8, min_child_weight=5; total time=   0.1s\n",
      "[CV] END colsample_bytree=0.2, gamma=0.4, learning_rate=0.2, max_depth=8, min_child_weight=2; total time=   0.1s\n",
      "[CV] END colsample_bytree=0.2, gamma=0.4, learning_rate=0.2, max_depth=8, min_child_weight=2; total time=   0.1s\n",
      "[CV] END colsample_bytree=0.2, gamma=0.4, learning_rate=0.2, max_depth=8, min_child_weight=2; total time=   0.1s\n",
      "[CV] END colsample_bytree=0.4, gamma=0.2, learning_rate=0.1, max_depth=3, min_child_weight=4; total time=   0.1s\n",
      "[CV] END colsample_bytree=0.4, gamma=0.2, learning_rate=0.1, max_depth=3, min_child_weight=4; total time=   0.1s\n",
      "[CV] END colsample_bytree=0.5, gamma=0.2, learning_rate=0.1, max_depth=3, min_child_weight=4; total time=   0.1s\n",
      "[CV] END colsample_bytree=0.5, gamma=0.2, learning_rate=0.1, max_depth=3, min_child_weight=4; total time=   0.1s\n",
      "[CV] END colsample_bytree=0.3, gamma=0.4, learning_rate=0.1, max_depth=3, min_child_weight=2; total time=   0.1s\n",
      "[CV] END colsample_bytree=0.5, gamma=0.2, learning_rate=0.1, max_depth=3, min_child_weight=4; total time=   0.1s\n",
      "[CV] END colsample_bytree=0.2, gamma=0.4, learning_rate=0.2, max_depth=8, min_child_weight=2; total time=   0.1s\n",
      "[CV] END colsample_bytree=0.4, gamma=0.2, learning_rate=0.1, max_depth=3, min_child_weight=4; total time=   0.1s\n",
      "[CV] END colsample_bytree=0.4, gamma=0.2, learning_rate=0.1, max_depth=3, min_child_weight=4; total time=   0.1s\n",
      "[CV] END colsample_bytree=0.4, gamma=0.2, learning_rate=0.1, max_depth=3, min_child_weight=4; total time=   0.1s\n",
      "[CV] END colsample_bytree=0.3, gamma=0.4, learning_rate=0.1, max_depth=3, min_child_weight=2; total time=   0.1s\n",
      "[CV] END colsample_bytree=0.3, gamma=0.4, learning_rate=0.1, max_depth=3, min_child_weight=2; total time=   0.1s\n",
      "[CV] END colsample_bytree=0.5, gamma=0.2, learning_rate=0.1, max_depth=3, min_child_weight=4; total time=   0.1s\n",
      "[CV] END colsample_bytree=0.5, gamma=0.2, learning_rate=0.1, max_depth=3, min_child_weight=4; total time=   0.2s\n",
      "[CV] END colsample_bytree=0.3, gamma=0.4, learning_rate=0.1, max_depth=3, min_child_weight=2; total time=   0.1s\n",
      "[CV] END colsample_bytree=0.4, gamma=0.2, learning_rate=0.1, max_depth=3, min_child_weight=2; total time=   0.2s\n",
      "[CV] END colsample_bytree=0.4, gamma=0.2, learning_rate=0.1, max_depth=3, min_child_weight=2; total time=   0.2s\n",
      "[CV] END colsample_bytree=0.4, gamma=0.2, learning_rate=0.1, max_depth=3, min_child_weight=2; total time=   0.2s\n",
      "[CV] END colsample_bytree=0.2, gamma=0.1, learning_rate=0.25, max_depth=5, min_child_weight=2; total time=   0.1s\n",
      "[CV] END colsample_bytree=0.2, gamma=0.1, learning_rate=0.25, max_depth=5, min_child_weight=2; total time=   0.2s\n",
      "[CV] END colsample_bytree=0.3, gamma=0.4, learning_rate=0.1, max_depth=3, min_child_weight=2; total time=   0.1s\n",
      "[CV] END colsample_bytree=0.5, gamma=0.2, learning_rate=0.25, max_depth=8, min_child_weight=6; total time=   0.2s\n",
      "[CV] END colsample_bytree=0.5, gamma=0.2, learning_rate=0.25, max_depth=8, min_child_weight=6; total time=   0.2s\n",
      "[CV] END colsample_bytree=0.4, gamma=0.2, learning_rate=0.1, max_depth=3, min_child_weight=2; total time=   0.2s\n",
      "[CV] END colsample_bytree=0.4, gamma=0.2, learning_rate=0.1, max_depth=3, min_child_weight=2; total time=   0.1s\n",
      "[CV] END colsample_bytree=0.2, gamma=0.1, learning_rate=0.25, max_depth=5, min_child_weight=2; total time=   0.1s[CV] END colsample_bytree=0.2, gamma=0.1, learning_rate=0.25, max_depth=5, min_child_weight=2; total time=   0.1s\n",
      "\n",
      "[CV] END colsample_bytree=0.2, gamma=0.1, learning_rate=0.25, max_depth=5, min_child_weight=2; total time=   0.2s\n",
      "[CV] END colsample_bytree=0.5, gamma=0.2, learning_rate=0.25, max_depth=8, min_child_weight=6; total time=   0.2s\n",
      "[CV] END colsample_bytree=0.5, gamma=0.2, learning_rate=0.25, max_depth=8, min_child_weight=6; total time=   0.3s\n",
      "[CV] END colsample_bytree=0.5, gamma=0.2, learning_rate=0.25, max_depth=8, min_child_weight=6; total time=   0.3s\n",
      "[CV] END colsample_bytree=0.4, gamma=0.4, learning_rate=0.35, max_depth=7, min_child_weight=2; total time=   0.3s\n",
      "[CV] END colsample_bytree=0.4, gamma=0.4, learning_rate=0.35, max_depth=7, min_child_weight=2; total time=   0.3s\n",
      "[CV] END colsample_bytree=0.4, gamma=0.2, learning_rate=0.2, max_depth=5, min_child_weight=6; total time=   0.3s\n",
      "[CV] END colsample_bytree=0.4, gamma=0.2, learning_rate=0.2, max_depth=5, min_child_weight=6; total time=   0.2s\n",
      "[CV] END colsample_bytree=0.4, gamma=0.2, learning_rate=0.2, max_depth=5, min_child_weight=6; total time=   0.2s\n",
      "[CV] END colsample_bytree=0.4, gamma=0.4, learning_rate=0.35, max_depth=7, min_child_weight=2; total time=   0.3s\n",
      "[CV] END colsample_bytree=0.2, gamma=0.3, learning_rate=0.2, max_depth=9, min_child_weight=4; total time=   0.1s\n",
      "[CV] END colsample_bytree=0.2, gamma=0.3, learning_rate=0.2, max_depth=9, min_child_weight=4; total time=   0.1s\n",
      "[CV] END colsample_bytree=0.4, gamma=0.2, learning_rate=0.2, max_depth=5, min_child_weight=6; total time=   0.1s\n",
      "[CV] END colsample_bytree=0.4, gamma=0.2, learning_rate=0.2, max_depth=5, min_child_weight=6; total time=   0.1s\n",
      "[CV] END colsample_bytree=0.4, gamma=0.4, learning_rate=0.35, max_depth=7, min_child_weight=2; total time=   0.2s\n",
      "[CV] END colsample_bytree=0.2, gamma=0.3, learning_rate=0.2, max_depth=9, min_child_weight=4; total time=   0.1s\n",
      "[CV] END colsample_bytree=0.4, gamma=0.4, learning_rate=0.35, max_depth=7, min_child_weight=2; total time=   0.2s\n",
      "[CV] END colsample_bytree=0.5, gamma=0.3, learning_rate=0.3, max_depth=4, min_child_weight=4; total time=   0.1s\n",
      "[CV] END colsample_bytree=0.2, gamma=0.3, learning_rate=0.2, max_depth=9, min_child_weight=4; total time=   0.1s\n",
      "[CV] END colsample_bytree=0.2, gamma=0.3, learning_rate=0.2, max_depth=9, min_child_weight=4; total time=   0.1s\n",
      "[CV] END colsample_bytree=0.5, gamma=0.3, learning_rate=0.3, max_depth=4, min_child_weight=4; total time=   0.1s\n",
      "[CV] END colsample_bytree=0.2, gamma=0.2, learning_rate=0.1, max_depth=8, min_child_weight=4; total time=   0.1s\n",
      "[CV] END colsample_bytree=0.2, gamma=0.2, learning_rate=0.1, max_depth=8, min_child_weight=4; total time=   0.1s\n",
      "[CV] END colsample_bytree=0.2, gamma=0.2, learning_rate=0.1, max_depth=8, min_child_weight=4; total time=   0.1s\n",
      "[CV] END colsample_bytree=0.5, gamma=0.3, learning_rate=0.3, max_depth=4, min_child_weight=4; total time=   0.1s\n",
      "[CV] END colsample_bytree=0.5, gamma=0.3, learning_rate=0.3, max_depth=4, min_child_weight=4; total time=   0.1s\n",
      "[CV] END colsample_bytree=0.2, gamma=0.2, learning_rate=0.1, max_depth=8, min_child_weight=4; total time=   0.1s\n",
      "[CV] END colsample_bytree=0.2, gamma=0.2, learning_rate=0.1, max_depth=8, min_child_weight=4; total time=   0.1s\n",
      "[CV] END colsample_bytree=0.5, gamma=0.3, learning_rate=0.3, max_depth=4, min_child_weight=4; total time=   0.1s\n",
      "0.8228860777857833\n",
      "{'min_child_weight': 2, 'max_depth': 3, 'learning_rate': 0.1, 'gamma': 0.1, 'colsample_bytree': 0.5}\n",
      "XGBClassifier(base_score=None, booster=None, callbacks=None,\n",
      "              colsample_bylevel=None, colsample_bynode=None,\n",
      "              colsample_bytree=0.5, early_stopping_rounds=None,\n",
      "              enable_categorical=False, eval_metric=None, feature_types=None,\n",
      "              gamma=0.1, gpu_id=None, grow_policy=None, importance_type=None,\n",
      "              interaction_constraints=None, learning_rate=0.1, max_bin=None,\n",
      "              max_cat_threshold=None, max_cat_to_onehot=None,\n",
      "              max_delta_step=None, max_depth=3, max_leaves=None,\n",
      "              min_child_weight=2, missing=nan, monotone_constraints=None,\n",
      "              n_estimators=100, n_jobs=None, num_parallel_tree=None,\n",
      "              predictor=None, random_state=None, ...)\n"
     ]
    }
   ],
   "source": [
    "xgboost_classifier= xgboost.XGBClassifier()\n",
    "\n",
    "xgboost_params= {\"learning_rate\": [0.1, 0.2, 0.25, 0.3, 0.35],\n",
    "                 \"max_depth\": [3,4,5,7,8,9],\n",
    "                 \"min_child_weight\": [2,4,5,6],\n",
    "                 \"gamma\": [0.1, 0.2, 0.3, 0.4],\n",
    "                 \"colsample_bytree\": [0.2,0.3, 0.4, 0.5]}\n",
    "\n",
    "xgboost_cv= KFold(n_splits=5)\n",
    "\n",
    "xgboost_search= RandomizedSearchCV(estimator= xgboost_classifier, param_distributions=xgboost_params, n_iter=100,\n",
    "                                   scoring= \"roc_auc\", n_jobs=-1, cv=xgboost_cv, verbose=2, random_state=1)\n",
    "\n",
    "\n",
    "xgboost_search.fit(x_train, y_train)\n",
    "\n",
    "print(xgboost_search.best_score_)\n",
    "print(xgboost_search.best_params_)\n",
    "print(xgboost_search.best_estimator_)"
   ]
  },
  {
   "cell_type": "code",
   "execution_count": 17,
   "metadata": {},
   "outputs": [
    {
     "name": "stdout",
     "output_type": "stream",
     "text": [
      "0.7857142857142857\n",
      "              precision    recall  f1-score   support\n",
      "\n",
      "           0       0.81      0.87      0.84        99\n",
      "           1       0.73      0.64      0.68        55\n",
      "\n",
      "    accuracy                           0.79       154\n",
      "   macro avg       0.77      0.75      0.76       154\n",
      "weighted avg       0.78      0.79      0.78       154\n",
      "\n"
     ]
    },
    {
     "data": {
      "image/png": "[encoded data removed]",
      "text/plain": [
       "<Figure size 600x600 with 1 Axes>"
      ]
     },
     "metadata": {},
     "output_type": "display_data"
    }
   ],
   "source": [
    "classifier_xgboost= xgboost_search.best_estimator_\n",
    "\n",
    "xgboost_pred= classifier_xgboost.predict(x_test)\n",
    "\n",
    "cm2= confusion_matrix(y_test, xgboost_pred)\n",
    "plot_confusion_matrix(cm2, figsize=(6,6))\n",
    "\n",
    "print(accuracy_score(y_test, xgboost_pred))\n",
    "print(classification_report(y_test, xgboost_pred))"
   ]
  },
  {
   "cell_type": "markdown",
   "metadata": {},
   "source": [
    "### Creating pickle file"
   ]
  },
  {
   "cell_type": "code",
   "execution_count": 47,
   "metadata": {},
   "outputs": [],
   "source": [
    "pickle_out= open(\"classifier_diabetes.pkl\", \"wb\")\n",
    "\n",
    "pickle.dump(classifier_xgboost, pickle_out)\n",
    "pickle_out.close()"
   ]
  },
  {
   "cell_type": "code",
   "execution_count": null,
   "metadata": {},
   "outputs": [],
   "source": []
  }
 ],
 "metadata": {
  "kernelspec": {
   "display_name": "Python 3",
   "language": "python",
   "name": "python3"
  },
  "language_info": {
   "codemirror_mode": {
    "name": "ipython",
    "version": 3
   },
   "file_extension": ".py",
   "mimetype": "text/x-python",
   "name": "python",
   "nbconvert_exporter": "python",
   "pygments_lexer": "ipython3",
   "version": "3.11.0"
  }
 },
 "nbformat": 4,
 "nbformat_minor": 4
}
