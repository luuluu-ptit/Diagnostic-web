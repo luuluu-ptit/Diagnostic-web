{
 "cells": [
  {
   "cell_type": "markdown",
   "metadata": {},
   "source": [
    "## About Dataset\n",
    "https://www.kaggle.com/andrewmvd/heart-failure-clinical-data\n",
    "\n",
    "Cardiovascular diseases (CVDs) are the number 1 cause of death globally, taking an estimated 17.9 million lives each year, which accounts for 31% of all deaths worlwide.\n",
    "Heart failure is a common event caused by CVDs and this dataset contains 12 features that can be used to predict mortality by heart failure.\n",
    "\n",
    "Most cardiovascular diseases can be prevented by addressing behavioural risk factors such as tobacco use, unhealthy diet and obesity, physical inactivity and harmful use of alcohol using population-wide strategies.\n",
    "\n",
    "People with cardiovascular disease or who are at high cardiovascular risk (due to the presence of one or more risk factors such as hypertension, diabetes, hyperlipidaemia or already established disease) need early detection and management wherein a machine learning model can be of great help.\n",
    "\n",
    "**Features**\n",
    "\n",
    "|Feature|Feature_Type|Description|\n",
    "|-----|-----|-----|\n",
    "|age|numeric|age of a person|  \n",
    "|anaemia |boolean|Decrease of red blood cells or hemoglobin |  \n",
    "|creatinine_phosphokinase|numeric|Level of the CPK enzyme in the blood (mcg/L)|  \n",
    "|diabetes|boolean| If the patient has diabetes | \n",
    "|ejection_fraction|numeric| Percentage of blood leaving the heart at each contraction(percentage) |  \n",
    "|high_blood_pressure|boolean| If the patient has hypertension |  \n",
    "|platelets|numeric| Platelets in the blood (kiloplatelets/mL)|  \n",
    "|serum_creatinine|numeric| Level of serum creatinine in the blood (mg/dL)|  \n",
    "|serum_sodium|numeric| Level of serum sodium in the blood (mEq/L)| \n",
    "|sex|boolean| Woman or man |  \n",
    "|smoking|boolean| If the patient smokes or not |\n",
    "|time|numeric|Follow-up period (days)|  \n",
    "\n",
    "\n",
    "**Target variable:**  \n",
    "\n",
    "|Feature|Feature_Type|Description|\n",
    "|-----|-----|-----|\n",
    "|DEATH_EVENT | boolean| If the patient deceased during the follow-up period |"
   ]
  },
  {
   "cell_type": "code",
   "execution_count": null,
   "metadata": {},
   "outputs": [],
   "source": []
  },
  {
   "cell_type": "markdown",
   "metadata": {},
   "source": [
    "### importing libraries"
   ]
  },
  {
   "cell_type": "code",
   "execution_count": 1,
   "metadata": {},
   "outputs": [],
   "source": [
    "import pandas as pd\n",
    "import numpy as np\n",
    "import matplotlib.pyplot as plt\n",
    "import seaborn as sns\n",
    "%matplotlib inline\n",
    "\n",
    "from sklearn.preprocessing import StandardScaler\n",
    "from imblearn.combine import SMOTETomek\n",
    "from sklearn.model_selection import train_test_split\n",
    "from sklearn.model_selection import GridSearchCV\n",
    "from sklearn.model_selection import RandomizedSearchCV\n",
    "from sklearn.model_selection import StratifiedKFold\n",
    "from sklearn.model_selection import KFold\n",
    "\n",
    "from sklearn.linear_model import LogisticRegression\n",
    "from sklearn.tree import DecisionTreeClassifier\n",
    "from sklearn.ensemble import RandomForestClassifier\n",
    "\n",
    "from sklearn.metrics import confusion_matrix, accuracy_score, classification_report\n",
    "from mlxtend.plotting import plot_confusion_matrix\n"
   ]
  },
  {
   "cell_type": "code",
   "execution_count": 2,
   "metadata": {},
   "outputs": [
    {
     "name": "stdout",
     "output_type": "stream",
     "text": [
      "shape of data (299, 13)\n"
     ]
    },
    {
     "data": {
      "text/html": [
       "<div>\n",
       "<style scoped>\n",
       "    .dataframe tbody tr th:only-of-type {\n",
       "        vertical-align: middle;\n",
       "    }\n",
       "\n",
       "    .dataframe tbody tr th {\n",
       "        vertical-align: top;\n",
       "    }\n",
       "\n",
       "    .dataframe thead th {\n",
       "        text-align: right;\n",
       "    }\n",
       "</style>\n",
       "<table border=\"1\" class=\"dataframe\">\n",
       "  <thead>\n",
       "    <tr style=\"text-align: right;\">\n",
       "      <th></th>\n",
       "      <th>age</th>\n",
       "      <th>anaemia</th>\n",
       "      <th>creatinine_phosphokinase</th>\n",
       "      <th>diabetes</th>\n",
       "      <th>ejection_fraction</th>\n",
       "      <th>high_blood_pressure</th>\n",
       "      <th>platelets</th>\n",
       "      <th>serum_creatinine</th>\n",
       "      <th>serum_sodium</th>\n",
       "      <th>sex</th>\n",
       "      <th>smoking</th>\n",
       "      <th>time</th>\n",
       "      <th>DEATH_EVENT</th>\n",
       "    </tr>\n",
       "  </thead>\n",
       "  <tbody>\n",
       "    <tr>\n",
       "      <th>0</th>\n",
       "      <td>75.0</td>\n",
       "      <td>0</td>\n",
       "      <td>582</td>\n",
       "      <td>0</td>\n",
       "      <td>20</td>\n",
       "      <td>1</td>\n",
       "      <td>265000.00</td>\n",
       "      <td>1.9</td>\n",
       "      <td>130</td>\n",
       "      <td>1</td>\n",
       "      <td>0</td>\n",
       "      <td>4</td>\n",
       "      <td>1</td>\n",
       "    </tr>\n",
       "    <tr>\n",
       "      <th>1</th>\n",
       "      <td>55.0</td>\n",
       "      <td>0</td>\n",
       "      <td>7861</td>\n",
       "      <td>0</td>\n",
       "      <td>38</td>\n",
       "      <td>0</td>\n",
       "      <td>263358.03</td>\n",
       "      <td>1.1</td>\n",
       "      <td>136</td>\n",
       "      <td>1</td>\n",
       "      <td>0</td>\n",
       "      <td>6</td>\n",
       "      <td>1</td>\n",
       "    </tr>\n",
       "    <tr>\n",
       "      <th>2</th>\n",
       "      <td>65.0</td>\n",
       "      <td>0</td>\n",
       "      <td>146</td>\n",
       "      <td>0</td>\n",
       "      <td>20</td>\n",
       "      <td>0</td>\n",
       "      <td>162000.00</td>\n",
       "      <td>1.3</td>\n",
       "      <td>129</td>\n",
       "      <td>1</td>\n",
       "      <td>1</td>\n",
       "      <td>7</td>\n",
       "      <td>1</td>\n",
       "    </tr>\n",
       "    <tr>\n",
       "      <th>3</th>\n",
       "      <td>50.0</td>\n",
       "      <td>1</td>\n",
       "      <td>111</td>\n",
       "      <td>0</td>\n",
       "      <td>20</td>\n",
       "      <td>0</td>\n",
       "      <td>210000.00</td>\n",
       "      <td>1.9</td>\n",
       "      <td>137</td>\n",
       "      <td>1</td>\n",
       "      <td>0</td>\n",
       "      <td>7</td>\n",
       "      <td>1</td>\n",
       "    </tr>\n",
       "    <tr>\n",
       "      <th>4</th>\n",
       "      <td>65.0</td>\n",
       "      <td>1</td>\n",
       "      <td>160</td>\n",
       "      <td>1</td>\n",
       "      <td>20</td>\n",
       "      <td>0</td>\n",
       "      <td>327000.00</td>\n",
       "      <td>2.7</td>\n",
       "      <td>116</td>\n",
       "      <td>0</td>\n",
       "      <td>0</td>\n",
       "      <td>8</td>\n",
       "      <td>1</td>\n",
       "    </tr>\n",
       "  </tbody>\n",
       "</table>\n",
       "</div>"
      ],
      "text/plain": [
       "    age  anaemia  creatinine_phosphokinase  diabetes  ejection_fraction  \\\n",
       "0  75.0        0                       582         0                 20   \n",
       "1  55.0        0                      7861         0                 38   \n",
       "2  65.0        0                       146         0                 20   \n",
       "3  50.0        1                       111         0                 20   \n",
       "4  65.0        1                       160         1                 20   \n",
       "\n",
       "   high_blood_pressure  platelets  serum_creatinine  serum_sodium  sex  \\\n",
       "0                    1  265000.00               1.9           130    1   \n",
       "1                    0  263358.03               1.1           136    1   \n",
       "2                    0  162000.00               1.3           129    1   \n",
       "3                    0  210000.00               1.9           137    1   \n",
       "4                    0  327000.00               2.7           116    0   \n",
       "\n",
       "   smoking  time  DEATH_EVENT  \n",
       "0        0     4            1  \n",
       "1        0     6            1  \n",
       "2        1     7            1  \n",
       "3        0     7            1  \n",
       "4        0     8            1  "
      ]
     },
     "execution_count": 2,
     "metadata": {},
     "output_type": "execute_result"
    }
   ],
   "source": [
    "# upload dataset\n",
    "data= pd.read_csv(\"heart_failure_clinical_records_dataset.csv\")\n",
    "\n",
    "# dataset shape\n",
    "print(\"shape of data\", data.shape)\n",
    "data.head()"
   ]
  },
  {
   "cell_type": "code",
   "execution_count": 3,
   "metadata": {},
   "outputs": [
    {
     "name": "stdout",
     "output_type": "stream",
     "text": [
      "<class 'pandas.core.frame.DataFrame'>\n",
      "RangeIndex: 299 entries, 0 to 298\n",
      "Data columns (total 13 columns):\n",
      " #   Column                    Non-Null Count  Dtype  \n",
      "---  ------                    --------------  -----  \n",
      " 0   age                       299 non-null    float64\n",
      " 1   anaemia                   299 non-null    int64  \n",
      " 2   creatinine_phosphokinase  299 non-null    int64  \n",
      " 3   diabetes                  299 non-null    int64  \n",
      " 4   ejection_fraction         299 non-null    int64  \n",
      " 5   high_blood_pressure       299 non-null    int64  \n",
      " 6   platelets                 299 non-null    float64\n",
      " 7   serum_creatinine          299 non-null    float64\n",
      " 8   serum_sodium              299 non-null    int64  \n",
      " 9   sex                       299 non-null    int64  \n",
      " 10  smoking                   299 non-null    int64  \n",
      " 11  time                      299 non-null    int64  \n",
      " 12  DEATH_EVENT               299 non-null    int64  \n",
      "dtypes: float64(3), int64(10)\n",
      "memory usage: 30.5 KB\n"
     ]
    }
   ],
   "source": [
    "data.info()"
   ]
  },
  {
   "cell_type": "code",
   "execution_count": 4,
   "metadata": {},
   "outputs": [
    {
     "data": {
      "text/plain": [
       "Index(['age', 'anaemia', 'creatinine_phosphokinase', 'diabetes',\n",
       "       'ejection_fraction', 'high_blood_pressure', 'platelets',\n",
       "       'serum_creatinine', 'serum_sodium', 'sex', 'smoking', 'time',\n",
       "       'DEATH_EVENT'],\n",
       "      dtype='object')"
      ]
     },
     "execution_count": 4,
     "metadata": {},
     "output_type": "execute_result"
    }
   ],
   "source": [
    "data.columns"
   ]
  },
  {
   "cell_type": "markdown",
   "metadata": {},
   "source": [
    "### check missing values"
   ]
  },
  {
   "cell_type": "code",
   "execution_count": 5,
   "metadata": {},
   "outputs": [
    {
     "data": {
      "text/plain": [
       "age                         0\n",
       "anaemia                     0\n",
       "creatinine_phosphokinase    0\n",
       "diabetes                    0\n",
       "ejection_fraction           0\n",
       "high_blood_pressure         0\n",
       "platelets                   0\n",
       "serum_creatinine            0\n",
       "serum_sodium                0\n",
       "sex                         0\n",
       "smoking                     0\n",
       "time                        0\n",
       "DEATH_EVENT                 0\n",
       "dtype: int64"
      ]
     },
     "execution_count": 5,
     "metadata": {},
     "output_type": "execute_result"
    }
   ],
   "source": [
    "data.isnull().sum()"
   ]
  },
  {
   "cell_type": "markdown",
   "metadata": {},
   "source": [
    "*There are no missing values*"
   ]
  },
  {
   "cell_type": "markdown",
   "metadata": {},
   "source": [
    "### check class imbalance"
   ]
  },
  {
   "cell_type": "code",
   "execution_count": 6,
   "metadata": {},
   "outputs": [
    {
     "name": "stdout",
     "output_type": "stream",
     "text": [
      "percentage of NO and YES\n",
      " 0    67.892977\n",
      "1    32.107023\n",
      "Name: DEATH_EVENT, dtype: float64\n"
     ]
    },
    {
     "data": {
      "image/png": "[encoded data removed]",
      "text/plain": [
       "<Figure size 504x360 with 1 Axes>"
      ]
     },
     "metadata": {
      "needs_background": "light"
     },
     "output_type": "display_data"
    }
   ],
   "source": [
    "plt.figure(figsize=(7,5))\n",
    "sns.set_style(\"whitegrid\")\n",
    "sns.countplot(data[\"DEATH_EVENT\"], palette= \"RdBu_r\" )\n",
    "\n",
    "# percentage of class in target\n",
    "print(\"percentage of NO and YES\\n\", data[\"DEATH_EVENT\"].value_counts()/len(data)*100)"
   ]
  },
  {
   "cell_type": "markdown",
   "metadata": {},
   "source": [
    "*The class distribution in the target variable is ~68:32 indicating an imbalance dataset*"
   ]
  },
  {
   "cell_type": "markdown",
   "metadata": {},
   "source": [
    "### Feature selection"
   ]
  },
  {
   "cell_type": "code",
   "execution_count": 7,
   "metadata": {},
   "outputs": [
    {
     "data": {
      "text/plain": [
       "<matplotlib.axes._subplots.AxesSubplot at 0x7fc865e92220>"
      ]
     },
     "execution_count": 7,
     "metadata": {},
     "output_type": "execute_result"
    },
    {
     "data": {
      "image/png": "[encoded data removed]",
      "text/plain": [
       "<Figure size 720x504 with 2 Axes>"
      ]
     },
     "metadata": {},
     "output_type": "display_data"
    }
   ],
   "source": [
    "plt.figure(figsize=(10,7))\n",
    "sns.heatmap(data.corr(), annot=True, cmap= \"coolwarm\")"
   ]
  },
  {
   "cell_type": "markdown",
   "metadata": {},
   "source": [
    "### separating dependent and independent variables"
   ]
  },
  {
   "cell_type": "code",
   "execution_count": 8,
   "metadata": {},
   "outputs": [],
   "source": [
    "# features\n",
    "x= data.iloc[:, :-1]\n",
    "\n",
    "# target\n",
    "y= data.iloc[:, -1]"
   ]
  },
  {
   "cell_type": "markdown",
   "metadata": {},
   "source": [
    "### performing oversampling to handle imbalanced target variable"
   ]
  },
  {
   "cell_type": "code",
   "execution_count": 9,
   "metadata": {},
   "outputs": [],
   "source": [
    "# initialising oversampling\n",
    "smote= SMOTETomek()\n",
    "\n",
    "# implementing oversampling\n",
    "x_sm, y_sm= smote.fit_sample(x,y)"
   ]
  },
  {
   "cell_type": "code",
   "execution_count": 10,
   "metadata": {},
   "outputs": [
    {
     "data": {
      "text/html": [
       "<div>\n",
       "<style scoped>\n",
       "    .dataframe tbody tr th:only-of-type {\n",
       "        vertical-align: middle;\n",
       "    }\n",
       "\n",
       "    .dataframe tbody tr th {\n",
       "        vertical-align: top;\n",
       "    }\n",
       "\n",
       "    .dataframe thead th {\n",
       "        text-align: right;\n",
       "    }\n",
       "</style>\n",
       "<table border=\"1\" class=\"dataframe\">\n",
       "  <thead>\n",
       "    <tr style=\"text-align: right;\">\n",
       "      <th></th>\n",
       "      <th>age</th>\n",
       "      <th>anaemia</th>\n",
       "      <th>creatinine_phosphokinase</th>\n",
       "      <th>diabetes</th>\n",
       "      <th>ejection_fraction</th>\n",
       "      <th>high_blood_pressure</th>\n",
       "      <th>platelets</th>\n",
       "      <th>serum_creatinine</th>\n",
       "      <th>serum_sodium</th>\n",
       "      <th>sex</th>\n",
       "      <th>smoking</th>\n",
       "      <th>time</th>\n",
       "    </tr>\n",
       "  </thead>\n",
       "  <tbody>\n",
       "    <tr>\n",
       "      <th>0</th>\n",
       "      <td>55.0</td>\n",
       "      <td>0</td>\n",
       "      <td>7861</td>\n",
       "      <td>0</td>\n",
       "      <td>38</td>\n",
       "      <td>0</td>\n",
       "      <td>263358.03</td>\n",
       "      <td>1.1</td>\n",
       "      <td>136</td>\n",
       "      <td>1</td>\n",
       "      <td>0</td>\n",
       "      <td>6</td>\n",
       "    </tr>\n",
       "    <tr>\n",
       "      <th>1</th>\n",
       "      <td>50.0</td>\n",
       "      <td>1</td>\n",
       "      <td>111</td>\n",
       "      <td>0</td>\n",
       "      <td>20</td>\n",
       "      <td>0</td>\n",
       "      <td>210000.00</td>\n",
       "      <td>1.9</td>\n",
       "      <td>137</td>\n",
       "      <td>1</td>\n",
       "      <td>0</td>\n",
       "      <td>7</td>\n",
       "    </tr>\n",
       "    <tr>\n",
       "      <th>2</th>\n",
       "      <td>90.0</td>\n",
       "      <td>1</td>\n",
       "      <td>47</td>\n",
       "      <td>0</td>\n",
       "      <td>40</td>\n",
       "      <td>1</td>\n",
       "      <td>204000.00</td>\n",
       "      <td>2.1</td>\n",
       "      <td>132</td>\n",
       "      <td>1</td>\n",
       "      <td>1</td>\n",
       "      <td>8</td>\n",
       "    </tr>\n",
       "  </tbody>\n",
       "</table>\n",
       "</div>"
      ],
      "text/plain": [
       "    age  anaemia  creatinine_phosphokinase  diabetes  ejection_fraction  \\\n",
       "0  55.0        0                      7861         0                 38   \n",
       "1  50.0        1                       111         0                 20   \n",
       "2  90.0        1                        47         0                 40   \n",
       "\n",
       "   high_blood_pressure  platelets  serum_creatinine  serum_sodium  sex  \\\n",
       "0                    0  263358.03               1.1           136    1   \n",
       "1                    0  210000.00               1.9           137    1   \n",
       "2                    1  204000.00               2.1           132    1   \n",
       "\n",
       "   smoking  time  \n",
       "0        0     6  \n",
       "1        0     7  \n",
       "2        1     8  "
      ]
     },
     "execution_count": 10,
     "metadata": {},
     "output_type": "execute_result"
    }
   ],
   "source": [
    "x_sm.head(3)"
   ]
  },
  {
   "cell_type": "markdown",
   "metadata": {},
   "source": [
    "### feature scaling"
   ]
  },
  {
   "cell_type": "code",
   "execution_count": 11,
   "metadata": {},
   "outputs": [],
   "source": [
    "scaling= StandardScaler()\n",
    "\n",
    "columns_to_scale= [\"age\", \"creatinine_phosphokinase\", \"ejection_fraction\", \"platelets\", \"serum_creatinine\",\n",
    "                       \"serum_sodium\", \"time\"]\n",
    "x_sm[columns_to_scale]=scaling.fit_transform(x_sm[columns_to_scale])"
   ]
  },
  {
   "cell_type": "code",
   "execution_count": 12,
   "metadata": {},
   "outputs": [
    {
     "data": {
      "text/html": [
       "<div>\n",
       "<style scoped>\n",
       "    .dataframe tbody tr th:only-of-type {\n",
       "        vertical-align: middle;\n",
       "    }\n",
       "\n",
       "    .dataframe tbody tr th {\n",
       "        vertical-align: top;\n",
       "    }\n",
       "\n",
       "    .dataframe thead th {\n",
       "        text-align: right;\n",
       "    }\n",
       "</style>\n",
       "<table border=\"1\" class=\"dataframe\">\n",
       "  <thead>\n",
       "    <tr style=\"text-align: right;\">\n",
       "      <th></th>\n",
       "      <th>age</th>\n",
       "      <th>anaemia</th>\n",
       "      <th>creatinine_phosphokinase</th>\n",
       "      <th>diabetes</th>\n",
       "      <th>ejection_fraction</th>\n",
       "      <th>high_blood_pressure</th>\n",
       "      <th>platelets</th>\n",
       "      <th>serum_creatinine</th>\n",
       "      <th>serum_sodium</th>\n",
       "      <th>sex</th>\n",
       "      <th>smoking</th>\n",
       "      <th>time</th>\n",
       "    </tr>\n",
       "  </thead>\n",
       "  <tbody>\n",
       "    <tr>\n",
       "      <th>0</th>\n",
       "      <td>-0.572926</td>\n",
       "      <td>0</td>\n",
       "      <td>7.156587</td>\n",
       "      <td>0</td>\n",
       "      <td>0.100510</td>\n",
       "      <td>0</td>\n",
       "      <td>0.017351</td>\n",
       "      <td>-0.390878</td>\n",
       "      <td>0.000000</td>\n",
       "      <td>1</td>\n",
       "      <td>0</td>\n",
       "      <td>-1.457337</td>\n",
       "    </tr>\n",
       "    <tr>\n",
       "      <th>1</th>\n",
       "      <td>-0.972779</td>\n",
       "      <td>1</td>\n",
       "      <td>-0.507269</td>\n",
       "      <td>0</td>\n",
       "      <td>-1.440078</td>\n",
       "      <td>0</td>\n",
       "      <td>-0.535271</td>\n",
       "      <td>0.308287</td>\n",
       "      <td>0.242771</td>\n",
       "      <td>1</td>\n",
       "      <td>0</td>\n",
       "      <td>-1.443988</td>\n",
       "    </tr>\n",
       "    <tr>\n",
       "      <th>2</th>\n",
       "      <td>2.226042</td>\n",
       "      <td>1</td>\n",
       "      <td>-0.570557</td>\n",
       "      <td>0</td>\n",
       "      <td>0.271686</td>\n",
       "      <td>1</td>\n",
       "      <td>-0.597412</td>\n",
       "      <td>0.483079</td>\n",
       "      <td>-0.971082</td>\n",
       "      <td>1</td>\n",
       "      <td>1</td>\n",
       "      <td>-1.430639</td>\n",
       "    </tr>\n",
       "    <tr>\n",
       "      <th>3</th>\n",
       "      <td>-0.173074</td>\n",
       "      <td>1</td>\n",
       "      <td>-0.305536</td>\n",
       "      <td>1</td>\n",
       "      <td>1.983451</td>\n",
       "      <td>0</td>\n",
       "      <td>1.991802</td>\n",
       "      <td>-0.390878</td>\n",
       "      <td>-1.213853</td>\n",
       "      <td>1</td>\n",
       "      <td>1</td>\n",
       "      <td>-1.403941</td>\n",
       "    </tr>\n",
       "    <tr>\n",
       "      <th>4</th>\n",
       "      <td>1.426336</td>\n",
       "      <td>1</td>\n",
       "      <td>-0.495402</td>\n",
       "      <td>0</td>\n",
       "      <td>-0.156255</td>\n",
       "      <td>1</td>\n",
       "      <td>1.308250</td>\n",
       "      <td>6.862966</td>\n",
       "      <td>-0.728312</td>\n",
       "      <td>1</td>\n",
       "      <td>1</td>\n",
       "      <td>-1.403941</td>\n",
       "    </tr>\n",
       "  </tbody>\n",
       "</table>\n",
       "</div>"
      ],
      "text/plain": [
       "        age  anaemia  creatinine_phosphokinase  diabetes  ejection_fraction  \\\n",
       "0 -0.572926        0                  7.156587         0           0.100510   \n",
       "1 -0.972779        1                 -0.507269         0          -1.440078   \n",
       "2  2.226042        1                 -0.570557         0           0.271686   \n",
       "3 -0.173074        1                 -0.305536         1           1.983451   \n",
       "4  1.426336        1                 -0.495402         0          -0.156255   \n",
       "\n",
       "   high_blood_pressure  platelets  serum_creatinine  serum_sodium  sex  \\\n",
       "0                    0   0.017351         -0.390878      0.000000    1   \n",
       "1                    0  -0.535271          0.308287      0.242771    1   \n",
       "2                    1  -0.597412          0.483079     -0.971082    1   \n",
       "3                    0   1.991802         -0.390878     -1.213853    1   \n",
       "4                    1   1.308250          6.862966     -0.728312    1   \n",
       "\n",
       "   smoking      time  \n",
       "0        0 -1.457337  \n",
       "1        0 -1.443988  \n",
       "2        1 -1.430639  \n",
       "3        1 -1.403941  \n",
       "4        1 -1.403941  "
      ]
     },
     "execution_count": 12,
     "metadata": {},
     "output_type": "execute_result"
    }
   ],
   "source": [
    "# scaled dataset\n",
    "x_scaled= x_sm.copy()\n",
    "x_scaled.head()"
   ]
  },
  {
   "cell_type": "markdown",
   "metadata": {},
   "source": [
    "### splitting into train and test data"
   ]
  },
  {
   "cell_type": "code",
   "execution_count": 13,
   "metadata": {},
   "outputs": [],
   "source": [
    "x_train, x_test, y_train, y_test= train_test_split(x_scaled, y_sm, test_size=0.2, random_state= 10)"
   ]
  },
  {
   "cell_type": "markdown",
   "metadata": {},
   "source": [
    "## Model Building\n"
   ]
  },
  {
   "cell_type": "markdown",
   "metadata": {},
   "source": [
    "### Logistic Regression"
   ]
  },
  {
   "cell_type": "code",
   "execution_count": 29,
   "metadata": {},
   "outputs": [
    {
     "name": "stdout",
     "output_type": "stream",
     "text": [
      "Fitting 5 folds for each of 40 candidates, totalling 200 fits\n"
     ]
    },
    {
     "name": "stderr",
     "output_type": "stream",
     "text": [
      "[Parallel(n_jobs=-1)]: Using backend LokyBackend with 4 concurrent workers.\n"
     ]
    },
    {
     "name": "stdout",
     "output_type": "stream",
     "text": [
      "best score : 0.8185997703296982\n",
      "best parameters : {'C': 1.0, 'max_iter': 100, 'penalty': 'l2'}\n",
      "best estimaotrs : LogisticRegression()\n"
     ]
    },
    {
     "name": "stderr",
     "output_type": "stream",
     "text": [
      "[Parallel(n_jobs=-1)]: Done 136 tasks      | elapsed:    0.4s\n",
      "[Parallel(n_jobs=-1)]: Done 200 out of 200 | elapsed:    0.5s finished\n"
     ]
    }
   ],
   "source": [
    "# initialising logistic regression\n",
    "lr= LogisticRegression()\n",
    "\n",
    "# hyperparameter tuning\n",
    "lr_params= {\"C\": 10.0**np.arange(-2,3),\n",
    "            \"penalty\": [\"l1\", \"l2\"],\n",
    "            \"max_iter\": [100, 1000, 2500, 5000]}\n",
    "\n",
    "# defining stratified K fold cross validation\n",
    "lr_cv= KFold(n_splits=5)\n",
    "\n",
    "# using gridsearch for respective parameter\n",
    "lr_gridsearch= GridSearchCV(estimator=lr, param_grid= lr_params, cv= lr_cv, scoring=\"f1_macro\", n_jobs=-1, verbose=2)\n",
    "\n",
    "# model fitting\n",
    "lr_gridsearch.fit(x_train, y_train)\n",
    "\n",
    "print(\"best score :\", lr_gridsearch.best_score_)\n",
    "print(\"best parameters :\", lr_gridsearch.best_params_)\n",
    "print(\"best estimaotrs :\", lr_gridsearch.best_estimator_)"
   ]
  },
  {
   "cell_type": "code",
   "execution_count": 30,
   "metadata": {},
   "outputs": [
    {
     "name": "stdout",
     "output_type": "stream",
     "text": [
      "0.8852459016393442\n",
      "              precision    recall  f1-score   support\n",
      "\n",
      "           0       0.87      0.90      0.89        30\n",
      "           1       0.90      0.87      0.89        31\n",
      "\n",
      "    accuracy                           0.89        61\n",
      "   macro avg       0.89      0.89      0.89        61\n",
      "weighted avg       0.89      0.89      0.89        61\n",
      "\n"
     ]
    },
    {
     "data": {
      "image/png": "[encoded data removed]",
      "text/plain": [
       "<Figure size 432x432 with 1 Axes>"
      ]
     },
     "metadata": {},
     "output_type": "display_data"
    }
   ],
   "source": [
    "#best model\n",
    "lr_grid= lr_gridsearch.best_estimator_\n",
    "\n",
    "# checking model performance\n",
    "lr_grid_pred= lr_grid.predict(x_test)\n",
    "\n",
    "cm= confusion_matrix(y_test, lr_grid_pred)\n",
    "\n",
    "plot_confusion_matrix(cm, figsize=(6,6))a\n",
    "print(accuracy_score(y_test, lr_grid_pred))\n",
    "print(classification_report(y_test, lr_grid_pred))"
   ]
  },
  {
   "cell_type": "markdown",
   "metadata": {},
   "source": [
    "### Random Forest\n",
    "*Since ensemble techniques does not require dataset to be scaled, we are using just oversampled data to split into train and test data.*"
   ]
  },
  {
   "cell_type": "code",
   "execution_count": 16,
   "metadata": {},
   "outputs": [],
   "source": [
    "X_train, X_test, Y_train, Y_test= train_test_split(x_sm,y_sm, test_size=0.2, random_state=10 )"
   ]
  },
  {
   "cell_type": "code",
   "execution_count": 17,
   "metadata": {},
   "outputs": [
    {
     "name": "stderr",
     "output_type": "stream",
     "text": [
      "[Parallel(n_jobs=-1)]: Using backend LokyBackend with 4 concurrent workers.\n"
     ]
    },
    {
     "name": "stdout",
     "output_type": "stream",
     "text": [
      "Fitting 5 folds for each of 100 candidates, totalling 500 fits\n"
     ]
    },
    {
     "name": "stderr",
     "output_type": "stream",
     "text": [
      "[Parallel(n_jobs=-1)]: Done  33 tasks      | elapsed:    4.4s\n",
      "[Parallel(n_jobs=-1)]: Done 154 tasks      | elapsed:   33.6s\n",
      "[Parallel(n_jobs=-1)]: Done 357 tasks      | elapsed:  1.2min\n",
      "[Parallel(n_jobs=-1)]: Done 500 out of 500 | elapsed:  1.8min finished\n"
     ]
    },
    {
     "name": "stdout",
     "output_type": "stream",
     "text": [
      "0.8496909331071434\n",
      "{'n_estimators': 300, 'min_samples_split': 10, 'min_samples_leaf': 5, 'max_features': 'sqrt', 'max_depth': 400, 'criterion': 'gini'}\n",
      "RandomForestClassifier(max_depth=400, max_features='sqrt', min_samples_leaf=5,\n",
      "                       min_samples_split=10, n_estimators=300)\n"
     ]
    }
   ],
   "source": [
    "#. initialising random forest classifier\n",
    "classifier= RandomForestClassifier()\n",
    "\n",
    "# hyperparameter tuning\n",
    "params= {\"n_estimators\" : [int(x) for x in np.linspace(start= 100, stop= 1000, num=10)],\n",
    "         \"criterion\" : [\"gini\", \"entrpoy\"],\n",
    "         \"max_depth\" : [int(x) for x in np.linspace(start=100, stop=1000, num=10)],\n",
    "         \"min_samples_split\" : [1,5,10,15],\n",
    "         \"min_samples_leaf\" : [2,3,5,6,7,],\n",
    "         \"max_features\" : [\"auto\", \"sqrt\", \"log2\"]\n",
    "         \n",
    "        }\n",
    "\n",
    "# defining KFold cross validation\n",
    "cv= KFold(n_splits=5)\n",
    "\n",
    "# using randomized gridsearch on respective hyperparameters\n",
    "RandomSearch= RandomizedSearchCV(estimator=classifier, param_distributions= params, cv=cv,scoring=\"f1_macro\",\n",
    "                                 n_iter=100, n_jobs= -1,verbose=2,random_state=10)\n",
    "\n",
    "# model fitting\n",
    "RandomSearch.fit(X_train, Y_train)\n",
    "\n",
    "print(RandomSearch.best_score_)\n",
    "print(RandomSearch.best_params_)\n",
    "print(RandomSearch.best_estimator_)"
   ]
  },
  {
   "cell_type": "code",
   "execution_count": 22,
   "metadata": {},
   "outputs": [
    {
     "name": "stdout",
     "output_type": "stream",
     "text": [
      "0.9508196721311475\n",
      "              precision    recall  f1-score   support\n",
      "\n",
      "           0       0.97      0.93      0.95        30\n",
      "           1       0.94      0.97      0.95        31\n",
      "\n",
      "    accuracy                           0.95        61\n",
      "   macro avg       0.95      0.95      0.95        61\n",
      "weighted avg       0.95      0.95      0.95        61\n",
      "\n"
     ]
    },
    {
     "data": {
      "image/png": "[encoded data removed]",
      "text/plain": [
       "<Figure size 432x432 with 1 Axes>"
      ]
     },
     "metadata": {},
     "output_type": "display_data"
    }
   ],
   "source": [
    "# best model\n",
    "rf_randomSearch= RandomSearch.best_estimator_\n",
    "\n",
    "# checking model performance\n",
    "rf_random_pred= rf_randomSearch.predict(X_test)\n",
    "\n",
    "cm= confusion_matrix(Y_test, rf_random_pred)\n",
    "\n",
    "plot_confusion_matrix(cm, figsize=(6,6))\n",
    "print(accuracy_score(Y_test, rf_random_pred))\n",
    "print(classification_report(Y_test, rf_random_pred))"
   ]
  },
  {
   "cell_type": "markdown",
   "metadata": {},
   "source": [
    "### Creating pickle file for *Random Forest model*"
   ]
  },
  {
   "cell_type": "code",
   "execution_count": 23,
   "metadata": {},
   "outputs": [],
   "source": [
    "import pickle\n",
    "\n",
    "# create pickle file with name classifier.pkl\n",
    "pickle_out= open(\"classifier_heart.pkl\", \"wb\")\n",
    "\n",
    "# dumping rf_gridsearch classifier into above created pickle file\n",
    "pickle.dump(rf_randomSearch, pickle_out)\n",
    "\n",
    "pickle_out.close()"
   ]
  },
  {
   "cell_type": "code",
   "execution_count": 24,
   "metadata": {},
   "outputs": [],
   "source": [
    "pickle_in= open(\"classifier_heart.pkl\", \"rb\")\n",
    "classifier= pickle.load(pickle_in)"
   ]
  },
  {
   "cell_type": "code",
   "execution_count": 25,
   "metadata": {},
   "outputs": [
    {
     "data": {
      "text/plain": [
       "array([0])"
      ]
     },
     "execution_count": 25,
     "metadata": {},
     "output_type": "execute_result"
    }
   ],
   "source": [
    "classifier.predict([[57,1,115,0,25,1,181000,1.1,144,1,0,79]])"
   ]
  },
  {
   "cell_type": "code",
   "execution_count": null,
   "metadata": {},
   "outputs": [],
   "source": []
  }
 ],
 "metadata": {
  "kernelspec": {
   "display_name": "Python 3",
   "language": "python",
   "name": "python3"
  },
  "language_info": {
   "codemirror_mode": {
    "name": "ipython",
    "version": 3
   },
   "file_extension": ".py",
   "mimetype": "text/x-python",
   "name": "python",
   "nbconvert_exporter": "python",
   "pygments_lexer": "ipython3",
   "version": "3.8.3"
  }
 },
 "nbformat": 4,
 "nbformat_minor": 4
}
