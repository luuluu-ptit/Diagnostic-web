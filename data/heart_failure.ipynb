{
 "cells": [
  {
   "cell_type": "markdown",
   "metadata": {},
   "source": [
    "## About Dataset\n",
    "https://www.kaggle.com/andrewmvd/heart-failure-clinical-data\n",
    "\n",
    "Cardiovascular diseases (CVDs) are the number 1 cause of death globally, taking an estimated 17.9 million lives each year, which accounts for 31% of all deaths worlwide.\n",
    "Heart failure is a common event caused by CVDs and this dataset contains 12 features that can be used to predict mortality by heart failure.\n",
    "\n",
    "Most cardiovascular diseases can be prevented by addressing behavioural risk factors such as tobacco use, unhealthy diet and obesity, physical inactivity and harmful use of alcohol using population-wide strategies.\n",
    "\n",
    "People with cardiovascular disease or who are at high cardiovascular risk (due to the presence of one or more risk factors such as hypertension, diabetes, hyperlipidaemia or already established disease) need early detection and management wherein a machine learning model can be of great help.\n",
    "\n",
    "**Features**\n",
    "\n",
    "|Feature|Feature_Type|Description|\n",
    "|-----|-----|-----|\n",
    "|age|numeric|age of a person|  \n",
    "|anaemia |boolean|Decrease of red blood cells or hemoglobin |  \n",
    "|creatinine_phosphokinase|numeric|Level of the CPK enzyme in the blood (mcg/L)|  \n",
    "|diabetes|boolean| If the patient has diabetes | \n",
    "|ejection_fraction|numeric| Percentage of blood leaving the heart at each contraction(percentage) |  \n",
    "|high_blood_pressure|boolean| If the patient has hypertension |  \n",
    "|platelets|numeric| Platelets in the blood (kiloplatelets/mL)|  \n",
    "|serum_creatinine|numeric| Level of serum creatinine in the blood (mg/dL)|  \n",
    "|serum_sodium|numeric| Level of serum sodium in the blood (mEq/L)| \n",
    "|sex|boolean| Woman or man |  \n",
    "|smoking|boolean| If the patient smokes or not |\n",
    "|time|numeric|Follow-up period (days)|  \n",
    "\n",
    "\n",
    "**Target variable:**  \n",
    "\n",
    "|Feature|Feature_Type|Description|\n",
    "|-----|-----|-----|\n",
    "|DEATH_EVENT | boolean| If the patient deceased during the follow-up period |"
   ]
  },
  {
   "cell_type": "code",
   "execution_count": null,
   "metadata": {},
   "outputs": [],
   "source": []
  },
  {
   "cell_type": "markdown",
   "metadata": {},
   "source": [
    "### importing libraries"
   ]
  },
  {
   "cell_type": "code",
   "execution_count": 1,
   "metadata": {},
   "outputs": [],
   "source": [
    "import pandas as pd\n",
    "import numpy as np\n",
    "import matplotlib.pyplot as plt\n",
    "import seaborn as sns\n",
    "%matplotlib inline\n",
    "\n",
    "from sklearn.preprocessing import StandardScaler\n",
    "from imblearn.combine import SMOTETomek\n",
    "from sklearn.model_selection import train_test_split\n",
    "from sklearn.model_selection import GridSearchCV\n",
    "from sklearn.model_selection import RandomizedSearchCV\n",
    "from sklearn.model_selection import StratifiedKFold\n",
    "from sklearn.model_selection import KFold\n",
    "\n",
    "from sklearn.linear_model import LogisticRegression\n",
    "from sklearn.tree import DecisionTreeClassifier\n",
    "from sklearn.ensemble import RandomForestClassifier\n",
    "\n",
    "from sklearn.metrics import confusion_matrix, accuracy_score, classification_report\n",
    "from mlxtend.plotting import plot_confusion_matrix\n"
   ]
  },
  {
   "cell_type": "code",
   "execution_count": 2,
   "metadata": {},
   "outputs": [
    {
     "name": "stdout",
     "output_type": "stream",
     "text": [
      "shape of data (299, 13)\n"
     ]
    },
    {
     "data": {
      "text/html": [
       "<div>\n",
       "<style scoped>\n",
       "    .dataframe tbody tr th:only-of-type {\n",
       "        vertical-align: middle;\n",
       "    }\n",
       "\n",
       "    .dataframe tbody tr th {\n",
       "        vertical-align: top;\n",
       "    }\n",
       "\n",
       "    .dataframe thead th {\n",
       "        text-align: right;\n",
       "    }\n",
       "</style>\n",
       "<table border=\"1\" class=\"dataframe\">\n",
       "  <thead>\n",
       "    <tr style=\"text-align: right;\">\n",
       "      <th></th>\n",
       "      <th>age</th>\n",
       "      <th>anaemia</th>\n",
       "      <th>creatinine_phosphokinase</th>\n",
       "      <th>diabetes</th>\n",
       "      <th>ejection_fraction</th>\n",
       "      <th>high_blood_pressure</th>\n",
       "      <th>platelets</th>\n",
       "      <th>serum_creatinine</th>\n",
       "      <th>serum_sodium</th>\n",
       "      <th>sex</th>\n",
       "      <th>smoking</th>\n",
       "      <th>time</th>\n",
       "      <th>DEATH_EVENT</th>\n",
       "    </tr>\n",
       "  </thead>\n",
       "  <tbody>\n",
       "    <tr>\n",
       "      <th>0</th>\n",
       "      <td>75.0</td>\n",
       "      <td>0</td>\n",
       "      <td>582</td>\n",
       "      <td>0</td>\n",
       "      <td>20</td>\n",
       "      <td>1</td>\n",
       "      <td>265000.00</td>\n",
       "      <td>1.9</td>\n",
       "      <td>130</td>\n",
       "      <td>1</td>\n",
       "      <td>0</td>\n",
       "      <td>4</td>\n",
       "      <td>1</td>\n",
       "    </tr>\n",
       "    <tr>\n",
       "      <th>1</th>\n",
       "      <td>55.0</td>\n",
       "      <td>0</td>\n",
       "      <td>7861</td>\n",
       "      <td>0</td>\n",
       "      <td>38</td>\n",
       "      <td>0</td>\n",
       "      <td>263358.03</td>\n",
       "      <td>1.1</td>\n",
       "      <td>136</td>\n",
       "      <td>1</td>\n",
       "      <td>0</td>\n",
       "      <td>6</td>\n",
       "      <td>1</td>\n",
       "    </tr>\n",
       "    <tr>\n",
       "      <th>2</th>\n",
       "      <td>65.0</td>\n",
       "      <td>0</td>\n",
       "      <td>146</td>\n",
       "      <td>0</td>\n",
       "      <td>20</td>\n",
       "      <td>0</td>\n",
       "      <td>162000.00</td>\n",
       "      <td>1.3</td>\n",
       "      <td>129</td>\n",
       "      <td>1</td>\n",
       "      <td>1</td>\n",
       "      <td>7</td>\n",
       "      <td>1</td>\n",
       "    </tr>\n",
       "    <tr>\n",
       "      <th>3</th>\n",
       "      <td>50.0</td>\n",
       "      <td>1</td>\n",
       "      <td>111</td>\n",
       "      <td>0</td>\n",
       "      <td>20</td>\n",
       "      <td>0</td>\n",
       "      <td>210000.00</td>\n",
       "      <td>1.9</td>\n",
       "      <td>137</td>\n",
       "      <td>1</td>\n",
       "      <td>0</td>\n",
       "      <td>7</td>\n",
       "      <td>1</td>\n",
       "    </tr>\n",
       "    <tr>\n",
       "      <th>4</th>\n",
       "      <td>65.0</td>\n",
       "      <td>1</td>\n",
       "      <td>160</td>\n",
       "      <td>1</td>\n",
       "      <td>20</td>\n",
       "      <td>0</td>\n",
       "      <td>327000.00</td>\n",
       "      <td>2.7</td>\n",
       "      <td>116</td>\n",
       "      <td>0</td>\n",
       "      <td>0</td>\n",
       "      <td>8</td>\n",
       "      <td>1</td>\n",
       "    </tr>\n",
       "  </tbody>\n",
       "</table>\n",
       "</div>"
      ],
      "text/plain": [
       "    age  anaemia  creatinine_phosphokinase  diabetes  ejection_fraction  \\\n",
       "0  75.0        0                       582         0                 20   \n",
       "1  55.0        0                      7861         0                 38   \n",
       "2  65.0        0                       146         0                 20   \n",
       "3  50.0        1                       111         0                 20   \n",
       "4  65.0        1                       160         1                 20   \n",
       "\n",
       "   high_blood_pressure  platelets  serum_creatinine  serum_sodium  sex  \\\n",
       "0                    1  265000.00               1.9           130    1   \n",
       "1                    0  263358.03               1.1           136    1   \n",
       "2                    0  162000.00               1.3           129    1   \n",
       "3                    0  210000.00               1.9           137    1   \n",
       "4                    0  327000.00               2.7           116    0   \n",
       "\n",
       "   smoking  time  DEATH_EVENT  \n",
       "0        0     4            1  \n",
       "1        0     6            1  \n",
       "2        1     7            1  \n",
       "3        0     7            1  \n",
       "4        0     8            1  "
      ]
     },
     "execution_count": 2,
     "metadata": {},
     "output_type": "execute_result"
    }
   ],
   "source": [
    "# upload dataset\n",
    "data= pd.read_csv(\"heart_failure_clinical_records_dataset.csv\")\n",
    "\n",
    "# dataset shape\n",
    "print(\"shape of data\", data.shape)\n",
    "data.head()"
   ]
  },
  {
   "cell_type": "code",
   "execution_count": 3,
   "metadata": {},
   "outputs": [
    {
     "name": "stdout",
     "output_type": "stream",
     "text": [
      "<class 'pandas.core.frame.DataFrame'>\n",
      "RangeIndex: 299 entries, 0 to 298\n",
      "Data columns (total 13 columns):\n",
      " #   Column                    Non-Null Count  Dtype  \n",
      "---  ------                    --------------  -----  \n",
      " 0   age                       299 non-null    float64\n",
      " 1   anaemia                   299 non-null    int64  \n",
      " 2   creatinine_phosphokinase  299 non-null    int64  \n",
      " 3   diabetes                  299 non-null    int64  \n",
      " 4   ejection_fraction         299 non-null    int64  \n",
      " 5   high_blood_pressure       299 non-null    int64  \n",
      " 6   platelets                 299 non-null    float64\n",
      " 7   serum_creatinine          299 non-null    float64\n",
      " 8   serum_sodium              299 non-null    int64  \n",
      " 9   sex                       299 non-null    int64  \n",
      " 10  smoking                   299 non-null    int64  \n",
      " 11  time                      299 non-null    int64  \n",
      " 12  DEATH_EVENT               299 non-null    int64  \n",
      "dtypes: float64(3), int64(10)\n",
      "memory usage: 30.5 KB\n"
     ]
    }
   ],
   "source": [
    "data.info()"
   ]
  },
  {
   "cell_type": "code",
   "execution_count": 4,
   "metadata": {},
   "outputs": [
    {
     "data": {
      "text/plain": [
       "Index(['age', 'anaemia', 'creatinine_phosphokinase', 'diabetes',\n",
       "       'ejection_fraction', 'high_blood_pressure', 'platelets',\n",
       "       'serum_creatinine', 'serum_sodium', 'sex', 'smoking', 'time',\n",
       "       'DEATH_EVENT'],\n",
       "      dtype='object')"
      ]
     },
     "execution_count": 4,
     "metadata": {},
     "output_type": "execute_result"
    }
   ],
   "source": [
    "data.columns"
   ]
  },
  {
   "cell_type": "markdown",
   "metadata": {},
   "source": [
    "### check missing values"
   ]
  },
  {
   "cell_type": "code",
   "execution_count": 5,
   "metadata": {},
   "outputs": [
    {
     "data": {
      "text/plain": [
       "age                         0\n",
       "anaemia                     0\n",
       "creatinine_phosphokinase    0\n",
       "diabetes                    0\n",
       "ejection_fraction           0\n",
       "high_blood_pressure         0\n",
       "platelets                   0\n",
       "serum_creatinine            0\n",
       "serum_sodium                0\n",
       "sex                         0\n",
       "smoking                     0\n",
       "time                        0\n",
       "DEATH_EVENT                 0\n",
       "dtype: int64"
      ]
     },
     "execution_count": 5,
     "metadata": {},
     "output_type": "execute_result"
    }
   ],
   "source": [
    "data.isnull().sum()"
   ]
  },
  {
   "cell_type": "markdown",
   "metadata": {},
   "source": [
    "*There are no missing values*"
   ]
  },
  {
   "cell_type": "markdown",
   "metadata": {},
   "source": [
    "### check class imbalance"
   ]
  },
  {
   "cell_type": "code",
   "execution_count": 6,
   "metadata": {},
   "outputs": [
    {
     "name": "stdout",
     "output_type": "stream",
     "text": [
      "percentage of NO and YES\n",
      " 0    67.892977\n",
      "1    32.107023\n",
      "Name: DEATH_EVENT, dtype: float64\n"
     ]
    },
    {
     "data": {
      "image/png": "[encoded data removed]",
      "text/plain": [
       "<Figure size 700x500 with 1 Axes>"
      ]
     },
     "metadata": {},
     "output_type": "display_data"
    }
   ],
   "source": [
    "plt.figure(figsize=(7,5))\n",
    "sns.set_style(\"whitegrid\")\n",
    "sns.countplot(data[\"DEATH_EVENT\"], palette= \"RdBu_r\" )\n",
    "\n",
    "# percentage of class in target\n",
    "print(\"percentage of NO and YES\\n\", data[\"DEATH_EVENT\"].value_counts()/len(data)*100)"
   ]
  },
  {
   "cell_type": "markdown",
   "metadata": {},
   "source": [
    "*The class distribution in the target variable is ~68:32 indicating an imbalance dataset*"
   ]
  },
  {
   "cell_type": "markdown",
   "metadata": {},
   "source": [
    "### Feature selection"
   ]
  },
  {
   "cell_type": "code",
   "execution_count": 7,
   "metadata": {},
   "outputs": [
    {
     "data": {
      "text/plain": [
       "<AxesSubplot: >"
      ]
     },
     "execution_count": 7,
     "metadata": {},
     "output_type": "execute_result"
    },
    {
     "data": {
      "image/png": "[encoded data removed]",
      "text/plain": [
       "<Figure size 1000x700 with 2 Axes>"
      ]
     },
     "metadata": {},
     "output_type": "display_data"
    }
   ],
   "source": [
    "plt.figure(figsize=(10,7))\n",
    "sns.heatmap(data.corr(), annot=True, cmap= \"coolwarm\")"
   ]
  },
  {
   "cell_type": "markdown",
   "metadata": {},
   "source": [
    "### separating dependent and independent variables"
   ]
  },
  {
   "cell_type": "code",
   "execution_count": 8,
   "metadata": {},
   "outputs": [],
   "source": [
    "# features\n",
    "x= data.iloc[:, :-1]\n",
    "\n",
    "# target\n",
    "y= data.iloc[:, -1]"
   ]
  },
  {
   "cell_type": "markdown",
   "metadata": {},
   "source": [
    "### performing oversampling to handle imbalanced target variable"
   ]
  },
  {
   "cell_type": "code",
   "execution_count": 9,
   "metadata": {},
   "outputs": [],
   "source": [
    "# initialising oversampling\n",
    "smote= SMOTETomek()\n",
    "\n",
    "# implementing oversampling\n",
    "x_sm, y_sm= smote.fit_resample(x,y)"
   ]
  },
  {
   "cell_type": "code",
   "execution_count": 10,
   "metadata": {},
   "outputs": [
    {
     "data": {
      "text/html": [
       "<div>\n",
       "<style scoped>\n",
       "    .dataframe tbody tr th:only-of-type {\n",
       "        vertical-align: middle;\n",
       "    }\n",
       "\n",
       "    .dataframe tbody tr th {\n",
       "        vertical-align: top;\n",
       "    }\n",
       "\n",
       "    .dataframe thead th {\n",
       "        text-align: right;\n",
       "    }\n",
       "</style>\n",
       "<table border=\"1\" class=\"dataframe\">\n",
       "  <thead>\n",
       "    <tr style=\"text-align: right;\">\n",
       "      <th></th>\n",
       "      <th>age</th>\n",
       "      <th>anaemia</th>\n",
       "      <th>creatinine_phosphokinase</th>\n",
       "      <th>diabetes</th>\n",
       "      <th>ejection_fraction</th>\n",
       "      <th>high_blood_pressure</th>\n",
       "      <th>platelets</th>\n",
       "      <th>serum_creatinine</th>\n",
       "      <th>serum_sodium</th>\n",
       "      <th>sex</th>\n",
       "      <th>smoking</th>\n",
       "      <th>time</th>\n",
       "    </tr>\n",
       "  </thead>\n",
       "  <tbody>\n",
       "    <tr>\n",
       "      <th>0</th>\n",
       "      <td>75.0</td>\n",
       "      <td>0</td>\n",
       "      <td>582</td>\n",
       "      <td>0</td>\n",
       "      <td>20</td>\n",
       "      <td>1</td>\n",
       "      <td>265000.00</td>\n",
       "      <td>1.9</td>\n",
       "      <td>130</td>\n",
       "      <td>1</td>\n",
       "      <td>0</td>\n",
       "      <td>4</td>\n",
       "    </tr>\n",
       "    <tr>\n",
       "      <th>1</th>\n",
       "      <td>55.0</td>\n",
       "      <td>0</td>\n",
       "      <td>7861</td>\n",
       "      <td>0</td>\n",
       "      <td>38</td>\n",
       "      <td>0</td>\n",
       "      <td>263358.03</td>\n",
       "      <td>1.1</td>\n",
       "      <td>136</td>\n",
       "      <td>1</td>\n",
       "      <td>0</td>\n",
       "      <td>6</td>\n",
       "    </tr>\n",
       "    <tr>\n",
       "      <th>2</th>\n",
       "      <td>50.0</td>\n",
       "      <td>1</td>\n",
       "      <td>111</td>\n",
       "      <td>0</td>\n",
       "      <td>20</td>\n",
       "      <td>0</td>\n",
       "      <td>210000.00</td>\n",
       "      <td>1.9</td>\n",
       "      <td>137</td>\n",
       "      <td>1</td>\n",
       "      <td>0</td>\n",
       "      <td>7</td>\n",
       "    </tr>\n",
       "  </tbody>\n",
       "</table>\n",
       "</div>"
      ],
      "text/plain": [
       "    age  anaemia  creatinine_phosphokinase  diabetes  ejection_fraction  \\\n",
       "0  75.0        0                       582         0                 20   \n",
       "1  55.0        0                      7861         0                 38   \n",
       "2  50.0        1                       111         0                 20   \n",
       "\n",
       "   high_blood_pressure  platelets  serum_creatinine  serum_sodium  sex  \\\n",
       "0                    1  265000.00               1.9           130    1   \n",
       "1                    0  263358.03               1.1           136    1   \n",
       "2                    0  210000.00               1.9           137    1   \n",
       "\n",
       "   smoking  time  \n",
       "0        0     4  \n",
       "1        0     6  \n",
       "2        0     7  "
      ]
     },
     "execution_count": 10,
     "metadata": {},
     "output_type": "execute_result"
    }
   ],
   "source": [
    "x_sm.head(3)"
   ]
  },
  {
   "cell_type": "markdown",
   "metadata": {},
   "source": [
    "### feature scaling"
   ]
  },
  {
   "cell_type": "code",
   "execution_count": 11,
   "metadata": {},
   "outputs": [],
   "source": [
    "scaling= StandardScaler()\n",
    "\n",
    "columns_to_scale= [\"age\", \"creatinine_phosphokinase\", \"ejection_fraction\", \"platelets\", \"serum_creatinine\",\n",
    "                       \"serum_sodium\", \"time\"]\n",
    "x_sm[columns_to_scale]=scaling.fit_transform(x_sm[columns_to_scale])"
   ]
  },
  {
   "cell_type": "code",
   "execution_count": 12,
   "metadata": {},
   "outputs": [
    {
     "data": {
      "text/html": [
       "<div>\n",
       "<style scoped>\n",
       "    .dataframe tbody tr th:only-of-type {\n",
       "        vertical-align: middle;\n",
       "    }\n",
       "\n",
       "    .dataframe tbody tr th {\n",
       "        vertical-align: top;\n",
       "    }\n",
       "\n",
       "    .dataframe thead th {\n",
       "        text-align: right;\n",
       "    }\n",
       "</style>\n",
       "<table border=\"1\" class=\"dataframe\">\n",
       "  <thead>\n",
       "    <tr style=\"text-align: right;\">\n",
       "      <th></th>\n",
       "      <th>age</th>\n",
       "      <th>anaemia</th>\n",
       "      <th>creatinine_phosphokinase</th>\n",
       "      <th>diabetes</th>\n",
       "      <th>ejection_fraction</th>\n",
       "      <th>high_blood_pressure</th>\n",
       "      <th>platelets</th>\n",
       "      <th>serum_creatinine</th>\n",
       "      <th>serum_sodium</th>\n",
       "      <th>sex</th>\n",
       "      <th>smoking</th>\n",
       "      <th>time</th>\n",
       "    </tr>\n",
       "  </thead>\n",
       "  <tbody>\n",
       "    <tr>\n",
       "      <th>0</th>\n",
       "      <td>0.991551</td>\n",
       "      <td>0</td>\n",
       "      <td>-0.073957</td>\n",
       "      <td>0</td>\n",
       "      <td>-1.485638</td>\n",
       "      <td>1</td>\n",
       "      <td>0.131727</td>\n",
       "      <td>0.308937</td>\n",
       "      <td>-1.385091</td>\n",
       "      <td>1</td>\n",
       "      <td>0</td>\n",
       "      <td>-1.514725</td>\n",
       "    </tr>\n",
       "    <tr>\n",
       "      <th>1</th>\n",
       "      <td>-0.583817</td>\n",
       "      <td>0</td>\n",
       "      <td>6.446653</td>\n",
       "      <td>0</td>\n",
       "      <td>0.055575</td>\n",
       "      <td>0</td>\n",
       "      <td>0.114796</td>\n",
       "      <td>-0.384020</td>\n",
       "      <td>-0.024646</td>\n",
       "      <td>1</td>\n",
       "      <td>0</td>\n",
       "      <td>-1.488024</td>\n",
       "    </tr>\n",
       "    <tr>\n",
       "      <th>2</th>\n",
       "      <td>-0.977659</td>\n",
       "      <td>1</td>\n",
       "      <td>-0.495884</td>\n",
       "      <td>0</td>\n",
       "      <td>-1.485638</td>\n",
       "      <td>0</td>\n",
       "      <td>-0.435393</td>\n",
       "      <td>0.308937</td>\n",
       "      <td>0.202095</td>\n",
       "      <td>1</td>\n",
       "      <td>0</td>\n",
       "      <td>-1.474673</td>\n",
       "    </tr>\n",
       "    <tr>\n",
       "      <th>3</th>\n",
       "      <td>2.173077</td>\n",
       "      <td>1</td>\n",
       "      <td>-0.553216</td>\n",
       "      <td>0</td>\n",
       "      <td>0.226821</td>\n",
       "      <td>1</td>\n",
       "      <td>-0.497261</td>\n",
       "      <td>0.482176</td>\n",
       "      <td>-0.931610</td>\n",
       "      <td>1</td>\n",
       "      <td>1</td>\n",
       "      <td>-1.461322</td>\n",
       "    </tr>\n",
       "    <tr>\n",
       "      <th>4</th>\n",
       "      <td>-0.189975</td>\n",
       "      <td>1</td>\n",
       "      <td>-0.313139</td>\n",
       "      <td>1</td>\n",
       "      <td>1.939280</td>\n",
       "      <td>0</td>\n",
       "      <td>2.080558</td>\n",
       "      <td>-0.384020</td>\n",
       "      <td>-1.158350</td>\n",
       "      <td>1</td>\n",
       "      <td>1</td>\n",
       "      <td>-1.434621</td>\n",
       "    </tr>\n",
       "  </tbody>\n",
       "</table>\n",
       "</div>"
      ],
      "text/plain": [
       "        age  anaemia  creatinine_phosphokinase  diabetes  ejection_fraction  \\\n",
       "0  0.991551        0                 -0.073957         0          -1.485638   \n",
       "1 -0.583817        0                  6.446653         0           0.055575   \n",
       "2 -0.977659        1                 -0.495884         0          -1.485638   \n",
       "3  2.173077        1                 -0.553216         0           0.226821   \n",
       "4 -0.189975        1                 -0.313139         1           1.939280   \n",
       "\n",
       "   high_blood_pressure  platelets  serum_creatinine  serum_sodium  sex  \\\n",
       "0                    1   0.131727          0.308937     -1.385091    1   \n",
       "1                    0   0.114796         -0.384020     -0.024646    1   \n",
       "2                    0  -0.435393          0.308937      0.202095    1   \n",
       "3                    1  -0.497261          0.482176     -0.931610    1   \n",
       "4                    0   2.080558         -0.384020     -1.158350    1   \n",
       "\n",
       "   smoking      time  \n",
       "0        0 -1.514725  \n",
       "1        0 -1.488024  \n",
       "2        0 -1.474673  \n",
       "3        1 -1.461322  \n",
       "4        1 -1.434621  "
      ]
     },
     "execution_count": 12,
     "metadata": {},
     "output_type": "execute_result"
    }
   ],
   "source": [
    "# scaled dataset\n",
    "x_scaled= x_sm.copy()\n",
    "x_scaled.head()"
   ]
  },
  {
   "cell_type": "markdown",
   "metadata": {},
   "source": [
    "### splitting into train and test data"
   ]
  },
  {
   "cell_type": "code",
   "execution_count": 13,
   "metadata": {},
   "outputs": [],
   "source": [
    "x_train, x_test, y_train, y_test= train_test_split(x_scaled, y_sm, test_size=0.2, random_state= 10)"
   ]
  },
  {
   "cell_type": "markdown",
   "metadata": {},
   "source": [
    "## Model Building\n"
   ]
  },
  {
   "cell_type": "markdown",
   "metadata": {},
   "source": [
    "### Logistic Regression"
   ]
  },
  {
   "cell_type": "code",
   "execution_count": 14,
   "metadata": {},
   "outputs": [
    {
     "name": "stdout",
     "output_type": "stream",
     "text": [
      "Fitting 5 folds for each of 40 candidates, totalling 200 fits\n",
      "[CV] END ...................C=0.01, max_iter=100, penalty=l1; total time=   0.0s\n",
      "[CV] END ...................C=0.01, max_iter=100, penalty=l1; total time=   0.0s\n",
      "[CV] END ...................C=0.01, max_iter=100, penalty=l1; total time=   0.0s\n",
      "[CV] END ...................C=0.01, max_iter=100, penalty=l1; total time=   0.0s\n",
      "[CV] END ...................C=0.01, max_iter=100, penalty=l1; total time=   0.0s\n",
      "[CV] END ...................C=0.01, max_iter=100, penalty=l2; total time=   0.0s\n",
      "[CV] END ...................C=0.01, max_iter=100, penalty=l2; total time=   0.0s\n",
      "[CV] END ..................C=0.01, max_iter=1000, penalty=l1; total time=   0.0s\n",
      "[CV] END ..................C=0.01, max_iter=1000, penalty=l1; total time=   0.0s\n",
      "[CV] END ..................C=0.01, max_iter=1000, penalty=l1; total time=   0.0s\n",
      "[CV] END ..................C=0.01, max_iter=1000, penalty=l1; total time=   0.0s\n",
      "[CV] END ..................C=0.01, max_iter=1000, penalty=l1; total time=   0.0s\n",
      "[CV] END ..................C=0.01, max_iter=1000, penalty=l2; total time=   0.1s\n",
      "[CV] END ..................C=0.01, max_iter=2500, penalty=l1; total time=   0.0s\n",
      "[CV] END ...................C=0.01, max_iter=100, penalty=l2; total time=   0.1s\n",
      "[CV] END ...................C=0.01, max_iter=100, penalty=l2; total time=   0.1s\n",
      "[CV] END ..................C=0.01, max_iter=2500, penalty=l1; total time=   0.0s\n",
      "[CV] END ..................C=0.01, max_iter=2500, penalty=l1; total time=   0.0s\n",
      "[CV] END ..................C=0.01, max_iter=2500, penalty=l1; total time=   0.0s\n",
      "[CV] END ..................C=0.01, max_iter=2500, penalty=l1; total time=   0.0s\n",
      "[CV] END ..................C=0.01, max_iter=1000, penalty=l2; total time=   0.1s\n",
      "[CV] END ..................C=0.01, max_iter=1000, penalty=l2; total time=   0.1s\n",
      "[CV] END ..................C=0.01, max_iter=1000, penalty=l2; total time=   0.1s\n",
      "[CV] END ..................C=0.01, max_iter=5000, penalty=l1; total time=   0.0s\n",
      "[CV] END ..................C=0.01, max_iter=5000, penalty=l1; total time=   0.0s\n",
      "[CV] END ..................C=0.01, max_iter=2500, penalty=l2; total time=   0.0s\n",
      "[CV] END ..................C=0.01, max_iter=2500, penalty=l2; total time=   0.0s\n",
      "[CV] END ..................C=0.01, max_iter=2500, penalty=l2; total time=   0.0s\n",
      "[CV] END ..................C=0.01, max_iter=5000, penalty=l1; total time=   0.0s\n",
      "[CV] END ..................C=0.01, max_iter=5000, penalty=l1; total time=   0.0s\n",
      "[CV] END ..................C=0.01, max_iter=5000, penalty=l1; total time=   0.0s\n",
      "[CV] END ..................C=0.01, max_iter=2500, penalty=l2; total time=   0.0s\n",
      "[CV] END ..................C=0.01, max_iter=1000, penalty=l2; total time=   0.1s\n",
      "[CV] END ..................C=0.01, max_iter=2500, penalty=l2; total time=   0.0s\n",
      "[CV] END ....................C=0.1, max_iter=100, penalty=l1; total time=   0.0s\n",
      "[CV] END ....................C=0.1, max_iter=100, penalty=l1; total time=   0.0s\n",
      "[CV] END ..................C=0.01, max_iter=5000, penalty=l2; total time=   0.0s\n",
      "[CV] END ..................C=0.01, max_iter=5000, penalty=l2; total time=   0.0s\n",
      "[CV] END ....................C=0.1, max_iter=100, penalty=l1; total time=   0.0s\n",
      "[CV] END ....................C=0.1, max_iter=100, penalty=l1; total time=   0.0s\n",
      "[CV] END ..................C=0.01, max_iter=5000, penalty=l2; total time=   0.0s\n",
      "[CV] END ....................C=0.1, max_iter=100, penalty=l1; total time=   0.0s\n",
      "[CV] END ..................C=0.01, max_iter=5000, penalty=l2; total time=   0.0s\n",
      "[CV] END ..................C=0.01, max_iter=5000, penalty=l2; total time=   0.0s\n",
      "[CV] END ...................C=0.1, max_iter=1000, penalty=l1; total time=   0.0s\n",
      "[CV] END ....................C=0.1, max_iter=100, penalty=l2; total time=   0.0s\n",
      "[CV] END ...................C=0.1, max_iter=1000, penalty=l1; total time=   0.0s\n",
      "[CV] END ...................C=0.1, max_iter=1000, penalty=l1; total time=   0.0s\n",
      "[CV] END ...................C=0.1, max_iter=1000, penalty=l1; total time=   0.0s\n",
      "[CV] END ....................C=0.1, max_iter=100, penalty=l2; total time=   0.0s\n",
      "[CV] END ...................C=0.1, max_iter=1000, penalty=l1; total time=   0.0s\n",
      "[CV] END ....................C=0.1, max_iter=100, penalty=l2; total time=   0.0s\n",
      "[CV] END ....................C=0.1, max_iter=100, penalty=l2; total time=   0.0s\n",
      "[CV] END ....................C=0.1, max_iter=100, penalty=l2; total time=   0.0s\n",
      "[CV] END ...................C=0.1, max_iter=2500, penalty=l1; total time=   0.0s\n",
      "[CV] END ...................C=0.1, max_iter=2500, penalty=l1; total time=   0.0s\n",
      "[CV] END ...................C=0.1, max_iter=2500, penalty=l1; total time=   0.0s\n",
      "[CV] END ...................C=0.1, max_iter=1000, penalty=l2; total time=   0.0s\n",
      "[CV] END ...................C=0.1, max_iter=2500, penalty=l1; total time=   0.0s\n",
      "[CV] END ...................C=0.1, max_iter=1000, penalty=l2; total time=   0.0s\n",
      "[CV] END ...................C=0.1, max_iter=2500, penalty=l1; total time=   0.0s\n",
      "[CV] END ...................C=0.1, max_iter=5000, penalty=l1; total time=   0.0s\n",
      "[CV] END ...................C=0.1, max_iter=5000, penalty=l1; total time=   0.0s\n",
      "[CV] END ...................C=0.1, max_iter=5000, penalty=l1; total time=   0.0s\n",
      "[CV] END ...................C=0.1, max_iter=5000, penalty=l1; total time=   0.0s\n",
      "[CV] END ...................C=0.1, max_iter=1000, penalty=l2; total time=   0.0s\n",
      "[CV] END ...................C=0.1, max_iter=5000, penalty=l1; total time=   0.0s\n",
      "[CV] END ...................C=0.1, max_iter=2500, penalty=l2; total time=   0.0s\n",
      "[CV] END ...................C=0.1, max_iter=2500, penalty=l2; total time=   0.0s\n",
      "[CV] END ...................C=0.1, max_iter=2500, penalty=l2; total time=   0.0s\n",
      "[CV] END ...................C=0.1, max_iter=1000, penalty=l2; total time=   0.0s\n",
      "[CV] END ...................C=0.1, max_iter=1000, penalty=l2; total time=   0.0s\n",
      "[CV] END ....................C=1.0, max_iter=100, penalty=l1; total time=   0.0s\n",
      "[CV] END ...................C=0.1, max_iter=5000, penalty=l2; total time=   0.0s\n",
      "[CV] END ...................C=0.1, max_iter=5000, penalty=l2; total time=   0.0s\n",
      "[CV] END ....................C=1.0, max_iter=100, penalty=l1; total time=   0.0s\n",
      "[CV] END ....................C=1.0, max_iter=100, penalty=l1; total time=   0.0s[CV] END ....................C=1.0, max_iter=100, penalty=l1; total time=   0.0s\n",
      "[CV] END ...................C=0.1, max_iter=2500, penalty=l2; total time=   0.0s\n",
      "[CV] END ....................C=1.0, max_iter=100, penalty=l1; total time=   0.0s\n",
      "\n",
      "[CV] END ...................C=0.1, max_iter=5000, penalty=l2; total time=   0.0s\n",
      "[CV] END ...................C=0.1, max_iter=2500, penalty=l2; total time=   0.0s\n",
      "[CV] END ...................C=1.0, max_iter=1000, penalty=l1; total time=   0.0s\n",
      "[CV] END ...................C=1.0, max_iter=1000, penalty=l1; total time=   0.0s\n",
      "[CV] END ...................C=1.0, max_iter=1000, penalty=l1; total time=   0.0s\n",
      "[CV] END ...................C=0.1, max_iter=5000, penalty=l2; total time=   0.0s\n",
      "[CV] END ...................C=0.1, max_iter=5000, penalty=l2; total time=   0.0s\n",
      "[CV] END ...................C=1.0, max_iter=2500, penalty=l1; total time=   0.0s\n",
      "[CV] END ....................C=1.0, max_iter=100, penalty=l2; total time=   0.0s\n",
      "[CV] END ...................C=1.0, max_iter=2500, penalty=l1; total time=   0.0s\n",
      "[CV] END ...................C=1.0, max_iter=2500, penalty=l1; total time=   0.0s\n",
      "[CV] END ...................C=1.0, max_iter=2500, penalty=l1; total time=   0.0s\n",
      "[CV] END ....................C=1.0, max_iter=100, penalty=l2; total time=   0.0s\n",
      "[CV] END ...................C=1.0, max_iter=1000, penalty=l2; total time=   0.0s\n",
      "[CV] END ...................C=1.0, max_iter=2500, penalty=l1; total time=   0.0s\n",
      "[CV] END ....................C=1.0, max_iter=100, penalty=l2; total time=   0.0s\n",
      "[CV] END ...................C=1.0, max_iter=5000, penalty=l1; total time=   0.0s\n",
      "[CV] END ...................C=1.0, max_iter=1000, penalty=l2; total time=   0.0s\n",
      "[CV] END ...................C=1.0, max_iter=5000, penalty=l1; total time=   0.0s\n",
      "[CV] END ...................C=1.0, max_iter=5000, penalty=l1; total time=   0.0s\n",
      "[CV] END ...................C=1.0, max_iter=2500, penalty=l2; total time=   0.0s\n",
      "[CV] END ....................C=1.0, max_iter=100, penalty=l2; total time=   0.0s\n",
      "[CV] END ...................C=1.0, max_iter=1000, penalty=l1; total time=   0.0s\n",
      "[CV] END ...................C=1.0, max_iter=1000, penalty=l2; total time=   0.0s\n",
      "[CV] END ...................C=1.0, max_iter=2500, penalty=l2; total time=   0.0s\n",
      "[CV] END ...................C=1.0, max_iter=1000, penalty=l1; total time=   0.0s\n",
      "[CV] END ....................C=1.0, max_iter=100, penalty=l2; total time=   0.0s\n",
      "[CV] END ...................C=10.0, max_iter=100, penalty=l1; total time=   0.0s\n",
      "[CV] END ...................C=10.0, max_iter=100, penalty=l1; total time=   0.0s\n",
      "[CV] END ...................C=10.0, max_iter=100, penalty=l1; total time=   0.0s\n",
      "[CV] END ...................C=10.0, max_iter=100, penalty=l1; total time=   0.0s\n",
      "[CV] END ...................C=10.0, max_iter=100, penalty=l1; total time=   0.0s\n",
      "[CV] END ...................C=1.0, max_iter=5000, penalty=l2; total time=   0.0s\n",
      "[CV] END ...................C=1.0, max_iter=2500, penalty=l2; total time=   0.0s\n",
      "[CV] END ...................C=1.0, max_iter=5000, penalty=l2; total time=   0.0s\n",
      "[CV] END ...................C=1.0, max_iter=5000, penalty=l1; total time=   0.0s[CV] END ..................C=10.0, max_iter=1000, penalty=l1; total time=   0.0s\n",
      "\n",
      "[CV] END ...................C=1.0, max_iter=1000, penalty=l2; total time=   0.0s\n",
      "[CV] END ..................C=10.0, max_iter=1000, penalty=l1; total time=   0.0s\n",
      "[CV] END ...................C=1.0, max_iter=5000, penalty=l1; total time=   0.0s\n",
      "[CV] END ...................C=1.0, max_iter=2500, penalty=l2; total time=   0.0s\n",
      "[CV] END ..................C=10.0, max_iter=1000, penalty=l1; total time=   0.0s\n",
      "[CV] END ...................C=10.0, max_iter=100, penalty=l2; total time=   0.0s\n",
      "[CV] END ...................C=10.0, max_iter=100, penalty=l2; total time=   0.0s\n",
      "[CV] END ...................C=1.0, max_iter=5000, penalty=l2; total time=   0.0s\n",
      "[CV] END ...................C=1.0, max_iter=1000, penalty=l2; total time=   0.0s\n",
      "[CV] END ..................C=10.0, max_iter=2500, penalty=l1; total time=   0.0s\n",
      "[CV] END ..................C=10.0, max_iter=2500, penalty=l1; total time=   0.0s\n",
      "[CV] END ..................C=10.0, max_iter=1000, penalty=l2; total time=   0.0s\n",
      "[CV] END ..................C=10.0, max_iter=2500, penalty=l1; total time=   0.0s\n",
      "[CV] END ...................C=1.0, max_iter=2500, penalty=l2; total time=   0.0s\n",
      "[CV] END ..................C=10.0, max_iter=2500, penalty=l1; total time=   0.0s\n",
      "[CV] END ..................C=10.0, max_iter=1000, penalty=l2; total time=   0.0s\n",
      "[CV] END ..................C=10.0, max_iter=2500, penalty=l1; total time=   0.0s\n",
      "[CV] END ...................C=1.0, max_iter=5000, penalty=l2; total time=   0.0s\n",
      "[CV] END ...................C=10.0, max_iter=100, penalty=l2; total time=   0.0s\n",
      "[CV] END ..................C=10.0, max_iter=5000, penalty=l1; total time=   0.0s\n",
      "[CV] END ..................C=10.0, max_iter=5000, penalty=l1; total time=   0.0s\n",
      "[CV] END ...................C=10.0, max_iter=100, penalty=l2; total time=   0.1s\n",
      "[CV] END ..................C=10.0, max_iter=5000, penalty=l1; total time=   0.0s\n",
      "[CV] END ..................C=10.0, max_iter=2500, penalty=l2; total time=   0.0s\n",
      "[CV] END ...................C=1.0, max_iter=5000, penalty=l2; total time=   0.0s\n",
      "[CV] END ..................C=10.0, max_iter=1000, penalty=l1; total time=   0.0s\n",
      "[CV] END ..................C=10.0, max_iter=1000, penalty=l2; total time=   0.0s\n",
      "[CV] END ..................C=10.0, max_iter=1000, penalty=l1; total time=   0.0s\n",
      "[CV] END ..................C=10.0, max_iter=2500, penalty=l2; total time=   0.0s\n",
      "[CV] END ...................C=10.0, max_iter=100, penalty=l2; total time=   0.0s\n",
      "[CV] END ..................C=10.0, max_iter=2500, penalty=l2; total time=   0.0s\n",
      "[CV] END ..................C=10.0, max_iter=5000, penalty=l1; total time=   0.0s\n",
      "[CV] END ..................C=10.0, max_iter=1000, penalty=l2; total time=   0.0s\n",
      "[CV] END ..................C=10.0, max_iter=5000, penalty=l2; total time=   0.0s\n",
      "[CV] END ..................C=10.0, max_iter=5000, penalty=l2; total time=   0.0s\n",
      "[CV] END ..................C=10.0, max_iter=2500, penalty=l2; total time=   0.0s\n",
      "[CV] END ..................C=10.0, max_iter=5000, penalty=l1; total time=   0.0s\n",
      "[CV] END ..................C=100.0, max_iter=100, penalty=l1; total time=   0.0s\n",
      "[CV] END ..................C=100.0, max_iter=100, penalty=l1; total time=   0.0s\n",
      "[CV] END ..................C=100.0, max_iter=100, penalty=l1; total time=   0.0s\n",
      "[CV] END ..................C=10.0, max_iter=5000, penalty=l2; total time=   0.1s\n",
      "[CV] END ..................C=10.0, max_iter=5000, penalty=l2; total time=   0.0s\n",
      "[CV] END ..................C=100.0, max_iter=100, penalty=l1; total time=   0.0s\n",
      "[CV] END ..................C=100.0, max_iter=100, penalty=l1; total time=   0.0s\n",
      "[CV] END ..................C=10.0, max_iter=5000, penalty=l2; total time=   0.1s\n",
      "[CV] END ..................C=100.0, max_iter=100, penalty=l2; total time=   0.0s\n",
      "[CV] END ..................C=10.0, max_iter=1000, penalty=l2; total time=   0.1s\n",
      "[CV] END ..................C=10.0, max_iter=2500, penalty=l2; total time=   0.1s\n",
      "[CV] END .................C=100.0, max_iter=1000, penalty=l1; total time=   0.0s\n",
      "[CV] END .................C=100.0, max_iter=1000, penalty=l1; total time=   0.0s\n",
      "[CV] END ..................C=100.0, max_iter=100, penalty=l2; total time=   0.0s\n",
      "[CV] END .................C=100.0, max_iter=1000, penalty=l1; total time=   0.0s\n",
      "[CV] END .................C=100.0, max_iter=1000, penalty=l1; total time=   0.0s\n",
      "[CV] END ..................C=100.0, max_iter=100, penalty=l2; total time=   0.0s\n",
      "[CV] END .................C=100.0, max_iter=1000, penalty=l1; total time=   0.0s\n",
      "[CV] END ..................C=100.0, max_iter=100, penalty=l2; total time=   0.0s\n",
      "[CV] END .................C=100.0, max_iter=2500, penalty=l1; total time=   0.0s\n",
      "[CV] END ..................C=100.0, max_iter=100, penalty=l2; total time=   0.0s\n",
      "[CV] END .................C=100.0, max_iter=2500, penalty=l1; total time=   0.0s\n",
      "[CV] END .................C=100.0, max_iter=2500, penalty=l1; total time=   0.0s\n",
      "[CV] END ...................C=0.01, max_iter=100, penalty=l2; total time=   0.1s\n",
      "[CV] END .................C=100.0, max_iter=1000, penalty=l2; total time=   0.0s\n",
      "[CV] END .................C=100.0, max_iter=1000, penalty=l2; total time=   0.0s\n",
      "[CV] END .................C=100.0, max_iter=2500, penalty=l1; total time=   0.0s\n",
      "[CV] END .................C=100.0, max_iter=2500, penalty=l1; total time=   0.0s\n",
      "[CV] END .................C=100.0, max_iter=1000, penalty=l2; total time=   0.0s\n",
      "[CV] END .................C=100.0, max_iter=1000, penalty=l2; total time=   0.0s\n",
      "[CV] END .................C=100.0, max_iter=1000, penalty=l2; total time=   0.0s\n",
      "[CV] END .................C=100.0, max_iter=5000, penalty=l1; total time=   0.0s\n",
      "[CV] END .................C=100.0, max_iter=5000, penalty=l1; total time=   0.0s\n",
      "[CV] END .................C=100.0, max_iter=5000, penalty=l1; total time=   0.0s\n",
      "[CV] END .................C=100.0, max_iter=5000, penalty=l1; total time=   0.0s\n",
      "[CV] END .................C=100.0, max_iter=5000, penalty=l1; total time=   0.0s\n",
      "[CV] END .................C=100.0, max_iter=2500, penalty=l2; total time=   0.0s\n",
      "[CV] END .................C=100.0, max_iter=2500, penalty=l2; total time=   0.0s\n",
      "[CV] END .................C=100.0, max_iter=2500, penalty=l2; total time=   0.0s\n",
      "[CV] END .................C=100.0, max_iter=2500, penalty=l2; total time=   0.0s\n",
      "[CV] END .................C=100.0, max_iter=2500, penalty=l2; total time=   0.0s\n",
      "[CV] END .................C=100.0, max_iter=5000, penalty=l2; total time=   0.0s\n",
      "[CV] END .................C=100.0, max_iter=5000, penalty=l2; total time=   0.0s\n",
      "[CV] END .................C=100.0, max_iter=5000, penalty=l2; total time=   0.0s\n",
      "[CV] END .................C=100.0, max_iter=5000, penalty=l2; total time=   0.0s\n",
      "[CV] END .................C=100.0, max_iter=5000, penalty=l2; total time=   0.0s\n",
      "best score : 0.863142880431442\n",
      "best parameters : {'C': 1.0, 'max_iter': 100, 'penalty': 'l2'}\n",
      "best estimaotrs : LogisticRegression()\n"
     ]
    },
    {
     "name": "stderr",
     "output_type": "stream",
     "text": [
      "/Library/Frameworks/Python.framework/Versions/3.11/lib/python3.11/site-packages/sklearn/model_selection/_validation.py:378: FitFailedWarning: \n",
      "100 fits failed out of a total of 200.\n",
      "The score on these train-test partitions for these parameters will be set to nan.\n",
      "If these failures are not expected, you can try to debug them by setting error_score='raise'.\n",
      "\n",
      "Below are more details about the failures:\n",
      "--------------------------------------------------------------------------------\n",
      "100 fits failed with the following error:\n",
      "Traceback (most recent call last):\n",
      "  File \"/Library/Frameworks/Python.framework/Versions/3.11/lib/python3.11/site-packages/sklearn/model_selection/_validation.py\", line 686, in _fit_and_score\n",
      "    estimator.fit(X_train, y_train, **fit_params)\n",
      "  File \"/Library/Frameworks/Python.framework/Versions/3.11/lib/python3.11/site-packages/sklearn/linear_model/_logistic.py\", line 1091, in fit\n",
      "    solver = _check_solver(self.solver, self.penalty, self.dual)\n",
      "             ^^^^^^^^^^^^^^^^^^^^^^^^^^^^^^^^^^^^^^^^^^^^^^^^^^^\n",
      "  File \"/Library/Frameworks/Python.framework/Versions/3.11/lib/python3.11/site-packages/sklearn/linear_model/_logistic.py\", line 61, in _check_solver\n",
      "    raise ValueError(\n",
      "ValueError: Solver lbfgs supports only 'l2' or 'none' penalties, got l1 penalty.\n",
      "\n",
      "  warnings.warn(some_fits_failed_message, FitFailedWarning)\n",
      "/Library/Frameworks/Python.framework/Versions/3.11/lib/python3.11/site-packages/sklearn/model_selection/_search.py:953: UserWarning: One or more of the test scores are non-finite: [       nan 0.84348793        nan 0.84348793        nan 0.84348793\n",
      "        nan 0.84348793        nan 0.84744151        nan 0.84744151\n",
      "        nan 0.84744151        nan 0.84744151        nan 0.86314288\n",
      "        nan 0.86314288        nan 0.86314288        nan 0.86314288\n",
      "        nan 0.85540377        nan 0.85540377        nan 0.85540377\n",
      "        nan 0.85540377        nan 0.85540377        nan 0.85540377\n",
      "        nan 0.85540377        nan 0.85540377]\n",
      "  warnings.warn(\n"
     ]
    }
   ],
   "source": [
    "# initialising logistic regression\n",
    "lr= LogisticRegression()\n",
    "\n",
    "# hyperparameter tuning\n",
    "lr_params= {\"C\": 10.0**np.arange(-2,3),\n",
    "            \"penalty\": [\"l1\", \"l2\"],\n",
    "            \"max_iter\": [100, 1000, 2500, 5000]}\n",
    "\n",
    "# defining stratified K fold cross validation\n",
    "lr_cv= KFold(n_splits=5)\n",
    "\n",
    "# using gridsearch for respective parameter\n",
    "lr_gridsearch= GridSearchCV(estimator=lr, param_grid= lr_params, cv= lr_cv, scoring=\"f1_macro\", n_jobs=-1, verbose=2)\n",
    "\n",
    "# model fitting\n",
    "lr_gridsearch.fit(x_train, y_train)\n",
    "\n",
    "print(\"best score :\", lr_gridsearch.best_score_)\n",
    "print(\"best parameters :\", lr_gridsearch.best_params_)\n",
    "print(\"best estimaotrs :\", lr_gridsearch.best_estimator_)"
   ]
  },
  {
   "cell_type": "code",
   "execution_count": 15,
   "metadata": {},
   "outputs": [
    {
     "name": "stdout",
     "output_type": "stream",
     "text": [
      "0.8153846153846154\n",
      "              precision    recall  f1-score   support\n",
      "\n",
      "           0       0.83      0.83      0.83        35\n",
      "           1       0.80      0.80      0.80        30\n",
      "\n",
      "    accuracy                           0.82        65\n",
      "   macro avg       0.81      0.81      0.81        65\n",
      "weighted avg       0.82      0.82      0.82        65\n",
      "\n"
     ]
    },
    {
     "data": {
      "image/png": "[encoded data removed]",
      "text/plain": [
       "<Figure size 600x600 with 1 Axes>"
      ]
     },
     "metadata": {},
     "output_type": "display_data"
    }
   ],
   "source": [
    "#best model\n",
    "lr_grid= lr_gridsearch.best_estimator_\n",
    "\n",
    "# checking model performance\n",
    "lr_grid_pred= lr_grid.predict(x_test)\n",
    "\n",
    "cm= confusion_matrix(y_test, lr_grid_pred)\n",
    "\n",
    "plot_confusion_matrix(cm, figsize=(6,6))\n",
    "print(accuracy_score(y_test, lr_grid_pred))\n",
    "print(classification_report(y_test, lr_grid_pred))"
   ]
  },
  {
   "cell_type": "markdown",
   "metadata": {},
   "source": [
    "### Random Forest\n",
    "*Since ensemble techniques does not require dataset to be scaled, we are using just oversampled data to split into train and test data.*"
   ]
  },
  {
   "cell_type": "code",
   "execution_count": 16,
   "metadata": {},
   "outputs": [],
   "source": [
    "X_train, X_test, Y_train, Y_test= train_test_split(x_sm,y_sm, test_size=0.2, random_state=10 )"
   ]
  },
  {
   "cell_type": "code",
   "execution_count": 17,
   "metadata": {},
   "outputs": [
    {
     "name": "stdout",
     "output_type": "stream",
     "text": [
      "Fitting 5 folds for each of 100 candidates, totalling 500 fits\n"
     ]
    },
    {
     "name": "stderr",
     "output_type": "stream",
     "text": [
      "/Library/Frameworks/Python.framework/Versions/3.11/lib/python3.11/site-packages/sklearn/ensemble/_forest.py:427: FutureWarning: `max_features='auto'` has been deprecated in 1.1 and will be removed in 1.3. To keep the past behaviour, explicitly set `max_features='sqrt'` or remove this parameter as it is also the default value for RandomForestClassifiers and ExtraTreesClassifiers.\n",
      "  warn(\n",
      "/Library/Frameworks/Python.framework/Versions/3.11/lib/python3.11/site-packages/sklearn/ensemble/_forest.py:427: FutureWarning: `max_features='auto'` has been deprecated in 1.1 and will be removed in 1.3. To keep the past behaviour, explicitly set `max_features='sqrt'` or remove this parameter as it is also the default value for RandomForestClassifiers and ExtraTreesClassifiers.\n",
      "  warn(\n",
      "/Library/Frameworks/Python.framework/Versions/3.11/lib/python3.11/site-packages/sklearn/ensemble/_forest.py:427: FutureWarning: `max_features='auto'` has been deprecated in 1.1 and will be removed in 1.3. To keep the past behaviour, explicitly set `max_features='sqrt'` or remove this parameter as it is also the default value for RandomForestClassifiers and ExtraTreesClassifiers.\n",
      "  warn(\n",
      "/Library/Frameworks/Python.framework/Versions/3.11/lib/python3.11/site-packages/sklearn/ensemble/_forest.py:427: FutureWarning: `max_features='auto'` has been deprecated in 1.1 and will be removed in 1.3. To keep the past behaviour, explicitly set `max_features='sqrt'` or remove this parameter as it is also the default value for RandomForestClassifiers and ExtraTreesClassifiers.\n",
      "  warn(\n",
      "/Library/Frameworks/Python.framework/Versions/3.11/lib/python3.11/site-packages/sklearn/ensemble/_forest.py:427: FutureWarning: `max_features='auto'` has been deprecated in 1.1 and will be removed in 1.3. To keep the past behaviour, explicitly set `max_features='sqrt'` or remove this parameter as it is also the default value for RandomForestClassifiers and ExtraTreesClassifiers.\n",
      "  warn(\n",
      "/Library/Frameworks/Python.framework/Versions/3.11/lib/python3.11/site-packages/sklearn/ensemble/_forest.py:427: FutureWarning: `max_features='auto'` has been deprecated in 1.1 and will be removed in 1.3. To keep the past behaviour, explicitly set `max_features='sqrt'` or remove this parameter as it is also the default value for RandomForestClassifiers and ExtraTreesClassifiers.\n",
      "  warn(\n",
      "/Library/Frameworks/Python.framework/Versions/3.11/lib/python3.11/site-packages/sklearn/ensemble/_forest.py:427: FutureWarning: `max_features='auto'` has been deprecated in 1.1 and will be removed in 1.3. To keep the past behaviour, explicitly set `max_features='sqrt'` or remove this parameter as it is also the default value for RandomForestClassifiers and ExtraTreesClassifiers.\n",
      "  warn(\n",
      "/Library/Frameworks/Python.framework/Versions/3.11/lib/python3.11/site-packages/sklearn/ensemble/_forest.py:427: FutureWarning: `max_features='auto'` has been deprecated in 1.1 and will be removed in 1.3. To keep the past behaviour, explicitly set `max_features='sqrt'` or remove this parameter as it is also the default value for RandomForestClassifiers and ExtraTreesClassifiers.\n",
      "  warn(\n"
     ]
    },
    {
     "name": "stdout",
     "output_type": "stream",
     "text": [
      "[CV] END criterion=entrpoy, max_depth=300, max_features=auto, min_samples_leaf=5, min_samples_split=5, n_estimators=400; total time=   0.5s\n",
      "[CV] END criterion=entrpoy, max_depth=300, max_features=auto, min_samples_leaf=5, min_samples_split=5, n_estimators=400; total time=   0.5s\n",
      "[CV] END criterion=entrpoy, max_depth=300, max_features=auto, min_samples_leaf=5, min_samples_split=5, n_estimators=400; total time=   0.5s\n"
     ]
    },
    {
     "name": "stderr",
     "output_type": "stream",
     "text": [
      "/Library/Frameworks/Python.framework/Versions/3.11/lib/python3.11/site-packages/sklearn/ensemble/_forest.py:427: FutureWarning: `max_features='auto'` has been deprecated in 1.1 and will be removed in 1.3. To keep the past behaviour, explicitly set `max_features='sqrt'` or remove this parameter as it is also the default value for RandomForestClassifiers and ExtraTreesClassifiers.\n",
      "  warn(\n",
      "/Library/Frameworks/Python.framework/Versions/3.11/lib/python3.11/site-packages/sklearn/ensemble/_forest.py:427: FutureWarning: `max_features='auto'` has been deprecated in 1.1 and will be removed in 1.3. To keep the past behaviour, explicitly set `max_features='sqrt'` or remove this parameter as it is also the default value for RandomForestClassifiers and ExtraTreesClassifiers.\n",
      "  warn(\n",
      "/Library/Frameworks/Python.framework/Versions/3.11/lib/python3.11/site-packages/sklearn/ensemble/_forest.py:427: FutureWarning: `max_features='auto'` has been deprecated in 1.1 and will be removed in 1.3. To keep the past behaviour, explicitly set `max_features='sqrt'` or remove this parameter as it is also the default value for RandomForestClassifiers and ExtraTreesClassifiers.\n",
      "  warn(\n"
     ]
    },
    {
     "name": "stdout",
     "output_type": "stream",
     "text": [
      "[CV] END criterion=entrpoy, max_depth=300, max_features=auto, min_samples_leaf=5, min_samples_split=5, n_estimators=400; total time=   0.9s\n",
      "[CV] END criterion=entrpoy, max_depth=300, max_features=auto, min_samples_leaf=5, min_samples_split=5, n_estimators=400; total time=   0.9s\n"
     ]
    },
    {
     "name": "stderr",
     "output_type": "stream",
     "text": [
      "/Library/Frameworks/Python.framework/Versions/3.11/lib/python3.11/site-packages/sklearn/ensemble/_forest.py:427: FutureWarning: `max_features='auto'` has been deprecated in 1.1 and will be removed in 1.3. To keep the past behaviour, explicitly set `max_features='sqrt'` or remove this parameter as it is also the default value for RandomForestClassifiers and ExtraTreesClassifiers.\n",
      "  warn(\n",
      "/Library/Frameworks/Python.framework/Versions/3.11/lib/python3.11/site-packages/sklearn/ensemble/_forest.py:427: FutureWarning: `max_features='auto'` has been deprecated in 1.1 and will be removed in 1.3. To keep the past behaviour, explicitly set `max_features='sqrt'` or remove this parameter as it is also the default value for RandomForestClassifiers and ExtraTreesClassifiers.\n",
      "  warn(\n"
     ]
    },
    {
     "name": "stdout",
     "output_type": "stream",
     "text": [
      "[CV] END criterion=gini, max_depth=300, max_features=auto, min_samples_leaf=5, min_samples_split=1, n_estimators=1000; total time=   1.8s\n",
      "[CV] END criterion=gini, max_depth=300, max_features=auto, min_samples_leaf=5, min_samples_split=1, n_estimators=1000; total time=   1.8s\n",
      "[CV] END criterion=gini, max_depth=300, max_features=auto, min_samples_leaf=5, min_samples_split=1, n_estimators=1000; total time=   1.8s\n",
      "[CV] END criterion=gini, max_depth=300, max_features=auto, min_samples_leaf=5, min_samples_split=1, n_estimators=1000; total time=   1.8s\n",
      "[CV] END criterion=gini, max_depth=300, max_features=auto, min_samples_leaf=5, min_samples_split=1, n_estimators=1000; total time=   1.8s\n"
     ]
    },
    {
     "name": "stderr",
     "output_type": "stream",
     "text": [
      "/Library/Frameworks/Python.framework/Versions/3.11/lib/python3.11/site-packages/sklearn/ensemble/_forest.py:427: FutureWarning: `max_features='auto'` has been deprecated in 1.1 and will be removed in 1.3. To keep the past behaviour, explicitly set `max_features='sqrt'` or remove this parameter as it is also the default value for RandomForestClassifiers and ExtraTreesClassifiers.\n",
      "  warn(\n",
      "/Library/Frameworks/Python.framework/Versions/3.11/lib/python3.11/site-packages/sklearn/ensemble/_forest.py:427: FutureWarning: `max_features='auto'` has been deprecated in 1.1 and will be removed in 1.3. To keep the past behaviour, explicitly set `max_features='sqrt'` or remove this parameter as it is also the default value for RandomForestClassifiers and ExtraTreesClassifiers.\n",
      "  warn(\n"
     ]
    },
    {
     "name": "stdout",
     "output_type": "stream",
     "text": [
      "[CV] END criterion=entrpoy, max_depth=1000, max_features=sqrt, min_samples_leaf=2, min_samples_split=15, n_estimators=400; total time=   0.6s\n",
      "[CV] END criterion=entrpoy, max_depth=1000, max_features=sqrt, min_samples_leaf=2, min_samples_split=15, n_estimators=400; total time=   0.6s\n",
      "[CV] END criterion=entrpoy, max_depth=1000, max_features=sqrt, min_samples_leaf=2, min_samples_split=15, n_estimators=400; total time=   0.5s\n"
     ]
    },
    {
     "name": "stderr",
     "output_type": "stream",
     "text": [
      "/Library/Frameworks/Python.framework/Versions/3.11/lib/python3.11/site-packages/sklearn/ensemble/_forest.py:427: FutureWarning: `max_features='auto'` has been deprecated in 1.1 and will be removed in 1.3. To keep the past behaviour, explicitly set `max_features='sqrt'` or remove this parameter as it is also the default value for RandomForestClassifiers and ExtraTreesClassifiers.\n",
      "  warn(\n"
     ]
    },
    {
     "name": "stdout",
     "output_type": "stream",
     "text": [
      "[CV] END criterion=entrpoy, max_depth=300, max_features=auto, min_samples_leaf=5, min_samples_split=5, n_estimators=200; total time=   0.3s\n"
     ]
    },
    {
     "name": "stderr",
     "output_type": "stream",
     "text": [
      "/Library/Frameworks/Python.framework/Versions/3.11/lib/python3.11/site-packages/sklearn/ensemble/_forest.py:427: FutureWarning: `max_features='auto'` has been deprecated in 1.1 and will be removed in 1.3. To keep the past behaviour, explicitly set `max_features='sqrt'` or remove this parameter as it is also the default value for RandomForestClassifiers and ExtraTreesClassifiers.\n",
      "  warn(\n",
      "/Library/Frameworks/Python.framework/Versions/3.11/lib/python3.11/site-packages/sklearn/ensemble/_forest.py:427: FutureWarning: `max_features='auto'` has been deprecated in 1.1 and will be removed in 1.3. To keep the past behaviour, explicitly set `max_features='sqrt'` or remove this parameter as it is also the default value for RandomForestClassifiers and ExtraTreesClassifiers.\n",
      "  warn(\n"
     ]
    },
    {
     "name": "stdout",
     "output_type": "stream",
     "text": [
      "[CV] END criterion=entrpoy, max_depth=1000, max_features=sqrt, min_samples_leaf=2, min_samples_split=15, n_estimators=400; total time=   0.6s\n",
      "[CV] END criterion=entrpoy, max_depth=1000, max_features=sqrt, min_samples_leaf=2, min_samples_split=15, n_estimators=400; total time=   0.6s\n",
      "[CV] END criterion=entrpoy, max_depth=300, max_features=auto, min_samples_leaf=5, min_samples_split=5, n_estimators=200; total time=   0.4s\n"
     ]
    },
    {
     "name": "stderr",
     "output_type": "stream",
     "text": [
      "/Library/Frameworks/Python.framework/Versions/3.11/lib/python3.11/site-packages/sklearn/ensemble/_forest.py:427: FutureWarning: `max_features='auto'` has been deprecated in 1.1 and will be removed in 1.3. To keep the past behaviour, explicitly set `max_features='sqrt'` or remove this parameter as it is also the default value for RandomForestClassifiers and ExtraTreesClassifiers.\n",
      "  warn(\n",
      "/Library/Frameworks/Python.framework/Versions/3.11/lib/python3.11/site-packages/sklearn/ensemble/_forest.py:427: FutureWarning: `max_features='auto'` has been deprecated in 1.1 and will be removed in 1.3. To keep the past behaviour, explicitly set `max_features='sqrt'` or remove this parameter as it is also the default value for RandomForestClassifiers and ExtraTreesClassifiers.\n",
      "  warn(\n"
     ]
    },
    {
     "name": "stdout",
     "output_type": "stream",
     "text": [
      "[CV] END criterion=entrpoy, max_depth=300, max_features=auto, min_samples_leaf=5, min_samples_split=5, n_estimators=200; total time=   0.4s\n",
      "[CV] END criterion=entrpoy, max_depth=300, max_features=auto, min_samples_leaf=5, min_samples_split=5, n_estimators=200; total time=   0.4s\n",
      "[CV] END criterion=entrpoy, max_depth=300, max_features=auto, min_samples_leaf=5, min_samples_split=5, n_estimators=200; total time=   0.4s\n",
      "[CV] END criterion=entrpoy, max_depth=600, max_features=sqrt, min_samples_leaf=7, min_samples_split=5, n_estimators=300; total time=   0.6s\n",
      "[CV] END criterion=entrpoy, max_depth=600, max_features=sqrt, min_samples_leaf=7, min_samples_split=5, n_estimators=300; total time=   0.6s\n",
      "[CV] END criterion=entrpoy, max_depth=600, max_features=sqrt, min_samples_leaf=7, min_samples_split=5, n_estimators=300; total time=   0.6s\n",
      "[CV] END criterion=gini, max_depth=300, max_features=auto, min_samples_leaf=6, min_samples_split=10, n_estimators=500; total time=   3.7s\n"
     ]
    },
    {
     "name": "stderr",
     "output_type": "stream",
     "text": [
      "/Library/Frameworks/Python.framework/Versions/3.11/lib/python3.11/site-packages/sklearn/ensemble/_forest.py:427: FutureWarning: `max_features='auto'` has been deprecated in 1.1 and will be removed in 1.3. To keep the past behaviour, explicitly set `max_features='sqrt'` or remove this parameter as it is also the default value for RandomForestClassifiers and ExtraTreesClassifiers.\n",
      "  warn(\n",
      "/Library/Frameworks/Python.framework/Versions/3.11/lib/python3.11/site-packages/sklearn/ensemble/_forest.py:427: FutureWarning: `max_features='auto'` has been deprecated in 1.1 and will be removed in 1.3. To keep the past behaviour, explicitly set `max_features='sqrt'` or remove this parameter as it is also the default value for RandomForestClassifiers and ExtraTreesClassifiers.\n",
      "  warn(\n"
     ]
    },
    {
     "name": "stdout",
     "output_type": "stream",
     "text": [
      "[CV] END criterion=entrpoy, max_depth=600, max_features=sqrt, min_samples_leaf=7, min_samples_split=5, n_estimators=300; total time=   0.9s\n",
      "[CV] END criterion=entrpoy, max_depth=600, max_features=sqrt, min_samples_leaf=7, min_samples_split=5, n_estimators=300; total time=   0.9s\n",
      "[CV] END criterion=entrpoy, max_depth=800, max_features=auto, min_samples_leaf=2, min_samples_split=1, n_estimators=200; total time=   0.8s\n",
      "[CV] END criterion=entrpoy, max_depth=800, max_features=auto, min_samples_leaf=2, min_samples_split=1, n_estimators=200; total time=   0.7s\n"
     ]
    },
    {
     "name": "stderr",
     "output_type": "stream",
     "text": [
      "/Library/Frameworks/Python.framework/Versions/3.11/lib/python3.11/site-packages/sklearn/ensemble/_forest.py:427: FutureWarning: `max_features='auto'` has been deprecated in 1.1 and will be removed in 1.3. To keep the past behaviour, explicitly set `max_features='sqrt'` or remove this parameter as it is also the default value for RandomForestClassifiers and ExtraTreesClassifiers.\n",
      "  warn(\n",
      "/Library/Frameworks/Python.framework/Versions/3.11/lib/python3.11/site-packages/sklearn/ensemble/_forest.py:427: FutureWarning: `max_features='auto'` has been deprecated in 1.1 and will be removed in 1.3. To keep the past behaviour, explicitly set `max_features='sqrt'` or remove this parameter as it is also the default value for RandomForestClassifiers and ExtraTreesClassifiers.\n",
      "  warn(\n",
      "/Library/Frameworks/Python.framework/Versions/3.11/lib/python3.11/site-packages/sklearn/ensemble/_forest.py:427: FutureWarning: `max_features='auto'` has been deprecated in 1.1 and will be removed in 1.3. To keep the past behaviour, explicitly set `max_features='sqrt'` or remove this parameter as it is also the default value for RandomForestClassifiers and ExtraTreesClassifiers.\n",
      "  warn(\n",
      "/Library/Frameworks/Python.framework/Versions/3.11/lib/python3.11/site-packages/sklearn/ensemble/_forest.py:427: FutureWarning: `max_features='auto'` has been deprecated in 1.1 and will be removed in 1.3. To keep the past behaviour, explicitly set `max_features='sqrt'` or remove this parameter as it is also the default value for RandomForestClassifiers and ExtraTreesClassifiers.\n",
      "  warn(\n"
     ]
    },
    {
     "name": "stdout",
     "output_type": "stream",
     "text": [
      "[CV] END criterion=gini, max_depth=300, max_features=auto, min_samples_leaf=6, min_samples_split=10, n_estimators=500; total time=   4.0s\n",
      "[CV] END criterion=entrpoy, max_depth=800, max_features=auto, min_samples_leaf=2, min_samples_split=1, n_estimators=200; total time=   0.6s\n",
      "[CV] END criterion=entrpoy, max_depth=800, max_features=auto, min_samples_leaf=2, min_samples_split=1, n_estimators=200; total time=   0.6s\n",
      "[CV] END criterion=entrpoy, max_depth=800, max_features=auto, min_samples_leaf=2, min_samples_split=1, n_estimators=200; total time=   0.6s\n"
     ]
    },
    {
     "name": "stderr",
     "output_type": "stream",
     "text": [
      "/Library/Frameworks/Python.framework/Versions/3.11/lib/python3.11/site-packages/sklearn/ensemble/_forest.py:427: FutureWarning: `max_features='auto'` has been deprecated in 1.1 and will be removed in 1.3. To keep the past behaviour, explicitly set `max_features='sqrt'` or remove this parameter as it is also the default value for RandomForestClassifiers and ExtraTreesClassifiers.\n",
      "  warn(\n",
      "/Library/Frameworks/Python.framework/Versions/3.11/lib/python3.11/site-packages/sklearn/ensemble/_forest.py:427: FutureWarning: `max_features='auto'` has been deprecated in 1.1 and will be removed in 1.3. To keep the past behaviour, explicitly set `max_features='sqrt'` or remove this parameter as it is also the default value for RandomForestClassifiers and ExtraTreesClassifiers.\n",
      "  warn(\n",
      "/Library/Frameworks/Python.framework/Versions/3.11/lib/python3.11/site-packages/sklearn/ensemble/_forest.py:427: FutureWarning: `max_features='auto'` has been deprecated in 1.1 and will be removed in 1.3. To keep the past behaviour, explicitly set `max_features='sqrt'` or remove this parameter as it is also the default value for RandomForestClassifiers and ExtraTreesClassifiers.\n",
      "  warn(\n",
      "/Library/Frameworks/Python.framework/Versions/3.11/lib/python3.11/site-packages/sklearn/ensemble/_forest.py:427: FutureWarning: `max_features='auto'` has been deprecated in 1.1 and will be removed in 1.3. To keep the past behaviour, explicitly set `max_features='sqrt'` or remove this parameter as it is also the default value for RandomForestClassifiers and ExtraTreesClassifiers.\n",
      "  warn(\n"
     ]
    },
    {
     "name": "stdout",
     "output_type": "stream",
     "text": [
      "[CV] END criterion=gini, max_depth=300, max_features=auto, min_samples_leaf=6, min_samples_split=10, n_estimators=500; total time=   4.5s\n",
      "[CV] END criterion=gini, max_depth=300, max_features=auto, min_samples_leaf=6, min_samples_split=10, n_estimators=500; total time=   4.4s\n",
      "[CV] END criterion=gini, max_depth=300, max_features=sqrt, min_samples_leaf=6, min_samples_split=1, n_estimators=100; total time=   0.3s\n",
      "[CV] END criterion=gini, max_depth=300, max_features=auto, min_samples_leaf=6, min_samples_split=10, n_estimators=500; total time=   4.5s\n",
      "[CV] END criterion=gini, max_depth=300, max_features=sqrt, min_samples_leaf=6, min_samples_split=1, n_estimators=100; total time=   0.3s\n",
      "[CV] END criterion=gini, max_depth=300, max_features=sqrt, min_samples_leaf=6, min_samples_split=1, n_estimators=100; total time=   0.3s\n",
      "[CV] END criterion=gini, max_depth=300, max_features=sqrt, min_samples_leaf=6, min_samples_split=1, n_estimators=100; total time=   0.3s\n",
      "[CV] END criterion=gini, max_depth=300, max_features=sqrt, min_samples_leaf=6, min_samples_split=1, n_estimators=100; total time=   0.3s\n",
      "[CV] END criterion=entrpoy, max_depth=700, max_features=log2, min_samples_leaf=6, min_samples_split=10, n_estimators=200; total time=   0.4s\n",
      "[CV] END criterion=entrpoy, max_depth=700, max_features=log2, min_samples_leaf=6, min_samples_split=10, n_estimators=200; total time=   0.5s\n",
      "[CV] END criterion=entrpoy, max_depth=700, max_features=log2, min_samples_leaf=6, min_samples_split=10, n_estimators=200; total time=   0.6s\n"
     ]
    },
    {
     "name": "stderr",
     "output_type": "stream",
     "text": [
      "/Library/Frameworks/Python.framework/Versions/3.11/lib/python3.11/site-packages/sklearn/ensemble/_forest.py:427: FutureWarning: `max_features='auto'` has been deprecated in 1.1 and will be removed in 1.3. To keep the past behaviour, explicitly set `max_features='sqrt'` or remove this parameter as it is also the default value for RandomForestClassifiers and ExtraTreesClassifiers.\n",
      "  warn(\n"
     ]
    },
    {
     "name": "stdout",
     "output_type": "stream",
     "text": [
      "[CV] END criterion=entrpoy, max_depth=700, max_features=log2, min_samples_leaf=6, min_samples_split=10, n_estimators=200; total time=   0.7s\n",
      "[CV] END criterion=entrpoy, max_depth=700, max_features=log2, min_samples_leaf=6, min_samples_split=10, n_estimators=200; total time=   0.7s\n"
     ]
    },
    {
     "name": "stderr",
     "output_type": "stream",
     "text": [
      "/Library/Frameworks/Python.framework/Versions/3.11/lib/python3.11/site-packages/sklearn/ensemble/_forest.py:427: FutureWarning: `max_features='auto'` has been deprecated in 1.1 and will be removed in 1.3. To keep the past behaviour, explicitly set `max_features='sqrt'` or remove this parameter as it is also the default value for RandomForestClassifiers and ExtraTreesClassifiers.\n",
      "  warn(\n",
      "/Library/Frameworks/Python.framework/Versions/3.11/lib/python3.11/site-packages/sklearn/ensemble/_forest.py:427: FutureWarning: `max_features='auto'` has been deprecated in 1.1 and will be removed in 1.3. To keep the past behaviour, explicitly set `max_features='sqrt'` or remove this parameter as it is also the default value for RandomForestClassifiers and ExtraTreesClassifiers.\n",
      "  warn(\n"
     ]
    },
    {
     "name": "stdout",
     "output_type": "stream",
     "text": [
      "[CV] END criterion=entrpoy, max_depth=800, max_features=auto, min_samples_leaf=2, min_samples_split=15, n_estimators=500; total time=   1.5s\n"
     ]
    },
    {
     "name": "stderr",
     "output_type": "stream",
     "text": [
      "/Library/Frameworks/Python.framework/Versions/3.11/lib/python3.11/site-packages/sklearn/ensemble/_forest.py:427: FutureWarning: `max_features='auto'` has been deprecated in 1.1 and will be removed in 1.3. To keep the past behaviour, explicitly set `max_features='sqrt'` or remove this parameter as it is also the default value for RandomForestClassifiers and ExtraTreesClassifiers.\n",
      "  warn(\n"
     ]
    },
    {
     "name": "stdout",
     "output_type": "stream",
     "text": [
      "[CV] END criterion=entrpoy, max_depth=800, max_features=auto, min_samples_leaf=2, min_samples_split=15, n_estimators=500; total time=   1.6s\n",
      "[CV] END criterion=entrpoy, max_depth=800, max_features=auto, min_samples_leaf=2, min_samples_split=15, n_estimators=500; total time=   1.5s\n"
     ]
    },
    {
     "name": "stderr",
     "output_type": "stream",
     "text": [
      "/Library/Frameworks/Python.framework/Versions/3.11/lib/python3.11/site-packages/sklearn/ensemble/_forest.py:427: FutureWarning: `max_features='auto'` has been deprecated in 1.1 and will be removed in 1.3. To keep the past behaviour, explicitly set `max_features='sqrt'` or remove this parameter as it is also the default value for RandomForestClassifiers and ExtraTreesClassifiers.\n",
      "  warn(\n"
     ]
    },
    {
     "name": "stdout",
     "output_type": "stream",
     "text": [
      "[CV] END criterion=entrpoy, max_depth=800, max_features=auto, min_samples_leaf=2, min_samples_split=15, n_estimators=500; total time=   1.5s\n",
      "[CV] END criterion=entrpoy, max_depth=600, max_features=sqrt, min_samples_leaf=2, min_samples_split=10, n_estimators=500; total time=   1.3s\n",
      "[CV] END criterion=entrpoy, max_depth=800, max_features=auto, min_samples_leaf=2, min_samples_split=15, n_estimators=500; total time=   1.6s\n",
      "[CV] END criterion=entrpoy, max_depth=600, max_features=sqrt, min_samples_leaf=2, min_samples_split=10, n_estimators=500; total time=   1.3s\n",
      "[CV] END criterion=entrpoy, max_depth=600, max_features=sqrt, min_samples_leaf=2, min_samples_split=10, n_estimators=500; total time=   1.3s\n",
      "[CV] END criterion=entrpoy, max_depth=600, max_features=sqrt, min_samples_leaf=2, min_samples_split=10, n_estimators=500; total time=   1.3s\n",
      "[CV] END criterion=entrpoy, max_depth=600, max_features=sqrt, min_samples_leaf=2, min_samples_split=10, n_estimators=500; total time=   1.2s\n",
      "[CV] END criterion=entrpoy, max_depth=600, max_features=sqrt, min_samples_leaf=5, min_samples_split=1, n_estimators=1000; total time=   2.0s\n",
      "[CV] END criterion=entrpoy, max_depth=600, max_features=sqrt, min_samples_leaf=5, min_samples_split=1, n_estimators=1000; total time=   2.0s\n",
      "[CV] END criterion=entrpoy, max_depth=600, max_features=sqrt, min_samples_leaf=5, min_samples_split=1, n_estimators=1000; total time=   1.7s\n",
      "[CV] END criterion=entrpoy, max_depth=100, max_features=log2, min_samples_leaf=2, min_samples_split=1, n_estimators=100; total time=   0.2s\n",
      "[CV] END criterion=entrpoy, max_depth=100, max_features=log2, min_samples_leaf=2, min_samples_split=1, n_estimators=100; total time=   0.2s\n",
      "[CV] END criterion=entrpoy, max_depth=100, max_features=log2, min_samples_leaf=2, min_samples_split=1, n_estimators=100; total time=   0.2s\n",
      "[CV] END criterion=gini, max_depth=900, max_features=auto, min_samples_leaf=2, min_samples_split=10, n_estimators=1000; total time=  10.3s\n",
      "[CV] END criterion=entrpoy, max_depth=100, max_features=log2, min_samples_leaf=2, min_samples_split=1, n_estimators=100; total time=   0.2s\n",
      "[CV] END criterion=entrpoy, max_depth=100, max_features=log2, min_samples_leaf=2, min_samples_split=1, n_estimators=100; total time=   0.2s\n",
      "[CV] END criterion=gini, max_depth=900, max_features=auto, min_samples_leaf=2, min_samples_split=10, n_estimators=1000; total time=  10.2s\n",
      "[CV] END criterion=gini, max_depth=900, max_features=auto, min_samples_leaf=2, min_samples_split=10, n_estimators=1000; total time=  10.1s\n",
      "[CV] END criterion=gini, max_depth=900, max_features=auto, min_samples_leaf=2, min_samples_split=10, n_estimators=1000; total time=  10.1s\n",
      "[CV] END criterion=entrpoy, max_depth=600, max_features=sqrt, min_samples_leaf=5, min_samples_split=1, n_estimators=1000; total time=   1.6s\n",
      "[CV] END criterion=gini, max_depth=900, max_features=auto, min_samples_leaf=2, min_samples_split=10, n_estimators=1000; total time=  10.2s\n",
      "[CV] END criterion=entrpoy, max_depth=600, max_features=sqrt, min_samples_leaf=5, min_samples_split=1, n_estimators=1000; total time=   1.6s\n",
      "[CV] END criterion=entrpoy, max_depth=800, max_features=log2, min_samples_leaf=6, min_samples_split=10, n_estimators=300; total time=   0.5s\n",
      "[CV] END criterion=entrpoy, max_depth=800, max_features=log2, min_samples_leaf=6, min_samples_split=10, n_estimators=300; total time=   0.5s\n",
      "[CV] END criterion=entrpoy, max_depth=800, max_features=log2, min_samples_leaf=6, min_samples_split=10, n_estimators=300; total time=   0.5s\n",
      "[CV] END criterion=entrpoy, max_depth=800, max_features=log2, min_samples_leaf=6, min_samples_split=10, n_estimators=300; total time=   0.5s\n",
      "[CV] END criterion=entrpoy, max_depth=800, max_features=log2, min_samples_leaf=6, min_samples_split=10, n_estimators=300; total time=   0.5s\n",
      "[CV] END criterion=gini, max_depth=1000, max_features=sqrt, min_samples_leaf=3, min_samples_split=1, n_estimators=900; total time=   1.5s\n",
      "[CV] END criterion=gini, max_depth=1000, max_features=sqrt, min_samples_leaf=3, min_samples_split=1, n_estimators=900; total time=   1.5s\n",
      "[CV] END criterion=gini, max_depth=1000, max_features=sqrt, min_samples_leaf=3, min_samples_split=1, n_estimators=900; total time=   1.5s\n",
      "[CV] END criterion=gini, max_depth=1000, max_features=sqrt, min_samples_leaf=3, min_samples_split=1, n_estimators=900; total time=   1.7s\n",
      "[CV] END criterion=gini, max_depth=1000, max_features=sqrt, min_samples_leaf=3, min_samples_split=1, n_estimators=900; total time=   1.7s\n",
      "[CV] END criterion=gini, max_depth=800, max_features=sqrt, min_samples_leaf=3, min_samples_split=5, n_estimators=300; total time=   2.5s\n",
      "[CV] END criterion=gini, max_depth=800, max_features=sqrt, min_samples_leaf=3, min_samples_split=5, n_estimators=300; total time=   2.5s\n",
      "[CV] END criterion=gini, max_depth=800, max_features=sqrt, min_samples_leaf=3, min_samples_split=5, n_estimators=300; total time=   2.5s\n"
     ]
    },
    {
     "name": "stderr",
     "output_type": "stream",
     "text": [
      "/Library/Frameworks/Python.framework/Versions/3.11/lib/python3.11/site-packages/sklearn/ensemble/_forest.py:427: FutureWarning: `max_features='auto'` has been deprecated in 1.1 and will be removed in 1.3. To keep the past behaviour, explicitly set `max_features='sqrt'` or remove this parameter as it is also the default value for RandomForestClassifiers and ExtraTreesClassifiers.\n",
      "  warn(\n"
     ]
    },
    {
     "name": "stdout",
     "output_type": "stream",
     "text": [
      "[CV] END criterion=gini, max_depth=500, max_features=auto, min_samples_leaf=3, min_samples_split=1, n_estimators=400; total time=   1.3s\n"
     ]
    },
    {
     "name": "stderr",
     "output_type": "stream",
     "text": [
      "/Library/Frameworks/Python.framework/Versions/3.11/lib/python3.11/site-packages/sklearn/ensemble/_forest.py:427: FutureWarning: `max_features='auto'` has been deprecated in 1.1 and will be removed in 1.3. To keep the past behaviour, explicitly set `max_features='sqrt'` or remove this parameter as it is also the default value for RandomForestClassifiers and ExtraTreesClassifiers.\n",
      "  warn(\n"
     ]
    },
    {
     "name": "stdout",
     "output_type": "stream",
     "text": [
      "[CV] END criterion=gini, max_depth=800, max_features=sqrt, min_samples_leaf=3, min_samples_split=5, n_estimators=300; total time=   3.1s\n",
      "[CV] END criterion=gini, max_depth=800, max_features=sqrt, min_samples_leaf=3, min_samples_split=5, n_estimators=300; total time=   3.2s\n"
     ]
    },
    {
     "name": "stderr",
     "output_type": "stream",
     "text": [
      "/Library/Frameworks/Python.framework/Versions/3.11/lib/python3.11/site-packages/sklearn/ensemble/_forest.py:427: FutureWarning: `max_features='auto'` has been deprecated in 1.1 and will be removed in 1.3. To keep the past behaviour, explicitly set `max_features='sqrt'` or remove this parameter as it is also the default value for RandomForestClassifiers and ExtraTreesClassifiers.\n",
      "  warn(\n",
      "/Library/Frameworks/Python.framework/Versions/3.11/lib/python3.11/site-packages/sklearn/ensemble/_forest.py:427: FutureWarning: `max_features='auto'` has been deprecated in 1.1 and will be removed in 1.3. To keep the past behaviour, explicitly set `max_features='sqrt'` or remove this parameter as it is also the default value for RandomForestClassifiers and ExtraTreesClassifiers.\n",
      "  warn(\n"
     ]
    },
    {
     "name": "stdout",
     "output_type": "stream",
     "text": [
      "[CV] END criterion=gini, max_depth=500, max_features=auto, min_samples_leaf=3, min_samples_split=1, n_estimators=400; total time=   1.1s\n",
      "[CV] END criterion=gini, max_depth=500, max_features=auto, min_samples_leaf=3, min_samples_split=1, n_estimators=400; total time=   1.0s\n"
     ]
    },
    {
     "name": "stderr",
     "output_type": "stream",
     "text": [
      "/Library/Frameworks/Python.framework/Versions/3.11/lib/python3.11/site-packages/sklearn/ensemble/_forest.py:427: FutureWarning: `max_features='auto'` has been deprecated in 1.1 and will be removed in 1.3. To keep the past behaviour, explicitly set `max_features='sqrt'` or remove this parameter as it is also the default value for RandomForestClassifiers and ExtraTreesClassifiers.\n",
      "  warn(\n"
     ]
    },
    {
     "name": "stdout",
     "output_type": "stream",
     "text": [
      "[CV] END criterion=gini, max_depth=500, max_features=auto, min_samples_leaf=3, min_samples_split=1, n_estimators=400; total time=   0.9s\n",
      "[CV] END criterion=gini, max_depth=500, max_features=auto, min_samples_leaf=3, min_samples_split=1, n_estimators=400; total time=   0.8s\n",
      "[CV] END criterion=gini, max_depth=400, max_features=sqrt, min_samples_leaf=5, min_samples_split=10, n_estimators=300; total time=   2.0s\n",
      "[CV] END criterion=gini, max_depth=400, max_features=sqrt, min_samples_leaf=5, min_samples_split=10, n_estimators=300; total time=   2.1s\n",
      "[CV] END criterion=gini, max_depth=400, max_features=sqrt, min_samples_leaf=5, min_samples_split=10, n_estimators=300; total time=   2.1s\n",
      "[CV] END criterion=gini, max_depth=400, max_features=sqrt, min_samples_leaf=5, min_samples_split=10, n_estimators=300; total time=   2.3s\n",
      "[CV] END criterion=gini, max_depth=400, max_features=sqrt, min_samples_leaf=5, min_samples_split=10, n_estimators=300; total time=   2.4s\n",
      "[CV] END criterion=gini, max_depth=100, max_features=sqrt, min_samples_leaf=2, min_samples_split=15, n_estimators=1000; total time=   8.3s\n",
      "[CV] END criterion=gini, max_depth=100, max_features=sqrt, min_samples_leaf=2, min_samples_split=15, n_estimators=1000; total time=   8.8s\n",
      "[CV] END criterion=gini, max_depth=100, max_features=sqrt, min_samples_leaf=2, min_samples_split=15, n_estimators=1000; total time=   8.5s\n",
      "[CV] END criterion=gini, max_depth=100, max_features=sqrt, min_samples_leaf=2, min_samples_split=15, n_estimators=1000; total time=   8.3s\n",
      "[CV] END criterion=gini, max_depth=100, max_features=sqrt, min_samples_leaf=2, min_samples_split=15, n_estimators=1000; total time=   8.3s\n",
      "[CV] END criterion=entrpoy, max_depth=1000, max_features=sqrt, min_samples_leaf=2, min_samples_split=10, n_estimators=800; total time=   1.5s\n",
      "[CV] END criterion=entrpoy, max_depth=1000, max_features=sqrt, min_samples_leaf=2, min_samples_split=10, n_estimators=800; total time=   1.3s\n",
      "[CV] END criterion=entrpoy, max_depth=1000, max_features=sqrt, min_samples_leaf=2, min_samples_split=10, n_estimators=800; total time=   1.3s\n"
     ]
    },
    {
     "name": "stderr",
     "output_type": "stream",
     "text": [
      "/Library/Frameworks/Python.framework/Versions/3.11/lib/python3.11/site-packages/sklearn/ensemble/_forest.py:427: FutureWarning: `max_features='auto'` has been deprecated in 1.1 and will be removed in 1.3. To keep the past behaviour, explicitly set `max_features='sqrt'` or remove this parameter as it is also the default value for RandomForestClassifiers and ExtraTreesClassifiers.\n",
      "  warn(\n"
     ]
    },
    {
     "name": "stdout",
     "output_type": "stream",
     "text": [
      "[CV] END criterion=entrpoy, max_depth=300, max_features=auto, min_samples_leaf=5, min_samples_split=5, n_estimators=100; total time=   0.2s\n"
     ]
    },
    {
     "name": "stderr",
     "output_type": "stream",
     "text": [
      "/Library/Frameworks/Python.framework/Versions/3.11/lib/python3.11/site-packages/sklearn/ensemble/_forest.py:427: FutureWarning: `max_features='auto'` has been deprecated in 1.1 and will be removed in 1.3. To keep the past behaviour, explicitly set `max_features='sqrt'` or remove this parameter as it is also the default value for RandomForestClassifiers and ExtraTreesClassifiers.\n",
      "  warn(\n"
     ]
    },
    {
     "name": "stdout",
     "output_type": "stream",
     "text": [
      "[CV] END criterion=entrpoy, max_depth=300, max_features=auto, min_samples_leaf=5, min_samples_split=5, n_estimators=100; total time=   0.2s\n"
     ]
    },
    {
     "name": "stderr",
     "output_type": "stream",
     "text": [
      "/Library/Frameworks/Python.framework/Versions/3.11/lib/python3.11/site-packages/sklearn/ensemble/_forest.py:427: FutureWarning: `max_features='auto'` has been deprecated in 1.1 and will be removed in 1.3. To keep the past behaviour, explicitly set `max_features='sqrt'` or remove this parameter as it is also the default value for RandomForestClassifiers and ExtraTreesClassifiers.\n",
      "  warn(\n"
     ]
    },
    {
     "name": "stdout",
     "output_type": "stream",
     "text": [
      "[CV] END criterion=entrpoy, max_depth=1000, max_features=sqrt, min_samples_leaf=2, min_samples_split=10, n_estimators=800; total time=   1.4s\n",
      "[CV] END criterion=entrpoy, max_depth=300, max_features=auto, min_samples_leaf=5, min_samples_split=5, n_estimators=100; total time=   0.2s\n"
     ]
    },
    {
     "name": "stderr",
     "output_type": "stream",
     "text": [
      "/Library/Frameworks/Python.framework/Versions/3.11/lib/python3.11/site-packages/sklearn/ensemble/_forest.py:427: FutureWarning: `max_features='auto'` has been deprecated in 1.1 and will be removed in 1.3. To keep the past behaviour, explicitly set `max_features='sqrt'` or remove this parameter as it is also the default value for RandomForestClassifiers and ExtraTreesClassifiers.\n",
      "  warn(\n",
      "/Library/Frameworks/Python.framework/Versions/3.11/lib/python3.11/site-packages/sklearn/ensemble/_forest.py:427: FutureWarning: `max_features='auto'` has been deprecated in 1.1 and will be removed in 1.3. To keep the past behaviour, explicitly set `max_features='sqrt'` or remove this parameter as it is also the default value for RandomForestClassifiers and ExtraTreesClassifiers.\n",
      "  warn(\n"
     ]
    },
    {
     "name": "stdout",
     "output_type": "stream",
     "text": [
      "[CV] END criterion=entrpoy, max_depth=300, max_features=auto, min_samples_leaf=5, min_samples_split=5, n_estimators=100; total time=   0.2s\n",
      "[CV] END criterion=entrpoy, max_depth=300, max_features=auto, min_samples_leaf=5, min_samples_split=5, n_estimators=100; total time=   0.2s\n",
      "[CV] END criterion=gini, max_depth=600, max_features=log2, min_samples_leaf=2, min_samples_split=5, n_estimators=700; total time=   5.4s\n",
      "[CV] END criterion=entrpoy, max_depth=1000, max_features=sqrt, min_samples_leaf=2, min_samples_split=10, n_estimators=800; total time=   1.4s\n",
      "[CV] END criterion=gini, max_depth=600, max_features=log2, min_samples_leaf=2, min_samples_split=5, n_estimators=700; total time=   5.2s\n",
      "[CV] END criterion=gini, max_depth=600, max_features=log2, min_samples_leaf=2, min_samples_split=5, n_estimators=700; total time=   5.1s\n",
      "[CV] END criterion=gini, max_depth=600, max_features=log2, min_samples_leaf=2, min_samples_split=5, n_estimators=700; total time=   5.1s\n",
      "[CV] END criterion=gini, max_depth=600, max_features=log2, min_samples_leaf=2, min_samples_split=5, n_estimators=700; total time=   5.2s\n",
      "[CV] END criterion=entrpoy, max_depth=400, max_features=sqrt, min_samples_leaf=2, min_samples_split=15, n_estimators=700; total time=   1.0s\n",
      "[CV] END criterion=entrpoy, max_depth=400, max_features=sqrt, min_samples_leaf=2, min_samples_split=15, n_estimators=700; total time=   1.0s\n",
      "[CV] END criterion=entrpoy, max_depth=400, max_features=sqrt, min_samples_leaf=2, min_samples_split=15, n_estimators=700; total time=   1.0s\n",
      "[CV] END criterion=gini, max_depth=100, max_features=log2, min_samples_leaf=7, min_samples_split=5, n_estimators=500; total time=   3.2s\n",
      "[CV] END criterion=gini, max_depth=100, max_features=log2, min_samples_leaf=7, min_samples_split=5, n_estimators=500; total time=   3.2s\n"
     ]
    },
    {
     "name": "stderr",
     "output_type": "stream",
     "text": [
      "/Library/Frameworks/Python.framework/Versions/3.11/lib/python3.11/site-packages/sklearn/ensemble/_forest.py:427: FutureWarning: `max_features='auto'` has been deprecated in 1.1 and will be removed in 1.3. To keep the past behaviour, explicitly set `max_features='sqrt'` or remove this parameter as it is also the default value for RandomForestClassifiers and ExtraTreesClassifiers.\n",
      "  warn(\n",
      "/Library/Frameworks/Python.framework/Versions/3.11/lib/python3.11/site-packages/sklearn/ensemble/_forest.py:427: FutureWarning: `max_features='auto'` has been deprecated in 1.1 and will be removed in 1.3. To keep the past behaviour, explicitly set `max_features='sqrt'` or remove this parameter as it is also the default value for RandomForestClassifiers and ExtraTreesClassifiers.\n",
      "  warn(\n",
      "/Library/Frameworks/Python.framework/Versions/3.11/lib/python3.11/site-packages/sklearn/ensemble/_forest.py:427: FutureWarning: `max_features='auto'` has been deprecated in 1.1 and will be removed in 1.3. To keep the past behaviour, explicitly set `max_features='sqrt'` or remove this parameter as it is also the default value for RandomForestClassifiers and ExtraTreesClassifiers.\n",
      "  warn(\n"
     ]
    },
    {
     "name": "stdout",
     "output_type": "stream",
     "text": [
      "[CV] END criterion=gini, max_depth=100, max_features=log2, min_samples_leaf=7, min_samples_split=5, n_estimators=500; total time=   3.2s\n",
      "[CV] END criterion=gini, max_depth=100, max_features=log2, min_samples_leaf=7, min_samples_split=5, n_estimators=500; total time=   3.3s\n"
     ]
    },
    {
     "name": "stderr",
     "output_type": "stream",
     "text": [
      "/Library/Frameworks/Python.framework/Versions/3.11/lib/python3.11/site-packages/sklearn/ensemble/_forest.py:427: FutureWarning: `max_features='auto'` has been deprecated in 1.1 and will be removed in 1.3. To keep the past behaviour, explicitly set `max_features='sqrt'` or remove this parameter as it is also the default value for RandomForestClassifiers and ExtraTreesClassifiers.\n",
      "  warn(\n",
      "/Library/Frameworks/Python.framework/Versions/3.11/lib/python3.11/site-packages/sklearn/ensemble/_forest.py:427: FutureWarning: `max_features='auto'` has been deprecated in 1.1 and will be removed in 1.3. To keep the past behaviour, explicitly set `max_features='sqrt'` or remove this parameter as it is also the default value for RandomForestClassifiers and ExtraTreesClassifiers.\n",
      "  warn(\n"
     ]
    },
    {
     "name": "stdout",
     "output_type": "stream",
     "text": [
      "[CV] END criterion=entrpoy, max_depth=400, max_features=sqrt, min_samples_leaf=2, min_samples_split=15, n_estimators=700; total time=   1.1s\n",
      "[CV] END criterion=entrpoy, max_depth=400, max_features=sqrt, min_samples_leaf=2, min_samples_split=15, n_estimators=700; total time=   1.1s\n",
      "[CV] END criterion=entrpoy, max_depth=600, max_features=auto, min_samples_leaf=7, min_samples_split=1, n_estimators=700; total time=   1.3s\n",
      "[CV] END criterion=entrpoy, max_depth=600, max_features=auto, min_samples_leaf=7, min_samples_split=1, n_estimators=700; total time=   1.2s\n",
      "[CV] END criterion=entrpoy, max_depth=600, max_features=auto, min_samples_leaf=7, min_samples_split=1, n_estimators=700; total time=   1.2s\n",
      "[CV] END criterion=entrpoy, max_depth=600, max_features=auto, min_samples_leaf=7, min_samples_split=1, n_estimators=700; total time=   1.2s\n",
      "[CV] END criterion=gini, max_depth=100, max_features=log2, min_samples_leaf=7, min_samples_split=5, n_estimators=500; total time=   3.2s\n",
      "[CV] END criterion=entrpoy, max_depth=600, max_features=auto, min_samples_leaf=7, min_samples_split=1, n_estimators=700; total time=   1.2s\n",
      "[CV] END criterion=entrpoy, max_depth=900, max_features=log2, min_samples_leaf=5, min_samples_split=15, n_estimators=900; total time=   1.4s\n",
      "[CV] END criterion=entrpoy, max_depth=900, max_features=log2, min_samples_leaf=5, min_samples_split=15, n_estimators=900; total time=   1.4s\n",
      "[CV] END criterion=entrpoy, max_depth=900, max_features=log2, min_samples_leaf=5, min_samples_split=15, n_estimators=900; total time=   1.4s\n",
      "[CV] END criterion=entrpoy, max_depth=900, max_features=log2, min_samples_leaf=5, min_samples_split=15, n_estimators=900; total time=   1.4s\n",
      "[CV] END criterion=entrpoy, max_depth=900, max_features=log2, min_samples_leaf=5, min_samples_split=15, n_estimators=900; total time=   1.4s\n",
      "[CV] END criterion=entrpoy, max_depth=200, max_features=sqrt, min_samples_leaf=5, min_samples_split=5, n_estimators=1000; total time=   1.5s\n",
      "[CV] END criterion=entrpoy, max_depth=200, max_features=sqrt, min_samples_leaf=5, min_samples_split=5, n_estimators=1000; total time=   1.5s\n",
      "[CV] END criterion=entrpoy, max_depth=200, max_features=sqrt, min_samples_leaf=5, min_samples_split=5, n_estimators=1000; total time=   1.5s\n",
      "[CV] END criterion=entrpoy, max_depth=200, max_features=sqrt, min_samples_leaf=5, min_samples_split=5, n_estimators=1000; total time=   1.4s\n",
      "[CV] END criterion=entrpoy, max_depth=200, max_features=sqrt, min_samples_leaf=5, min_samples_split=5, n_estimators=1000; total time=   1.4s\n",
      "[CV] END criterion=gini, max_depth=100, max_features=log2, min_samples_leaf=2, min_samples_split=1, n_estimators=1000; total time=   1.3s\n",
      "[CV] END criterion=gini, max_depth=100, max_features=log2, min_samples_leaf=2, min_samples_split=1, n_estimators=1000; total time=   1.3s\n",
      "[CV] END criterion=gini, max_depth=100, max_features=log2, min_samples_leaf=2, min_samples_split=1, n_estimators=1000; total time=   1.3s\n"
     ]
    },
    {
     "name": "stderr",
     "output_type": "stream",
     "text": [
      "/Library/Frameworks/Python.framework/Versions/3.11/lib/python3.11/site-packages/sklearn/ensemble/_forest.py:427: FutureWarning: `max_features='auto'` has been deprecated in 1.1 and will be removed in 1.3. To keep the past behaviour, explicitly set `max_features='sqrt'` or remove this parameter as it is also the default value for RandomForestClassifiers and ExtraTreesClassifiers.\n",
      "  warn(\n",
      "/Library/Frameworks/Python.framework/Versions/3.11/lib/python3.11/site-packages/sklearn/ensemble/_forest.py:427: FutureWarning: `max_features='auto'` has been deprecated in 1.1 and will be removed in 1.3. To keep the past behaviour, explicitly set `max_features='sqrt'` or remove this parameter as it is also the default value for RandomForestClassifiers and ExtraTreesClassifiers.\n",
      "  warn(\n"
     ]
    },
    {
     "name": "stdout",
     "output_type": "stream",
     "text": [
      "[CV] END criterion=gini, max_depth=300, max_features=sqrt, min_samples_leaf=2, min_samples_split=1, n_estimators=700; total time=   0.9s\n",
      "[CV] END criterion=gini, max_depth=100, max_features=log2, min_samples_leaf=2, min_samples_split=1, n_estimators=1000; total time=   1.3s\n",
      "[CV] END criterion=gini, max_depth=100, max_features=log2, min_samples_leaf=2, min_samples_split=1, n_estimators=1000; total time=   1.3s\n",
      "[CV] END criterion=gini, max_depth=300, max_features=sqrt, min_samples_leaf=2, min_samples_split=1, n_estimators=700; total time=   1.0s\n",
      "[CV] END criterion=gini, max_depth=300, max_features=sqrt, min_samples_leaf=2, min_samples_split=1, n_estimators=700; total time=   1.0s\n"
     ]
    },
    {
     "name": "stderr",
     "output_type": "stream",
     "text": [
      "/Library/Frameworks/Python.framework/Versions/3.11/lib/python3.11/site-packages/sklearn/ensemble/_forest.py:427: FutureWarning: `max_features='auto'` has been deprecated in 1.1 and will be removed in 1.3. To keep the past behaviour, explicitly set `max_features='sqrt'` or remove this parameter as it is also the default value for RandomForestClassifiers and ExtraTreesClassifiers.\n",
      "  warn(\n",
      "/Library/Frameworks/Python.framework/Versions/3.11/lib/python3.11/site-packages/sklearn/ensemble/_forest.py:427: FutureWarning: `max_features='auto'` has been deprecated in 1.1 and will be removed in 1.3. To keep the past behaviour, explicitly set `max_features='sqrt'` or remove this parameter as it is also the default value for RandomForestClassifiers and ExtraTreesClassifiers.\n",
      "  warn(\n",
      "/Library/Frameworks/Python.framework/Versions/3.11/lib/python3.11/site-packages/sklearn/ensemble/_forest.py:427: FutureWarning: `max_features='auto'` has been deprecated in 1.1 and will be removed in 1.3. To keep the past behaviour, explicitly set `max_features='sqrt'` or remove this parameter as it is also the default value for RandomForestClassifiers and ExtraTreesClassifiers.\n",
      "  warn(\n"
     ]
    },
    {
     "name": "stdout",
     "output_type": "stream",
     "text": [
      "[CV] END criterion=gini, max_depth=300, max_features=sqrt, min_samples_leaf=2, min_samples_split=1, n_estimators=700; total time=   1.1s\n",
      "[CV] END criterion=gini, max_depth=300, max_features=sqrt, min_samples_leaf=2, min_samples_split=1, n_estimators=700; total time=   1.1s\n",
      "[CV] END criterion=gini, max_depth=700, max_features=sqrt, min_samples_leaf=6, min_samples_split=5, n_estimators=300; total time=   2.6s\n",
      "[CV] END criterion=gini, max_depth=200, max_features=auto, min_samples_leaf=3, min_samples_split=5, n_estimators=400; total time=   3.4s\n",
      "[CV] END criterion=gini, max_depth=200, max_features=auto, min_samples_leaf=3, min_samples_split=5, n_estimators=400; total time=   3.5s\n",
      "[CV] END criterion=gini, max_depth=700, max_features=sqrt, min_samples_leaf=6, min_samples_split=5, n_estimators=300; total time=   2.6s\n",
      "[CV] END criterion=gini, max_depth=700, max_features=sqrt, min_samples_leaf=6, min_samples_split=5, n_estimators=300; total time=   2.6s\n"
     ]
    },
    {
     "name": "stderr",
     "output_type": "stream",
     "text": [
      "/Library/Frameworks/Python.framework/Versions/3.11/lib/python3.11/site-packages/sklearn/ensemble/_forest.py:427: FutureWarning: `max_features='auto'` has been deprecated in 1.1 and will be removed in 1.3. To keep the past behaviour, explicitly set `max_features='sqrt'` or remove this parameter as it is also the default value for RandomForestClassifiers and ExtraTreesClassifiers.\n",
      "  warn(\n",
      "/Library/Frameworks/Python.framework/Versions/3.11/lib/python3.11/site-packages/sklearn/ensemble/_forest.py:427: FutureWarning: `max_features='auto'` has been deprecated in 1.1 and will be removed in 1.3. To keep the past behaviour, explicitly set `max_features='sqrt'` or remove this parameter as it is also the default value for RandomForestClassifiers and ExtraTreesClassifiers.\n",
      "  warn(\n",
      "/Library/Frameworks/Python.framework/Versions/3.11/lib/python3.11/site-packages/sklearn/ensemble/_forest.py:427: FutureWarning: `max_features='auto'` has been deprecated in 1.1 and will be removed in 1.3. To keep the past behaviour, explicitly set `max_features='sqrt'` or remove this parameter as it is also the default value for RandomForestClassifiers and ExtraTreesClassifiers.\n",
      "  warn(\n"
     ]
    },
    {
     "name": "stdout",
     "output_type": "stream",
     "text": [
      "[CV] END criterion=gini, max_depth=200, max_features=auto, min_samples_leaf=3, min_samples_split=5, n_estimators=400; total time=   3.5s\n",
      "[CV] END criterion=gini, max_depth=200, max_features=auto, min_samples_leaf=3, min_samples_split=5, n_estimators=400; total time=   3.5s\n",
      "[CV] END criterion=gini, max_depth=200, max_features=auto, min_samples_leaf=3, min_samples_split=5, n_estimators=400; total time=   3.5s\n"
     ]
    },
    {
     "name": "stderr",
     "output_type": "stream",
     "text": [
      "/Library/Frameworks/Python.framework/Versions/3.11/lib/python3.11/site-packages/sklearn/ensemble/_forest.py:427: FutureWarning: `max_features='auto'` has been deprecated in 1.1 and will be removed in 1.3. To keep the past behaviour, explicitly set `max_features='sqrt'` or remove this parameter as it is also the default value for RandomForestClassifiers and ExtraTreesClassifiers.\n",
      "  warn(\n",
      "/Library/Frameworks/Python.framework/Versions/3.11/lib/python3.11/site-packages/sklearn/ensemble/_forest.py:427: FutureWarning: `max_features='auto'` has been deprecated in 1.1 and will be removed in 1.3. To keep the past behaviour, explicitly set `max_features='sqrt'` or remove this parameter as it is also the default value for RandomForestClassifiers and ExtraTreesClassifiers.\n",
      "  warn(\n"
     ]
    },
    {
     "name": "stdout",
     "output_type": "stream",
     "text": [
      "[CV] END criterion=entrpoy, max_depth=400, max_features=log2, min_samples_leaf=5, min_samples_split=1, n_estimators=200; total time=   0.4s\n",
      "[CV] END criterion=entrpoy, max_depth=400, max_features=log2, min_samples_leaf=5, min_samples_split=1, n_estimators=200; total time=   0.6s\n",
      "[CV] END criterion=gini, max_depth=300, max_features=auto, min_samples_leaf=7, min_samples_split=1, n_estimators=700; total time=   1.7s\n",
      "[CV] END criterion=gini, max_depth=300, max_features=auto, min_samples_leaf=7, min_samples_split=1, n_estimators=700; total time=   1.8s\n",
      "[CV] END criterion=entrpoy, max_depth=400, max_features=log2, min_samples_leaf=5, min_samples_split=1, n_estimators=200; total time=   0.5s\n",
      "[CV] END criterion=gini, max_depth=300, max_features=auto, min_samples_leaf=7, min_samples_split=1, n_estimators=700; total time=   1.8s\n",
      "[CV] END criterion=gini, max_depth=300, max_features=auto, min_samples_leaf=7, min_samples_split=1, n_estimators=700; total time=   1.8s\n",
      "[CV] END criterion=gini, max_depth=300, max_features=auto, min_samples_leaf=7, min_samples_split=1, n_estimators=700; total time=   1.8s\n",
      "[CV] END criterion=entrpoy, max_depth=400, max_features=log2, min_samples_leaf=5, min_samples_split=1, n_estimators=200; total time=   0.4s\n",
      "[CV] END criterion=gini, max_depth=700, max_features=sqrt, min_samples_leaf=6, min_samples_split=5, n_estimators=300; total time=   2.7s\n",
      "[CV] END criterion=entrpoy, max_depth=400, max_features=log2, min_samples_leaf=5, min_samples_split=1, n_estimators=200; total time=   0.4s\n",
      "[CV] END criterion=gini, max_depth=700, max_features=sqrt, min_samples_leaf=6, min_samples_split=5, n_estimators=300; total time=   2.7s\n",
      "[CV] END criterion=gini, max_depth=500, max_features=sqrt, min_samples_leaf=5, min_samples_split=10, n_estimators=100; total time=   0.9s\n",
      "[CV] END criterion=gini, max_depth=500, max_features=sqrt, min_samples_leaf=5, min_samples_split=10, n_estimators=100; total time=   0.9s\n",
      "[CV] END criterion=gini, max_depth=500, max_features=sqrt, min_samples_leaf=5, min_samples_split=10, n_estimators=100; total time=   0.9s\n",
      "[CV] END criterion=gini, max_depth=500, max_features=sqrt, min_samples_leaf=5, min_samples_split=10, n_estimators=100; total time=   0.9s\n",
      "[CV] END criterion=gini, max_depth=500, max_features=sqrt, min_samples_leaf=5, min_samples_split=10, n_estimators=100; total time=   0.9s\n"
     ]
    },
    {
     "name": "stderr",
     "output_type": "stream",
     "text": [
      "/Library/Frameworks/Python.framework/Versions/3.11/lib/python3.11/site-packages/sklearn/ensemble/_forest.py:427: FutureWarning: `max_features='auto'` has been deprecated in 1.1 and will be removed in 1.3. To keep the past behaviour, explicitly set `max_features='sqrt'` or remove this parameter as it is also the default value for RandomForestClassifiers and ExtraTreesClassifiers.\n",
      "  warn(\n",
      "/Library/Frameworks/Python.framework/Versions/3.11/lib/python3.11/site-packages/sklearn/ensemble/_forest.py:427: FutureWarning: `max_features='auto'` has been deprecated in 1.1 and will be removed in 1.3. To keep the past behaviour, explicitly set `max_features='sqrt'` or remove this parameter as it is also the default value for RandomForestClassifiers and ExtraTreesClassifiers.\n",
      "  warn(\n",
      "/Library/Frameworks/Python.framework/Versions/3.11/lib/python3.11/site-packages/sklearn/ensemble/_forest.py:427: FutureWarning: `max_features='auto'` has been deprecated in 1.1 and will be removed in 1.3. To keep the past behaviour, explicitly set `max_features='sqrt'` or remove this parameter as it is also the default value for RandomForestClassifiers and ExtraTreesClassifiers.\n",
      "  warn(\n"
     ]
    },
    {
     "name": "stdout",
     "output_type": "stream",
     "text": [
      "[CV] END criterion=entrpoy, max_depth=300, max_features=sqrt, min_samples_leaf=5, min_samples_split=1, n_estimators=1000; total time=   2.6s\n",
      "[CV] END criterion=entrpoy, max_depth=300, max_features=sqrt, min_samples_leaf=5, min_samples_split=1, n_estimators=1000; total time=   2.6s\n"
     ]
    },
    {
     "name": "stderr",
     "output_type": "stream",
     "text": [
      "/Library/Frameworks/Python.framework/Versions/3.11/lib/python3.11/site-packages/sklearn/ensemble/_forest.py:427: FutureWarning: `max_features='auto'` has been deprecated in 1.1 and will be removed in 1.3. To keep the past behaviour, explicitly set `max_features='sqrt'` or remove this parameter as it is also the default value for RandomForestClassifiers and ExtraTreesClassifiers.\n",
      "  warn(\n",
      "/Library/Frameworks/Python.framework/Versions/3.11/lib/python3.11/site-packages/sklearn/ensemble/_forest.py:427: FutureWarning: `max_features='auto'` has been deprecated in 1.1 and will be removed in 1.3. To keep the past behaviour, explicitly set `max_features='sqrt'` or remove this parameter as it is also the default value for RandomForestClassifiers and ExtraTreesClassifiers.\n",
      "  warn(\n"
     ]
    },
    {
     "name": "stdout",
     "output_type": "stream",
     "text": [
      "[CV] END criterion=entrpoy, max_depth=300, max_features=sqrt, min_samples_leaf=5, min_samples_split=1, n_estimators=1000; total time=   2.7s\n",
      "[CV] END criterion=entrpoy, max_depth=300, max_features=sqrt, min_samples_leaf=5, min_samples_split=1, n_estimators=1000; total time=   2.8s\n",
      "[CV] END criterion=entrpoy, max_depth=300, max_features=sqrt, min_samples_leaf=5, min_samples_split=1, n_estimators=1000; total time=   2.9s\n",
      "[CV] END criterion=gini, max_depth=100, max_features=sqrt, min_samples_leaf=5, min_samples_split=1, n_estimators=400; total time=   1.3s\n",
      "[CV] END criterion=gini, max_depth=100, max_features=sqrt, min_samples_leaf=5, min_samples_split=1, n_estimators=400; total time=   1.2s\n",
      "[CV] END criterion=gini, max_depth=100, max_features=sqrt, min_samples_leaf=5, min_samples_split=1, n_estimators=400; total time=   1.4s\n",
      "[CV] END criterion=gini, max_depth=100, max_features=sqrt, min_samples_leaf=5, min_samples_split=1, n_estimators=400; total time=   1.4s\n",
      "[CV] END criterion=gini, max_depth=100, max_features=sqrt, min_samples_leaf=5, min_samples_split=1, n_estimators=400; total time=   1.4s\n",
      "[CV] END criterion=entrpoy, max_depth=1000, max_features=sqrt, min_samples_leaf=7, min_samples_split=15, n_estimators=500; total time=   1.8s\n",
      "[CV] END criterion=entrpoy, max_depth=1000, max_features=sqrt, min_samples_leaf=7, min_samples_split=15, n_estimators=500; total time=   1.6s\n",
      "[CV] END criterion=entrpoy, max_depth=1000, max_features=sqrt, min_samples_leaf=7, min_samples_split=15, n_estimators=500; total time=   1.5s\n",
      "[CV] END criterion=entrpoy, max_depth=1000, max_features=sqrt, min_samples_leaf=7, min_samples_split=15, n_estimators=500; total time=   1.5s\n",
      "[CV] END criterion=entrpoy, max_depth=1000, max_features=sqrt, min_samples_leaf=7, min_samples_split=15, n_estimators=500; total time=   1.3s\n",
      "[CV] END criterion=entrpoy, max_depth=400, max_features=log2, min_samples_leaf=5, min_samples_split=1, n_estimators=600; total time=   1.5s\n",
      "[CV] END criterion=entrpoy, max_depth=400, max_features=log2, min_samples_leaf=5, min_samples_split=1, n_estimators=600; total time=   1.5s\n",
      "[CV] END criterion=entrpoy, max_depth=400, max_features=log2, min_samples_leaf=5, min_samples_split=1, n_estimators=600; total time=   1.6s\n",
      "[CV] END criterion=entrpoy, max_depth=400, max_features=log2, min_samples_leaf=5, min_samples_split=1, n_estimators=600; total time=   1.7s\n",
      "[CV] END criterion=entrpoy, max_depth=400, max_features=log2, min_samples_leaf=5, min_samples_split=1, n_estimators=600; total time=   1.8s\n",
      "[CV] END criterion=entrpoy, max_depth=800, max_features=log2, min_samples_leaf=3, min_samples_split=1, n_estimators=700; total time=   2.1s\n",
      "[CV] END criterion=gini, max_depth=400, max_features=auto, min_samples_leaf=2, min_samples_split=10, n_estimators=900; total time=  11.8s\n",
      "[CV] END criterion=gini, max_depth=400, max_features=auto, min_samples_leaf=2, min_samples_split=10, n_estimators=900; total time=  11.9s\n",
      "[CV] END criterion=gini, max_depth=400, max_features=auto, min_samples_leaf=2, min_samples_split=10, n_estimators=900; total time=  11.9s\n",
      "[CV] END criterion=entrpoy, max_depth=800, max_features=log2, min_samples_leaf=3, min_samples_split=1, n_estimators=700; total time=   2.1s\n",
      "[CV] END criterion=entrpoy, max_depth=800, max_features=log2, min_samples_leaf=3, min_samples_split=1, n_estimators=700; total time=   2.2s\n",
      "[CV] END criterion=entrpoy, max_depth=200, max_features=log2, min_samples_leaf=3, min_samples_split=10, n_estimators=400; total time=   1.5s\n",
      "[CV] END criterion=entrpoy, max_depth=200, max_features=log2, min_samples_leaf=3, min_samples_split=10, n_estimators=400; total time=   1.6s\n",
      "[CV] END criterion=entrpoy, max_depth=200, max_features=log2, min_samples_leaf=3, min_samples_split=10, n_estimators=400; total time=   1.7s\n",
      "[CV] END criterion=entrpoy, max_depth=800, max_features=log2, min_samples_leaf=3, min_samples_split=1, n_estimators=700; total time=   2.6s\n",
      "[CV] END criterion=gini, max_depth=400, max_features=auto, min_samples_leaf=2, min_samples_split=10, n_estimators=900; total time=  12.6s\n",
      "[CV] END criterion=entrpoy, max_depth=200, max_features=log2, min_samples_leaf=3, min_samples_split=10, n_estimators=400; total time=   1.7s\n",
      "[CV] END criterion=entrpoy, max_depth=800, max_features=log2, min_samples_leaf=3, min_samples_split=1, n_estimators=700; total time=   2.9s\n",
      "[CV] END criterion=gini, max_depth=400, max_features=auto, min_samples_leaf=2, min_samples_split=10, n_estimators=900; total time=  12.9s\n",
      "[CV] END criterion=entrpoy, max_depth=900, max_features=sqrt, min_samples_leaf=2, min_samples_split=1, n_estimators=100; total time=   0.5s\n",
      "[CV] END criterion=entrpoy, max_depth=200, max_features=log2, min_samples_leaf=3, min_samples_split=10, n_estimators=400; total time=   1.8s\n",
      "[CV] END criterion=entrpoy, max_depth=900, max_features=sqrt, min_samples_leaf=2, min_samples_split=1, n_estimators=100; total time=   0.5s\n",
      "[CV] END criterion=entrpoy, max_depth=900, max_features=sqrt, min_samples_leaf=2, min_samples_split=1, n_estimators=100; total time=   0.4s\n",
      "[CV] END criterion=entrpoy, max_depth=900, max_features=sqrt, min_samples_leaf=2, min_samples_split=1, n_estimators=100; total time=   0.4s\n",
      "[CV] END criterion=entrpoy, max_depth=900, max_features=sqrt, min_samples_leaf=2, min_samples_split=1, n_estimators=100; total time=   0.4s\n",
      "[CV] END criterion=gini, max_depth=800, max_features=sqrt, min_samples_leaf=5, min_samples_split=5, n_estimators=200; total time=   3.0s\n",
      "[CV] END criterion=gini, max_depth=800, max_features=sqrt, min_samples_leaf=5, min_samples_split=5, n_estimators=200; total time=   3.0s\n",
      "[CV] END criterion=gini, max_depth=800, max_features=sqrt, min_samples_leaf=5, min_samples_split=5, n_estimators=200; total time=   3.0s\n",
      "[CV] END criterion=entrpoy, max_depth=300, max_features=sqrt, min_samples_leaf=7, min_samples_split=1, n_estimators=200; total time=   1.0s\n",
      "[CV] END criterion=entrpoy, max_depth=300, max_features=sqrt, min_samples_leaf=7, min_samples_split=1, n_estimators=200; total time=   1.5s\n",
      "[CV] END criterion=entrpoy, max_depth=300, max_features=sqrt, min_samples_leaf=7, min_samples_split=1, n_estimators=200; total time=   1.0s\n",
      "[CV] END criterion=gini, max_depth=500, max_features=sqrt, min_samples_leaf=3, min_samples_split=5, n_estimators=500; total time=   9.1s\n",
      "[CV] END criterion=gini, max_depth=500, max_features=sqrt, min_samples_leaf=3, min_samples_split=5, n_estimators=500; total time=   9.2s\n",
      "[CV] END criterion=gini, max_depth=800, max_features=sqrt, min_samples_leaf=5, min_samples_split=5, n_estimators=200; total time=   4.6s\n",
      "[CV] END criterion=gini, max_depth=800, max_features=sqrt, min_samples_leaf=5, min_samples_split=5, n_estimators=200; total time=   4.6s\n",
      "[CV] END criterion=gini, max_depth=500, max_features=sqrt, min_samples_leaf=3, min_samples_split=5, n_estimators=500; total time=   9.2s\n"
     ]
    },
    {
     "name": "stderr",
     "output_type": "stream",
     "text": [
      "/Library/Frameworks/Python.framework/Versions/3.11/lib/python3.11/site-packages/sklearn/ensemble/_forest.py:427: FutureWarning: `max_features='auto'` has been deprecated in 1.1 and will be removed in 1.3. To keep the past behaviour, explicitly set `max_features='sqrt'` or remove this parameter as it is also the default value for RandomForestClassifiers and ExtraTreesClassifiers.\n",
      "  warn(\n",
      "/Library/Frameworks/Python.framework/Versions/3.11/lib/python3.11/site-packages/sklearn/ensemble/_forest.py:427: FutureWarning: `max_features='auto'` has been deprecated in 1.1 and will be removed in 1.3. To keep the past behaviour, explicitly set `max_features='sqrt'` or remove this parameter as it is also the default value for RandomForestClassifiers and ExtraTreesClassifiers.\n",
      "  warn(\n",
      "/Library/Frameworks/Python.framework/Versions/3.11/lib/python3.11/site-packages/sklearn/ensemble/_forest.py:427: FutureWarning: `max_features='auto'` has been deprecated in 1.1 and will be removed in 1.3. To keep the past behaviour, explicitly set `max_features='sqrt'` or remove this parameter as it is also the default value for RandomForestClassifiers and ExtraTreesClassifiers.\n",
      "  warn(\n",
      "/Library/Frameworks/Python.framework/Versions/3.11/lib/python3.11/site-packages/sklearn/ensemble/_forest.py:427: FutureWarning: `max_features='auto'` has been deprecated in 1.1 and will be removed in 1.3. To keep the past behaviour, explicitly set `max_features='sqrt'` or remove this parameter as it is also the default value for RandomForestClassifiers and ExtraTreesClassifiers.\n",
      "  warn(\n"
     ]
    },
    {
     "name": "stdout",
     "output_type": "stream",
     "text": [
      "[CV] END criterion=entrpoy, max_depth=300, max_features=sqrt, min_samples_leaf=7, min_samples_split=1, n_estimators=200; total time=   1.1s\n"
     ]
    },
    {
     "name": "stderr",
     "output_type": "stream",
     "text": [
      "/Library/Frameworks/Python.framework/Versions/3.11/lib/python3.11/site-packages/sklearn/ensemble/_forest.py:427: FutureWarning: `max_features='auto'` has been deprecated in 1.1 and will be removed in 1.3. To keep the past behaviour, explicitly set `max_features='sqrt'` or remove this parameter as it is also the default value for RandomForestClassifiers and ExtraTreesClassifiers.\n",
      "  warn(\n"
     ]
    },
    {
     "name": "stdout",
     "output_type": "stream",
     "text": [
      "[CV] END criterion=gini, max_depth=500, max_features=sqrt, min_samples_leaf=3, min_samples_split=5, n_estimators=500; total time=   9.5s\n",
      "[CV] END criterion=entrpoy, max_depth=300, max_features=sqrt, min_samples_leaf=7, min_samples_split=1, n_estimators=200; total time=   1.3s\n",
      "[CV] END criterion=gini, max_depth=500, max_features=sqrt, min_samples_leaf=3, min_samples_split=5, n_estimators=500; total time=   9.4s\n"
     ]
    },
    {
     "name": "stderr",
     "output_type": "stream",
     "text": [
      "/Library/Frameworks/Python.framework/Versions/3.11/lib/python3.11/site-packages/sklearn/ensemble/_forest.py:427: FutureWarning: `max_features='auto'` has been deprecated in 1.1 and will be removed in 1.3. To keep the past behaviour, explicitly set `max_features='sqrt'` or remove this parameter as it is also the default value for RandomForestClassifiers and ExtraTreesClassifiers.\n",
      "  warn(\n",
      "/Library/Frameworks/Python.framework/Versions/3.11/lib/python3.11/site-packages/sklearn/ensemble/_forest.py:427: FutureWarning: `max_features='auto'` has been deprecated in 1.1 and will be removed in 1.3. To keep the past behaviour, explicitly set `max_features='sqrt'` or remove this parameter as it is also the default value for RandomForestClassifiers and ExtraTreesClassifiers.\n",
      "  warn(\n",
      "/Library/Frameworks/Python.framework/Versions/3.11/lib/python3.11/site-packages/sklearn/ensemble/_forest.py:427: FutureWarning: `max_features='auto'` has been deprecated in 1.1 and will be removed in 1.3. To keep the past behaviour, explicitly set `max_features='sqrt'` or remove this parameter as it is also the default value for RandomForestClassifiers and ExtraTreesClassifiers.\n",
      "  warn(\n"
     ]
    },
    {
     "name": "stdout",
     "output_type": "stream",
     "text": [
      "[CV] END criterion=gini, max_depth=700, max_features=auto, min_samples_leaf=2, min_samples_split=1, n_estimators=300; total time=   1.3s\n",
      "[CV] END criterion=gini, max_depth=700, max_features=auto, min_samples_leaf=2, min_samples_split=1, n_estimators=300; total time=   1.3s\n",
      "[CV] END criterion=gini, max_depth=700, max_features=auto, min_samples_leaf=2, min_samples_split=1, n_estimators=300; total time=   1.3s\n"
     ]
    },
    {
     "name": "stderr",
     "output_type": "stream",
     "text": [
      "/Library/Frameworks/Python.framework/Versions/3.11/lib/python3.11/site-packages/sklearn/ensemble/_forest.py:427: FutureWarning: `max_features='auto'` has been deprecated in 1.1 and will be removed in 1.3. To keep the past behaviour, explicitly set `max_features='sqrt'` or remove this parameter as it is also the default value for RandomForestClassifiers and ExtraTreesClassifiers.\n",
      "  warn(\n",
      "/Library/Frameworks/Python.framework/Versions/3.11/lib/python3.11/site-packages/sklearn/ensemble/_forest.py:427: FutureWarning: `max_features='auto'` has been deprecated in 1.1 and will be removed in 1.3. To keep the past behaviour, explicitly set `max_features='sqrt'` or remove this parameter as it is also the default value for RandomForestClassifiers and ExtraTreesClassifiers.\n",
      "  warn(\n"
     ]
    },
    {
     "name": "stdout",
     "output_type": "stream",
     "text": [
      "[CV] END criterion=gini, max_depth=700, max_features=auto, min_samples_leaf=2, min_samples_split=1, n_estimators=300; total time=   1.4s\n",
      "[CV] END criterion=gini, max_depth=700, max_features=auto, min_samples_leaf=2, min_samples_split=1, n_estimators=300; total time=   1.4s\n",
      "[CV] END criterion=entrpoy, max_depth=100, max_features=auto, min_samples_leaf=6, min_samples_split=15, n_estimators=1000; total time=   4.4s\n",
      "[CV] END criterion=entrpoy, max_depth=100, max_features=auto, min_samples_leaf=6, min_samples_split=15, n_estimators=1000; total time=   4.4s\n",
      "[CV] END criterion=entrpoy, max_depth=100, max_features=auto, min_samples_leaf=6, min_samples_split=15, n_estimators=1000; total time=   4.3s\n",
      "[CV] END criterion=entrpoy, max_depth=100, max_features=auto, min_samples_leaf=6, min_samples_split=15, n_estimators=1000; total time=   4.4s\n",
      "[CV] END criterion=entrpoy, max_depth=100, max_features=auto, min_samples_leaf=6, min_samples_split=15, n_estimators=1000; total time=   4.3s\n"
     ]
    },
    {
     "name": "stderr",
     "output_type": "stream",
     "text": [
      "/Library/Frameworks/Python.framework/Versions/3.11/lib/python3.11/site-packages/sklearn/ensemble/_forest.py:427: FutureWarning: `max_features='auto'` has been deprecated in 1.1 and will be removed in 1.3. To keep the past behaviour, explicitly set `max_features='sqrt'` or remove this parameter as it is also the default value for RandomForestClassifiers and ExtraTreesClassifiers.\n",
      "  warn(\n",
      "/Library/Frameworks/Python.framework/Versions/3.11/lib/python3.11/site-packages/sklearn/ensemble/_forest.py:427: FutureWarning: `max_features='auto'` has been deprecated in 1.1 and will be removed in 1.3. To keep the past behaviour, explicitly set `max_features='sqrt'` or remove this parameter as it is also the default value for RandomForestClassifiers and ExtraTreesClassifiers.\n",
      "  warn(\n",
      "/Library/Frameworks/Python.framework/Versions/3.11/lib/python3.11/site-packages/sklearn/ensemble/_forest.py:427: FutureWarning: `max_features='auto'` has been deprecated in 1.1 and will be removed in 1.3. To keep the past behaviour, explicitly set `max_features='sqrt'` or remove this parameter as it is also the default value for RandomForestClassifiers and ExtraTreesClassifiers.\n",
      "  warn(\n"
     ]
    },
    {
     "name": "stdout",
     "output_type": "stream",
     "text": [
      "[CV] END criterion=entrpoy, max_depth=1000, max_features=sqrt, min_samples_leaf=6, min_samples_split=1, n_estimators=900; total time=   2.9s\n"
     ]
    },
    {
     "name": "stderr",
     "output_type": "stream",
     "text": [
      "/Library/Frameworks/Python.framework/Versions/3.11/lib/python3.11/site-packages/sklearn/ensemble/_forest.py:427: FutureWarning: `max_features='auto'` has been deprecated in 1.1 and will be removed in 1.3. To keep the past behaviour, explicitly set `max_features='sqrt'` or remove this parameter as it is also the default value for RandomForestClassifiers and ExtraTreesClassifiers.\n",
      "  warn(\n"
     ]
    },
    {
     "name": "stdout",
     "output_type": "stream",
     "text": [
      "[CV] END criterion=gini, max_depth=200, max_features=auto, min_samples_leaf=2, min_samples_split=15, n_estimators=100; total time=   1.6s\n",
      "[CV] END criterion=gini, max_depth=200, max_features=auto, min_samples_leaf=2, min_samples_split=15, n_estimators=100; total time=   1.6s\n",
      "[CV] END criterion=gini, max_depth=200, max_features=auto, min_samples_leaf=2, min_samples_split=15, n_estimators=100; total time=   1.7s\n"
     ]
    },
    {
     "name": "stderr",
     "output_type": "stream",
     "text": [
      "/Library/Frameworks/Python.framework/Versions/3.11/lib/python3.11/site-packages/sklearn/ensemble/_forest.py:427: FutureWarning: `max_features='auto'` has been deprecated in 1.1 and will be removed in 1.3. To keep the past behaviour, explicitly set `max_features='sqrt'` or remove this parameter as it is also the default value for RandomForestClassifiers and ExtraTreesClassifiers.\n",
      "  warn(\n"
     ]
    },
    {
     "name": "stdout",
     "output_type": "stream",
     "text": [
      "[CV] END criterion=entrpoy, max_depth=1000, max_features=sqrt, min_samples_leaf=6, min_samples_split=1, n_estimators=900; total time=   2.9s\n",
      "[CV] END criterion=entrpoy, max_depth=1000, max_features=sqrt, min_samples_leaf=6, min_samples_split=1, n_estimators=900; total time=   2.9s\n",
      "[CV] END criterion=gini, max_depth=200, max_features=auto, min_samples_leaf=2, min_samples_split=15, n_estimators=100; total time=   1.6s\n",
      "[CV] END criterion=entrpoy, max_depth=1000, max_features=sqrt, min_samples_leaf=6, min_samples_split=1, n_estimators=900; total time=   2.9s\n",
      "[CV] END criterion=entrpoy, max_depth=1000, max_features=sqrt, min_samples_leaf=6, min_samples_split=1, n_estimators=900; total time=   2.9s\n",
      "[CV] END criterion=gini, max_depth=200, max_features=auto, min_samples_leaf=2, min_samples_split=15, n_estimators=100; total time=   1.3s\n",
      "[CV] END criterion=gini, max_depth=300, max_features=log2, min_samples_leaf=5, min_samples_split=1, n_estimators=200; total time=   0.5s\n",
      "[CV] END criterion=gini, max_depth=300, max_features=log2, min_samples_leaf=5, min_samples_split=1, n_estimators=200; total time=   0.5s\n",
      "[CV] END criterion=gini, max_depth=300, max_features=log2, min_samples_leaf=5, min_samples_split=1, n_estimators=200; total time=   0.5s\n"
     ]
    },
    {
     "name": "stderr",
     "output_type": "stream",
     "text": [
      "/Library/Frameworks/Python.framework/Versions/3.11/lib/python3.11/site-packages/sklearn/ensemble/_forest.py:427: FutureWarning: `max_features='auto'` has been deprecated in 1.1 and will be removed in 1.3. To keep the past behaviour, explicitly set `max_features='sqrt'` or remove this parameter as it is also the default value for RandomForestClassifiers and ExtraTreesClassifiers.\n",
      "  warn(\n"
     ]
    },
    {
     "name": "stdout",
     "output_type": "stream",
     "text": [
      "[CV] END criterion=gini, max_depth=300, max_features=log2, min_samples_leaf=5, min_samples_split=1, n_estimators=200; total time=   0.6s\n",
      "[CV] END criterion=gini, max_depth=900, max_features=sqrt, min_samples_leaf=7, min_samples_split=15, n_estimators=200; total time=   2.4s\n",
      "[CV] END criterion=gini, max_depth=300, max_features=log2, min_samples_leaf=5, min_samples_split=1, n_estimators=200; total time=   0.7s\n"
     ]
    },
    {
     "name": "stderr",
     "output_type": "stream",
     "text": [
      "/Library/Frameworks/Python.framework/Versions/3.11/lib/python3.11/site-packages/sklearn/ensemble/_forest.py:427: FutureWarning: `max_features='auto'` has been deprecated in 1.1 and will be removed in 1.3. To keep the past behaviour, explicitly set `max_features='sqrt'` or remove this parameter as it is also the default value for RandomForestClassifiers and ExtraTreesClassifiers.\n",
      "  warn(\n",
      "/Library/Frameworks/Python.framework/Versions/3.11/lib/python3.11/site-packages/sklearn/ensemble/_forest.py:427: FutureWarning: `max_features='auto'` has been deprecated in 1.1 and will be removed in 1.3. To keep the past behaviour, explicitly set `max_features='sqrt'` or remove this parameter as it is also the default value for RandomForestClassifiers and ExtraTreesClassifiers.\n",
      "  warn(\n",
      "/Library/Frameworks/Python.framework/Versions/3.11/lib/python3.11/site-packages/sklearn/ensemble/_forest.py:427: FutureWarning: `max_features='auto'` has been deprecated in 1.1 and will be removed in 1.3. To keep the past behaviour, explicitly set `max_features='sqrt'` or remove this parameter as it is also the default value for RandomForestClassifiers and ExtraTreesClassifiers.\n",
      "  warn(\n"
     ]
    },
    {
     "name": "stdout",
     "output_type": "stream",
     "text": [
      "[CV] END criterion=gini, max_depth=900, max_features=sqrt, min_samples_leaf=7, min_samples_split=15, n_estimators=200; total time=   2.5s\n",
      "[CV] END criterion=gini, max_depth=900, max_features=sqrt, min_samples_leaf=7, min_samples_split=15, n_estimators=200; total time=   2.3s\n",
      "[CV] END criterion=gini, max_depth=900, max_features=sqrt, min_samples_leaf=7, min_samples_split=15, n_estimators=200; total time=   2.4s\n"
     ]
    },
    {
     "name": "stderr",
     "output_type": "stream",
     "text": [
      "/Library/Frameworks/Python.framework/Versions/3.11/lib/python3.11/site-packages/sklearn/ensemble/_forest.py:427: FutureWarning: `max_features='auto'` has been deprecated in 1.1 and will be removed in 1.3. To keep the past behaviour, explicitly set `max_features='sqrt'` or remove this parameter as it is also the default value for RandomForestClassifiers and ExtraTreesClassifiers.\n",
      "  warn(\n"
     ]
    },
    {
     "name": "stdout",
     "output_type": "stream",
     "text": [
      "[CV] END criterion=gini, max_depth=900, max_features=sqrt, min_samples_leaf=7, min_samples_split=15, n_estimators=200; total time=   2.4s\n",
      "[CV] END criterion=entrpoy, max_depth=700, max_features=auto, min_samples_leaf=3, min_samples_split=1, n_estimators=700; total time=   2.5s\n",
      "[CV] END criterion=entrpoy, max_depth=700, max_features=auto, min_samples_leaf=3, min_samples_split=1, n_estimators=700; total time=   2.6s\n",
      "[CV] END criterion=entrpoy, max_depth=700, max_features=auto, min_samples_leaf=3, min_samples_split=1, n_estimators=700; total time=   2.6s\n",
      "[CV] END criterion=entrpoy, max_depth=700, max_features=auto, min_samples_leaf=3, min_samples_split=1, n_estimators=700; total time=   2.6s\n",
      "[CV] END criterion=entrpoy, max_depth=700, max_features=auto, min_samples_leaf=3, min_samples_split=1, n_estimators=700; total time=   2.6s\n",
      "[CV] END criterion=entrpoy, max_depth=200, max_features=sqrt, min_samples_leaf=3, min_samples_split=5, n_estimators=1000; total time=   2.5s\n",
      "[CV] END criterion=entrpoy, max_depth=200, max_features=sqrt, min_samples_leaf=3, min_samples_split=5, n_estimators=1000; total time=   2.6s\n",
      "[CV] END criterion=entrpoy, max_depth=200, max_features=sqrt, min_samples_leaf=3, min_samples_split=5, n_estimators=1000; total time=   2.6s\n",
      "[CV] END criterion=entrpoy, max_depth=200, max_features=sqrt, min_samples_leaf=3, min_samples_split=5, n_estimators=1000; total time=   2.4s\n",
      "[CV] END criterion=entrpoy, max_depth=200, max_features=sqrt, min_samples_leaf=3, min_samples_split=5, n_estimators=1000; total time=   2.3s\n",
      "[CV] END criterion=entrpoy, max_depth=500, max_features=log2, min_samples_leaf=7, min_samples_split=10, n_estimators=900; total time=   2.0s\n",
      "[CV] END criterion=entrpoy, max_depth=500, max_features=log2, min_samples_leaf=7, min_samples_split=10, n_estimators=900; total time=   2.1s\n",
      "[CV] END criterion=entrpoy, max_depth=500, max_features=log2, min_samples_leaf=7, min_samples_split=10, n_estimators=900; total time=   2.1s\n",
      "[CV] END criterion=entrpoy, max_depth=500, max_features=log2, min_samples_leaf=7, min_samples_split=10, n_estimators=900; total time=   2.2s\n",
      "[CV] END criterion=gini, max_depth=200, max_features=log2, min_samples_leaf=6, min_samples_split=15, n_estimators=1000; total time=  10.8s\n",
      "[CV] END criterion=gini, max_depth=200, max_features=log2, min_samples_leaf=6, min_samples_split=15, n_estimators=1000; total time=  10.9s\n",
      "[CV] END criterion=entrpoy, max_depth=200, max_features=sqrt, min_samples_leaf=6, min_samples_split=10, n_estimators=600; total time=   1.6s\n",
      "[CV] END criterion=entrpoy, max_depth=200, max_features=sqrt, min_samples_leaf=6, min_samples_split=10, n_estimators=600; total time=   1.7s\n",
      "[CV] END criterion=gini, max_depth=200, max_features=log2, min_samples_leaf=6, min_samples_split=15, n_estimators=1000; total time=  10.8s\n",
      "[CV] END criterion=entrpoy, max_depth=500, max_features=log2, min_samples_leaf=7, min_samples_split=10, n_estimators=900; total time=   2.4s\n",
      "[CV] END criterion=gini, max_depth=200, max_features=log2, min_samples_leaf=6, min_samples_split=15, n_estimators=1000; total time=  10.6s\n",
      "[CV] END criterion=gini, max_depth=500, max_features=log2, min_samples_leaf=2, min_samples_split=5, n_estimators=100; total time=   1.1s\n",
      "[CV] END criterion=gini, max_depth=500, max_features=log2, min_samples_leaf=2, min_samples_split=5, n_estimators=100; total time=   1.1s\n"
     ]
    },
    {
     "name": "stderr",
     "output_type": "stream",
     "text": [
      "/Library/Frameworks/Python.framework/Versions/3.11/lib/python3.11/site-packages/sklearn/ensemble/_forest.py:427: FutureWarning: `max_features='auto'` has been deprecated in 1.1 and will be removed in 1.3. To keep the past behaviour, explicitly set `max_features='sqrt'` or remove this parameter as it is also the default value for RandomForestClassifiers and ExtraTreesClassifiers.\n",
      "  warn(\n",
      "/Library/Frameworks/Python.framework/Versions/3.11/lib/python3.11/site-packages/sklearn/ensemble/_forest.py:427: FutureWarning: `max_features='auto'` has been deprecated in 1.1 and will be removed in 1.3. To keep the past behaviour, explicitly set `max_features='sqrt'` or remove this parameter as it is also the default value for RandomForestClassifiers and ExtraTreesClassifiers.\n",
      "  warn(\n"
     ]
    },
    {
     "name": "stdout",
     "output_type": "stream",
     "text": [
      "[CV] END criterion=gini, max_depth=200, max_features=log2, min_samples_leaf=6, min_samples_split=15, n_estimators=1000; total time=  10.2s\n",
      "[CV] END criterion=entrpoy, max_depth=200, max_features=sqrt, min_samples_leaf=6, min_samples_split=10, n_estimators=600; total time=   1.5s\n",
      "[CV] END criterion=entrpoy, max_depth=200, max_features=sqrt, min_samples_leaf=6, min_samples_split=10, n_estimators=600; total time=   1.5s\n",
      "[CV] END criterion=entrpoy, max_depth=200, max_features=sqrt, min_samples_leaf=6, min_samples_split=10, n_estimators=600; total time=   1.5s\n"
     ]
    },
    {
     "name": "stderr",
     "output_type": "stream",
     "text": [
      "/Library/Frameworks/Python.framework/Versions/3.11/lib/python3.11/site-packages/sklearn/ensemble/_forest.py:427: FutureWarning: `max_features='auto'` has been deprecated in 1.1 and will be removed in 1.3. To keep the past behaviour, explicitly set `max_features='sqrt'` or remove this parameter as it is also the default value for RandomForestClassifiers and ExtraTreesClassifiers.\n",
      "  warn(\n",
      "/Library/Frameworks/Python.framework/Versions/3.11/lib/python3.11/site-packages/sklearn/ensemble/_forest.py:427: FutureWarning: `max_features='auto'` has been deprecated in 1.1 and will be removed in 1.3. To keep the past behaviour, explicitly set `max_features='sqrt'` or remove this parameter as it is also the default value for RandomForestClassifiers and ExtraTreesClassifiers.\n",
      "  warn(\n",
      "/Library/Frameworks/Python.framework/Versions/3.11/lib/python3.11/site-packages/sklearn/ensemble/_forest.py:427: FutureWarning: `max_features='auto'` has been deprecated in 1.1 and will be removed in 1.3. To keep the past behaviour, explicitly set `max_features='sqrt'` or remove this parameter as it is also the default value for RandomForestClassifiers and ExtraTreesClassifiers.\n",
      "  warn(\n"
     ]
    },
    {
     "name": "stdout",
     "output_type": "stream",
     "text": [
      "[CV] END criterion=gini, max_depth=500, max_features=log2, min_samples_leaf=2, min_samples_split=5, n_estimators=100; total time=   1.1s\n",
      "[CV] END criterion=gini, max_depth=500, max_features=log2, min_samples_leaf=2, min_samples_split=5, n_estimators=100; total time=   1.4s\n",
      "[CV] END criterion=gini, max_depth=500, max_features=log2, min_samples_leaf=2, min_samples_split=5, n_estimators=100; total time=   1.4s\n",
      "[CV] END criterion=gini, max_depth=100, max_features=auto, min_samples_leaf=3, min_samples_split=1, n_estimators=500; total time=   1.7s\n",
      "[CV] END criterion=gini, max_depth=100, max_features=auto, min_samples_leaf=3, min_samples_split=1, n_estimators=500; total time=   1.7s\n",
      "[CV] END criterion=gini, max_depth=100, max_features=auto, min_samples_leaf=3, min_samples_split=1, n_estimators=500; total time=   1.7s\n",
      "[CV] END criterion=gini, max_depth=100, max_features=auto, min_samples_leaf=3, min_samples_split=1, n_estimators=500; total time=   1.7s\n",
      "[CV] END criterion=gini, max_depth=100, max_features=auto, min_samples_leaf=3, min_samples_split=1, n_estimators=500; total time=   1.7s\n",
      "[CV] END criterion=gini, max_depth=500, max_features=sqrt, min_samples_leaf=5, min_samples_split=5, n_estimators=400; total time=   3.8s\n",
      "[CV] END criterion=gini, max_depth=400, max_features=sqrt, min_samples_leaf=3, min_samples_split=5, n_estimators=300; total time=   2.5s\n",
      "[CV] END criterion=gini, max_depth=400, max_features=sqrt, min_samples_leaf=3, min_samples_split=5, n_estimators=300; total time=   2.5s\n",
      "[CV] END criterion=gini, max_depth=400, max_features=sqrt, min_samples_leaf=3, min_samples_split=5, n_estimators=300; total time=   2.5s\n"
     ]
    },
    {
     "name": "stderr",
     "output_type": "stream",
     "text": [
      "/Library/Frameworks/Python.framework/Versions/3.11/lib/python3.11/site-packages/sklearn/ensemble/_forest.py:427: FutureWarning: `max_features='auto'` has been deprecated in 1.1 and will be removed in 1.3. To keep the past behaviour, explicitly set `max_features='sqrt'` or remove this parameter as it is also the default value for RandomForestClassifiers and ExtraTreesClassifiers.\n",
      "  warn(\n",
      "/Library/Frameworks/Python.framework/Versions/3.11/lib/python3.11/site-packages/sklearn/ensemble/_forest.py:427: FutureWarning: `max_features='auto'` has been deprecated in 1.1 and will be removed in 1.3. To keep the past behaviour, explicitly set `max_features='sqrt'` or remove this parameter as it is also the default value for RandomForestClassifiers and ExtraTreesClassifiers.\n",
      "  warn(\n"
     ]
    },
    {
     "name": "stdout",
     "output_type": "stream",
     "text": [
      "[CV] END criterion=gini, max_depth=500, max_features=sqrt, min_samples_leaf=5, min_samples_split=5, n_estimators=400; total time=   3.5s\n",
      "[CV] END criterion=gini, max_depth=500, max_features=sqrt, min_samples_leaf=5, min_samples_split=5, n_estimators=400; total time=   3.6s\n"
     ]
    },
    {
     "name": "stderr",
     "output_type": "stream",
     "text": [
      "/Library/Frameworks/Python.framework/Versions/3.11/lib/python3.11/site-packages/sklearn/ensemble/_forest.py:427: FutureWarning: `max_features='auto'` has been deprecated in 1.1 and will be removed in 1.3. To keep the past behaviour, explicitly set `max_features='sqrt'` or remove this parameter as it is also the default value for RandomForestClassifiers and ExtraTreesClassifiers.\n",
      "  warn(\n",
      "/Library/Frameworks/Python.framework/Versions/3.11/lib/python3.11/site-packages/sklearn/ensemble/_forest.py:427: FutureWarning: `max_features='auto'` has been deprecated in 1.1 and will be removed in 1.3. To keep the past behaviour, explicitly set `max_features='sqrt'` or remove this parameter as it is also the default value for RandomForestClassifiers and ExtraTreesClassifiers.\n",
      "  warn(\n"
     ]
    },
    {
     "name": "stdout",
     "output_type": "stream",
     "text": [
      "[CV] END criterion=entrpoy, max_depth=800, max_features=auto, min_samples_leaf=5, min_samples_split=15, n_estimators=200; total time=   0.7s\n",
      "[CV] END criterion=entrpoy, max_depth=800, max_features=auto, min_samples_leaf=5, min_samples_split=15, n_estimators=200; total time=   0.7s\n",
      "[CV] END criterion=gini, max_depth=500, max_features=sqrt, min_samples_leaf=5, min_samples_split=5, n_estimators=400; total time=   3.6s\n"
     ]
    },
    {
     "name": "stderr",
     "output_type": "stream",
     "text": [
      "/Library/Frameworks/Python.framework/Versions/3.11/lib/python3.11/site-packages/sklearn/ensemble/_forest.py:427: FutureWarning: `max_features='auto'` has been deprecated in 1.1 and will be removed in 1.3. To keep the past behaviour, explicitly set `max_features='sqrt'` or remove this parameter as it is also the default value for RandomForestClassifiers and ExtraTreesClassifiers.\n",
      "  warn(\n"
     ]
    },
    {
     "name": "stdout",
     "output_type": "stream",
     "text": [
      "[CV] END criterion=entrpoy, max_depth=800, max_features=auto, min_samples_leaf=5, min_samples_split=15, n_estimators=200; total time=   0.6s\n",
      "[CV] END criterion=gini, max_depth=500, max_features=sqrt, min_samples_leaf=5, min_samples_split=5, n_estimators=400; total time=   3.6s\n",
      "[CV] END criterion=entrpoy, max_depth=800, max_features=auto, min_samples_leaf=5, min_samples_split=15, n_estimators=200; total time=   0.6s\n",
      "[CV] END criterion=entrpoy, max_depth=800, max_features=auto, min_samples_leaf=5, min_samples_split=15, n_estimators=200; total time=   0.6s\n",
      "[CV] END criterion=entrpoy, max_depth=300, max_features=sqrt, min_samples_leaf=5, min_samples_split=15, n_estimators=300; total time=   0.7s\n",
      "[CV] END criterion=entrpoy, max_depth=300, max_features=sqrt, min_samples_leaf=5, min_samples_split=15, n_estimators=300; total time=   0.7s\n",
      "[CV] END criterion=entrpoy, max_depth=300, max_features=sqrt, min_samples_leaf=5, min_samples_split=15, n_estimators=300; total time=   0.7s\n",
      "[CV] END criterion=entrpoy, max_depth=300, max_features=sqrt, min_samples_leaf=5, min_samples_split=15, n_estimators=300; total time=   0.7s\n",
      "[CV] END criterion=entrpoy, max_depth=300, max_features=sqrt, min_samples_leaf=5, min_samples_split=15, n_estimators=300; total time=   0.7s\n",
      "[CV] END criterion=gini, max_depth=400, max_features=sqrt, min_samples_leaf=3, min_samples_split=5, n_estimators=300; total time=   2.9s\n",
      "[CV] END criterion=entrpoy, max_depth=700, max_features=log2, min_samples_leaf=2, min_samples_split=15, n_estimators=500; total time=   1.0s\n",
      "[CV] END criterion=gini, max_depth=400, max_features=sqrt, min_samples_leaf=3, min_samples_split=5, n_estimators=300; total time=   2.8s\n",
      "[CV] END criterion=entrpoy, max_depth=700, max_features=log2, min_samples_leaf=2, min_samples_split=15, n_estimators=500; total time=   1.3s\n",
      "[CV] END criterion=entrpoy, max_depth=700, max_features=log2, min_samples_leaf=2, min_samples_split=15, n_estimators=500; total time=   1.5s\n",
      "[CV] END criterion=entrpoy, max_depth=700, max_features=log2, min_samples_leaf=2, min_samples_split=15, n_estimators=500; total time=   1.5s\n",
      "[CV] END criterion=entrpoy, max_depth=600, max_features=log2, min_samples_leaf=7, min_samples_split=10, n_estimators=100; total time=   0.2s\n",
      "[CV] END criterion=entrpoy, max_depth=600, max_features=log2, min_samples_leaf=7, min_samples_split=10, n_estimators=100; total time=   0.2s\n",
      "[CV] END criterion=entrpoy, max_depth=600, max_features=log2, min_samples_leaf=7, min_samples_split=10, n_estimators=100; total time=   0.4s\n",
      "[CV] END criterion=entrpoy, max_depth=600, max_features=log2, min_samples_leaf=7, min_samples_split=10, n_estimators=100; total time=   0.4s\n"
     ]
    },
    {
     "name": "stderr",
     "output_type": "stream",
     "text": [
      "/Library/Frameworks/Python.framework/Versions/3.11/lib/python3.11/site-packages/sklearn/ensemble/_forest.py:427: FutureWarning: `max_features='auto'` has been deprecated in 1.1 and will be removed in 1.3. To keep the past behaviour, explicitly set `max_features='sqrt'` or remove this parameter as it is also the default value for RandomForestClassifiers and ExtraTreesClassifiers.\n",
      "  warn(\n"
     ]
    },
    {
     "name": "stdout",
     "output_type": "stream",
     "text": [
      "[CV] END criterion=entrpoy, max_depth=600, max_features=log2, min_samples_leaf=7, min_samples_split=10, n_estimators=100; total time=   0.4s\n",
      "[CV] END criterion=entrpoy, max_depth=300, max_features=auto, min_samples_leaf=6, min_samples_split=15, n_estimators=100; total time=   0.4s\n"
     ]
    },
    {
     "name": "stderr",
     "output_type": "stream",
     "text": [
      "/Library/Frameworks/Python.framework/Versions/3.11/lib/python3.11/site-packages/sklearn/ensemble/_forest.py:427: FutureWarning: `max_features='auto'` has been deprecated in 1.1 and will be removed in 1.3. To keep the past behaviour, explicitly set `max_features='sqrt'` or remove this parameter as it is also the default value for RandomForestClassifiers and ExtraTreesClassifiers.\n",
      "  warn(\n",
      "/Library/Frameworks/Python.framework/Versions/3.11/lib/python3.11/site-packages/sklearn/ensemble/_forest.py:427: FutureWarning: `max_features='auto'` has been deprecated in 1.1 and will be removed in 1.3. To keep the past behaviour, explicitly set `max_features='sqrt'` or remove this parameter as it is also the default value for RandomForestClassifiers and ExtraTreesClassifiers.\n",
      "  warn(\n"
     ]
    },
    {
     "name": "stdout",
     "output_type": "stream",
     "text": [
      "[CV] END criterion=entrpoy, max_depth=700, max_features=log2, min_samples_leaf=2, min_samples_split=15, n_estimators=500; total time=   1.5s\n",
      "[CV] END criterion=entrpoy, max_depth=300, max_features=auto, min_samples_leaf=6, min_samples_split=15, n_estimators=100; total time=   0.4s\n"
     ]
    },
    {
     "name": "stderr",
     "output_type": "stream",
     "text": [
      "/Library/Frameworks/Python.framework/Versions/3.11/lib/python3.11/site-packages/sklearn/ensemble/_forest.py:427: FutureWarning: `max_features='auto'` has been deprecated in 1.1 and will be removed in 1.3. To keep the past behaviour, explicitly set `max_features='sqrt'` or remove this parameter as it is also the default value for RandomForestClassifiers and ExtraTreesClassifiers.\n",
      "  warn(\n",
      "/Library/Frameworks/Python.framework/Versions/3.11/lib/python3.11/site-packages/sklearn/ensemble/_forest.py:427: FutureWarning: `max_features='auto'` has been deprecated in 1.1 and will be removed in 1.3. To keep the past behaviour, explicitly set `max_features='sqrt'` or remove this parameter as it is also the default value for RandomForestClassifiers and ExtraTreesClassifiers.\n",
      "  warn(\n"
     ]
    },
    {
     "name": "stdout",
     "output_type": "stream",
     "text": [
      "[CV] END criterion=entrpoy, max_depth=300, max_features=auto, min_samples_leaf=6, min_samples_split=15, n_estimators=100; total time=   0.4s\n",
      "[CV] END criterion=entrpoy, max_depth=300, max_features=auto, min_samples_leaf=6, min_samples_split=15, n_estimators=100; total time=   0.4s\n",
      "[CV] END criterion=entrpoy, max_depth=300, max_features=auto, min_samples_leaf=6, min_samples_split=15, n_estimators=100; total time=   0.4s\n",
      "[CV] END criterion=entrpoy, max_depth=800, max_features=sqrt, min_samples_leaf=6, min_samples_split=5, n_estimators=100; total time=   0.3s\n",
      "[CV] END criterion=entrpoy, max_depth=800, max_features=sqrt, min_samples_leaf=6, min_samples_split=5, n_estimators=100; total time=   0.3s\n",
      "[CV] END criterion=entrpoy, max_depth=800, max_features=sqrt, min_samples_leaf=6, min_samples_split=5, n_estimators=100; total time=   0.3s\n",
      "[CV] END criterion=entrpoy, max_depth=800, max_features=sqrt, min_samples_leaf=6, min_samples_split=5, n_estimators=100; total time=   0.3s\n",
      "[CV] END criterion=entrpoy, max_depth=800, max_features=sqrt, min_samples_leaf=6, min_samples_split=5, n_estimators=100; total time=   0.3s\n",
      "[CV] END criterion=gini, max_depth=100, max_features=sqrt, min_samples_leaf=7, min_samples_split=1, n_estimators=100; total time=   0.3s\n",
      "[CV] END criterion=gini, max_depth=100, max_features=sqrt, min_samples_leaf=7, min_samples_split=1, n_estimators=100; total time=   0.3s\n",
      "[CV] END criterion=gini, max_depth=100, max_features=sqrt, min_samples_leaf=7, min_samples_split=1, n_estimators=100; total time=   0.4s\n",
      "[CV] END criterion=gini, max_depth=100, max_features=sqrt, min_samples_leaf=7, min_samples_split=1, n_estimators=100; total time=   0.4s\n",
      "[CV] END criterion=gini, max_depth=100, max_features=sqrt, min_samples_leaf=7, min_samples_split=1, n_estimators=100; total time=   0.4s\n",
      "[CV] END criterion=gini, max_depth=1000, max_features=log2, min_samples_leaf=7, min_samples_split=5, n_estimators=700; total time=   8.1s\n",
      "[CV] END criterion=gini, max_depth=1000, max_features=log2, min_samples_leaf=7, min_samples_split=5, n_estimators=700; total time=   8.1s\n",
      "[CV] END criterion=gini, max_depth=1000, max_features=log2, min_samples_leaf=7, min_samples_split=5, n_estimators=700; total time=   8.2s\n",
      "[CV] END criterion=gini, max_depth=1000, max_features=log2, min_samples_leaf=7, min_samples_split=5, n_estimators=700; total time=   8.1s\n",
      "[CV] END criterion=gini, max_depth=1000, max_features=log2, min_samples_leaf=7, min_samples_split=5, n_estimators=700; total time=   8.1s\n"
     ]
    },
    {
     "name": "stderr",
     "output_type": "stream",
     "text": [
      "/Library/Frameworks/Python.framework/Versions/3.11/lib/python3.11/site-packages/sklearn/ensemble/_forest.py:427: FutureWarning: `max_features='auto'` has been deprecated in 1.1 and will be removed in 1.3. To keep the past behaviour, explicitly set `max_features='sqrt'` or remove this parameter as it is also the default value for RandomForestClassifiers and ExtraTreesClassifiers.\n",
      "  warn(\n",
      "/Library/Frameworks/Python.framework/Versions/3.11/lib/python3.11/site-packages/sklearn/ensemble/_forest.py:427: FutureWarning: `max_features='auto'` has been deprecated in 1.1 and will be removed in 1.3. To keep the past behaviour, explicitly set `max_features='sqrt'` or remove this parameter as it is also the default value for RandomForestClassifiers and ExtraTreesClassifiers.\n",
      "  warn(\n",
      "/Library/Frameworks/Python.framework/Versions/3.11/lib/python3.11/site-packages/sklearn/ensemble/_forest.py:427: FutureWarning: `max_features='auto'` has been deprecated in 1.1 and will be removed in 1.3. To keep the past behaviour, explicitly set `max_features='sqrt'` or remove this parameter as it is also the default value for RandomForestClassifiers and ExtraTreesClassifiers.\n",
      "  warn(\n"
     ]
    },
    {
     "name": "stdout",
     "output_type": "stream",
     "text": [
      "[CV] END criterion=gini, max_depth=500, max_features=sqrt, min_samples_leaf=5, min_samples_split=10, n_estimators=400; total time=   4.3s\n",
      "[CV] END criterion=gini, max_depth=500, max_features=sqrt, min_samples_leaf=5, min_samples_split=10, n_estimators=400; total time=   4.3s\n"
     ]
    },
    {
     "name": "stderr",
     "output_type": "stream",
     "text": [
      "/Library/Frameworks/Python.framework/Versions/3.11/lib/python3.11/site-packages/sklearn/ensemble/_forest.py:427: FutureWarning: `max_features='auto'` has been deprecated in 1.1 and will be removed in 1.3. To keep the past behaviour, explicitly set `max_features='sqrt'` or remove this parameter as it is also the default value for RandomForestClassifiers and ExtraTreesClassifiers.\n",
      "  warn(\n",
      "/Library/Frameworks/Python.framework/Versions/3.11/lib/python3.11/site-packages/sklearn/ensemble/_forest.py:427: FutureWarning: `max_features='auto'` has been deprecated in 1.1 and will be removed in 1.3. To keep the past behaviour, explicitly set `max_features='sqrt'` or remove this parameter as it is also the default value for RandomForestClassifiers and ExtraTreesClassifiers.\n",
      "  warn(\n"
     ]
    },
    {
     "name": "stdout",
     "output_type": "stream",
     "text": [
      "[CV] END criterion=gini, max_depth=500, max_features=sqrt, min_samples_leaf=5, min_samples_split=10, n_estimators=400; total time=   4.5s\n"
     ]
    },
    {
     "name": "stderr",
     "output_type": "stream",
     "text": [
      "/Library/Frameworks/Python.framework/Versions/3.11/lib/python3.11/site-packages/sklearn/ensemble/_forest.py:427: FutureWarning: `max_features='auto'` has been deprecated in 1.1 and will be removed in 1.3. To keep the past behaviour, explicitly set `max_features='sqrt'` or remove this parameter as it is also the default value for RandomForestClassifiers and ExtraTreesClassifiers.\n",
      "  warn(\n"
     ]
    },
    {
     "name": "stdout",
     "output_type": "stream",
     "text": [
      "[CV] END criterion=entrpoy, max_depth=800, max_features=auto, min_samples_leaf=7, min_samples_split=5, n_estimators=500; total time=   1.9s\n"
     ]
    },
    {
     "name": "stderr",
     "output_type": "stream",
     "text": [
      "/Library/Frameworks/Python.framework/Versions/3.11/lib/python3.11/site-packages/sklearn/ensemble/_forest.py:427: FutureWarning: `max_features='auto'` has been deprecated in 1.1 and will be removed in 1.3. To keep the past behaviour, explicitly set `max_features='sqrt'` or remove this parameter as it is also the default value for RandomForestClassifiers and ExtraTreesClassifiers.\n",
      "  warn(\n"
     ]
    },
    {
     "name": "stdout",
     "output_type": "stream",
     "text": [
      "[CV] END criterion=gini, max_depth=500, max_features=sqrt, min_samples_leaf=5, min_samples_split=10, n_estimators=400; total time=   4.5s\n"
     ]
    },
    {
     "name": "stderr",
     "output_type": "stream",
     "text": [
      "/Library/Frameworks/Python.framework/Versions/3.11/lib/python3.11/site-packages/sklearn/ensemble/_forest.py:427: FutureWarning: `max_features='auto'` has been deprecated in 1.1 and will be removed in 1.3. To keep the past behaviour, explicitly set `max_features='sqrt'` or remove this parameter as it is also the default value for RandomForestClassifiers and ExtraTreesClassifiers.\n",
      "  warn(\n"
     ]
    },
    {
     "name": "stdout",
     "output_type": "stream",
     "text": [
      "[CV] END criterion=gini, max_depth=500, max_features=sqrt, min_samples_leaf=5, min_samples_split=10, n_estimators=400; total time=   4.7s\n"
     ]
    },
    {
     "name": "stderr",
     "output_type": "stream",
     "text": [
      "/Library/Frameworks/Python.framework/Versions/3.11/lib/python3.11/site-packages/sklearn/ensemble/_forest.py:427: FutureWarning: `max_features='auto'` has been deprecated in 1.1 and will be removed in 1.3. To keep the past behaviour, explicitly set `max_features='sqrt'` or remove this parameter as it is also the default value for RandomForestClassifiers and ExtraTreesClassifiers.\n",
      "  warn(\n"
     ]
    },
    {
     "name": "stdout",
     "output_type": "stream",
     "text": [
      "[CV] END criterion=entrpoy, max_depth=800, max_features=auto, min_samples_leaf=7, min_samples_split=5, n_estimators=500; total time=   1.7s\n",
      "[CV] END criterion=entrpoy, max_depth=800, max_features=auto, min_samples_leaf=7, min_samples_split=5, n_estimators=500; total time=   1.6s\n"
     ]
    },
    {
     "name": "stderr",
     "output_type": "stream",
     "text": [
      "/Library/Frameworks/Python.framework/Versions/3.11/lib/python3.11/site-packages/sklearn/ensemble/_forest.py:427: FutureWarning: `max_features='auto'` has been deprecated in 1.1 and will be removed in 1.3. To keep the past behaviour, explicitly set `max_features='sqrt'` or remove this parameter as it is also the default value for RandomForestClassifiers and ExtraTreesClassifiers.\n",
      "  warn(\n",
      "/Library/Frameworks/Python.framework/Versions/3.11/lib/python3.11/site-packages/sklearn/ensemble/_forest.py:427: FutureWarning: `max_features='auto'` has been deprecated in 1.1 and will be removed in 1.3. To keep the past behaviour, explicitly set `max_features='sqrt'` or remove this parameter as it is also the default value for RandomForestClassifiers and ExtraTreesClassifiers.\n",
      "  warn(\n"
     ]
    },
    {
     "name": "stdout",
     "output_type": "stream",
     "text": [
      "[CV] END criterion=entrpoy, max_depth=800, max_features=auto, min_samples_leaf=7, min_samples_split=5, n_estimators=500; total time=   1.6s\n"
     ]
    },
    {
     "name": "stderr",
     "output_type": "stream",
     "text": [
      "/Library/Frameworks/Python.framework/Versions/3.11/lib/python3.11/site-packages/sklearn/ensemble/_forest.py:427: FutureWarning: `max_features='auto'` has been deprecated in 1.1 and will be removed in 1.3. To keep the past behaviour, explicitly set `max_features='sqrt'` or remove this parameter as it is also the default value for RandomForestClassifiers and ExtraTreesClassifiers.\n",
      "  warn(\n"
     ]
    },
    {
     "name": "stdout",
     "output_type": "stream",
     "text": [
      "[CV] END criterion=gini, max_depth=300, max_features=auto, min_samples_leaf=3, min_samples_split=15, n_estimators=100; total time=   1.2s\n",
      "[CV] END criterion=gini, max_depth=300, max_features=auto, min_samples_leaf=3, min_samples_split=15, n_estimators=100; total time=   1.0s\n",
      "[CV] END criterion=entrpoy, max_depth=800, max_features=auto, min_samples_leaf=7, min_samples_split=5, n_estimators=500; total time=   1.5s\n"
     ]
    },
    {
     "name": "stderr",
     "output_type": "stream",
     "text": [
      "/Library/Frameworks/Python.framework/Versions/3.11/lib/python3.11/site-packages/sklearn/ensemble/_forest.py:427: FutureWarning: `max_features='auto'` has been deprecated in 1.1 and will be removed in 1.3. To keep the past behaviour, explicitly set `max_features='sqrt'` or remove this parameter as it is also the default value for RandomForestClassifiers and ExtraTreesClassifiers.\n",
      "  warn(\n",
      "/Library/Frameworks/Python.framework/Versions/3.11/lib/python3.11/site-packages/sklearn/ensemble/_forest.py:427: FutureWarning: `max_features='auto'` has been deprecated in 1.1 and will be removed in 1.3. To keep the past behaviour, explicitly set `max_features='sqrt'` or remove this parameter as it is also the default value for RandomForestClassifiers and ExtraTreesClassifiers.\n",
      "  warn(\n",
      "/Library/Frameworks/Python.framework/Versions/3.11/lib/python3.11/site-packages/sklearn/ensemble/_forest.py:427: FutureWarning: `max_features='auto'` has been deprecated in 1.1 and will be removed in 1.3. To keep the past behaviour, explicitly set `max_features='sqrt'` or remove this parameter as it is also the default value for RandomForestClassifiers and ExtraTreesClassifiers.\n",
      "  warn(\n"
     ]
    },
    {
     "name": "stdout",
     "output_type": "stream",
     "text": [
      "[CV] END criterion=gini, max_depth=300, max_features=auto, min_samples_leaf=3, min_samples_split=15, n_estimators=100; total time=   1.3s\n",
      "[CV] END criterion=gini, max_depth=300, max_features=auto, min_samples_leaf=3, min_samples_split=15, n_estimators=100; total time=   1.3s\n",
      "[CV] END criterion=gini, max_depth=300, max_features=auto, min_samples_leaf=3, min_samples_split=15, n_estimators=100; total time=   1.3s\n",
      "[CV] END criterion=gini, max_depth=500, max_features=sqrt, min_samples_leaf=3, min_samples_split=1, n_estimators=600; total time=   1.5s\n",
      "[CV] END criterion=gini, max_depth=500, max_features=sqrt, min_samples_leaf=3, min_samples_split=1, n_estimators=600; total time=   1.4s\n",
      "[CV] END criterion=gini, max_depth=500, max_features=sqrt, min_samples_leaf=3, min_samples_split=1, n_estimators=600; total time=   1.4s\n"
     ]
    },
    {
     "name": "stderr",
     "output_type": "stream",
     "text": [
      "/Library/Frameworks/Python.framework/Versions/3.11/lib/python3.11/site-packages/sklearn/ensemble/_forest.py:427: FutureWarning: `max_features='auto'` has been deprecated in 1.1 and will be removed in 1.3. To keep the past behaviour, explicitly set `max_features='sqrt'` or remove this parameter as it is also the default value for RandomForestClassifiers and ExtraTreesClassifiers.\n",
      "  warn(\n"
     ]
    },
    {
     "name": "stdout",
     "output_type": "stream",
     "text": [
      "[CV] END criterion=entrpoy, max_depth=900, max_features=auto, min_samples_leaf=5, min_samples_split=10, n_estimators=300; total time=   0.9s\n"
     ]
    },
    {
     "name": "stderr",
     "output_type": "stream",
     "text": [
      "/Library/Frameworks/Python.framework/Versions/3.11/lib/python3.11/site-packages/sklearn/ensemble/_forest.py:427: FutureWarning: `max_features='auto'` has been deprecated in 1.1 and will be removed in 1.3. To keep the past behaviour, explicitly set `max_features='sqrt'` or remove this parameter as it is also the default value for RandomForestClassifiers and ExtraTreesClassifiers.\n",
      "  warn(\n"
     ]
    },
    {
     "name": "stdout",
     "output_type": "stream",
     "text": [
      "[CV] END criterion=gini, max_depth=500, max_features=sqrt, min_samples_leaf=3, min_samples_split=1, n_estimators=600; total time=   1.5s\n",
      "[CV] END criterion=gini, max_depth=500, max_features=sqrt, min_samples_leaf=3, min_samples_split=1, n_estimators=600; total time=   1.6s\n"
     ]
    },
    {
     "name": "stderr",
     "output_type": "stream",
     "text": [
      "/Library/Frameworks/Python.framework/Versions/3.11/lib/python3.11/site-packages/sklearn/ensemble/_forest.py:427: FutureWarning: `max_features='auto'` has been deprecated in 1.1 and will be removed in 1.3. To keep the past behaviour, explicitly set `max_features='sqrt'` or remove this parameter as it is also the default value for RandomForestClassifiers and ExtraTreesClassifiers.\n",
      "  warn(\n",
      "/Library/Frameworks/Python.framework/Versions/3.11/lib/python3.11/site-packages/sklearn/ensemble/_forest.py:427: FutureWarning: `max_features='auto'` has been deprecated in 1.1 and will be removed in 1.3. To keep the past behaviour, explicitly set `max_features='sqrt'` or remove this parameter as it is also the default value for RandomForestClassifiers and ExtraTreesClassifiers.\n",
      "  warn(\n",
      "/Library/Frameworks/Python.framework/Versions/3.11/lib/python3.11/site-packages/sklearn/ensemble/_forest.py:427: FutureWarning: `max_features='auto'` has been deprecated in 1.1 and will be removed in 1.3. To keep the past behaviour, explicitly set `max_features='sqrt'` or remove this parameter as it is also the default value for RandomForestClassifiers and ExtraTreesClassifiers.\n",
      "  warn(\n"
     ]
    },
    {
     "name": "stdout",
     "output_type": "stream",
     "text": [
      "[CV] END criterion=gini, max_depth=600, max_features=auto, min_samples_leaf=3, min_samples_split=10, n_estimators=1000; total time=  11.6s\n",
      "[CV] END criterion=gini, max_depth=600, max_features=auto, min_samples_leaf=3, min_samples_split=10, n_estimators=1000; total time=  11.7s\n",
      "[CV] END criterion=gini, max_depth=600, max_features=auto, min_samples_leaf=3, min_samples_split=10, n_estimators=1000; total time=  11.8s\n"
     ]
    },
    {
     "name": "stderr",
     "output_type": "stream",
     "text": [
      "/Library/Frameworks/Python.framework/Versions/3.11/lib/python3.11/site-packages/sklearn/ensemble/_forest.py:427: FutureWarning: `max_features='auto'` has been deprecated in 1.1 and will be removed in 1.3. To keep the past behaviour, explicitly set `max_features='sqrt'` or remove this parameter as it is also the default value for RandomForestClassifiers and ExtraTreesClassifiers.\n",
      "  warn(\n",
      "/Library/Frameworks/Python.framework/Versions/3.11/lib/python3.11/site-packages/sklearn/ensemble/_forest.py:427: FutureWarning: `max_features='auto'` has been deprecated in 1.1 and will be removed in 1.3. To keep the past behaviour, explicitly set `max_features='sqrt'` or remove this parameter as it is also the default value for RandomForestClassifiers and ExtraTreesClassifiers.\n",
      "  warn(\n",
      "/Library/Frameworks/Python.framework/Versions/3.11/lib/python3.11/site-packages/sklearn/ensemble/_forest.py:427: FutureWarning: `max_features='auto'` has been deprecated in 1.1 and will be removed in 1.3. To keep the past behaviour, explicitly set `max_features='sqrt'` or remove this parameter as it is also the default value for RandomForestClassifiers and ExtraTreesClassifiers.\n",
      "  warn(\n"
     ]
    },
    {
     "name": "stdout",
     "output_type": "stream",
     "text": [
      "[CV] END criterion=entrpoy, max_depth=900, max_features=auto, min_samples_leaf=5, min_samples_split=10, n_estimators=300; total time=   1.0s\n",
      "[CV] END criterion=entrpoy, max_depth=900, max_features=auto, min_samples_leaf=5, min_samples_split=10, n_estimators=300; total time=   1.1s\n",
      "[CV] END criterion=entrpoy, max_depth=900, max_features=auto, min_samples_leaf=5, min_samples_split=10, n_estimators=300; total time=   1.1s\n"
     ]
    },
    {
     "name": "stderr",
     "output_type": "stream",
     "text": [
      "/Library/Frameworks/Python.framework/Versions/3.11/lib/python3.11/site-packages/sklearn/ensemble/_forest.py:427: FutureWarning: `max_features='auto'` has been deprecated in 1.1 and will be removed in 1.3. To keep the past behaviour, explicitly set `max_features='sqrt'` or remove this parameter as it is also the default value for RandomForestClassifiers and ExtraTreesClassifiers.\n",
      "  warn(\n",
      "/Library/Frameworks/Python.framework/Versions/3.11/lib/python3.11/site-packages/sklearn/ensemble/_forest.py:427: FutureWarning: `max_features='auto'` has been deprecated in 1.1 and will be removed in 1.3. To keep the past behaviour, explicitly set `max_features='sqrt'` or remove this parameter as it is also the default value for RandomForestClassifiers and ExtraTreesClassifiers.\n",
      "  warn(\n",
      "/Library/Frameworks/Python.framework/Versions/3.11/lib/python3.11/site-packages/sklearn/ensemble/_forest.py:427: FutureWarning: `max_features='auto'` has been deprecated in 1.1 and will be removed in 1.3. To keep the past behaviour, explicitly set `max_features='sqrt'` or remove this parameter as it is also the default value for RandomForestClassifiers and ExtraTreesClassifiers.\n",
      "  warn(\n"
     ]
    },
    {
     "name": "stdout",
     "output_type": "stream",
     "text": [
      "[CV] END criterion=entrpoy, max_depth=900, max_features=auto, min_samples_leaf=5, min_samples_split=10, n_estimators=300; total time=   1.1s\n",
      "[CV] END criterion=gini, max_depth=600, max_features=auto, min_samples_leaf=3, min_samples_split=10, n_estimators=1000; total time=  12.7s\n",
      "[CV] END criterion=gini, max_depth=600, max_features=auto, min_samples_leaf=3, min_samples_split=10, n_estimators=1000; total time=  12.7s\n"
     ]
    },
    {
     "name": "stderr",
     "output_type": "stream",
     "text": [
      "/Library/Frameworks/Python.framework/Versions/3.11/lib/python3.11/site-packages/sklearn/ensemble/_forest.py:427: FutureWarning: `max_features='auto'` has been deprecated in 1.1 and will be removed in 1.3. To keep the past behaviour, explicitly set `max_features='sqrt'` or remove this parameter as it is also the default value for RandomForestClassifiers and ExtraTreesClassifiers.\n",
      "  warn(\n",
      "/Library/Frameworks/Python.framework/Versions/3.11/lib/python3.11/site-packages/sklearn/ensemble/_forest.py:427: FutureWarning: `max_features='auto'` has been deprecated in 1.1 and will be removed in 1.3. To keep the past behaviour, explicitly set `max_features='sqrt'` or remove this parameter as it is also the default value for RandomForestClassifiers and ExtraTreesClassifiers.\n",
      "  warn(\n"
     ]
    },
    {
     "name": "stdout",
     "output_type": "stream",
     "text": [
      "[CV] END criterion=entrpoy, max_depth=700, max_features=auto, min_samples_leaf=6, min_samples_split=5, n_estimators=1000; total time=   4.0s\n",
      "[CV] END criterion=entrpoy, max_depth=700, max_features=auto, min_samples_leaf=6, min_samples_split=5, n_estimators=1000; total time=   4.0s\n",
      "[CV] END criterion=entrpoy, max_depth=700, max_features=auto, min_samples_leaf=6, min_samples_split=5, n_estimators=1000; total time=   4.0s\n"
     ]
    },
    {
     "name": "stderr",
     "output_type": "stream",
     "text": [
      "/Library/Frameworks/Python.framework/Versions/3.11/lib/python3.11/site-packages/sklearn/ensemble/_forest.py:427: FutureWarning: `max_features='auto'` has been deprecated in 1.1 and will be removed in 1.3. To keep the past behaviour, explicitly set `max_features='sqrt'` or remove this parameter as it is also the default value for RandomForestClassifiers and ExtraTreesClassifiers.\n",
      "  warn(\n",
      "/Library/Frameworks/Python.framework/Versions/3.11/lib/python3.11/site-packages/sklearn/ensemble/_forest.py:427: FutureWarning: `max_features='auto'` has been deprecated in 1.1 and will be removed in 1.3. To keep the past behaviour, explicitly set `max_features='sqrt'` or remove this parameter as it is also the default value for RandomForestClassifiers and ExtraTreesClassifiers.\n",
      "  warn(\n",
      "/Library/Frameworks/Python.framework/Versions/3.11/lib/python3.11/site-packages/sklearn/ensemble/_forest.py:427: FutureWarning: `max_features='auto'` has been deprecated in 1.1 and will be removed in 1.3. To keep the past behaviour, explicitly set `max_features='sqrt'` or remove this parameter as it is also the default value for RandomForestClassifiers and ExtraTreesClassifiers.\n",
      "  warn(\n"
     ]
    },
    {
     "name": "stdout",
     "output_type": "stream",
     "text": [
      "[CV] END criterion=entrpoy, max_depth=200, max_features=auto, min_samples_leaf=7, min_samples_split=1, n_estimators=900; total time=   3.5s\n",
      "[CV] END criterion=entrpoy, max_depth=700, max_features=auto, min_samples_leaf=6, min_samples_split=5, n_estimators=1000; total time=   3.9s\n",
      "[CV] END criterion=entrpoy, max_depth=700, max_features=auto, min_samples_leaf=6, min_samples_split=5, n_estimators=1000; total time=   3.8s\n"
     ]
    },
    {
     "name": "stderr",
     "output_type": "stream",
     "text": [
      "/Library/Frameworks/Python.framework/Versions/3.11/lib/python3.11/site-packages/sklearn/ensemble/_forest.py:427: FutureWarning: `max_features='auto'` has been deprecated in 1.1 and will be removed in 1.3. To keep the past behaviour, explicitly set `max_features='sqrt'` or remove this parameter as it is also the default value for RandomForestClassifiers and ExtraTreesClassifiers.\n",
      "  warn(\n",
      "/Library/Frameworks/Python.framework/Versions/3.11/lib/python3.11/site-packages/sklearn/ensemble/_forest.py:427: FutureWarning: `max_features='auto'` has been deprecated in 1.1 and will be removed in 1.3. To keep the past behaviour, explicitly set `max_features='sqrt'` or remove this parameter as it is also the default value for RandomForestClassifiers and ExtraTreesClassifiers.\n",
      "  warn(\n",
      "/Library/Frameworks/Python.framework/Versions/3.11/lib/python3.11/site-packages/sklearn/ensemble/_forest.py:427: FutureWarning: `max_features='auto'` has been deprecated in 1.1 and will be removed in 1.3. To keep the past behaviour, explicitly set `max_features='sqrt'` or remove this parameter as it is also the default value for RandomForestClassifiers and ExtraTreesClassifiers.\n",
      "  warn(\n"
     ]
    },
    {
     "name": "stdout",
     "output_type": "stream",
     "text": [
      "[CV] END criterion=entrpoy, max_depth=200, max_features=auto, min_samples_leaf=7, min_samples_split=1, n_estimators=900; total time=   3.2s\n",
      "[CV] END criterion=entrpoy, max_depth=200, max_features=auto, min_samples_leaf=7, min_samples_split=1, n_estimators=900; total time=   3.2s\n"
     ]
    },
    {
     "name": "stderr",
     "output_type": "stream",
     "text": [
      "/Library/Frameworks/Python.framework/Versions/3.11/lib/python3.11/site-packages/sklearn/ensemble/_forest.py:427: FutureWarning: `max_features='auto'` has been deprecated in 1.1 and will be removed in 1.3. To keep the past behaviour, explicitly set `max_features='sqrt'` or remove this parameter as it is also the default value for RandomForestClassifiers and ExtraTreesClassifiers.\n",
      "  warn(\n"
     ]
    },
    {
     "name": "stdout",
     "output_type": "stream",
     "text": [
      "[CV] END criterion=entrpoy, max_depth=200, max_features=auto, min_samples_leaf=7, min_samples_split=1, n_estimators=900; total time=   3.0s\n",
      "[CV] END criterion=entrpoy, max_depth=200, max_features=auto, min_samples_leaf=7, min_samples_split=1, n_estimators=900; total time=   3.0s\n",
      "[CV] END criterion=gini, max_depth=900, max_features=auto, min_samples_leaf=3, min_samples_split=15, n_estimators=700; total time=   7.2s\n",
      "[CV] END criterion=gini, max_depth=900, max_features=auto, min_samples_leaf=3, min_samples_split=15, n_estimators=700; total time=   6.8s\n",
      "[CV] END criterion=gini, max_depth=900, max_features=auto, min_samples_leaf=3, min_samples_split=15, n_estimators=700; total time=   6.9s\n",
      "[CV] END criterion=gini, max_depth=900, max_features=auto, min_samples_leaf=3, min_samples_split=15, n_estimators=700; total time=   7.0s\n",
      "[CV] END criterion=gini, max_depth=800, max_features=sqrt, min_samples_leaf=7, min_samples_split=5, n_estimators=700; total time=   6.3s\n",
      "[CV] END criterion=gini, max_depth=900, max_features=auto, min_samples_leaf=3, min_samples_split=15, n_estimators=700; total time=   6.6s\n",
      "[CV] END criterion=entrpoy, max_depth=400, max_features=log2, min_samples_leaf=3, min_samples_split=5, n_estimators=500; total time=   1.2s\n",
      "[CV] END criterion=entrpoy, max_depth=400, max_features=log2, min_samples_leaf=3, min_samples_split=5, n_estimators=500; total time=   1.2s\n",
      "[CV] END criterion=gini, max_depth=800, max_features=sqrt, min_samples_leaf=7, min_samples_split=5, n_estimators=700; total time=   6.3s\n",
      "[CV] END criterion=gini, max_depth=800, max_features=sqrt, min_samples_leaf=7, min_samples_split=5, n_estimators=700; total time=   6.4s\n",
      "[CV] END criterion=entrpoy, max_depth=400, max_features=log2, min_samples_leaf=3, min_samples_split=5, n_estimators=500; total time=   1.3s\n",
      "[CV] END criterion=entrpoy, max_depth=400, max_features=log2, min_samples_leaf=3, min_samples_split=5, n_estimators=500; total time=   1.4s\n",
      "[CV] END criterion=entrpoy, max_depth=400, max_features=log2, min_samples_leaf=3, min_samples_split=5, n_estimators=500; total time=   1.6s\n",
      "[CV] END criterion=gini, max_depth=300, max_features=sqrt, min_samples_leaf=6, min_samples_split=1, n_estimators=700; total time=   2.1s\n",
      "[CV] END criterion=gini, max_depth=300, max_features=sqrt, min_samples_leaf=6, min_samples_split=1, n_estimators=700; total time=   2.1s\n",
      "[CV] END criterion=gini, max_depth=300, max_features=sqrt, min_samples_leaf=6, min_samples_split=1, n_estimators=700; total time=   2.1s\n",
      "[CV] END criterion=gini, max_depth=300, max_features=sqrt, min_samples_leaf=6, min_samples_split=1, n_estimators=700; total time=   2.1s\n",
      "[CV] END criterion=gini, max_depth=300, max_features=sqrt, min_samples_leaf=6, min_samples_split=1, n_estimators=700; total time=   2.0s\n"
     ]
    },
    {
     "name": "stderr",
     "output_type": "stream",
     "text": [
      "/Library/Frameworks/Python.framework/Versions/3.11/lib/python3.11/site-packages/sklearn/ensemble/_forest.py:427: FutureWarning: `max_features='auto'` has been deprecated in 1.1 and will be removed in 1.3. To keep the past behaviour, explicitly set `max_features='sqrt'` or remove this parameter as it is also the default value for RandomForestClassifiers and ExtraTreesClassifiers.\n",
      "  warn(\n"
     ]
    },
    {
     "name": "stdout",
     "output_type": "stream",
     "text": [
      "[CV] END criterion=entrpoy, max_depth=400, max_features=sqrt, min_samples_leaf=7, min_samples_split=5, n_estimators=800; total time=   2.4s\n"
     ]
    },
    {
     "name": "stderr",
     "output_type": "stream",
     "text": [
      "/Library/Frameworks/Python.framework/Versions/3.11/lib/python3.11/site-packages/sklearn/ensemble/_forest.py:427: FutureWarning: `max_features='auto'` has been deprecated in 1.1 and will be removed in 1.3. To keep the past behaviour, explicitly set `max_features='sqrt'` or remove this parameter as it is also the default value for RandomForestClassifiers and ExtraTreesClassifiers.\n",
      "  warn(\n"
     ]
    },
    {
     "name": "stdout",
     "output_type": "stream",
     "text": [
      "[CV] END criterion=entrpoy, max_depth=400, max_features=sqrt, min_samples_leaf=7, min_samples_split=5, n_estimators=800; total time=   2.3s\n"
     ]
    },
    {
     "name": "stderr",
     "output_type": "stream",
     "text": [
      "/Library/Frameworks/Python.framework/Versions/3.11/lib/python3.11/site-packages/sklearn/ensemble/_forest.py:427: FutureWarning: `max_features='auto'` has been deprecated in 1.1 and will be removed in 1.3. To keep the past behaviour, explicitly set `max_features='sqrt'` or remove this parameter as it is also the default value for RandomForestClassifiers and ExtraTreesClassifiers.\n",
      "  warn(\n"
     ]
    },
    {
     "name": "stdout",
     "output_type": "stream",
     "text": [
      "[CV] END criterion=entrpoy, max_depth=400, max_features=sqrt, min_samples_leaf=7, min_samples_split=5, n_estimators=800; total time=   2.2s\n",
      "[CV] END criterion=entrpoy, max_depth=400, max_features=sqrt, min_samples_leaf=7, min_samples_split=5, n_estimators=800; total time=   2.3s\n"
     ]
    },
    {
     "name": "stderr",
     "output_type": "stream",
     "text": [
      "/Library/Frameworks/Python.framework/Versions/3.11/lib/python3.11/site-packages/sklearn/ensemble/_forest.py:427: FutureWarning: `max_features='auto'` has been deprecated in 1.1 and will be removed in 1.3. To keep the past behaviour, explicitly set `max_features='sqrt'` or remove this parameter as it is also the default value for RandomForestClassifiers and ExtraTreesClassifiers.\n",
      "  warn(\n",
      "/Library/Frameworks/Python.framework/Versions/3.11/lib/python3.11/site-packages/sklearn/ensemble/_forest.py:427: FutureWarning: `max_features='auto'` has been deprecated in 1.1 and will be removed in 1.3. To keep the past behaviour, explicitly set `max_features='sqrt'` or remove this parameter as it is also the default value for RandomForestClassifiers and ExtraTreesClassifiers.\n",
      "  warn(\n"
     ]
    },
    {
     "name": "stdout",
     "output_type": "stream",
     "text": [
      "[CV] END criterion=entrpoy, max_depth=400, max_features=sqrt, min_samples_leaf=7, min_samples_split=5, n_estimators=800; total time=   2.3s\n",
      "[CV] END criterion=gini, max_depth=800, max_features=sqrt, min_samples_leaf=7, min_samples_split=5, n_estimators=700; total time=   8.4s\n",
      "[CV] END criterion=gini, max_depth=800, max_features=sqrt, min_samples_leaf=7, min_samples_split=5, n_estimators=700; total time=   8.7s\n",
      "[CV] END criterion=gini, max_depth=500, max_features=auto, min_samples_leaf=2, min_samples_split=5, n_estimators=300; total time=   4.1s\n",
      "[CV] END criterion=gini, max_depth=500, max_features=auto, min_samples_leaf=2, min_samples_split=5, n_estimators=300; total time=   4.0s\n",
      "[CV] END criterion=gini, max_depth=500, max_features=auto, min_samples_leaf=2, min_samples_split=5, n_estimators=300; total time=   3.8s\n"
     ]
    },
    {
     "name": "stderr",
     "output_type": "stream",
     "text": [
      "/Library/Frameworks/Python.framework/Versions/3.11/lib/python3.11/site-packages/sklearn/ensemble/_forest.py:427: FutureWarning: `max_features='auto'` has been deprecated in 1.1 and will be removed in 1.3. To keep the past behaviour, explicitly set `max_features='sqrt'` or remove this parameter as it is also the default value for RandomForestClassifiers and ExtraTreesClassifiers.\n",
      "  warn(\n"
     ]
    },
    {
     "name": "stdout",
     "output_type": "stream",
     "text": [
      "[CV] END criterion=gini, max_depth=500, max_features=auto, min_samples_leaf=2, min_samples_split=5, n_estimators=300; total time=   4.0s\n",
      "[CV] END criterion=gini, max_depth=500, max_features=auto, min_samples_leaf=2, min_samples_split=5, n_estimators=300; total time=   4.0s\n"
     ]
    },
    {
     "name": "stderr",
     "output_type": "stream",
     "text": [
      "/Library/Frameworks/Python.framework/Versions/3.11/lib/python3.11/site-packages/sklearn/ensemble/_forest.py:427: FutureWarning: `max_features='auto'` has been deprecated in 1.1 and will be removed in 1.3. To keep the past behaviour, explicitly set `max_features='sqrt'` or remove this parameter as it is also the default value for RandomForestClassifiers and ExtraTreesClassifiers.\n",
      "  warn(\n",
      "/Library/Frameworks/Python.framework/Versions/3.11/lib/python3.11/site-packages/sklearn/ensemble/_forest.py:427: FutureWarning: `max_features='auto'` has been deprecated in 1.1 and will be removed in 1.3. To keep the past behaviour, explicitly set `max_features='sqrt'` or remove this parameter as it is also the default value for RandomForestClassifiers and ExtraTreesClassifiers.\n",
      "  warn(\n"
     ]
    },
    {
     "name": "stdout",
     "output_type": "stream",
     "text": [
      "[CV] END criterion=gini, max_depth=100, max_features=sqrt, min_samples_leaf=2, min_samples_split=15, n_estimators=300; total time=   3.8s\n"
     ]
    },
    {
     "name": "stderr",
     "output_type": "stream",
     "text": [
      "/Library/Frameworks/Python.framework/Versions/3.11/lib/python3.11/site-packages/sklearn/ensemble/_forest.py:427: FutureWarning: `max_features='auto'` has been deprecated in 1.1 and will be removed in 1.3. To keep the past behaviour, explicitly set `max_features='sqrt'` or remove this parameter as it is also the default value for RandomForestClassifiers and ExtraTreesClassifiers.\n",
      "  warn(\n"
     ]
    },
    {
     "name": "stdout",
     "output_type": "stream",
     "text": [
      "[CV] END criterion=gini, max_depth=100, max_features=sqrt, min_samples_leaf=2, min_samples_split=15, n_estimators=300; total time=   3.6s\n",
      "[CV] END criterion=gini, max_depth=100, max_features=sqrt, min_samples_leaf=2, min_samples_split=15, n_estimators=300; total time=   3.7s\n"
     ]
    },
    {
     "name": "stderr",
     "output_type": "stream",
     "text": [
      "/Library/Frameworks/Python.framework/Versions/3.11/lib/python3.11/site-packages/sklearn/ensemble/_forest.py:427: FutureWarning: `max_features='auto'` has been deprecated in 1.1 and will be removed in 1.3. To keep the past behaviour, explicitly set `max_features='sqrt'` or remove this parameter as it is also the default value for RandomForestClassifiers and ExtraTreesClassifiers.\n",
      "  warn(\n"
     ]
    },
    {
     "name": "stdout",
     "output_type": "stream",
     "text": [
      "[CV] END criterion=gini, max_depth=100, max_features=sqrt, min_samples_leaf=2, min_samples_split=15, n_estimators=300; total time=   3.7s\n",
      "[CV] END criterion=gini, max_depth=100, max_features=sqrt, min_samples_leaf=2, min_samples_split=15, n_estimators=300; total time=   3.8s\n",
      "[CV] END criterion=gini, max_depth=700, max_features=auto, min_samples_leaf=2, min_samples_split=10, n_estimators=700; total time=   8.2s\n",
      "[CV] END criterion=gini, max_depth=700, max_features=auto, min_samples_leaf=2, min_samples_split=10, n_estimators=700; total time=   7.9s\n",
      "[CV] END criterion=gini, max_depth=700, max_features=auto, min_samples_leaf=2, min_samples_split=10, n_estimators=700; total time=   7.9s\n",
      "[CV] END criterion=gini, max_depth=700, max_features=auto, min_samples_leaf=2, min_samples_split=10, n_estimators=700; total time=   7.8s\n",
      "[CV] END criterion=gini, max_depth=700, max_features=auto, min_samples_leaf=2, min_samples_split=10, n_estimators=700; total time=   7.1s\n",
      "[CV] END criterion=entrpoy, max_depth=100, max_features=log2, min_samples_leaf=3, min_samples_split=5, n_estimators=800; total time=   1.5s\n",
      "[CV] END criterion=entrpoy, max_depth=100, max_features=log2, min_samples_leaf=3, min_samples_split=5, n_estimators=800; total time=   1.5s\n",
      "[CV] END criterion=gini, max_depth=500, max_features=sqrt, min_samples_leaf=7, min_samples_split=15, n_estimators=800; total time=   7.7s\n"
     ]
    },
    {
     "name": "stderr",
     "output_type": "stream",
     "text": [
      "/Library/Frameworks/Python.framework/Versions/3.11/lib/python3.11/site-packages/sklearn/ensemble/_forest.py:427: FutureWarning: `max_features='auto'` has been deprecated in 1.1 and will be removed in 1.3. To keep the past behaviour, explicitly set `max_features='sqrt'` or remove this parameter as it is also the default value for RandomForestClassifiers and ExtraTreesClassifiers.\n",
      "  warn(\n",
      "/Library/Frameworks/Python.framework/Versions/3.11/lib/python3.11/site-packages/sklearn/ensemble/_forest.py:427: FutureWarning: `max_features='auto'` has been deprecated in 1.1 and will be removed in 1.3. To keep the past behaviour, explicitly set `max_features='sqrt'` or remove this parameter as it is also the default value for RandomForestClassifiers and ExtraTreesClassifiers.\n",
      "  warn(\n"
     ]
    },
    {
     "name": "stdout",
     "output_type": "stream",
     "text": [
      "[CV] END criterion=gini, max_depth=500, max_features=sqrt, min_samples_leaf=7, min_samples_split=15, n_estimators=800; total time=   7.5s\n",
      "[CV] END criterion=gini, max_depth=500, max_features=sqrt, min_samples_leaf=7, min_samples_split=15, n_estimators=800; total time=   7.8s\n"
     ]
    },
    {
     "name": "stderr",
     "output_type": "stream",
     "text": [
      "/Library/Frameworks/Python.framework/Versions/3.11/lib/python3.11/site-packages/sklearn/ensemble/_forest.py:427: FutureWarning: `max_features='auto'` has been deprecated in 1.1 and will be removed in 1.3. To keep the past behaviour, explicitly set `max_features='sqrt'` or remove this parameter as it is also the default value for RandomForestClassifiers and ExtraTreesClassifiers.\n",
      "  warn(\n"
     ]
    },
    {
     "name": "stdout",
     "output_type": "stream",
     "text": [
      "[CV] END criterion=entrpoy, max_depth=100, max_features=log2, min_samples_leaf=3, min_samples_split=5, n_estimators=800; total time=   2.2s\n",
      "[CV] END criterion=gini, max_depth=900, max_features=auto, min_samples_leaf=3, min_samples_split=1, n_estimators=400; total time=   1.6s\n",
      "[CV] END criterion=gini, max_depth=900, max_features=auto, min_samples_leaf=3, min_samples_split=1, n_estimators=400; total time=   1.6s\n"
     ]
    },
    {
     "name": "stderr",
     "output_type": "stream",
     "text": [
      "/Library/Frameworks/Python.framework/Versions/3.11/lib/python3.11/site-packages/sklearn/ensemble/_forest.py:427: FutureWarning: `max_features='auto'` has been deprecated in 1.1 and will be removed in 1.3. To keep the past behaviour, explicitly set `max_features='sqrt'` or remove this parameter as it is also the default value for RandomForestClassifiers and ExtraTreesClassifiers.\n",
      "  warn(\n",
      "/Library/Frameworks/Python.framework/Versions/3.11/lib/python3.11/site-packages/sklearn/ensemble/_forest.py:427: FutureWarning: `max_features='auto'` has been deprecated in 1.1 and will be removed in 1.3. To keep the past behaviour, explicitly set `max_features='sqrt'` or remove this parameter as it is also the default value for RandomForestClassifiers and ExtraTreesClassifiers.\n",
      "  warn(\n"
     ]
    },
    {
     "name": "stdout",
     "output_type": "stream",
     "text": [
      "[CV] END criterion=entrpoy, max_depth=100, max_features=log2, min_samples_leaf=3, min_samples_split=5, n_estimators=800; total time=   2.3s\n",
      "[CV] END criterion=gini, max_depth=900, max_features=auto, min_samples_leaf=3, min_samples_split=1, n_estimators=400; total time=   1.4s\n",
      "[CV] END criterion=entrpoy, max_depth=100, max_features=log2, min_samples_leaf=3, min_samples_split=5, n_estimators=800; total time=   2.3s\n",
      "[CV] END criterion=gini, max_depth=900, max_features=auto, min_samples_leaf=3, min_samples_split=1, n_estimators=400; total time=   1.2s\n",
      "[CV] END criterion=gini, max_depth=900, max_features=auto, min_samples_leaf=3, min_samples_split=1, n_estimators=400; total time=   1.3s\n",
      "[CV] END criterion=gini, max_depth=500, max_features=sqrt, min_samples_leaf=2, min_samples_split=1, n_estimators=600; total time=   1.3s\n",
      "[CV] END criterion=gini, max_depth=500, max_features=sqrt, min_samples_leaf=2, min_samples_split=1, n_estimators=600; total time=   1.5s\n",
      "[CV] END criterion=gini, max_depth=500, max_features=sqrt, min_samples_leaf=7, min_samples_split=15, n_estimators=800; total time=   8.0s\n",
      "[CV] END criterion=gini, max_depth=500, max_features=sqrt, min_samples_leaf=7, min_samples_split=15, n_estimators=800; total time=   8.0s\n",
      "[CV] END criterion=gini, max_depth=500, max_features=sqrt, min_samples_leaf=2, min_samples_split=1, n_estimators=600; total time=   1.5s\n"
     ]
    },
    {
     "name": "stderr",
     "output_type": "stream",
     "text": [
      "/Library/Frameworks/Python.framework/Versions/3.11/lib/python3.11/site-packages/sklearn/ensemble/_forest.py:427: FutureWarning: `max_features='auto'` has been deprecated in 1.1 and will be removed in 1.3. To keep the past behaviour, explicitly set `max_features='sqrt'` or remove this parameter as it is also the default value for RandomForestClassifiers and ExtraTreesClassifiers.\n",
      "  warn(\n",
      "/Library/Frameworks/Python.framework/Versions/3.11/lib/python3.11/site-packages/sklearn/ensemble/_forest.py:427: FutureWarning: `max_features='auto'` has been deprecated in 1.1 and will be removed in 1.3. To keep the past behaviour, explicitly set `max_features='sqrt'` or remove this parameter as it is also the default value for RandomForestClassifiers and ExtraTreesClassifiers.\n",
      "  warn(\n"
     ]
    },
    {
     "name": "stdout",
     "output_type": "stream",
     "text": [
      "[CV] END criterion=gini, max_depth=500, max_features=sqrt, min_samples_leaf=2, min_samples_split=1, n_estimators=600; total time=   1.4s\n",
      "[CV] END criterion=gini, max_depth=500, max_features=sqrt, min_samples_leaf=2, min_samples_split=1, n_estimators=600; total time=   1.4s\n"
     ]
    },
    {
     "name": "stderr",
     "output_type": "stream",
     "text": [
      "/Library/Frameworks/Python.framework/Versions/3.11/lib/python3.11/site-packages/sklearn/ensemble/_forest.py:427: FutureWarning: `max_features='auto'` has been deprecated in 1.1 and will be removed in 1.3. To keep the past behaviour, explicitly set `max_features='sqrt'` or remove this parameter as it is also the default value for RandomForestClassifiers and ExtraTreesClassifiers.\n",
      "  warn(\n"
     ]
    },
    {
     "name": "stdout",
     "output_type": "stream",
     "text": [
      "[CV] END criterion=gini, max_depth=500, max_features=log2, min_samples_leaf=3, min_samples_split=10, n_estimators=700; total time=   7.2s\n",
      "[CV] END criterion=entrpoy, max_depth=400, max_features=auto, min_samples_leaf=3, min_samples_split=1, n_estimators=600; total time=   1.7s\n"
     ]
    },
    {
     "name": "stderr",
     "output_type": "stream",
     "text": [
      "/Library/Frameworks/Python.framework/Versions/3.11/lib/python3.11/site-packages/sklearn/ensemble/_forest.py:427: FutureWarning: `max_features='auto'` has been deprecated in 1.1 and will be removed in 1.3. To keep the past behaviour, explicitly set `max_features='sqrt'` or remove this parameter as it is also the default value for RandomForestClassifiers and ExtraTreesClassifiers.\n",
      "  warn(\n",
      "/Library/Frameworks/Python.framework/Versions/3.11/lib/python3.11/site-packages/sklearn/ensemble/_forest.py:427: FutureWarning: `max_features='auto'` has been deprecated in 1.1 and will be removed in 1.3. To keep the past behaviour, explicitly set `max_features='sqrt'` or remove this parameter as it is also the default value for RandomForestClassifiers and ExtraTreesClassifiers.\n",
      "  warn(\n"
     ]
    },
    {
     "name": "stdout",
     "output_type": "stream",
     "text": [
      "[CV] END criterion=entrpoy, max_depth=400, max_features=auto, min_samples_leaf=3, min_samples_split=1, n_estimators=600; total time=   1.6s\n",
      "[CV] END criterion=gini, max_depth=500, max_features=log2, min_samples_leaf=3, min_samples_split=10, n_estimators=700; total time=   7.1s\n",
      "[CV] END criterion=entrpoy, max_depth=400, max_features=auto, min_samples_leaf=3, min_samples_split=1, n_estimators=600; total time=   1.6s\n",
      "[CV] END criterion=gini, max_depth=500, max_features=log2, min_samples_leaf=3, min_samples_split=10, n_estimators=700; total time=   7.1s\n",
      "[CV] END criterion=gini, max_depth=500, max_features=log2, min_samples_leaf=3, min_samples_split=10, n_estimators=700; total time=   7.1s\n",
      "[CV] END criterion=gini, max_depth=500, max_features=log2, min_samples_leaf=3, min_samples_split=10, n_estimators=700; total time=   7.0s\n",
      "[CV] END criterion=entrpoy, max_depth=400, max_features=auto, min_samples_leaf=3, min_samples_split=1, n_estimators=600; total time=   1.5s\n",
      "[CV] END criterion=entrpoy, max_depth=400, max_features=auto, min_samples_leaf=3, min_samples_split=1, n_estimators=600; total time=   1.5s\n",
      "[CV] END criterion=gini, max_depth=200, max_features=sqrt, min_samples_leaf=5, min_samples_split=15, n_estimators=500; total time=   4.4s\n",
      "[CV] END criterion=gini, max_depth=200, max_features=sqrt, min_samples_leaf=5, min_samples_split=15, n_estimators=500; total time=   4.4s\n",
      "[CV] END criterion=gini, max_depth=200, max_features=sqrt, min_samples_leaf=5, min_samples_split=15, n_estimators=500; total time=   4.3s\n",
      "[CV] END criterion=gini, max_depth=200, max_features=sqrt, min_samples_leaf=5, min_samples_split=15, n_estimators=500; total time=   4.4s\n",
      "[CV] END criterion=gini, max_depth=200, max_features=sqrt, min_samples_leaf=5, min_samples_split=15, n_estimators=500; total time=   4.4s\n",
      "[CV] END criterion=gini, max_depth=500, max_features=log2, min_samples_leaf=3, min_samples_split=1, n_estimators=600; total time=   1.6s\n",
      "[CV] END criterion=gini, max_depth=500, max_features=log2, min_samples_leaf=3, min_samples_split=1, n_estimators=600; total time=   1.6s\n",
      "[CV] END criterion=gini, max_depth=500, max_features=log2, min_samples_leaf=3, min_samples_split=1, n_estimators=600; total time=   1.6s\n"
     ]
    },
    {
     "name": "stderr",
     "output_type": "stream",
     "text": [
      "/Library/Frameworks/Python.framework/Versions/3.11/lib/python3.11/site-packages/sklearn/ensemble/_forest.py:427: FutureWarning: `max_features='auto'` has been deprecated in 1.1 and will be removed in 1.3. To keep the past behaviour, explicitly set `max_features='sqrt'` or remove this parameter as it is also the default value for RandomForestClassifiers and ExtraTreesClassifiers.\n",
      "  warn(\n"
     ]
    },
    {
     "name": "stdout",
     "output_type": "stream",
     "text": [
      "[CV] END criterion=entrpoy, max_depth=400, max_features=auto, min_samples_leaf=6, min_samples_split=15, n_estimators=300; total time=   0.8s\n"
     ]
    },
    {
     "name": "stderr",
     "output_type": "stream",
     "text": [
      "/Library/Frameworks/Python.framework/Versions/3.11/lib/python3.11/site-packages/sklearn/ensemble/_forest.py:427: FutureWarning: `max_features='auto'` has been deprecated in 1.1 and will be removed in 1.3. To keep the past behaviour, explicitly set `max_features='sqrt'` or remove this parameter as it is also the default value for RandomForestClassifiers and ExtraTreesClassifiers.\n",
      "  warn(\n"
     ]
    },
    {
     "name": "stdout",
     "output_type": "stream",
     "text": [
      "[CV] END criterion=gini, max_depth=500, max_features=log2, min_samples_leaf=3, min_samples_split=1, n_estimators=600; total time=   1.5s\n",
      "[CV] END criterion=gini, max_depth=500, max_features=log2, min_samples_leaf=3, min_samples_split=1, n_estimators=600; total time=   1.5s\n"
     ]
    },
    {
     "name": "stderr",
     "output_type": "stream",
     "text": [
      "/Library/Frameworks/Python.framework/Versions/3.11/lib/python3.11/site-packages/sklearn/ensemble/_forest.py:427: FutureWarning: `max_features='auto'` has been deprecated in 1.1 and will be removed in 1.3. To keep the past behaviour, explicitly set `max_features='sqrt'` or remove this parameter as it is also the default value for RandomForestClassifiers and ExtraTreesClassifiers.\n",
      "  warn(\n",
      "/Library/Frameworks/Python.framework/Versions/3.11/lib/python3.11/site-packages/sklearn/ensemble/_forest.py:427: FutureWarning: `max_features='auto'` has been deprecated in 1.1 and will be removed in 1.3. To keep the past behaviour, explicitly set `max_features='sqrt'` or remove this parameter as it is also the default value for RandomForestClassifiers and ExtraTreesClassifiers.\n",
      "  warn(\n"
     ]
    },
    {
     "name": "stdout",
     "output_type": "stream",
     "text": [
      "[CV] END criterion=entrpoy, max_depth=400, max_features=auto, min_samples_leaf=6, min_samples_split=15, n_estimators=300; total time=   1.1s\n"
     ]
    },
    {
     "name": "stderr",
     "output_type": "stream",
     "text": [
      "/Library/Frameworks/Python.framework/Versions/3.11/lib/python3.11/site-packages/sklearn/ensemble/_forest.py:427: FutureWarning: `max_features='auto'` has been deprecated in 1.1 and will be removed in 1.3. To keep the past behaviour, explicitly set `max_features='sqrt'` or remove this parameter as it is also the default value for RandomForestClassifiers and ExtraTreesClassifiers.\n",
      "  warn(\n"
     ]
    },
    {
     "name": "stdout",
     "output_type": "stream",
     "text": [
      "[CV] END criterion=entrpoy, max_depth=400, max_features=auto, min_samples_leaf=6, min_samples_split=15, n_estimators=300; total time=   0.9s\n",
      "[CV] END criterion=entrpoy, max_depth=400, max_features=auto, min_samples_leaf=6, min_samples_split=15, n_estimators=300; total time=   0.8s\n"
     ]
    },
    {
     "name": "stderr",
     "output_type": "stream",
     "text": [
      "/Library/Frameworks/Python.framework/Versions/3.11/lib/python3.11/site-packages/sklearn/ensemble/_forest.py:427: FutureWarning: `max_features='auto'` has been deprecated in 1.1 and will be removed in 1.3. To keep the past behaviour, explicitly set `max_features='sqrt'` or remove this parameter as it is also the default value for RandomForestClassifiers and ExtraTreesClassifiers.\n",
      "  warn(\n",
      "/Library/Frameworks/Python.framework/Versions/3.11/lib/python3.11/site-packages/sklearn/ensemble/_forest.py:427: FutureWarning: `max_features='auto'` has been deprecated in 1.1 and will be removed in 1.3. To keep the past behaviour, explicitly set `max_features='sqrt'` or remove this parameter as it is also the default value for RandomForestClassifiers and ExtraTreesClassifiers.\n",
      "  warn(\n"
     ]
    },
    {
     "name": "stdout",
     "output_type": "stream",
     "text": [
      "[CV] END criterion=entrpoy, max_depth=400, max_features=auto, min_samples_leaf=6, min_samples_split=15, n_estimators=300; total time=   0.7s\n"
     ]
    },
    {
     "name": "stderr",
     "output_type": "stream",
     "text": [
      "/Library/Frameworks/Python.framework/Versions/3.11/lib/python3.11/site-packages/sklearn/ensemble/_forest.py:427: FutureWarning: `max_features='auto'` has been deprecated in 1.1 and will be removed in 1.3. To keep the past behaviour, explicitly set `max_features='sqrt'` or remove this parameter as it is also the default value for RandomForestClassifiers and ExtraTreesClassifiers.\n",
      "  warn(\n"
     ]
    },
    {
     "name": "stdout",
     "output_type": "stream",
     "text": [
      "[CV] END criterion=gini, max_depth=300, max_features=auto, min_samples_leaf=7, min_samples_split=1, n_estimators=300; total time=   0.6s\n",
      "[CV] END criterion=gini, max_depth=300, max_features=auto, min_samples_leaf=7, min_samples_split=1, n_estimators=300; total time=   0.6s\n"
     ]
    },
    {
     "name": "stderr",
     "output_type": "stream",
     "text": [
      "/Library/Frameworks/Python.framework/Versions/3.11/lib/python3.11/site-packages/sklearn/ensemble/_forest.py:427: FutureWarning: `max_features='auto'` has been deprecated in 1.1 and will be removed in 1.3. To keep the past behaviour, explicitly set `max_features='sqrt'` or remove this parameter as it is also the default value for RandomForestClassifiers and ExtraTreesClassifiers.\n",
      "  warn(\n",
      "/Library/Frameworks/Python.framework/Versions/3.11/lib/python3.11/site-packages/sklearn/ensemble/_forest.py:427: FutureWarning: `max_features='auto'` has been deprecated in 1.1 and will be removed in 1.3. To keep the past behaviour, explicitly set `max_features='sqrt'` or remove this parameter as it is also the default value for RandomForestClassifiers and ExtraTreesClassifiers.\n",
      "  warn(\n"
     ]
    },
    {
     "name": "stdout",
     "output_type": "stream",
     "text": [
      "[CV] END criterion=gini, max_depth=300, max_features=auto, min_samples_leaf=7, min_samples_split=1, n_estimators=300; total time=   0.7s\n",
      "[CV] END criterion=gini, max_depth=300, max_features=sqrt, min_samples_leaf=6, min_samples_split=5, n_estimators=1000; total time=   9.0s\n",
      "[CV] END criterion=gini, max_depth=300, max_features=auto, min_samples_leaf=7, min_samples_split=1, n_estimators=300; total time=   0.6s\n",
      "[CV] END criterion=gini, max_depth=300, max_features=auto, min_samples_leaf=7, min_samples_split=1, n_estimators=300; total time=   0.7s\n",
      "[CV] END criterion=gini, max_depth=300, max_features=sqrt, min_samples_leaf=6, min_samples_split=5, n_estimators=1000; total time=   9.1s\n",
      "[CV] END criterion=gini, max_depth=300, max_features=sqrt, min_samples_leaf=6, min_samples_split=5, n_estimators=1000; total time=   9.1s\n",
      "[CV] END criterion=entrpoy, max_depth=900, max_features=log2, min_samples_leaf=5, min_samples_split=15, n_estimators=600; total time=   1.0s\n",
      "[CV] END criterion=entrpoy, max_depth=900, max_features=log2, min_samples_leaf=5, min_samples_split=15, n_estimators=600; total time=   1.0s\n",
      "[CV] END criterion=entrpoy, max_depth=900, max_features=log2, min_samples_leaf=5, min_samples_split=15, n_estimators=600; total time=   1.0s\n",
      "[CV] END criterion=entrpoy, max_depth=900, max_features=log2, min_samples_leaf=5, min_samples_split=15, n_estimators=600; total time=   0.9s\n",
      "[CV] END criterion=entrpoy, max_depth=900, max_features=log2, min_samples_leaf=5, min_samples_split=15, n_estimators=600; total time=   0.9s\n",
      "[CV] END criterion=entrpoy, max_depth=300, max_features=sqrt, min_samples_leaf=2, min_samples_split=5, n_estimators=200; total time=   0.3s\n",
      "[CV] END criterion=entrpoy, max_depth=300, max_features=sqrt, min_samples_leaf=2, min_samples_split=5, n_estimators=200; total time=   0.3s\n",
      "[CV] END criterion=entrpoy, max_depth=300, max_features=sqrt, min_samples_leaf=2, min_samples_split=5, n_estimators=200; total time=   0.3s\n",
      "[CV] END criterion=entrpoy, max_depth=300, max_features=sqrt, min_samples_leaf=2, min_samples_split=5, n_estimators=200; total time=   0.3s\n",
      "[CV] END criterion=gini, max_depth=300, max_features=sqrt, min_samples_leaf=6, min_samples_split=5, n_estimators=1000; total time=   8.2s\n"
     ]
    },
    {
     "name": "stderr",
     "output_type": "stream",
     "text": [
      "/Library/Frameworks/Python.framework/Versions/3.11/lib/python3.11/site-packages/sklearn/ensemble/_forest.py:427: FutureWarning: `max_features='auto'` has been deprecated in 1.1 and will be removed in 1.3. To keep the past behaviour, explicitly set `max_features='sqrt'` or remove this parameter as it is also the default value for RandomForestClassifiers and ExtraTreesClassifiers.\n",
      "  warn(\n"
     ]
    },
    {
     "name": "stdout",
     "output_type": "stream",
     "text": [
      "[CV] END criterion=gini, max_depth=300, max_features=sqrt, min_samples_leaf=6, min_samples_split=5, n_estimators=1000; total time=   8.3s\n",
      "[CV] END criterion=entrpoy, max_depth=300, max_features=sqrt, min_samples_leaf=2, min_samples_split=5, n_estimators=200; total time=   0.4s\n"
     ]
    },
    {
     "name": "stderr",
     "output_type": "stream",
     "text": [
      "/Library/Frameworks/Python.framework/Versions/3.11/lib/python3.11/site-packages/sklearn/ensemble/_forest.py:427: FutureWarning: `max_features='auto'` has been deprecated in 1.1 and will be removed in 1.3. To keep the past behaviour, explicitly set `max_features='sqrt'` or remove this parameter as it is also the default value for RandomForestClassifiers and ExtraTreesClassifiers.\n",
      "  warn(\n",
      "/Library/Frameworks/Python.framework/Versions/3.11/lib/python3.11/site-packages/sklearn/ensemble/_forest.py:427: FutureWarning: `max_features='auto'` has been deprecated in 1.1 and will be removed in 1.3. To keep the past behaviour, explicitly set `max_features='sqrt'` or remove this parameter as it is also the default value for RandomForestClassifiers and ExtraTreesClassifiers.\n",
      "  warn(\n"
     ]
    },
    {
     "name": "stdout",
     "output_type": "stream",
     "text": [
      "[CV] END criterion=gini, max_depth=200, max_features=log2, min_samples_leaf=5, min_samples_split=10, n_estimators=400; total time=   2.7s\n",
      "[CV] END criterion=gini, max_depth=200, max_features=log2, min_samples_leaf=5, min_samples_split=10, n_estimators=400; total time=   2.8s\n",
      "[CV] END criterion=gini, max_depth=200, max_features=log2, min_samples_leaf=5, min_samples_split=10, n_estimators=400; total time=   2.7s\n"
     ]
    },
    {
     "name": "stderr",
     "output_type": "stream",
     "text": [
      "/Library/Frameworks/Python.framework/Versions/3.11/lib/python3.11/site-packages/sklearn/ensemble/_forest.py:427: FutureWarning: `max_features='auto'` has been deprecated in 1.1 and will be removed in 1.3. To keep the past behaviour, explicitly set `max_features='sqrt'` or remove this parameter as it is also the default value for RandomForestClassifiers and ExtraTreesClassifiers.\n",
      "  warn(\n",
      "/Library/Frameworks/Python.framework/Versions/3.11/lib/python3.11/site-packages/sklearn/ensemble/_forest.py:427: FutureWarning: `max_features='auto'` has been deprecated in 1.1 and will be removed in 1.3. To keep the past behaviour, explicitly set `max_features='sqrt'` or remove this parameter as it is also the default value for RandomForestClassifiers and ExtraTreesClassifiers.\n",
      "  warn(\n"
     ]
    },
    {
     "name": "stdout",
     "output_type": "stream",
     "text": [
      "[CV] END criterion=gini, max_depth=200, max_features=log2, min_samples_leaf=5, min_samples_split=10, n_estimators=400; total time=   2.7s\n",
      "[CV] END criterion=gini, max_depth=200, max_features=log2, min_samples_leaf=5, min_samples_split=10, n_estimators=400; total time=   2.7s\n",
      "[CV] END criterion=gini, max_depth=600, max_features=auto, min_samples_leaf=6, min_samples_split=1, n_estimators=600; total time=   1.0s\n",
      "[CV] END criterion=gini, max_depth=600, max_features=auto, min_samples_leaf=6, min_samples_split=1, n_estimators=600; total time=   0.9s\n",
      "[CV] END criterion=gini, max_depth=600, max_features=auto, min_samples_leaf=6, min_samples_split=1, n_estimators=600; total time=   0.8s\n",
      "[CV] END criterion=gini, max_depth=600, max_features=auto, min_samples_leaf=6, min_samples_split=1, n_estimators=600; total time=   0.7s\n",
      "[CV] END criterion=gini, max_depth=600, max_features=auto, min_samples_leaf=6, min_samples_split=1, n_estimators=600; total time=   0.7s\n"
     ]
    },
    {
     "name": "stderr",
     "output_type": "stream",
     "text": [
      "/Library/Frameworks/Python.framework/Versions/3.11/lib/python3.11/site-packages/sklearn/model_selection/_validation.py:378: FitFailedWarning: \n",
      "335 fits failed out of a total of 500.\n",
      "The score on these train-test partitions for these parameters will be set to nan.\n",
      "If these failures are not expected, you can try to debug them by setting error_score='raise'.\n",
      "\n",
      "Below are more details about the failures:\n",
      "--------------------------------------------------------------------------------\n",
      "165 fits failed with the following error:\n",
      "Traceback (most recent call last):\n",
      "  File \"/Library/Frameworks/Python.framework/Versions/3.11/lib/python3.11/site-packages/sklearn/model_selection/_validation.py\", line 686, in _fit_and_score\n",
      "    estimator.fit(X_train, y_train, **fit_params)\n",
      "  File \"/Library/Frameworks/Python.framework/Versions/3.11/lib/python3.11/site-packages/sklearn/ensemble/_forest.py\", line 476, in fit\n",
      "    trees = Parallel(\n",
      "            ^^^^^^^^^\n",
      "  File \"/Library/Frameworks/Python.framework/Versions/3.11/lib/python3.11/site-packages/joblib/parallel.py\", line 1085, in __call__\n",
      "    if self.dispatch_one_batch(iterator):\n",
      "       ^^^^^^^^^^^^^^^^^^^^^^^^^^^^^^^^^\n",
      "  File \"/Library/Frameworks/Python.framework/Versions/3.11/lib/python3.11/site-packages/joblib/parallel.py\", line 901, in dispatch_one_batch\n",
      "    self._dispatch(tasks)\n",
      "  File \"/Library/Frameworks/Python.framework/Versions/3.11/lib/python3.11/site-packages/joblib/parallel.py\", line 819, in _dispatch\n",
      "    job = self._backend.apply_async(batch, callback=cb)\n",
      "          ^^^^^^^^^^^^^^^^^^^^^^^^^^^^^^^^^^^^^^^^^^^^^\n",
      "  File \"/Library/Frameworks/Python.framework/Versions/3.11/lib/python3.11/site-packages/joblib/_parallel_backends.py\", line 208, in apply_async\n",
      "    result = ImmediateResult(func)\n",
      "             ^^^^^^^^^^^^^^^^^^^^^\n",
      "  File \"/Library/Frameworks/Python.framework/Versions/3.11/lib/python3.11/site-packages/joblib/_parallel_backends.py\", line 597, in __init__\n",
      "    self.results = batch()\n",
      "                   ^^^^^^^\n",
      "  File \"/Library/Frameworks/Python.framework/Versions/3.11/lib/python3.11/site-packages/joblib/parallel.py\", line 288, in __call__\n",
      "    return [func(*args, **kwargs)\n",
      "           ^^^^^^^^^^^^^^^^^^^^^^\n",
      "  File \"/Library/Frameworks/Python.framework/Versions/3.11/lib/python3.11/site-packages/joblib/parallel.py\", line 288, in <listcomp>\n",
      "    return [func(*args, **kwargs)\n",
      "            ^^^^^^^^^^^^^^^^^^^^^\n",
      "  File \"/Library/Frameworks/Python.framework/Versions/3.11/lib/python3.11/site-packages/sklearn/utils/fixes.py\", line 117, in __call__\n",
      "    return self.function(*args, **kwargs)\n",
      "           ^^^^^^^^^^^^^^^^^^^^^^^^^^^^^^\n",
      "  File \"/Library/Frameworks/Python.framework/Versions/3.11/lib/python3.11/site-packages/sklearn/ensemble/_forest.py\", line 189, in _parallel_build_trees\n",
      "    tree.fit(X, y, sample_weight=curr_sample_weight, check_input=False)\n",
      "  File \"/Library/Frameworks/Python.framework/Versions/3.11/lib/python3.11/site-packages/sklearn/tree/_classes.py\", line 969, in fit\n",
      "    super().fit(\n",
      "  File \"/Library/Frameworks/Python.framework/Versions/3.11/lib/python3.11/site-packages/sklearn/tree/_classes.py\", line 265, in fit\n",
      "    check_scalar(\n",
      "  File \"/Library/Frameworks/Python.framework/Versions/3.11/lib/python3.11/site-packages/sklearn/utils/validation.py\", line 1480, in check_scalar\n",
      "    raise ValueError(\n",
      "ValueError: min_samples_split == 1, must be >= 2.\n",
      "\n",
      "--------------------------------------------------------------------------------\n",
      "170 fits failed with the following error:\n",
      "Traceback (most recent call last):\n",
      "  File \"/Library/Frameworks/Python.framework/Versions/3.11/lib/python3.11/site-packages/sklearn/model_selection/_validation.py\", line 686, in _fit_and_score\n",
      "    estimator.fit(X_train, y_train, **fit_params)\n",
      "  File \"/Library/Frameworks/Python.framework/Versions/3.11/lib/python3.11/site-packages/sklearn/ensemble/_forest.py\", line 476, in fit\n",
      "    trees = Parallel(\n",
      "            ^^^^^^^^^\n",
      "  File \"/Library/Frameworks/Python.framework/Versions/3.11/lib/python3.11/site-packages/joblib/parallel.py\", line 1085, in __call__\n",
      "    if self.dispatch_one_batch(iterator):\n",
      "       ^^^^^^^^^^^^^^^^^^^^^^^^^^^^^^^^^\n",
      "  File \"/Library/Frameworks/Python.framework/Versions/3.11/lib/python3.11/site-packages/joblib/parallel.py\", line 901, in dispatch_one_batch\n",
      "    self._dispatch(tasks)\n",
      "  File \"/Library/Frameworks/Python.framework/Versions/3.11/lib/python3.11/site-packages/joblib/parallel.py\", line 819, in _dispatch\n",
      "    job = self._backend.apply_async(batch, callback=cb)\n",
      "          ^^^^^^^^^^^^^^^^^^^^^^^^^^^^^^^^^^^^^^^^^^^^^\n",
      "  File \"/Library/Frameworks/Python.framework/Versions/3.11/lib/python3.11/site-packages/joblib/_parallel_backends.py\", line 208, in apply_async\n",
      "    result = ImmediateResult(func)\n",
      "             ^^^^^^^^^^^^^^^^^^^^^\n",
      "  File \"/Library/Frameworks/Python.framework/Versions/3.11/lib/python3.11/site-packages/joblib/_parallel_backends.py\", line 597, in __init__\n",
      "    self.results = batch()\n",
      "                   ^^^^^^^\n",
      "  File \"/Library/Frameworks/Python.framework/Versions/3.11/lib/python3.11/site-packages/joblib/parallel.py\", line 288, in __call__\n",
      "    return [func(*args, **kwargs)\n",
      "           ^^^^^^^^^^^^^^^^^^^^^^\n",
      "  File \"/Library/Frameworks/Python.framework/Versions/3.11/lib/python3.11/site-packages/joblib/parallel.py\", line 288, in <listcomp>\n",
      "    return [func(*args, **kwargs)\n",
      "            ^^^^^^^^^^^^^^^^^^^^^\n",
      "  File \"/Library/Frameworks/Python.framework/Versions/3.11/lib/python3.11/site-packages/sklearn/utils/fixes.py\", line 117, in __call__\n",
      "    return self.function(*args, **kwargs)\n",
      "           ^^^^^^^^^^^^^^^^^^^^^^^^^^^^^^\n",
      "  File \"/Library/Frameworks/Python.framework/Versions/3.11/lib/python3.11/site-packages/sklearn/ensemble/_forest.py\", line 189, in _parallel_build_trees\n",
      "    tree.fit(X, y, sample_weight=curr_sample_weight, check_input=False)\n",
      "  File \"/Library/Frameworks/Python.framework/Versions/3.11/lib/python3.11/site-packages/sklearn/tree/_classes.py\", line 969, in fit\n",
      "    super().fit(\n",
      "  File \"/Library/Frameworks/Python.framework/Versions/3.11/lib/python3.11/site-packages/sklearn/tree/_classes.py\", line 390, in fit\n",
      "    criterion = CRITERIA_CLF[self.criterion](\n",
      "                ~~~~~~~~~~~~^^^^^^^^^^^^^^^^\n",
      "KeyError: 'entrpoy'\n",
      "\n",
      "  warnings.warn(some_fits_failed_message, FitFailedWarning)\n",
      "/Library/Frameworks/Python.framework/Versions/3.11/lib/python3.11/site-packages/sklearn/model_selection/_search.py:953: UserWarning: One or more of the test scores are non-finite: [       nan        nan 0.87103437        nan        nan        nan\n",
      "        nan 0.89073327        nan        nan        nan        nan\n",
      "        nan        nan        nan        nan 0.89458826 0.89057523\n",
      "        nan 0.86732982 0.8985431         nan        nan 0.88675005\n",
      "        nan        nan        nan        nan        nan        nan\n",
      " 0.89058071 0.87121188        nan        nan 0.87882341        nan\n",
      " 0.88674724        nan        nan        nan        nan        nan\n",
      " 0.89455884        nan 0.8708128         nan        nan        nan\n",
      "        nan 0.88281066 0.89070727        nan        nan 0.88674724\n",
      "        nan        nan        nan 0.89088912        nan 0.87885634\n",
      " 0.88268981        nan        nan 0.88283472        nan        nan\n",
      "        nan        nan        nan 0.88276176 0.8869552         nan\n",
      " 0.87895153        nan        nan        nan        nan 0.89050124\n",
      " 0.8789041         nan        nan        nan 0.88666655 0.87113283\n",
      " 0.89043063 0.88283472        nan        nan 0.87497184        nan\n",
      "        nan 0.87872201 0.88674724        nan        nan        nan\n",
      "        nan 0.88288711        nan        nan]\n",
      "  warnings.warn(\n"
     ]
    },
    {
     "name": "stdout",
     "output_type": "stream",
     "text": [
      "0.8985431021013326\n",
      "{'n_estimators': 700, 'min_samples_split': 5, 'min_samples_leaf': 2, 'max_features': 'log2', 'max_depth': 600, 'criterion': 'gini'}\n",
      "RandomForestClassifier(max_depth=600, max_features='log2', min_samples_leaf=2,\n",
      "                       min_samples_split=5, n_estimators=700)\n"
     ]
    }
   ],
   "source": [
    "#. initialising random forest classifier\n",
    "classifier= RandomForestClassifier()\n",
    "\n",
    "# hyperparameter tuning\n",
    "params= {\"n_estimators\" : [int(x) for x in np.linspace(start= 100, stop= 1000, num=10)],\n",
    "         \"criterion\" : [\"gini\", \"entrpoy\"],\n",
    "         \"max_depth\" : [int(x) for x in np.linspace(start=100, stop=1000, num=10)],\n",
    "         \"min_samples_split\" : [1,5,10,15],\n",
    "         \"min_samples_leaf\" : [2,3,5,6,7,],\n",
    "         \"max_features\" : [\"auto\", \"sqrt\", \"log2\"]\n",
    "         \n",
    "        }\n",
    "\n",
    "# defining KFold cross validation\n",
    "cv= KFold(n_splits=5)\n",
    "\n",
    "# using randomized gridsearch on respective hyperparameters\n",
    "RandomSearch= RandomizedSearchCV(estimator=classifier, param_distributions= params, cv=cv,scoring=\"f1_macro\",\n",
    "                                 n_iter=100, n_jobs= -1,verbose=2,random_state=10)\n",
    "\n",
    "# model fitting\n",
    "RandomSearch.fit(X_train, Y_train)\n",
    "\n",
    "print(RandomSearch.best_score_)\n",
    "print(RandomSearch.best_params_)\n",
    "print(RandomSearch.best_estimator_)"
   ]
  },
  {
   "cell_type": "code",
   "execution_count": 18,
   "metadata": {},
   "outputs": [
    {
     "name": "stdout",
     "output_type": "stream",
     "text": [
      "0.8923076923076924\n",
      "              precision    recall  f1-score   support\n",
      "\n",
      "           0       0.91      0.89      0.90        35\n",
      "           1       0.87      0.90      0.89        30\n",
      "\n",
      "    accuracy                           0.89        65\n",
      "   macro avg       0.89      0.89      0.89        65\n",
      "weighted avg       0.89      0.89      0.89        65\n",
      "\n"
     ]
    },
    {
     "data": {
      "image/png": "[encoded data removed]",
      "text/plain": [
       "<Figure size 600x600 with 1 Axes>"
      ]
     },
     "metadata": {},
     "output_type": "display_data"
    }
   ],
   "source": [
    "# best model\n",
    "rf_randomSearch= RandomSearch.best_estimator_\n",
    "\n",
    "# checking model performance\n",
    "rf_random_pred= rf_randomSearch.predict(X_test)\n",
    "\n",
    "cm= confusion_matrix(Y_test, rf_random_pred)\n",
    "\n",
    "plot_confusion_matrix(cm, figsize=(6,6))\n",
    "print(accuracy_score(Y_test, rf_random_pred))\n",
    "print(classification_report(Y_test, rf_random_pred))"
   ]
  },
  {
   "cell_type": "markdown",
   "metadata": {},
   "source": [
    "### Creating pickle file for *Random Forest model*"
   ]
  },
  {
   "cell_type": "code",
   "execution_count": 19,
   "metadata": {},
   "outputs": [],
   "source": [
    "import pickle\n",
    "\n",
    "# create pickle file with name classifier.pkl\n",
    "pickle_out= open(\"classifier_heart.pkl\", \"wb\")\n",
    "\n",
    "# dumping rf_gridsearch classifier into above created pickle file\n",
    "pickle.dump(rf_randomSearch, pickle_out)\n",
    "\n",
    "pickle_out.close()"
   ]
  },
  {
   "cell_type": "code",
   "execution_count": 20,
   "metadata": {},
   "outputs": [],
   "source": [
    "pickle_in= open(\"classifier_heart.pkl\", \"rb\")\n",
    "classifier= pickle.load(pickle_in)"
   ]
  },
  {
   "cell_type": "code",
   "execution_count": 21,
   "metadata": {},
   "outputs": [
    {
     "name": "stderr",
     "output_type": "stream",
     "text": [
      "/Library/Frameworks/Python.framework/Versions/3.11/lib/python3.11/site-packages/sklearn/base.py:450: UserWarning: X does not have valid feature names, but RandomForestClassifier was fitted with feature names\n",
      "  warnings.warn(\n"
     ]
    },
    {
     "data": {
      "text/plain": [
       "array([0])"
      ]
     },
     "execution_count": 21,
     "metadata": {},
     "output_type": "execute_result"
    }
   ],
   "source": [
    "classifier.predict([[57,1,115,0,25,1,181000,1.1,144,1,0,79]])"
   ]
  },
  {
   "cell_type": "code",
   "execution_count": null,
   "metadata": {},
   "outputs": [],
   "source": []
  }
 ],
 "metadata": {
  "kernelspec": {
   "display_name": "Python 3",
   "language": "python",
   "name": "python3"
  },
  "language_info": {
   "codemirror_mode": {
    "name": "ipython",
    "version": 3
   },
   "file_extension": ".py",
   "mimetype": "text/x-python",
   "name": "python",
   "nbconvert_exporter": "python",
   "pygments_lexer": "ipython3",
   "version": "3.11.0"
  }
 },
 "nbformat": 4,
 "nbformat_minor": 4
}
